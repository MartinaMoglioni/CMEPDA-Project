{
  "nbformat": 4,
  "nbformat_minor": 0,
  "metadata": {
    "colab": {
      "name": "Copy of Lecture11_CNN.ipynb",
      "provenance": [],
      "collapsed_sections": [],
      "include_colab_link": true
    },
    "kernelspec": {
      "name": "python3",
      "display_name": "Python 3"
    },
    "accelerator": "GPU"
  },
  "cells": [
    {
      "cell_type": "markdown",
      "metadata": {
        "id": "view-in-github",
        "colab_type": "text"
      },
      "source": [
        "<a href=\"https://colab.research.google.com/github/federicocampo/CNN_prova/blob/Prime_modifiche/Copy_of_Lecture11_CNN.ipynb\" target=\"_parent\"><img src=\"https://colab.research.google.com/assets/colab-badge.svg\" alt=\"Open In Colab\"/></a>"
      ]
    },
    {
      "cell_type": "markdown",
      "metadata": {
        "id": "LfPNt06nZRfC"
      },
      "source": [
        "# Importing the dataset from Google Drive"
      ]
    },
    {
      "cell_type": "code",
      "metadata": {
        "id": "ycQRMl2Bg4Me",
        "colab": {
          "base_uri": "https://localhost:8080/"
        },
        "outputId": "c55d6518-03d1-4af7-8419-051e452996cf"
      },
      "source": [
        "from google.colab import drive\n",
        "drive.mount('/content/gdrive')"
      ],
      "execution_count": 1,
      "outputs": [
        {
          "output_type": "stream",
          "text": [
            "Mounted at /content/gdrive\n"
          ],
          "name": "stdout"
        }
      ]
    },
    {
      "cell_type": "markdown",
      "metadata": {
        "id": "Zqw3aYF1gDFD"
      },
      "source": [
        "# Reading the images"
      ]
    },
    {
      "cell_type": "code",
      "metadata": {
        "id": "rqCZ72z2gCIH"
      },
      "source": [
        "from matplotlib import pyplot as plt\n",
        "from skimage.io import imread\n",
        "import os\n",
        "import glob\n",
        "import numpy as np\n",
        "\n",
        "import logging\n",
        "import time\n",
        "\n",
        "logging.basicConfig(level=logging.INFO)"
      ],
      "execution_count": 82,
      "outputs": []
    },
    {
      "cell_type": "markdown",
      "metadata": {
        "id": "4HgS9cEwKoRt"
      },
      "source": [
        "Fare una read img migliore (?)"
      ]
    },
    {
      "cell_type": "code",
      "metadata": {
        "id": "C-r0YaUuhMAR"
      },
      "source": [
        "def read_imgs(dataset_path, classes):\n",
        "  tmp = []\n",
        "  labels = []\n",
        "  for cls in classes:\n",
        "    fnames = glob.glob(os.path.join(dataset_path, str(cls), '*.pgm'))\n",
        "    tmp += [ imread(fname) for fname in fnames ]\n",
        "    labels += len(fnames)*[cls]\n",
        "  return np.array(tmp, dtype='float32')[..., np.newaxis]/255, np.array(labels)"
      ],
      "execution_count": 83,
      "outputs": []
    },
    {
      "cell_type": "code",
      "metadata": {
        "id": "GkOspN9xPlg8"
      },
      "source": [
        "PATH = 'gdrive/MyDrive/IMAGES/Mammography_micro'\r\n",
        "#PATH = 'gdrive/MyDrive/Immagini'"
      ],
      "execution_count": 84,
      "outputs": []
    },
    {
      "cell_type": "code",
      "metadata": {
        "id": "x81szNHPklZ4",
        "colab": {
          "base_uri": "https://localhost:8080/"
        },
        "outputId": "6ab55496-4218-4bbb-eecb-9240c6762708"
      },
      "source": [
        "initial_time = time.time()\n",
        "train_dataset_path = os.path.join(PATH, 'Train')\n",
        "x_train, y_train = read_imgs(train_dataset_path, [0, 1])\n",
        "\n",
        "test_dataset_path =os.path.join(PATH, 'Test')\n",
        "x_test, y_test = read_imgs(test_dataset_path, [0, 1])\n",
        "\n",
        "print(x_train.shape, y_train.shape)\n",
        "print(x_test.shape, y_test.shape)\n",
        "\n",
        "elapsed_time=time.time() - initial_time\n",
        "logging.info('Done in %.2f seconds',elapsed_time )\n"
      ],
      "execution_count": 85,
      "outputs": [
        {
          "output_type": "stream",
          "text": [
            "INFO:root:Done in 1.16 seconds\n"
          ],
          "name": "stderr"
        },
        {
          "output_type": "stream",
          "text": [
            "(396, 60, 60, 1) (396,)\n",
            "(401, 60, 60, 1) (401,)\n"
          ],
          "name": "stdout"
        }
      ]
    },
    {
      "cell_type": "markdown",
      "metadata": {
        "id": "Blz5VJ8pajXz"
      },
      "source": [
        "# Defining a CNN model"
      ]
    },
    {
      "cell_type": "code",
      "metadata": {
        "id": "7plXV2WyaoGt"
      },
      "source": [
        "from keras.layers import Conv2D, BatchNormalization, MaxPool2D, Dense, Flatten, InputLayer, Activation, Dropout\n",
        "from keras.models import Sequential"
      ],
      "execution_count": 14,
      "outputs": []
    },
    {
      "cell_type": "code",
      "metadata": {
        "id": "XBloTVdsaewM"
      },
      "source": [
        "def make_model(shape=(60, 60, 1)):\n",
        "  model = Sequential([\n",
        "      \n",
        "      Conv2D(5, (3,3), padding='same', input_shape=shape),\n",
        "      BatchNormalization(),\n",
        "      Activation('relu'),\n",
        "      MaxPool2D((2,2)),\n",
        "      \n",
        "      Conv2D(8, (3,3), padding='same'),\n",
        "      BatchNormalization(),\n",
        "      Activation('relu'),\n",
        "      MaxPool2D((2,2)),\n",
        "        \n",
        "      #Conv2D(4, (3,3), padding='same'),\n",
        "      #BatchNormalization(),\n",
        "      #Activation('relu'),\n",
        "      #MaxPool2D(2, 2),\n",
        "\n",
        "\n",
        "      Flatten(), \n",
        "      \n",
        "      #Dense(32, activation = 'relu'),\n",
        "      Dense(1, activation='sigmoid')\n",
        "      \n",
        "  ])\n",
        "  \n",
        "  return model\n",
        "\n",
        "\n",
        "\n",
        "model = make_model()"
      ],
      "execution_count": null,
      "outputs": []
    },
    {
      "cell_type": "code",
      "metadata": {
        "id": "yQiT1fnSdny4"
      },
      "source": [
        "def make_model(shape=(60, 60, 1), f1=5, f2=5, f3=5):\r\n",
        "  model = Sequential([\r\n",
        "      \r\n",
        "      Conv2D(f1, (3,3), padding='same', input_shape=shape),\r\n",
        "      BatchNormalization(),\r\n",
        "      Activation('relu'),\r\n",
        "      MaxPool2D((2,2)),\r\n",
        "      \r\n",
        "      Conv2D(f2, (3,3), padding='same'),\r\n",
        "      BatchNormalization(),\r\n",
        "      Activation('relu'),\r\n",
        "      MaxPool2D((2,2)),\r\n",
        "\r\n",
        "      Conv2D(f3, (3,3), padding='same'),\r\n",
        "      BatchNormalization(),\r\n",
        "      Activation('relu'),\r\n",
        "    \r\n",
        "\r\n",
        "      Flatten(), \r\n",
        "      \r\n",
        "      #Dense(32, activation = 'relu'),\r\n",
        "      Dense(1, activation='sigmoid')\r\n",
        "      \r\n",
        "  ])\r\n",
        "  \r\n",
        "  return model"
      ],
      "execution_count": 34,
      "outputs": []
    },
    {
      "cell_type": "code",
      "metadata": {
        "id": "_ZeiHM6eU9wd"
      },
      "source": [
        "#model.summary()"
      ],
      "execution_count": null,
      "outputs": []
    },
    {
      "cell_type": "code",
      "metadata": {
        "id": "nUQjwzu90fsX"
      },
      "source": [
        "from keras.callbacks import EarlyStopping, ReduceLROnPlateau, ModelCheckpoint\r\n",
        "from keras.optimizers import SGD\r\n",
        "\r\n",
        "\r\n",
        "early_stopping = EarlyStopping(\r\n",
        "    min_delta=0.001, # minimium amount of change to count as an improvement\r\n",
        "    patience=10, # how many epochs to wait before stopping\r\n",
        "    restore_best_weights=True,\r\n",
        ")\r\n",
        "\r\n",
        "reduce_lr = ReduceLROnPlateau(\r\n",
        "    monitor='loss', \r\n",
        "    factor=0.5,\r\n",
        "    patience = 5,\r\n",
        "    min_lr=0.00001\r\n",
        "\r\n",
        ")\r\n",
        "\r\n",
        "checkpoint = ModelCheckpoint(\r\n",
        "    \"model-{epoch:02d}-{val_accuracy:.2f}.hdf5\", \r\n",
        "    monitor='val_accuracy', \r\n",
        "    verbose=0,\r\n",
        "    save_best_only=True,\r\n",
        "    save_weights_only=False,\r\n",
        "    mode='auto', save_freq='epoch')\r\n"
      ],
      "execution_count": 45,
      "outputs": []
    },
    {
      "cell_type": "code",
      "metadata": {
        "id": "RH25BWCqfbGM",
        "colab": {
          "base_uri": "https://localhost:8080/",
          "height": 531
        },
        "outputId": "c136037b-ab2e-4711-ec1c-a34eecafce1a"
      },
      "source": [
        "model = make_model(f1=10, f2=10, f3=10)\r\n",
        "#model.compile(optimizer=SGD(learning_rate=0.0001, momentum=0.9), loss='binary_crossentropy', metrics=['accuracy'])\r\n",
        "model.compile(optimizer=SGD(lr = 0.001, momentum = 0.9), metrics = 'accuracy', loss='binary_crossentropy')\r\n",
        "\r\n",
        "\r\n",
        "history = model.fit(x_train, y_train, \r\n",
        "                    validation_split=0.3, \r\n",
        "                    epochs=50, \r\n",
        "                    batch_size=30, \r\n",
        "                    shuffle=True, \r\n",
        "                    callbacks = [checkpoint],\r\n",
        "                    verbose=0)\r\n",
        "\r\n",
        "\r\n",
        "\r\n",
        "print(history.history.keys())\r\n",
        "plt.plot(history.history['loss'])\r\n",
        "plt.plot(history.history['val_loss'])\r\n",
        "plt.show()\r\n",
        "\r\n",
        "plt.plot(history.history['accuracy'])\r\n",
        "plt.plot(history.history['val_accuracy'])\r\n",
        "plt.show()"
      ],
      "execution_count": 47,
      "outputs": [
        {
          "output_type": "stream",
          "text": [
            "dict_keys(['loss', 'accuracy', 'val_loss', 'val_accuracy'])\n"
          ],
          "name": "stdout"
        },
        {
          "output_type": "display_data",
          "data": {
            "image/png": "[encoded data removed]",
            "text/plain": [
              "<Figure size 432x288 with 1 Axes>"
            ]
          },
          "metadata": {
            "tags": [],
            "needs_background": "light"
          }
        },
        {
          "output_type": "display_data",
          "data": {
            "image/png": "[encoded data removed]",
            "text/plain": [
              "<Figure size 432x288 with 1 Axes>"
            ]
          },
          "metadata": {
            "tags": [],
            "needs_background": "light"
          }
        }
      ]
    },
    {
      "cell_type": "code",
      "metadata": {
        "id": "ConM7Babe9VD",
        "outputId": "2aed449d-a039-410f-c8a4-f775e093d857",
        "colab": {
          "base_uri": "https://localhost:8080/"
        }
      },
      "source": [
        "model.save(os.path.join(PATH, 'model.hdf5'))\r\n",
        "model.summary()"
      ],
      "execution_count": 48,
      "outputs": [
        {
          "output_type": "stream",
          "text": [
            "Model: \"sequential_22\"\n",
            "_________________________________________________________________\n",
            "Layer (type)                 Output Shape              Param #   \n",
            "=================================================================\n",
            "conv2d_57 (Conv2D)           (None, 60, 60, 10)        100       \n",
            "_________________________________________________________________\n",
            "batch_normalization_56 (Batc (None, 60, 60, 10)        40        \n",
            "_________________________________________________________________\n",
            "activation_56 (Activation)   (None, 60, 60, 10)        0         \n",
            "_________________________________________________________________\n",
            "max_pooling2d_44 (MaxPooling (None, 30, 30, 10)        0         \n",
            "_________________________________________________________________\n",
            "conv2d_58 (Conv2D)           (None, 30, 30, 10)        910       \n",
            "_________________________________________________________________\n",
            "batch_normalization_57 (Batc (None, 30, 30, 10)        40        \n",
            "_________________________________________________________________\n",
            "activation_57 (Activation)   (None, 30, 30, 10)        0         \n",
            "_________________________________________________________________\n",
            "max_pooling2d_45 (MaxPooling (None, 15, 15, 10)        0         \n",
            "_________________________________________________________________\n",
            "conv2d_59 (Conv2D)           (None, 15, 15, 10)        910       \n",
            "_________________________________________________________________\n",
            "batch_normalization_58 (Batc (None, 15, 15, 10)        40        \n",
            "_________________________________________________________________\n",
            "activation_58 (Activation)   (None, 15, 15, 10)        0         \n",
            "_________________________________________________________________\n",
            "flatten_22 (Flatten)         (None, 2250)              0         \n",
            "_________________________________________________________________\n",
            "dense_22 (Dense)             (None, 1)                 2251      \n",
            "=================================================================\n",
            "Total params: 4,291\n",
            "Trainable params: 4,231\n",
            "Non-trainable params: 60\n",
            "_________________________________________________________________\n"
          ],
          "name": "stdout"
        }
      ]
    },
    {
      "cell_type": "markdown",
      "metadata": {
        "id": "uIPqHdYsvjVA"
      },
      "source": [
        "# Data augmentation\n",
        " Before we can run data aumentation with ImageDataGenerator we need to convert the PGM format to PNG"
      ]
    },
    {
      "cell_type": "code",
      "metadata": {
        "id": "QTyhLh7B_kNa",
        "colab": {
          "base_uri": "https://localhost:8080/"
        },
        "outputId": "e56549eb-45ea-40bd-976c-d4b6eaf35078"
      },
      "source": [
        "basename = os.path.basename(PATH)\r\n",
        "print(basename)"
      ],
      "execution_count": null,
      "outputs": [
        {
          "output_type": "stream",
          "text": [
            "Mammography_micro\n"
          ],
          "name": "stdout"
        }
      ]
    },
    {
      "cell_type": "code",
      "metadata": {
        "id": "pMTI6-hnoz5Z"
      },
      "source": [
        "import PIL\n",
        "import os"
      ],
      "execution_count": 51,
      "outputs": []
    },
    {
      "cell_type": "code",
      "metadata": {
        "id": "xZBLJLRrp7pg"
      },
      "source": [
        "def convert_to_png(fname, dest_folder):\n",
        "  if not os.path.exists(dest_folder):\n",
        "    os.makedirs(dest_folder)\n",
        "  dest_fname = os.path.basename(fname).replace('.pgm', '.png')\n",
        "  dest_fname = os.path.join(dest_folder, dest_fname)\n",
        "  PIL.Image.open(fname).convert('L').save(dest_fname)\n"
      ],
      "execution_count": 52,
      "outputs": []
    },
    {
      "cell_type": "markdown",
      "metadata": {
        "id": "37EjPUAips8R"
      },
      "source": [
        "Provare a fare una funzione migliore per convertire tutti i pgm in png"
      ]
    },
    {
      "cell_type": "code",
      "metadata": {
        "id": "WQxzGbJVsVIl"
      },
      "source": [
        "start_time = time.time()\n",
        "for data_path in [os.path.join(PATH, \"Train\"), os.path.join(PATH, \"Test\")]:\n",
        "  for path, folders, fnames in os.walk(data_path):\n",
        "    for fname in fnames:\n",
        "      abs_path = os.path.join(path, fname)\n",
        "      dest_folder = path.replace('Train', 'Train_png').replace('Test', 'Test_png')\n",
        "      convert_to_png(abs_path, dest_folder)\n",
        "print(time.time()-start_time)"
      ],
      "execution_count": null,
      "outputs": []
    },
    {
      "cell_type": "markdown",
      "metadata": {
        "id": "un_vcpFHoL1u"
      },
      "source": [
        "# Data aumentation"
      ]
    },
    {
      "cell_type": "code",
      "metadata": {
        "id": "DnTT1VbO3C7o"
      },
      "source": [
        "import matplotlib.pyplot as plt"
      ],
      "execution_count": 55,
      "outputs": []
    },
    {
      "cell_type": "code",
      "metadata": {
        "id": "r6Zoq1UkoGLl"
      },
      "source": [
        "from keras.preprocessing.image import ImageDataGenerator"
      ],
      "execution_count": 56,
      "outputs": []
    },
    {
      "cell_type": "code",
      "metadata": {
        "id": "wihSLPuRm4cU",
        "colab": {
          "base_uri": "https://localhost:8080/",
          "height": 323
        },
        "outputId": "704acbce-5e66-43f5-a16c-123a95632899"
      },
      "source": [
        "train_dataset_path = os.path.join(PATH, \"Train_png\")\n",
        "img_width, img_height = (60, 60)\n",
        "\n",
        "train_datagen = ImageDataGenerator(\n",
        "        rotation_range=180,\n",
        "        width_shift_range=0.2,\n",
        "        height_shift_range=0.2,\n",
        "        rescale=1./255,\n",
        "        shear_range=0.2,\n",
        "        zoom_range=0.2,\n",
        "        horizontal_flip=True,\n",
        "        fill_mode='reflect',\n",
        "        validation_split=0.4)\n",
        "        \n",
        "\n",
        "\n",
        "\n",
        "train_gen = train_datagen.flow_from_directory(\n",
        "    train_dataset_path,\n",
        "    target_size=(img_width, img_height),\n",
        "    color_mode='grayscale', \n",
        "    class_mode='binary',\n",
        "    subset='training')\n",
        "\n",
        "val_gen = train_datagen.flow_from_directory(\n",
        "    train_dataset_path,\n",
        "    target_size=(img_width, img_height),\n",
        "    color_mode='grayscale',\n",
        "    class_mode='binary',\n",
        "    subset='validation')\n",
        "\n",
        "img = train_gen.next()[0][0].squeeze()\n",
        "plt.imshow(img) #facendo cosi ne mostra una diversa ogni volta \n",
        "print(train_gen.next()[1][0])"
      ],
      "execution_count": 193,
      "outputs": [
        {
          "output_type": "stream",
          "text": [
            "Found 239 images belonging to 2 classes.\n",
            "Found 157 images belonging to 2 classes.\n",
            "1.0\n"
          ],
          "name": "stdout"
        },
        {
          "output_type": "display_data",
          "data": {
            "image/png": "[encoded data removed]",
            "text/plain": [
              "<Figure size 432x288 with 1 Axes>"
            ]
          },
          "metadata": {
            "tags": [],
            "needs_background": "light"
          }
        }
      ]
    },
    {
      "cell_type": "code",
      "metadata": {
        "id": "WcC76olnGVvO"
      },
      "source": [
        "#print(train_gen)\r\n",
        "#plt.imshow(train_gen)"
      ],
      "execution_count": 162,
      "outputs": []
    },
    {
      "cell_type": "code",
      "metadata": {
        "id": "R1H4S1Denats",
        "colab": {
          "base_uri": "https://localhost:8080/"
        },
        "outputId": "29231c33-19c7-4596-c727-ae2b98703810"
      },
      "source": [
        "train_gen.next()[0].shape"
      ],
      "execution_count": 67,
      "outputs": [
        {
          "output_type": "execute_result",
          "data": {
            "text/plain": [
              "(32, 60, 60, 1)"
            ]
          },
          "metadata": {
            "tags": []
          },
          "execution_count": 67
        }
      ]
    },
    {
      "cell_type": "code",
      "metadata": {
        "id": "Yvi4DLv_wnUh",
        "colab": {
          "base_uri": "https://localhost:8080/",
          "height": 286
        },
        "outputId": "9d38c81c-ccb1-4d0c-f6c1-9a8eafd13e06"
      },
      "source": [
        "plt.imshow(train_gen.next()[0][10].squeeze())"
      ],
      "execution_count": 60,
      "outputs": [
        {
          "output_type": "execute_result",
          "data": {
            "text/plain": [
              "<matplotlib.image.AxesImage at 0x7f12dc026a90>"
            ]
          },
          "metadata": {
            "tags": []
          },
          "execution_count": 60
        },
        {
          "output_type": "display_data",
          "data": {
            "image/png": "[encoded data removed]",
            "text/plain": [
              "<Figure size 432x288 with 1 Axes>"
            ]
          },
          "metadata": {
            "tags": [],
            "needs_background": "light"
          }
        }
      ]
    },
    {
      "cell_type": "markdown",
      "metadata": {
        "id": "rS3iyYXqoda2"
      },
      "source": [
        "# Testing model on new images"
      ]
    },
    {
      "cell_type": "code",
      "metadata": {
        "id": "avE0zljglFk5"
      },
      "source": [
        "from keras.callbacks import ModelCheckpoint\n",
        "checkpoint = ModelCheckpoint(\n",
        "    \"model_augmented.{epoch:02d}-{val_accuracy:.2f}.h5\", \n",
        "    monitor='val_accuracy', \n",
        "    verbose=1,\n",
        "    save_best_only=True,\n",
        "    save_weights_only=False,\n",
        "    mode='auto', save_freq='epoch')"
      ],
      "execution_count": 68,
      "outputs": []
    },
    {
      "cell_type": "code",
      "metadata": {
        "id": "LgZtWjTgjsb6"
      },
      "source": [
        "model = make_model()\n",
        "model.compile(optimizer=SGD(lr=0.001, momentum=0.9), loss='binary_crossentropy', metrics=['accuracy'])"
      ],
      "execution_count": 69,
      "outputs": []
    },
    {
      "cell_type": "code",
      "metadata": {
        "id": "K7yiPz99j_Fw"
      },
      "source": [
        "batch_size=32\n",
        "history = model.fit(\n",
        "        train_gen,\n",
        "        steps_per_epoch=278 // batch_size,\n",
        "        epochs=50,\n",
        "        validation_data=val_gen,\n",
        "        validation_steps= 118 // batch_size,\n",
        "        verbose=0,\n",
        "        callbacks=[checkpoint])"
      ],
      "execution_count": null,
      "outputs": []
    },
    {
      "cell_type": "code",
      "metadata": {
        "id": "s7uvceI52e1R",
        "colab": {
          "base_uri": "https://localhost:8080/",
          "height": 513
        },
        "outputId": "81b76632-e694-4ed1-9b55-239201a7c802"
      },
      "source": [
        "plt.plot(history.history['loss'])\r\n",
        "plt.plot(history.history['val_loss'])\r\n",
        "plt.show()\r\n",
        "\r\n",
        "plt.plot(history.history['accuracy'])\r\n",
        "plt.plot(history.history['val_accuracy'])\r\n",
        "plt.show()"
      ],
      "execution_count": 75,
      "outputs": [
        {
          "output_type": "display_data",
          "data": {
            "image/png": "[encoded data removed]",
            "text/plain": [
              "<Figure size 432x288 with 1 Axes>"
            ]
          },
          "metadata": {
            "tags": [],
            "needs_background": "light"
          }
        },
        {
          "output_type": "display_data",
          "data": {
            "image/png": "[encoded data removed]",
            "text/plain": [
              "<Figure size 432x288 with 1 Axes>"
            ]
          },
          "metadata": {
            "tags": [],
            "needs_background": "light"
          }
        }
      ]
    },
    {
      "cell_type": "markdown",
      "metadata": {
        "id": "PpIDYyYf29HD"
      },
      "source": [
        "Saving the model"
      ]
    },
    {
      "cell_type": "code",
      "metadata": {
        "id": "s7sjHFpGpPtI"
      },
      "source": [
        "model.save(os.path.join(PATH, 'model_augmented.hdf5'))"
      ],
      "execution_count": 76,
      "outputs": []
    },
    {
      "cell_type": "markdown",
      "metadata": {
        "id": "ziJxv3y8fYoo"
      },
      "source": [
        "# Evaluate the performances of the two models"
      ]
    },
    {
      "cell_type": "code",
      "metadata": {
        "id": "6u8dNJW0fLd3"
      },
      "source": [
        "from keras.models import load_model\n",
        "aug_model = load_model(os.path.join(PATH, 'model_augmented.hdf5'))\n",
        "noaug_model = load_model(os.path.join(PATH, 'model.hdf5'))"
      ],
      "execution_count": 78,
      "outputs": []
    },
    {
      "cell_type": "code",
      "metadata": {
        "id": "OfZEHjKYfz_v"
      },
      "source": [
        "x_test, y_test = read_imgs(os.path.join(PATH, \"Test\"), [0,1])"
      ],
      "execution_count": 80,
      "outputs": []
    },
    {
      "cell_type": "code",
      "metadata": {
        "id": "MoMbhMQMf_E9",
        "colab": {
          "base_uri": "https://localhost:8080/"
        },
        "outputId": "4be9bb8f-2a8b-4311-bf11-c83f5d4a6455"
      },
      "source": [
        "noaug_model.evaluate(x_test, y_test)\r\n",
        "\r\n",
        "aug_model.evaluate(x_test, y_test)"
      ],
      "execution_count": 81,
      "outputs": [
        {
          "output_type": "stream",
          "text": [
            "13/13 [==============================] - 0s 2ms/step - loss: 0.7987 - accuracy: 0.6284\n",
            "13/13 [==============================] - 0s 2ms/step - loss: 0.3494 - accuracy: 0.8329\n"
          ],
          "name": "stdout"
        },
        {
          "output_type": "execute_result",
          "data": {
            "text/plain": [
              "[0.34938904643058777, 0.8329176902770996]"
            ]
          },
          "metadata": {
            "tags": []
          },
          "execution_count": 81
        }
      ]
    },
    {
      "cell_type": "markdown",
      "metadata": {
        "id": "vqHN-zmw4IPI"
      },
      "source": [
        "# Visualizing"
      ]
    },
    {
      "cell_type": "code",
      "metadata": {
        "id": "Yz-ObgB51Zzi"
      },
      "source": [
        "model= load_model(os.path.join(PATH, 'model_augmented.hdf5'))"
      ],
      "execution_count": null,
      "outputs": []
    },
    {
      "cell_type": "code",
      "metadata": {
        "id": "rtVKY07r3bA_"
      },
      "source": [
        "from keras import models\n",
        "layer_outputs = [layer.output for layer in model.layers]\n",
        "activation_model = models.Model(inputs=model.input, outputs=layer_outputs)"
      ],
      "execution_count": null,
      "outputs": []
    },
    {
      "cell_type": "code",
      "metadata": {
        "id": "qlPRAEEO4i49"
      },
      "source": [
        "micro_calc = val_gen.next()[0][2][np.newaxis,...]"
      ],
      "execution_count": null,
      "outputs": []
    },
    {
      "cell_type": "code",
      "metadata": {
        "id": "mwxqq2dp4w2G"
      },
      "source": [
        "plt.imshow(micro_calc.squeeze())"
      ],
      "execution_count": null,
      "outputs": []
    },
    {
      "cell_type": "code",
      "metadata": {
        "id": "jk8YmIMF5Ro7"
      },
      "source": [
        "activations = activation_model.predict(micro_calc)"
      ],
      "execution_count": null,
      "outputs": []
    },
    {
      "cell_type": "code",
      "metadata": {
        "id": "fIOz9u995WG4"
      },
      "source": [
        "len(activations) == len(model.layers)"
      ],
      "execution_count": null,
      "outputs": []
    },
    {
      "cell_type": "code",
      "metadata": {
        "id": "j7lOEYAZ5fsC"
      },
      "source": [
        "activations[0].shape"
      ],
      "execution_count": null,
      "outputs": []
    },
    {
      "cell_type": "code",
      "metadata": {
        "id": "sl-kNPON5zrV"
      },
      "source": [
        "fig = plt.figure(figsize=(10,10))\n",
        "for k in range(8):\n",
        "  plt.subplot(2,4, k+1)\n",
        "  plt.imshow(activations[0][..., k].squeeze())\n",
        "  plt.axis(False)\n",
        "fig.subplots_adjust(hspace=-0.5, wspace=0.2)\n",
        "fig.tight_layout(pad=1)"
      ],
      "execution_count": null,
      "outputs": []
    },
    {
      "cell_type": "code",
      "metadata": {
        "id": "j2a9B1Q_5_67"
      },
      "source": [
        "fig = plt.figure(figsize=(15,15))\n",
        "\n",
        "for k in range(16):\n",
        "  plt.subplot(2,8, k+1)\n",
        "  plt.imshow(activations[5][..., k].squeeze())\n",
        "  plt.axis(False)\n",
        "fig.subplots_adjust(hspace=-0.9, wspace=0.2)\n",
        "fig.tight_layout(pad=1)"
      ],
      "execution_count": null,
      "outputs": []
    },
    {
      "cell_type": "code",
      "metadata": {
        "id": "B7kBJYfH7TDZ"
      },
      "source": [
        "fig = plt.figure(figsize=(15,15))\n",
        "for k in range(16):\n",
        "  plt.subplot(4,8, k+1)\n",
        "  plt.imshow(activations[8][..., k].squeeze())\n",
        "  plt.axis(False)\n",
        "fig.subplots_adjust(hspace=-0.9, wspace=0.2)\n",
        "fig.tight_layout(pad=1)"
      ],
      "execution_count": null,
      "outputs": []
    },
    {
      "cell_type": "markdown",
      "metadata": {
        "id": "6xsBCcpj-9XG"
      },
      "source": [
        "## Visualizing filters"
      ]
    },
    {
      "cell_type": "code",
      "metadata": {
        "id": "7SsEN6gt_UqK"
      },
      "source": [
        "# retrieve weights from the second hidden layer\n",
        "filters, biases = model.layers[0].get_weights()\n",
        "filters = (filters - filters.min())/(filters.max() - filters.min())\n",
        "filters = filters.squeeze()"
      ],
      "execution_count": null,
      "outputs": []
    },
    {
      "cell_type": "code",
      "metadata": {
        "id": "0z27HgB9BnFv"
      },
      "source": [
        "for k in range(8):\n",
        "  plt.subplot(2, 4, k+1)\n",
        "  plt.imshow(filters[:,:,k], cmap='gray')\n",
        "  plt.axis(False)"
      ],
      "execution_count": null,
      "outputs": []
    },
    {
      "cell_type": "code",
      "metadata": {
        "id": "c5Ox_0vtAYf_"
      },
      "source": [
        "# retrieve weights from the second hidden layer\n",
        "filters, biases = model.layers[4].get_weights()\n",
        "filters = (filters - filters.min())/(filters.max() - filters.min())\n",
        "filters = filters.squeeze()\n",
        "for k in range(16):\n",
        "  plt.subplot(2, 8, k+1)\n",
        "  plt.imshow(filters[:,:,1 ,k], cmap='gray')\n",
        "  plt.axis(False)"
      ],
      "execution_count": null,
      "outputs": []
    },
    {
      "cell_type": "code",
      "metadata": {
        "id": "tC6Mclr_ChAa",
        "colab": {
          "base_uri": "https://localhost:8080/"
        },
        "outputId": "9541bf28-fe32-46d5-84a3-d4b68d80fc2e"
      },
      "source": [
        "filters.shape"
      ],
      "execution_count": null,
      "outputs": [
        {
          "output_type": "execute_result",
          "data": {
            "text/plain": [
              "(3, 3, 8, 16)"
            ]
          },
          "metadata": {
            "tags": []
          },
          "execution_count": 104
        }
      ]
    }
  ]
}