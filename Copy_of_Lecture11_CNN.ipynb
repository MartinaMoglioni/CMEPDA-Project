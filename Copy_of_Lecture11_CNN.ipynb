{
  "nbformat": 4,
  "nbformat_minor": 0,
  "metadata": {
    "colab": {
      "name": "Copy of Lecture11_CNN.ipynb",
      "provenance": [],
      "collapsed_sections": [],
      "include_colab_link": true
    },
    "kernelspec": {
      "name": "python3",
      "display_name": "Python 3"
    },
    "accelerator": "GPU"
  },
  "cells": [
    {
      "cell_type": "markdown",
      "metadata": {
        "id": "view-in-github",
        "colab_type": "text"
      },
      "source": [
        "<a href=\"https://colab.research.google.com/github/federicocampo/CNN_prova/blob/Prime_modifiche/Copy_of_Lecture11_CNN.ipynb\" target=\"_parent\"><img src=\"https://colab.research.google.com/assets/colab-badge.svg\" alt=\"Open In Colab\"/></a>"
      ]
    },
    {
      "cell_type": "markdown",
      "metadata": {
        "id": "LfPNt06nZRfC"
      },
      "source": [
        "# Importing the dataset from Google Drive"
      ]
    },
    {
      "cell_type": "code",
      "metadata": {
        "id": "ycQRMl2Bg4Me",
        "colab": {
          "base_uri": "https://localhost:8080/"
        },
        "outputId": "dca51714-2e39-42aa-dd97-9c95baa1184a"
      },
      "source": [
        "from google.colab import drive\n",
        "drive.mount('/content/gdrive')"
      ],
      "execution_count": 1,
      "outputs": [
        {
          "output_type": "stream",
          "text": [
            "Mounted at /content/gdrive\n"
          ],
          "name": "stdout"
        }
      ]
    },
    {
      "cell_type": "markdown",
      "metadata": {
        "id": "Zqw3aYF1gDFD"
      },
      "source": [
        "# Reading the images"
      ]
    },
    {
      "cell_type": "code",
      "metadata": {
        "id": "rqCZ72z2gCIH"
      },
      "source": [
        "from skimage.io import imread\n",
        "import os\n",
        "import glob\n",
        "import numpy as np"
      ],
      "execution_count": 2,
      "outputs": []
    },
    {
      "cell_type": "markdown",
      "metadata": {
        "id": "4HgS9cEwKoRt"
      },
      "source": [
        "Fare una read img migliore (?)"
      ]
    },
    {
      "cell_type": "code",
      "metadata": {
        "id": "C-r0YaUuhMAR"
      },
      "source": [
        "def read_imgs(dataset_path, classes):\n",
        "  tmp = []\n",
        "  labels = []\n",
        "  for cls in classes:\n",
        "    fnames = glob.glob(os.path.join(dataset_path, str(cls), '*.pgm'))\n",
        "    tmp += [ imread(fname) for fname in fnames ]\n",
        "    labels += len(fnames)*[cls]\n",
        "  return np.array(tmp, dtype='float32')[..., np.newaxis]/255, np.array(labels)"
      ],
      "execution_count": 3,
      "outputs": []
    },
    {
      "cell_type": "code",
      "metadata": {
        "id": "GkOspN9xPlg8"
      },
      "source": [
        "PATH = 'gdrive/MyDrive/IMAGES/Mammography_micro'\r\n",
        "#PATH = 'gdrive/MyDrive/Immagini'"
      ],
      "execution_count": 4,
      "outputs": []
    },
    {
      "cell_type": "code",
      "metadata": {
        "id": "x81szNHPklZ4",
        "colab": {
          "base_uri": "https://localhost:8080/"
        },
        "outputId": "de8d54ef-a7e9-446b-f0f5-035bebc88fa7"
      },
      "source": [
        "train_dataset_path = os.path.join(PATH, 'Train')\n",
        "x_train, y_train = read_imgs(train_dataset_path, [0, 1])\n",
        "\n",
        "test_dataset_path =os.path.join(PATH, 'Test')\n",
        "x_test, y_test = read_imgs(test_dataset_path, [0, 1])\n",
        "\n",
        "print(x_train.shape, y_train.shape)\n",
        "print(x_test.shape, y_test.shape)"
      ],
      "execution_count": 5,
      "outputs": [
        {
          "output_type": "stream",
          "text": [
            "(396, 60, 60, 1) (396,)\n",
            "(401, 60, 60, 1) (401,)\n"
          ],
          "name": "stdout"
        }
      ]
    },
    {
      "cell_type": "markdown",
      "metadata": {
        "id": "Blz5VJ8pajXz"
      },
      "source": [
        "# Defining a CNN model"
      ]
    },
    {
      "cell_type": "code",
      "metadata": {
        "id": "7plXV2WyaoGt"
      },
      "source": [
        "from keras.layers import Conv2D, BatchNormalization, MaxPool2D, Dense, Flatten, InputLayer, Activation, Dropout\n",
        "from keras.models import Sequential"
      ],
      "execution_count": 6,
      "outputs": []
    },
    {
      "cell_type": "code",
      "metadata": {
        "id": "AmbfOyUvNM70"
      },
      "source": [
        "from keras.callbacks import EarlyStopping\r\n",
        "\r\n",
        "early_stopping = EarlyStopping(\r\n",
        "    min_delta=0.001, # minimium amount of change to count as an improvement\r\n",
        "    patience=20, # how many epochs to wait before stopping\r\n",
        "    restore_best_weights=True,\r\n",
        ")"
      ],
      "execution_count": null,
      "outputs": []
    },
    {
      "cell_type": "code",
      "metadata": {
        "id": "XBloTVdsaewM"
      },
      "source": [
        "def make_model(shape=(60, 60, 1)):\n",
        "  model = Sequential([\n",
        "      \n",
        "      Conv2D(8, (3,3), padding='same', input_shape=shape),\n",
        "      BatchNormalization(),\n",
        "      Activation('relu'),\n",
        "      MaxPool2D((2,2)),\n",
        "      \n",
        "      Conv2D(16, (3,3), padding='same'),\n",
        "      BatchNormalization(),\n",
        "      Activation('relu'),\n",
        "\n",
        "      MaxPool2D((2,2)),\n",
        "        \n",
        "      Conv2D(16, (3,3), padding='same'),\n",
        "      BatchNormalization(),\n",
        "      Activation('relu'),\n",
        "\n",
        "\n",
        "      Flatten(), \n",
        "\n",
        "      Dense(1, activation='sigmoid')\n",
        "      \n",
        "  ])\n",
        "  \n",
        "  return model"
      ],
      "execution_count": 84,
      "outputs": []
    },
    {
      "cell_type": "code",
      "metadata": {
        "id": "pskdG1qFeMX_"
      },
      "source": [
        "model = make_model()"
      ],
      "execution_count": 85,
      "outputs": []
    },
    {
      "cell_type": "code",
      "metadata": {
        "colab": {
          "base_uri": "https://localhost:8080/"
        },
        "id": "_ZeiHM6eU9wd",
        "outputId": "e3a7ab08-4799-402d-b9c5-83d74fff7e2a"
      },
      "source": [
        "model.summary()"
      ],
      "execution_count": 86,
      "outputs": [
        {
          "output_type": "stream",
          "text": [
            "Model: \"sequential_4\"\n",
            "_________________________________________________________________\n",
            "Layer (type)                 Output Shape              Param #   \n",
            "=================================================================\n",
            "conv2d_12 (Conv2D)           (None, 60, 60, 8)         80        \n",
            "_________________________________________________________________\n",
            "batch_normalization_12 (Batc (None, 60, 60, 8)         32        \n",
            "_________________________________________________________________\n",
            "activation_12 (Activation)   (None, 60, 60, 8)         0         \n",
            "_________________________________________________________________\n",
            "max_pooling2d_8 (MaxPooling2 (None, 30, 30, 8)         0         \n",
            "_________________________________________________________________\n",
            "conv2d_13 (Conv2D)           (None, 30, 30, 16)        1168      \n",
            "_________________________________________________________________\n",
            "batch_normalization_13 (Batc (None, 30, 30, 16)        64        \n",
            "_________________________________________________________________\n",
            "activation_13 (Activation)   (None, 30, 30, 16)        0         \n",
            "_________________________________________________________________\n",
            "max_pooling2d_9 (MaxPooling2 (None, 15, 15, 16)        0         \n",
            "_________________________________________________________________\n",
            "conv2d_14 (Conv2D)           (None, 15, 15, 16)        2320      \n",
            "_________________________________________________________________\n",
            "batch_normalization_14 (Batc (None, 15, 15, 16)        64        \n",
            "_________________________________________________________________\n",
            "activation_14 (Activation)   (None, 15, 15, 16)        0         \n",
            "_________________________________________________________________\n",
            "flatten_4 (Flatten)          (None, 3600)              0         \n",
            "_________________________________________________________________\n",
            "dense_4 (Dense)              (None, 1)                 3601      \n",
            "=================================================================\n",
            "Total params: 7,329\n",
            "Trainable params: 7,249\n",
            "Non-trainable params: 80\n",
            "_________________________________________________________________\n"
          ],
          "name": "stdout"
        }
      ]
    },
    {
      "cell_type": "code",
      "metadata": {
        "id": "_Kkyi0Gdm5if"
      },
      "source": [
        "from keras.optimizers import SGD\n",
        "model.compile(optimizer=SGD(learning_rate=0.001, momentum=0.9), loss='binary_crossentropy', metrics=['accuracy'])\n",
        "#model.compile(optimizer='SGD', metrics = 'accuracy', loss='binary_crossentropy')"
      ],
      "execution_count": 87,
      "outputs": []
    },
    {
      "cell_type": "code",
      "metadata": {
        "id": "bBXWCO-Pl9gr"
      },
      "source": [
        "from keras.callbacks import ModelCheckpoint\n",
        "checkpoint = ModelCheckpoint(\n",
        "    \"model-{epoch:02d}-{val_accuracy:.2f}.hdf5\", \n",
        "    monitor='val_accuracy', \n",
        "    verbose=1,\n",
        "    save_best_only=True,\n",
        "    save_weights_only=False,\n",
        "    mode='auto', save_freq='epoch')"
      ],
      "execution_count": 88,
      "outputs": []
    },
    {
      "cell_type": "code",
      "metadata": {
        "id": "RH25BWCqfbGM",
        "colab": {
          "base_uri": "https://localhost:8080/"
        },
        "outputId": "b1f1c7c0-58a0-4a90-8538-70f4219ed158"
      },
      "source": [
        "history = model.fit(x_train, y_train, validation_split=0.3, epochs=10, batch_size=10, shuffle=True, callbacks=[checkpoint], verbose=0)"
      ],
      "execution_count": 91,
      "outputs": [
        {
          "output_type": "stream",
          "text": [
            "\n",
            "Epoch 00001: val_accuracy did not improve from 0.93277\n",
            "\n",
            "Epoch 00002: val_accuracy did not improve from 0.93277\n",
            "\n",
            "Epoch 00003: val_accuracy did not improve from 0.93277\n",
            "\n",
            "Epoch 00004: val_accuracy improved from 0.93277 to 0.95798, saving model to model-04-0.96.hdf5\n",
            "\n",
            "Epoch 00005: val_accuracy did not improve from 0.95798\n",
            "\n",
            "Epoch 00006: val_accuracy did not improve from 0.95798\n",
            "\n",
            "Epoch 00007: val_accuracy did not improve from 0.95798\n",
            "\n",
            "Epoch 00008: val_accuracy did not improve from 0.95798\n",
            "\n",
            "Epoch 00009: val_accuracy did not improve from 0.95798\n",
            "\n",
            "Epoch 00010: val_accuracy did not improve from 0.95798\n"
          ],
          "name": "stdout"
        }
      ]
    },
    {
      "cell_type": "code",
      "metadata": {
        "id": "ConM7Babe9VD"
      },
      "source": [
        "model.save(os.path.join(PATH, 'model.hdf5'))"
      ],
      "execution_count": 61,
      "outputs": []
    },
    {
      "cell_type": "code",
      "metadata": {
        "colab": {
          "base_uri": "https://localhost:8080/"
        },
        "id": "hWvxk1sSW4IL",
        "outputId": "2d4c3b69-a681-4f43-ca94-bf4a7202a965"
      },
      "source": [
        "!ls"
      ],
      "execution_count": null,
      "outputs": [
        {
          "output_type": "stream",
          "text": [
            "gdrive\tmodel-01-0.00.hdf5  model.hdf5\tsample_data\n"
          ],
          "name": "stdout"
        }
      ]
    },
    {
      "cell_type": "markdown",
      "metadata": {
        "id": "uIPqHdYsvjVA"
      },
      "source": [
        "# Data augmentation\n",
        " Before we can run data aumentation with ImageDataGenerator we need to convert the PGM format to PNG"
      ]
    },
    {
      "cell_type": "code",
      "metadata": {
        "id": "pMTI6-hnoz5Z"
      },
      "source": [
        "import PIL\n",
        "import os"
      ],
      "execution_count": null,
      "outputs": []
    },
    {
      "cell_type": "code",
      "metadata": {
        "id": "xZBLJLRrp7pg"
      },
      "source": [
        "def convert_to_png(fname, dest_folder):\n",
        "  if not os.path.exists(dest_folder):\n",
        "    os.makedirs(dest_folder)\n",
        "  dest_fname = os.path.basename(fname).replace('.pgm', '.png')\n",
        "  dest_fname = os.path.join(dest_folder, dest_fname)\n",
        "  PIL.Image.open(fname).convert('L').save(dest_fname)\n"
      ],
      "execution_count": null,
      "outputs": []
    },
    {
      "cell_type": "markdown",
      "metadata": {
        "id": "37EjPUAips8R"
      },
      "source": [
        "Provare a fare una funzione migliore per convertire tutti i pgm in png"
      ]
    },
    {
      "cell_type": "code",
      "metadata": {
        "id": "WQxzGbJVsVIl"
      },
      "source": [
        "for data_path in [os.path.join(PATH, \"Train\"), os.path.join(PATH, \"Test\")]:\n",
        "  for path, folders, fnames in os.walk(data_path):\n",
        "    for fname in fnames:\n",
        "      abs_path = os.path.join(path, fname)\n",
        "      dest_folder = path.replace('Train', 'Train_png').replace('Test', 'Test_png')\n",
        "      convert_to_png(abs_path, dest_folder)\n"
      ],
      "execution_count": null,
      "outputs": []
    },
    {
      "cell_type": "markdown",
      "metadata": {
        "id": "un_vcpFHoL1u"
      },
      "source": [
        "# Data aumentation"
      ]
    },
    {
      "cell_type": "code",
      "metadata": {
        "id": "DnTT1VbO3C7o"
      },
      "source": [
        "import matplotlib.pyplot as plt"
      ],
      "execution_count": null,
      "outputs": []
    },
    {
      "cell_type": "code",
      "metadata": {
        "id": "r6Zoq1UkoGLl"
      },
      "source": [
        "from keras.preprocessing.image import ImageDataGenerator"
      ],
      "execution_count": null,
      "outputs": []
    },
    {
      "cell_type": "code",
      "metadata": {
        "id": "wihSLPuRm4cU",
        "colab": {
          "base_uri": "https://localhost:8080/"
        },
        "outputId": "f9d38c58-e797-4d81-cd8c-d5dc9788278f"
      },
      "source": [
        "train_dataset_path = os.path.join(PATH, \"Train_png\")\n",
        "img_width, img_height = (60, 60)\n",
        "\n",
        "train_datagen = ImageDataGenerator(\n",
        "        rotation_range=40,\n",
        "        width_shift_range=0.2,\n",
        "        height_shift_range=0.2,\n",
        "        rescale=1./255,\n",
        "        shear_range=0.2,\n",
        "        zoom_range=0.2,\n",
        "        horizontal_flip=True,\n",
        "        fill_mode='reflect',\n",
        "        validation_split=0.3)\n",
        "        \n",
        "train_gen = train_datagen.flow_from_directory(\n",
        "    train_dataset_path,\n",
        "    target_size=(img_width, img_height),\n",
        "    color_mode='grayscale', \n",
        "    class_mode='binary',\n",
        "    subset='training')\n",
        "\n",
        "val_gen = train_datagen.flow_from_directory(\n",
        "    train_dataset_path,\n",
        "    target_size=(img_width, img_height),\n",
        "    color_mode='grayscale',\n",
        "    class_mode='binary',\n",
        "    subset='validation')\n"
      ],
      "execution_count": null,
      "outputs": [
        {
          "output_type": "stream",
          "text": [
            "Found 278 images belonging to 2 classes.\n",
            "Found 118 images belonging to 2 classes.\n"
          ],
          "name": "stdout"
        }
      ]
    },
    {
      "cell_type": "code",
      "metadata": {
        "id": "R1H4S1Denats",
        "colab": {
          "base_uri": "https://localhost:8080/"
        },
        "outputId": "b03eed3c-6e05-454f-f0b2-9fc530c365a2"
      },
      "source": [
        "train_gen.next()[0].shape"
      ],
      "execution_count": null,
      "outputs": [
        {
          "output_type": "execute_result",
          "data": {
            "text/plain": [
              "(32, 60, 60, 1)"
            ]
          },
          "metadata": {
            "tags": []
          },
          "execution_count": 37
        }
      ]
    },
    {
      "cell_type": "code",
      "metadata": {
        "id": "Yvi4DLv_wnUh",
        "colab": {
          "base_uri": "https://localhost:8080/",
          "height": 285
        },
        "outputId": "bbbd5096-9977-45be-b435-bbeb965968e8"
      },
      "source": [
        "plt.imshow(train_gen.next()[0][4].squeeze())"
      ],
      "execution_count": null,
      "outputs": [
        {
          "output_type": "execute_result",
          "data": {
            "text/plain": [
              "<matplotlib.image.AxesImage at 0x7fe5d013b7b8>"
            ]
          },
          "metadata": {
            "tags": []
          },
          "execution_count": 41
        },
        {
          "output_type": "display_data",
          "data": {
            "image/png": "[encoded data removed]",
            "text/plain": [
              "<Figure size 432x288 with 1 Axes>"
            ]
          },
          "metadata": {
            "tags": [],
            "needs_background": "light"
          }
        }
      ]
    },
    {
      "cell_type": "code",
      "metadata": {
        "id": "avE0zljglFk5"
      },
      "source": [
        "from keras.callbacks import ModelCheckpoint\n",
        "checkpoint = ModelCheckpoint(\n",
        "    \"model_augmented.{epoch:02d}-{val_accuracy:.2f}.h5\", \n",
        "    monitor='val_accuracy', \n",
        "    verbose=1,\n",
        "    save_best_only=True,\n",
        "    save_weights_only=False,\n",
        "    mode='auto', save_freq='epoch')"
      ],
      "execution_count": null,
      "outputs": []
    },
    {
      "cell_type": "code",
      "metadata": {
        "id": "LgZtWjTgjsb6"
      },
      "source": [
        "model = make_model()\n",
        "model.compile(optimizer=SGD(lr=0.001, momentum=0.9), loss='binary_crossentropy', metrics=['accuracy'])"
      ],
      "execution_count": null,
      "outputs": []
    },
    {
      "cell_type": "code",
      "metadata": {
        "colab": {
          "base_uri": "https://localhost:8080/"
        },
        "id": "GbibD_j8Dh3l",
        "outputId": "61668ed7-0275-4adc-fd29-7a22c95a3d8d"
      },
      "source": [
        "batch_size=30\r\n",
        "history = model.fit(\r\n",
        "        train_gen,\r\n",
        "        epochs=10,\r\n",
        "        validation_data=val_gen\r\n",
        "        )"
      ],
      "execution_count": null,
      "outputs": [
        {
          "output_type": "stream",
          "text": [
            "Epoch 1/10\n",
            "9/9 [==============================] - 1s 105ms/step - loss: 0.8019 - accuracy: 0.3952 - val_loss: 0.6754 - val_accuracy: 0.4746\n",
            "Epoch 2/10\n",
            "9/9 [==============================] - 1s 83ms/step - loss: 0.6209 - accuracy: 0.6268 - val_loss: 0.6793 - val_accuracy: 0.4746\n",
            "Epoch 3/10\n",
            "9/9 [==============================] - 1s 78ms/step - loss: 0.5874 - accuracy: 0.6993 - val_loss: 0.6826 - val_accuracy: 0.4746\n",
            "Epoch 4/10\n",
            "9/9 [==============================] - 1s 82ms/step - loss: 0.5200 - accuracy: 0.7316 - val_loss: 0.6900 - val_accuracy: 0.4746\n",
            "Epoch 5/10\n",
            "9/9 [==============================] - 1s 83ms/step - loss: 0.5418 - accuracy: 0.7382 - val_loss: 0.7001 - val_accuracy: 0.4746\n",
            "Epoch 6/10\n",
            "9/9 [==============================] - 1s 78ms/step - loss: 0.5221 - accuracy: 0.7372 - val_loss: 0.7101 - val_accuracy: 0.4746\n",
            "Epoch 7/10\n",
            "9/9 [==============================] - 1s 78ms/step - loss: 0.4747 - accuracy: 0.7950 - val_loss: 0.7171 - val_accuracy: 0.4746\n",
            "Epoch 8/10\n",
            "9/9 [==============================] - 1s 76ms/step - loss: 0.5230 - accuracy: 0.7211 - val_loss: 0.7245 - val_accuracy: 0.4746\n",
            "Epoch 9/10\n",
            "9/9 [==============================] - 1s 77ms/step - loss: 0.4875 - accuracy: 0.7427 - val_loss: 0.7288 - val_accuracy: 0.4746\n",
            "Epoch 10/10\n",
            "9/9 [==============================] - 1s 83ms/step - loss: 0.4778 - accuracy: 0.7550 - val_loss: 0.7337 - val_accuracy: 0.4746\n"
          ],
          "name": "stdout"
        }
      ]
    },
    {
      "cell_type": "code",
      "metadata": {
        "id": "K7yiPz99j_Fw",
        "colab": {
          "base_uri": "https://localhost:8080/"
        },
        "outputId": "59e05ccb-264d-4942-e600-fdec42c853cc"
      },
      "source": [
        "batch_size=32\n",
        "history = model.fit(\n",
        "        train_gen,\n",
        "        steps_per_epoch=278 // batch_size,\n",
        "        epochs=10,\n",
        "        validation_data=val_gen,\n",
        "        validation_steps= 118 // batch_size,\n",
        "        callbacks=[checkpoint])"
      ],
      "execution_count": null,
      "outputs": [
        {
          "output_type": "stream",
          "text": [
            "Epoch 1/10\n",
            "8/8 [==============================] - 1s 100ms/step - loss: 0.4323 - accuracy: 0.8008 - val_loss: 0.7214 - val_accuracy: 0.4375\n",
            "\n",
            "Epoch 00001: val_accuracy did not improve from 0.53125\n",
            "Epoch 2/10\n",
            "8/8 [==============================] - 1s 88ms/step - loss: 0.4064 - accuracy: 0.8281 - val_loss: 0.7173 - val_accuracy: 0.4688\n",
            "\n",
            "Epoch 00002: val_accuracy did not improve from 0.53125\n",
            "Epoch 3/10\n",
            "8/8 [==============================] - 1s 89ms/step - loss: 0.3999 - accuracy: 0.8252 - val_loss: 0.7150 - val_accuracy: 0.4479\n",
            "\n",
            "Epoch 00003: val_accuracy did not improve from 0.53125\n",
            "Epoch 4/10\n",
            "8/8 [==============================] - 1s 86ms/step - loss: 0.4215 - accuracy: 0.8130 - val_loss: 0.7215 - val_accuracy: 0.4479\n",
            "\n",
            "Epoch 00004: val_accuracy did not improve from 0.53125\n",
            "Epoch 5/10\n",
            "8/8 [==============================] - 1s 104ms/step - loss: 0.3933 - accuracy: 0.7886 - val_loss: 0.7131 - val_accuracy: 0.3750\n",
            "\n",
            "Epoch 00005: val_accuracy did not improve from 0.53125\n",
            "Epoch 6/10\n",
            "8/8 [==============================] - 1s 85ms/step - loss: 0.4383 - accuracy: 0.7602 - val_loss: 0.7053 - val_accuracy: 0.2812\n",
            "\n",
            "Epoch 00006: val_accuracy did not improve from 0.53125\n",
            "Epoch 7/10\n",
            "8/8 [==============================] - 1s 90ms/step - loss: 0.4347 - accuracy: 0.7724 - val_loss: 0.7196 - val_accuracy: 0.3958\n",
            "\n",
            "Epoch 00007: val_accuracy did not improve from 0.53125\n",
            "Epoch 8/10\n",
            "8/8 [==============================] - 1s 89ms/step - loss: 0.4103 - accuracy: 0.8049 - val_loss: 0.7074 - val_accuracy: 0.4792\n",
            "\n",
            "Epoch 00008: val_accuracy did not improve from 0.53125\n",
            "Epoch 9/10\n",
            "8/8 [==============================] - 1s 89ms/step - loss: 0.4363 - accuracy: 0.7764 - val_loss: 0.7094 - val_accuracy: 0.4062\n",
            "\n",
            "Epoch 00009: val_accuracy did not improve from 0.53125\n",
            "Epoch 10/10\n",
            "8/8 [==============================] - 1s 84ms/step - loss: 0.3750 - accuracy: 0.8415 - val_loss: 0.7052 - val_accuracy: 0.4062\n",
            "\n",
            "Epoch 00010: val_accuracy did not improve from 0.53125\n"
          ],
          "name": "stdout"
        }
      ]
    },
    {
      "cell_type": "code",
      "metadata": {
        "id": "_HeFL52QkDQh",
        "colab": {
          "base_uri": "https://localhost:8080/",
          "height": 529
        },
        "outputId": "bd3252ba-555f-44f0-a1c3-7e15f8ddb8fa"
      },
      "source": [
        "import matplotlib.pyplot as plt\n",
        "\n",
        "plt.plot(history.history['loss'])\n",
        "plt.figure()\n",
        "plt.plot(history.history['val_accuracy'], color='r')\n",
        "plt.plot(history.history['accuracy'], color='g')\n"
      ],
      "execution_count": null,
      "outputs": [
        {
          "output_type": "execute_result",
          "data": {
            "text/plain": [
              "[<matplotlib.lines.Line2D at 0x7fe5d04ba668>]"
            ]
          },
          "metadata": {
            "tags": []
          },
          "execution_count": 51
        },
        {
          "output_type": "display_data",
          "data": {
            "image/png": "[encoded data removed]",
            "text/plain": [
              "<Figure size 432x288 with 1 Axes>"
            ]
          },
          "metadata": {
            "tags": [],
            "needs_background": "light"
          }
        },
        {
          "output_type": "display_data",
          "data": {
            "image/png": "[encoded data removed]",
            "text/plain": [
              "<Figure size 432x288 with 1 Axes>"
            ]
          },
          "metadata": {
            "tags": [],
            "needs_background": "light"
          }
        }
      ]
    },
    {
      "cell_type": "markdown",
      "metadata": {
        "id": "PpIDYyYf29HD"
      },
      "source": [
        "# Saving the model"
      ]
    },
    {
      "cell_type": "code",
      "metadata": {
        "id": "s7sjHFpGpPtI"
      },
      "source": [
        "model.save(os.path.join(PATH, 'model_augmented.hdf5'))"
      ],
      "execution_count": null,
      "outputs": []
    },
    {
      "cell_type": "code",
      "metadata": {
        "id": "s_OvsmnhuD02"
      },
      "source": [
        "from keras.models import load_model\r\n",
        "imported_model = load_model(ps.path.join(PATH, 'model_augmented.hdf5'))\r\n",
        "imported_model.summary()"
      ],
      "execution_count": null,
      "outputs": []
    },
    {
      "cell_type": "markdown",
      "metadata": {
        "id": "ziJxv3y8fYoo"
      },
      "source": [
        "# Evaluate the performances of the two models"
      ]
    },
    {
      "cell_type": "code",
      "metadata": {
        "id": "6u8dNJW0fLd3"
      },
      "source": [
        "noaug_model = load_model(os.path.join(PATH, 'model.hdf5'))\n",
        "aug_model = load_model(os.path.join(PATH, 'model_augmented.hdf5'))"
      ],
      "execution_count": null,
      "outputs": []
    },
    {
      "cell_type": "code",
      "metadata": {
        "id": "F1KrjHBQFGcu"
      },
      "source": [
        "#aug_model=model"
      ],
      "execution_count": null,
      "outputs": []
    },
    {
      "cell_type": "code",
      "metadata": {
        "id": "OfZEHjKYfz_v"
      },
      "source": [
        "x_test, y_test = read_imgs(os.path.join(PATH, \"Test\"), [0,1])"
      ],
      "execution_count": null,
      "outputs": []
    },
    {
      "cell_type": "code",
      "metadata": {
        "id": "MoMbhMQMf_E9"
      },
      "source": [
        "noaug_model.evaluate(x_test, y_test)"
      ],
      "execution_count": null,
      "outputs": []
    },
    {
      "cell_type": "code",
      "metadata": {
        "id": "z5a9XysRgVeE",
        "colab": {
          "base_uri": "https://localhost:8080/"
        },
        "outputId": "dc61f3f0-6876-48f8-eb9e-4a2efaff76cb"
      },
      "source": [
        "aug_model.evaluate(x_test, y_test)"
      ],
      "execution_count": null,
      "outputs": [
        {
          "output_type": "stream",
          "text": [
            "1/1 [==============================] - 0s 154ms/step - loss: 0.6924 - accuracy: 0.5200\n"
          ],
          "name": "stdout"
        },
        {
          "output_type": "execute_result",
          "data": {
            "text/plain": [
              "[0.6924434900283813, 0.5199999809265137]"
            ]
          },
          "metadata": {
            "tags": []
          },
          "execution_count": 42
        }
      ]
    },
    {
      "cell_type": "markdown",
      "metadata": {
        "id": "vqHN-zmw4IPI"
      },
      "source": [
        "# Visualizing"
      ]
    },
    {
      "cell_type": "code",
      "metadata": {
        "id": "Yz-ObgB51Zzi"
      },
      "source": [
        "model= load_model('/content/model_augmented.hdf5')"
      ],
      "execution_count": null,
      "outputs": []
    },
    {
      "cell_type": "code",
      "metadata": {
        "id": "RvU8jYJI4OFK"
      },
      "source": [
        "model.layers\n"
      ],
      "execution_count": null,
      "outputs": []
    },
    {
      "cell_type": "code",
      "metadata": {
        "id": "rtVKY07r3bA_"
      },
      "source": [
        "from keras import models\n",
        "layer_outputs = [layer.output for layer in model.layers]\n",
        "activation_model = models.Model(inputs=model.input, outputs=layer_outputs)"
      ],
      "execution_count": null,
      "outputs": []
    },
    {
      "cell_type": "code",
      "metadata": {
        "id": "qlPRAEEO4i49"
      },
      "source": [
        "micro_calc = val_gen.next()[0][2][np.newaxis,...]\n"
      ],
      "execution_count": null,
      "outputs": []
    },
    {
      "cell_type": "code",
      "metadata": {
        "id": "mwxqq2dp4w2G"
      },
      "source": [
        "plt.imshow(micro_calc.squeeze())"
      ],
      "execution_count": null,
      "outputs": []
    },
    {
      "cell_type": "code",
      "metadata": {
        "id": "jk8YmIMF5Ro7"
      },
      "source": [
        "activations = activation_model.predict(micro_calc)"
      ],
      "execution_count": null,
      "outputs": []
    },
    {
      "cell_type": "code",
      "metadata": {
        "id": "fIOz9u995WG4"
      },
      "source": [
        "len(activations) == len(model.layers)"
      ],
      "execution_count": null,
      "outputs": []
    },
    {
      "cell_type": "code",
      "metadata": {
        "id": "j7lOEYAZ5fsC"
      },
      "source": [
        "activations[0].shape"
      ],
      "execution_count": null,
      "outputs": []
    },
    {
      "cell_type": "code",
      "metadata": {
        "id": "sl-kNPON5zrV"
      },
      "source": [
        "fig = plt.figure(figsize=(10,10))\n",
        "for k in range(8):\n",
        "  plt.subplot(2,4, k+1)\n",
        "  plt.imshow(activations[0][..., k].squeeze())\n",
        "  plt.axis(False)\n",
        "fig.subplots_adjust(hspace=-0.5, wspace=0.2)\n",
        "fig.tight_layout(pad=1)"
      ],
      "execution_count": null,
      "outputs": []
    },
    {
      "cell_type": "code",
      "metadata": {
        "id": "j2a9B1Q_5_67"
      },
      "source": [
        "fig = plt.figure(figsize=(15,15))\n",
        "\n",
        "for k in range(16):\n",
        "  plt.subplot(2,8, k+1)\n",
        "  plt.imshow(activations[5][..., k].squeeze())\n",
        "  plt.axis(False)\n",
        "fig.subplots_adjust(hspace=-0.9, wspace=0.2)\n",
        "fig.tight_layout(pad=1)"
      ],
      "execution_count": null,
      "outputs": []
    },
    {
      "cell_type": "code",
      "metadata": {
        "id": "B7kBJYfH7TDZ"
      },
      "source": [
        "fig = plt.figure(figsize=(15,15))\n",
        "for k in range(32):\n",
        "  plt.subplot(4,8, k+1)\n",
        "  plt.imshow(activations[8][..., k].squeeze())\n",
        "  plt.axis(False)\n",
        "fig.subplots_adjust(hspace=-0.9, wspace=0.2)\n",
        "fig.tight_layout(pad=1)"
      ],
      "execution_count": null,
      "outputs": []
    },
    {
      "cell_type": "markdown",
      "metadata": {
        "id": "6xsBCcpj-9XG"
      },
      "source": [
        "## Visualizing filters"
      ]
    },
    {
      "cell_type": "code",
      "metadata": {
        "id": "7SsEN6gt_UqK"
      },
      "source": [
        "# retrieve weights from the second hidden layer\n",
        "filters, biases = model.layers[0].get_weights()\n",
        "filters = (filters - filters.min())/(filters.max() - filters.min())\n",
        "filters = filters.squeeze()"
      ],
      "execution_count": null,
      "outputs": []
    },
    {
      "cell_type": "code",
      "metadata": {
        "id": "0z27HgB9BnFv"
      },
      "source": [
        "for k in range(8):\n",
        "  plt.subplot(2, 4, k+1)\n",
        "  plt.imshow(filters[:,:,k], cmap='gray')\n",
        "  plt.axis(False)"
      ],
      "execution_count": null,
      "outputs": []
    },
    {
      "cell_type": "code",
      "metadata": {
        "id": "c5Ox_0vtAYf_"
      },
      "source": [
        "# retrieve weights from the second hidden layer\n",
        "filters, biases = model.layers[4].get_weights()\n",
        "filters = (filters - filters.min())/(filters.max() - filters.min())\n",
        "filters = filters.squeeze()\n",
        "for k in range(16):\n",
        "  plt.subplot(2, 8, k+1)\n",
        "  plt.imshow(filters[:,:,1 ,k], cmap='gray')\n",
        "  plt.axis(False)"
      ],
      "execution_count": null,
      "outputs": []
    },
    {
      "cell_type": "code",
      "metadata": {
        "id": "tC6Mclr_ChAa"
      },
      "source": [
        "filters.shape"
      ],
      "execution_count": null,
      "outputs": []
    }
  ]
}