{
  "nbformat": 4,
  "nbformat_minor": 0,
  "metadata": {
    "colab": {
      "name": "WaveletDNN.ipynb",
      "provenance": [],
      "collapsed_sections": [],
      "include_colab_link": true
    },
    "kernelspec": {
      "name": "python3",
      "display_name": "Python 3"
    },
    "accelerator": "GPU"
  },
  "cells": [
    {
      "cell_type": "markdown",
      "metadata": {
        "id": "view-in-github",
        "colab_type": "text"
      },
      "source": [
        "<a href=\"https://colab.research.google.com/github/federicocampo/CMEPDA-Project/blob/main/CMEPDA-Project/WaveletDNN.ipynb\" target=\"_parent\"><img src=\"https://colab.research.google.com/assets/colab-badge.svg\" alt=\"Open In Colab\"/></a>"
      ]
    },
    {
      "cell_type": "markdown",
      "metadata": {
        "id": "h7UQdhtmCS3B"
      },
      "source": [
        "Cloning our repository to import all the needed functions."
      ]
    },
    {
      "cell_type": "code",
      "metadata": {
        "colab": {
          "base_uri": "https://localhost:8080/"
        },
        "id": "sNBucPrt99Aa",
        "outputId": "b41235f8-0e21-4cbe-83a1-9c1650d7394e"
      },
      "source": [
        "!git clone https://github.com/federicocampo/CMEPDA-Project.git"
      ],
      "execution_count": null,
      "outputs": [
        {
          "output_type": "stream",
          "text": [
            "Cloning into 'CMEPDA-Project'...\n",
            "remote: Enumerating objects: 6, done.\u001b[K\n",
            "remote: Counting objects: 100% (6/6), done.\u001b[K\n",
            "remote: Compressing objects: 100% (6/6), done.\u001b[K\n",
            "remote: Total 250 (delta 2), reused 0 (delta 0), pack-reused 244\u001b[K\n",
            "Receiving objects: 100% (250/250), 4.26 MiB | 27.25 MiB/s, done.\n",
            "Resolving deltas: 100% (102/102), done.\n"
          ],
          "name": "stdout"
        }
      ]
    },
    {
      "cell_type": "code",
      "metadata": {
        "colab": {
          "base_uri": "https://localhost:8080/"
        },
        "id": "KNVOhk1rMi4D",
        "outputId": "0b8f2430-ab87-4e53-8bae-6bacf6496e1b"
      },
      "source": [
        "%cd /content/CMEPDA-Project/CMEPDA-Project/"
      ],
      "execution_count": null,
      "outputs": [
        {
          "output_type": "stream",
          "text": [
            "/content/CMEPDA-Project\n"
          ],
          "name": "stdout"
        }
      ]
    },
    {
      "cell_type": "code",
      "metadata": {
        "colab": {
          "base_uri": "https://localhost:8080/"
        },
        "id": "LIPzsClBDhdW",
        "outputId": "792686b8-d5a3-400e-b0c0-948ec5f37cf8"
      },
      "source": [
        "from google.colab import drive\r\n",
        "drive.mount('/content/gdrive')"
      ],
      "execution_count": null,
      "outputs": [
        {
          "output_type": "stream",
          "text": [
            "Mounted at /content/gdrive\n"
          ],
          "name": "stdout"
        }
      ]
    },
    {
      "cell_type": "markdown",
      "metadata": {
        "id": "bU0VIBp3xYub"
      },
      "source": [
        "#Importing libearies and setting a logger"
      ]
    },
    {
      "cell_type": "markdown",
      "metadata": {
        "id": "KIyChXGnLoW2"
      },
      "source": [
        "To be noted: every comment in the code refers to the code line below the comment itself."
      ]
    },
    {
      "cell_type": "code",
      "metadata": {
        "id": "ZOV3UF99AhGP"
      },
      "source": [
        "import os\r\n",
        "from PIL import Image\r\n",
        "import pywt\r\n",
        "from skimage.restoration import denoise_wavelet\r\n",
        "from skimage import img_as_float\r\n",
        "import matplotlib.pyplot as plt\r\n",
        "import numpy as np\r\n",
        "import glob\r\n",
        "import multiprocessing as mp\r\n",
        "\r\n",
        "from keras.layers import BatchNormalization, Dense, Flatten, Activation, Dropout, Input\r\n",
        "from keras.models import Sequential, load_model\r\n",
        "from keras.callbacks import ModelCheckpoint\r\n",
        "from keras.optimizers import SGD, Adam\r\n",
        "\r\n",
        "from sklearn.model_selection import KFold\r\n",
        "\r\n",
        "from waveletconverter import dwtcoefftoarray\r\n",
        "\r\n",
        "import logging\r\n",
        "\r\n",
        "# Setting a logger and a logging level\r\n",
        "logger = logging.getLogger('Mylogger')\r\n",
        "logger.setLevel(logging.DEBUG)\r\n",
        "# Setting an handler to send logging output\r\n",
        "ch = logging.StreamHandler()\r\n",
        "ch.setLevel(logging.DEBUG)\r\n",
        "# Set the format of every log message printing the name of logger, logging level and the message.\r\n",
        "formatter = logging.Formatter('%(name)s (%(levelname)s): %(message)s')\r\n",
        "ch.setFormatter(formatter)\r\n",
        "# Add the specified handler to this logger.\r\n",
        "logger.addHandler(ch)"
      ],
      "execution_count": null,
      "outputs": []
    },
    {
      "cell_type": "markdown",
      "metadata": {
        "id": "vmy7V9ZOxfPi"
      },
      "source": [
        "#Reading the images"
      ]
    },
    {
      "cell_type": "code",
      "metadata": {
        "colab": {
          "base_uri": "https://localhost:8080/"
        },
        "id": "BRLV3NwMEW-v",
        "outputId": "2f4f0383-3d52-453f-a031-c7b613b4490d"
      },
      "source": [
        "PATH = '/content/gdrive/My Drive/IMAGES/Mammography_micro'\r\n",
        "\r\n",
        "def read_img(image_path):\r\n",
        "  ''' Takes as input the path to the image folder and \r\n",
        "      returns the numpy array of images and label found in that folder\r\n",
        "  '''\r\n",
        "\r\n",
        "  # Creating a list of all image names found in image_path\r\n",
        "  imagefilename = glob.glob(os.path.join(image_path, '*.pgm'))\r\n",
        "\r\n",
        "  # Defining 4 sub-processes and apply Immage.open to all the images found\r\n",
        "  pool = mp.Pool(processes=4)\r\n",
        "  results = pool.map_async(Image.open, imagefilename)\r\n",
        "\r\n",
        "  # Gets the list of images\r\n",
        "  images = results.get()\r\n",
        "\r\n",
        "  logger.info(f'Num images found in {image_path}: {len(images)}')\r\n",
        "\r\n",
        "  # Creates the list of corrisponding labels and convert it to numpy array\r\n",
        "  label = os.path.basename(image_path)\r\n",
        "  y = [int(label)] * len(images)\r\n",
        "  y_np = np.array(y)\r\n",
        "\r\n",
        "  return images, y_np\r\n",
        "\r\n",
        "\r\n",
        "# Defines the path to folder 0 contained in Train. These mammograms do not contain microcalcifications.\r\n",
        "image_path = os.path.join(PATH, 'Train/0')\r\n",
        "# Creates the train images and labels arrays with the read_img function.\r\n",
        "images0_train, y0_train = read_img(image_path)\r\n",
        "\r\n",
        "# Defines the path to folder 1 contained in Train. These mammograms do contain microcalcifications.\r\n",
        "image_path = os.path.join(PATH, 'Train/1')\r\n",
        "# Creates the train images and labels arrays with the read_img function.\r\n",
        "images1_train, y1_train = read_img(image_path)\r\n",
        "\r\n",
        "# Creates a list containing both 0 and 1 labelled images and an array containing both 0 and 1 labels associated to the images.\r\n",
        "images_train = images0_train + images1_train\r\n",
        "y_train = np.concatenate((y0_train, y1_train))\r\n",
        "\r\n",
        "# The same process is repeated on the Test folder.\r\n",
        "image_path = os.path.join(PATH, 'Test/0')\r\n",
        "images0_test, y0_test = read_img(image_path)\r\n",
        "\r\n",
        "image_path = os.path.join(PATH, 'Test/1')\r\n",
        "images1_test, y1_test = read_img(image_path)\r\n",
        "\r\n",
        "images_test = images0_test + images1_test\r\n",
        "y_test = np.concatenate((y0_test, y1_test))\r\n",
        "\r\n",
        "images_tot = images_test + images_train\r\n",
        "labels = np.concatenate((y_test, y_train))"
      ],
      "execution_count": null,
      "outputs": [
        {
          "output_type": "stream",
          "text": [
            "Mylogger (INFO): Num images found in /content/gdrive/My Drive/IMAGES/Mammography_micro/Train/0: 209\n",
            "Mylogger (INFO): Num images found in /content/gdrive/My Drive/IMAGES/Mammography_micro/Train/1: 187\n",
            "Mylogger (INFO): Num images found in /content/gdrive/My Drive/IMAGES/Mammography_micro/Test/0: 205\n",
            "Mylogger (INFO): Num images found in /content/gdrive/My Drive/IMAGES/Mammography_micro/Test/1: 196\n"
          ],
          "name": "stderr"
        }
      ]
    },
    {
      "cell_type": "markdown",
      "metadata": {
        "id": "cx5kLtKpxjsy"
      },
      "source": [
        "#Defining the wavelet type"
      ]
    },
    {
      "cell_type": "code",
      "metadata": {
        "colab": {
          "base_uri": "https://localhost:8080/"
        },
        "id": "mkW1aJuAKIdu",
        "outputId": "98a51658-d2c2-4140-ca50-b858fe074d8a"
      },
      "source": [
        "'''Defines the wavelet family, the level of decomposition, \r\n",
        "   if we want to previously denoise the images, and if we want \r\n",
        "   all the coefficients or only the second and third level coefficients (for 3-lvl\r\n",
        "   decomposition) or the second, third and fourth level coefficients (for 4-lvl \r\n",
        "   decomposition).\r\n",
        "'''\r\n",
        "wavelet = 'sym3'\r\n",
        "level = 4\r\n",
        "denoise = 'no'\r\n",
        "partial = True\r\n",
        "\r\n",
        "# Defines a list to put all coefficients in\r\n",
        "coefficients = []\r\n",
        "\r\n",
        "# Appends to the previous list the coefficients obtained from wavelet decomposition\r\n",
        "for i, image in enumerate(images_tot):\r\n",
        "  array = dwtcoefftoarray(images_tot[i], wavelet, level, denoise, partial)\r\n",
        "  coefficients.append(array)\r\n",
        "\r\n",
        "# Converts the list to a numpy array\r\n",
        "coefficients = np.array(coefficients)\r\n",
        "\r\n"
      ],
      "execution_count": null,
      "outputs": [
        {
          "output_type": "stream",
          "text": [
            "/usr/local/lib/python3.6/dist-packages/pywt/_multilevel.py:45: UserWarning: Level value of 4 is too high: all coefficients will experience boundary effects.\n",
            "  \"boundary effects.\").format(level))\n"
          ],
          "name": "stderr"
        }
      ]
    },
    {
      "cell_type": "code",
      "metadata": {
        "colab": {
          "base_uri": "https://localhost:8080/"
        },
        "id": "amlW_1Ssdb8Y",
        "outputId": "198632e2-00b5-4991-b484-9ff98f544ab4"
      },
      "source": [
        "print(coefficients.shape[1])"
      ],
      "execution_count": null,
      "outputs": [
        {
          "output_type": "stream",
          "text": [
            "1527\n"
          ],
          "name": "stdout"
        }
      ]
    },
    {
      "cell_type": "markdown",
      "metadata": {
        "id": "EHlzpiVgxn26"
      },
      "source": [
        "#Defining and training a model "
      ]
    },
    {
      "cell_type": "markdown",
      "metadata": {
        "id": "l_1ue6KPx0Xw"
      },
      "source": [
        "##Defining the model"
      ]
    },
    {
      "cell_type": "code",
      "metadata": {
        "id": "AeHKcX-6ThO4"
      },
      "source": [
        "def make_model(shape):\r\n",
        "  ''' Takes as input the shape of coefficients array and returns the \r\n",
        "      keras.model class.\r\n",
        "  '''\r\n",
        "  model = Sequential([\r\n",
        "                      Input(shape = shape),\r\n",
        "\r\n",
        "                      BatchNormalization(),\r\n",
        "                      Dense(5, activation='relu'),\r\n",
        "                      BatchNormalization(),\r\n",
        "                      Dense(5, activation = 'relu'),\r\n",
        "                      BatchNormalization(),\r\n",
        "                      Dense(5, activation = 'relu'),\r\n",
        "                      BatchNormalization(),\r\n",
        "\r\n",
        "                      Dense(1, activation='sigmoid')\r\n",
        "  ])\r\n",
        "  return model"
      ],
      "execution_count": null,
      "outputs": []
    },
    {
      "cell_type": "markdown",
      "metadata": {
        "id": "xv5iFdDkfvuk"
      },
      "source": [
        "ModelCheckpoint: https://www.tensorflow.org/api_docs/python/tf/keras/callbacks/ModelCheckpoint"
      ]
    },
    {
      "cell_type": "code",
      "metadata": {
        "id": "hl3JXHtpU8Mf"
      },
      "source": [
        "# Set a checkpoint to save weights giving the best performance on val_accuracy \r\n",
        "checkpoint = ModelCheckpoint(\r\n",
        "    \"model-{epoch:02d}-{val_accuracy:.2f}.hdf5\", \r\n",
        "    monitor='val_accuracy', \r\n",
        "    verbose=1,\r\n",
        "    save_best_only=True,\r\n",
        "    save_weights_only=False,\r\n",
        "    mode='auto', save_freq='epoch')"
      ],
      "execution_count": null,
      "outputs": []
    },
    {
      "cell_type": "markdown",
      "metadata": {
        "id": "334goOFAf1hT"
      },
      "source": [
        "Model.compile: https://www.tensorflow.org/api_docs/python/tf/keras/Model#compile"
      ]
    },
    {
      "cell_type": "code",
      "metadata": {
        "id": "huSEQkpOWzvs"
      },
      "source": [
        "''' Defines the model and compile it\r\n",
        "'''\r\n",
        "model = make_model(coefficients.shape[1])\r\n",
        "model.compile(optimizer = Adam(lr = 0.005), metrics = 'accuracy', loss='binary_crossentropy')"
      ],
      "execution_count": null,
      "outputs": []
    },
    {
      "cell_type": "markdown",
      "metadata": {
        "id": "kCMfJyfax20l"
      },
      "source": [
        "##Training it"
      ]
    },
    {
      "cell_type": "markdown",
      "metadata": {
        "id": "qB0rfv8gf7DK"
      },
      "source": [
        "Model.fit: https://www.tensorflow.org/api_docs/python/tf/keras/Model#fit"
      ]
    },
    {
      "cell_type": "code",
      "metadata": {
        "id": "l6UwZw-6XECa"
      },
      "source": [
        "''' Training the model using the coefficients and labels arrays and doing a validation split of 30%\r\n",
        "'''\r\n",
        "\r\n",
        "val_split = 0.3\r\n",
        "\r\n",
        "history = model.fit(coefficients, labels, \r\n",
        "                    validation_split=val_split, \r\n",
        "                    epochs=40, \r\n",
        "                    batch_size=30, \r\n",
        "                    shuffle=True, \r\n",
        "                    callbacks = [checkpoint],\r\n",
        "                    verbose=1)"
      ],
      "execution_count": null,
      "outputs": []
    },
    {
      "cell_type": "code",
      "metadata": {
        "colab": {
          "base_uri": "https://localhost:8080/",
          "height": 563
        },
        "id": "g1gXhyMOaLiu",
        "outputId": "cf6973e7-b1fc-43d6-d1c7-2e3ac0a74bcd"
      },
      "source": [
        "''' Plots loss, val_loss, accuracy and val_accuracy obtanined during the train\r\n",
        "''' \r\n",
        "plt.figure(1)\r\n",
        "plt.plot(history.history['loss'], label='loss')\r\n",
        "plt.plot(history.history['val_loss'], label='val_loss')\r\n",
        "plt.legend()\r\n",
        "plt.xlabel('Epochs')\r\n",
        "plt.title('Loss and val_loss')\r\n",
        "\r\n",
        "plt.figure(2)\r\n",
        "plt.plot(history.history['accuracy'], label='accuracy')\r\n",
        "plt.plot(history.history['val_accuracy'], label='val_accuracy')\r\n",
        "plt.legend()\r\n",
        "plt.xlabel('Epochs')\r\n",
        "plt.title('Accuracy and val_accuracy')"
      ],
      "execution_count": null,
      "outputs": [
        {
          "output_type": "execute_result",
          "data": {
            "text/plain": [
              "Text(0.5, 1.0, 'Accuracy and val_accuracy')"
            ]
          },
          "metadata": {
            "tags": []
          },
          "execution_count": 151
        },
        {
          "output_type": "display_data",
          "data": {
            "image/png": "[encoded data removed]",
            "text/plain": [
              "<Figure size 432x288 with 1 Axes>"
            ]
          },
          "metadata": {
            "tags": [],
            "needs_background": "light"
          }
        },
        {
          "output_type": "display_data",
          "data": {
            "image/png": "[encoded data removed]",
            "text/plain": [
              "<Figure size 432x288 with 1 Axes>"
            ]
          },
          "metadata": {
            "tags": [],
            "needs_background": "light"
          }
        }
      ]
    },
    {
      "cell_type": "markdown",
      "metadata": {
        "id": "r7HhrA-gx9v-"
      },
      "source": [
        "#CV Test"
      ]
    },
    {
      "cell_type": "code",
      "metadata": {
        "id": "CEyAPDs6dUmN"
      },
      "source": [
        "# Creates per-fold accuracy and loss lists\r\n",
        "acc_per_fold = []\r\n",
        "loss_per_fold = []\r\n",
        "\r\n",
        "# Defines the number of folds to split dataset on\r\n",
        "num_folds = 10\r\n",
        "# Defining the function kfold which is used to split the dataset\r\n",
        "kfold = KFold(n_splits = num_folds, shuffle=True)\r\n",
        "\r\n",
        "batch_size = 32\r\n",
        "num_epochs = 50\r\n",
        "\r\n",
        "fold_num = 1\r\n",
        "\r\n",
        "# Defines the model and compiles it\r\n",
        "model = make_model(coefficients.shape[1])\r\n",
        "model.compile(optimizer=Adam(lr = 0.001), metrics = 'accuracy', loss='binary_crossentropy')\r\n",
        "# Saving the weights before training as reset before each training\r\n",
        "model.save_weights('reset_model.h5')\r\n",
        "\r\n",
        "for train, test in kfold.split(coefficients, labels):\r\n",
        "  ''' Training the model and test it for every fold created \r\n",
        "      from the total original dataset\r\n",
        "  '''\r\n",
        "  # Reset the untrained model weights saved before\r\n",
        "  model.load_weights('reset_model.h5')\r\n",
        "  # Fitting the model using every folder (but one) as training\r\n",
        "  history = model.fit(\r\n",
        "          coefficients[train], labels[train],\r\n",
        "          batch_size = batch_size,\r\n",
        "          verbose=0,\r\n",
        "          epochs = num_epochs)  \r\n",
        "  \r\n",
        "  # Evaluates the efficiency of the model\r\n",
        "  scores = model.evaluate(coefficients[test], labels[test], verbose=0)\r\n",
        "  # Printing the results of the training\r\n",
        "  print(f'In folder {fold_num}: {model.metrics_names[0]} of {scores[0]} - {model.metrics_names[1]} of {scores[1]}')\r\n",
        "  \r\n",
        "  \r\n",
        "  # Visualize loss and accuracy obtanined during the train for each fold  \r\n",
        "  plt.figure(fold_num)\r\n",
        "  plt.suptitle(f'In fold num. {fold_num}')\r\n",
        "  plt.subplot(1, 2, 1)\r\n",
        "  plt.title('Loss')\r\n",
        "  plt.xlabel('Epochs')\r\n",
        "  plt.plot(history.history['loss'])\r\n",
        "  plt.subplot(1, 2, 2)\r\n",
        "  plt.title('Accuracy')\r\n",
        "  plt.xlabel('Epochs')\r\n",
        "  plt.plot(history.history['accuracy'])\r\n",
        "  \r\n",
        "  \r\n",
        "  # Putting scores on to the corrisponding list to calculate the mean value ot them at the end\r\n",
        "  acc_per_fold.append(scores[1])\r\n",
        "  loss_per_fold.append(scores[0])\r\n",
        "  fold_num += 1\r\n",
        "\r\n",
        "# Computing and printing average scores\r\n",
        "print('Average scores for all folds:')\r\n",
        "print(f'-- Accuracy: {np.mean(acc_per_fold)} (+- {np.std(acc_per_fold)})')\r\n",
        "# Calculare loss error as maximum value error\r\n",
        "err_loss = (max(loss_per_fold)-min(loss_per_fold))/2\r\n",
        "print(f'-- Loss: {np.mean(loss_per_fold)} +/- {err_loss}')"
      ],
      "execution_count": null,
      "outputs": []
    }
  ]
}