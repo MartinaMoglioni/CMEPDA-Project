{
  "nbformat": 4,
  "nbformat_minor": 0,
  "metadata": {
    "colab": {
      "name": "CNN.ipynb",
      "provenance": [],
      "collapsed_sections": [],
      "include_colab_link": true
    },
    "kernelspec": {
      "name": "python3",
      "display_name": "Python 3"
    },
    "accelerator": "GPU"
  },
  "cells": [
    {
      "cell_type": "markdown",
      "metadata": {
        "id": "view-in-github",
        "colab_type": "text"
      },
      "source": [
        "<a href=\"https://colab.research.google.com/github/federicocampo/CNN_prova/blob/Prime_modifiche/CNN.ipynb\" target=\"_parent\"><img src=\"https://colab.research.google.com/assets/colab-badge.svg\" alt=\"Open In Colab\"/></a>"
      ]
    },
    {
      "cell_type": "markdown",
      "metadata": {
        "id": "LfPNt06nZRfC"
      },
      "source": [
        "# Importing the dataset from Google Drive"
      ]
    },
    {
      "cell_type": "code",
      "metadata": {
        "id": "ycQRMl2Bg4Me",
        "colab": {
          "base_uri": "https://localhost:8080/"
        },
        "outputId": "ed19da5f-011b-4ff9-fce7-926acbf028e9"
      },
      "source": [
        "from google.colab import drive\n",
        "drive.mount('/content/gdrive')"
      ],
      "execution_count": 18,
      "outputs": [
        {
          "output_type": "stream",
          "text": [
            "Drive already mounted at /content/gdrive; to attempt to forcibly remount, call drive.mount(\"/content/gdrive\", force_remount=True).\n"
          ],
          "name": "stdout"
        }
      ]
    },
    {
      "cell_type": "markdown",
      "metadata": {
        "id": "Zqw3aYF1gDFD"
      },
      "source": [
        "# Reading the images"
      ]
    },
    {
      "cell_type": "code",
      "metadata": {
        "id": "rqCZ72z2gCIH"
      },
      "source": [
        "from matplotlib import pyplot as plt\n",
        "from skimage.io import imread, imshow\n",
        "import os\n",
        "import glob\n",
        "import numpy as np\n",
        "\n",
        "import logging\n",
        "import time\n",
        "\n",
        "\n",
        "logger = logging.getLogger('Mylogger')\n",
        "logger.setLevel(logging.INFO)\n",
        "\n"
      ],
      "execution_count": 19,
      "outputs": []
    },
    {
      "cell_type": "code",
      "metadata": {
        "id": "GkOspN9xPlg8"
      },
      "source": [
        "PATH = 'gdrive/MyDrive/IMAGES/Mammography_micro'"
      ],
      "execution_count": 20,
      "outputs": []
    },
    {
      "cell_type": "markdown",
      "metadata": {
        "id": "EEPf4nNPA1I4"
      },
      "source": [
        "## Old \"reading images\" function"
      ]
    },
    {
      "cell_type": "markdown",
      "metadata": {
        "id": "VmE9CC0f6qb6"
      },
      "source": [
        "*  Imread restituisce un array 60 x 60"
      ]
    },
    {
      "cell_type": "code",
      "metadata": {
        "id": "C-r0YaUuhMAR"
      },
      "source": [
        "def read_imgs(dataset_path, classes):\n",
        "  logger.debug('In folder: %s', dataset_path)\n",
        "  tmp = []\n",
        "  labels = []\n",
        "  for cls in classes:\n",
        "    fnames = glob.glob(os.path.join(dataset_path, str(cls), '*.pgm'))\n",
        "    tmp += [ imread(fname) for fname in fnames ]\n",
        "    labels += len(fnames)*[cls]\n",
        "  images_array = np.array(tmp, dtype='float32')[..., np.newaxis]/255\n",
        "  labels_array = np.array(labels)\n",
        "\n",
        "  print('Found %d images' %len(images_array))\n",
        "  \n",
        "  return images_array, labels_array"
      ],
      "execution_count": null,
      "outputs": []
    },
    {
      "cell_type": "markdown",
      "metadata": {
        "id": "-a_6n_b1WRYy"
      },
      "source": [
        "Ci sta ~5 minuti a caricare le immagini"
      ]
    },
    {
      "cell_type": "code",
      "metadata": {
        "id": "x81szNHPklZ4",
        "colab": {
          "base_uri": "https://localhost:8080/"
        },
        "outputId": "9a634891-8e3f-44b4-f5e7-05723fc490e0"
      },
      "source": [
        "initial_time = time.time()\n",
        "path_to_png_data = os.path.join(PATH, 'Train')\n",
        "x_train, y_train = read_imgs(path_to_png_data, [0, 1])\n",
        "\n",
        "test_dataset_path =os.path.join(PATH, 'Test')\n",
        "x_test, y_test = read_imgs(test_dataset_path, [0, 1])\n",
        "\n",
        "logger.info('x_train shape = ', x_train.shape)\n",
        "\n",
        "\n",
        "elapsed_time=time.time() - initial_time\n",
        "logger.info('Done in %.1f minutes',elapsed_time/60)"
      ],
      "execution_count": null,
      "outputs": [
        {
          "output_type": "stream",
          "text": [
            "Found 396 images\n",
            "Found 401 images\n"
          ],
          "name": "stdout"
        }
      ]
    },
    {
      "cell_type": "code",
      "metadata": {
        "id": "K1UUvn4QZjNY",
        "colab": {
          "base_uri": "https://localhost:8080/"
        },
        "outputId": "9aea23bd-8df2-4648-a580-115b9048050d"
      },
      "source": [
        "len(x_train)\r\n"
      ],
      "execution_count": null,
      "outputs": [
        {
          "output_type": "execute_result",
          "data": {
            "text/plain": [
              "396"
            ]
          },
          "metadata": {
            "tags": []
          },
          "execution_count": 6
        }
      ]
    },
    {
      "cell_type": "markdown",
      "metadata": {
        "id": "RJournJwBMyh"
      },
      "source": [
        "## Parallel \"Reading images\" function"
      ]
    },
    {
      "cell_type": "code",
      "metadata": {
        "id": "8bVKQicJt1gi"
      },
      "source": [
        "import multiprocessing as mp\r\n",
        "\r\n",
        "def parallel_read_img(image_path):\r\n",
        "  fnames = glob.glob(os.path.join(image_path, '*.pgm'))\r\n",
        "\r\n",
        "  pool = mp.Pool(processes=4)\r\n",
        "  results = pool.map_async(imread, fnames)\r\n",
        "\r\n",
        "  x = results.get()\r\n",
        "  x_np = np.array(x, dtype='float32')[..., np.newaxis]/255\r\n",
        "\r\n",
        "  print('Num images found = ', x_np.shape)\r\n",
        "  return x_np\r\n"
      ],
      "execution_count": 21,
      "outputs": []
    },
    {
      "cell_type": "code",
      "metadata": {
        "id": "XAREAlnsKhWk",
        "colab": {
          "base_uri": "https://localhost:8080/"
        },
        "outputId": "3a27a87a-0960-4f9a-bda9-90228b6e825b"
      },
      "source": [
        "start_time = time.time()\r\n",
        "\r\n",
        "labels = []\r\n",
        "\r\n",
        "image_path = os.path.join(PATH, 'Train/0')\r\n",
        "x0_train = parallel_read_img(image_path)\r\n",
        "labels += len(x0_train)*[0]\r\n",
        "\r\n",
        "image_path = os.path.join(PATH, 'Train/1')\r\n",
        "x1_train = parallel_read_img(image_path)\r\n",
        "labels += len(x1_train)*[1]\r\n",
        "\r\n",
        "x_train = np.concatenate((x0_train, x1_train), axis = 0)\r\n",
        "y_train = np.array(labels)\r\n",
        "\r\n",
        "print('x_train shape = ', x_train.shape)\r\n",
        "\r\n",
        "\r\n",
        "labels = []\r\n",
        "\r\n",
        "image_path = os.path.join(PATH, 'Test/0')\r\n",
        "x0_test = parallel_read_img(image_path)\r\n",
        "labels += len(x0_test)*[0]\r\n",
        "\r\n",
        "image_path = os.path.join(PATH, 'Test/1')\r\n",
        "x1_test = parallel_read_img(image_path)\r\n",
        "labels += len(x1_test)*[1]\r\n",
        "\r\n",
        "x_test = np.concatenate((x0_test, x1_test), axis = 0)\r\n",
        "y_test = np.array(labels)\r\n",
        "\r\n",
        "print('x_test shape = ', x_test.shape)\r\n",
        "\r\n",
        "elapsed_time = time.time() - start_time\r\n",
        "logging.info('Elapsed time = %.2f s', elapsed_time)\r\n",
        "print('Elapsed time = ', elapsed_time, 's')"
      ],
      "execution_count": 22,
      "outputs": [
        {
          "output_type": "stream",
          "text": [
            "Num images found =  (209, 60, 60, 1)\n",
            "Num images found =  (187, 60, 60, 1)\n",
            "x_train shape =  (396, 60, 60, 1)\n",
            "Num images found =  (205, 60, 60, 1)\n",
            "Num images found =  (196, 60, 60, 1)\n",
            "x_test shape =  (401, 60, 60, 1)\n",
            "Elapsed time =  1.231438398361206 s\n"
          ],
          "name": "stdout"
        }
      ]
    },
    {
      "cell_type": "code",
      "metadata": {
        "id": "BfyUHHdW3Pa_",
        "colab": {
          "base_uri": "https://localhost:8080/",
          "height": 0
        },
        "outputId": "e65ac7bb-4ba0-49be-93ab-facc36c1cce1"
      },
      "source": [
        "'''\r\n",
        "Visualize some images from images' folder \r\n",
        "'''\r\n",
        "\r\n",
        "image_type = 'Test/0'\r\n",
        "a = 25\r\n",
        "b = a+1\r\n",
        "\r\n",
        "i =1\r\n",
        "for imagename in (os.listdir(os.path.join(PATH, image_type)))[a:b]:\r\n",
        "  Im = imread(os.path.join(PATH, image_type, imagename))\r\n",
        "  print(Im.shape)\r\n",
        "  plt.figure(i)\r\n",
        "  imshow(Im)\r\n",
        "  i+=1\r\n",
        "\r\n",
        "print('Printing x_train images')\r\n",
        "\r\n",
        "'''\r\n",
        "Visualize some images from x_train\r\n",
        "'''\r\n",
        "\r\n",
        "for n in range(a, b):\r\n",
        "  Im = x_test[n].squeeze()\r\n",
        "  print(Im.shape)\r\n",
        "  plt.figure(i)\r\n",
        "  imshow(Im)\r\n",
        "  i+=1"
      ],
      "execution_count": 23,
      "outputs": [
        {
          "output_type": "stream",
          "text": [
            "(60, 60)\n",
            "Printing x_train images\n",
            "(60, 60)\n"
          ],
          "name": "stdout"
        },
        {
          "output_type": "display_data",
          "data": {
            "image/png": "[encoded data removed]",
            "text/plain": [
              "<Figure size 432x288 with 1 Axes>"
            ]
          },
          "metadata": {
            "tags": [],
            "needs_background": "light"
          }
        },
        {
          "output_type": "display_data",
          "data": {
            "image/png": "[encoded data removed]",
            "text/plain": [
              "<Figure size 432x288 with 1 Axes>"
            ]
          },
          "metadata": {
            "tags": [],
            "needs_background": "light"
          }
        }
      ]
    },
    {
      "cell_type": "markdown",
      "metadata": {
        "id": "Blz5VJ8pajXz"
      },
      "source": [
        "# Defining a CNN model"
      ]
    },
    {
      "cell_type": "code",
      "metadata": {
        "id": "7plXV2WyaoGt"
      },
      "source": [
        "from keras.layers import Conv2D, BatchNormalization, MaxPool2D, Dense, Flatten, InputLayer, Activation, Dropout\n",
        "from keras.models import Sequential"
      ],
      "execution_count": 24,
      "outputs": []
    },
    {
      "cell_type": "markdown",
      "metadata": {
        "id": "gY86U7qK2h8v"
      },
      "source": [
        "##CNN model\r\n",
        "Per ora è la miglire tra le 3 (con 100 epoche) per loss e validation sul dataset augmented"
      ]
    },
    {
      "cell_type": "code",
      "metadata": {
        "id": "XBloTVdsaewM"
      },
      "source": [
        "def make_model(shape=(60, 60, 1)):\n",
        "  model = Sequential([\n",
        "      \n",
        "      Conv2D(50, (5,5), padding='same', input_shape=shape),\n",
        "      BatchNormalization(),\n",
        "      Activation('relu'),\n",
        "      MaxPool2D((2,2)),\n",
        "      \n",
        "      Conv2D(60, (3,3), padding='same'),\n",
        "      BatchNormalization(),\n",
        "      Activation('relu'),\n",
        "      MaxPool2D((2,2)),\n",
        "        \n",
        "      Conv2D(100, (3,3), padding='same'),\n",
        "      BatchNormalization(),\n",
        "      Activation('relu'),\n",
        "\n",
        "      Conv2D(100, (3,3), padding='same'),\n",
        "      BatchNormalization(),\n",
        "      Activation('relu'),\n",
        "\n",
        "      Conv2D(50, (4,4), padding='same'),\n",
        "      BatchNormalization(),\n",
        "      Activation('relu'),\n",
        "      MaxPool2D(2, 2),\n",
        "\n",
        "      Flatten(), \n",
        "      \n",
        "\n",
        "      Dense(1, activation='sigmoid')\n",
        "      \n",
        "  ])\n",
        "  \n",
        "  return model\n"
      ],
      "execution_count": 8,
      "outputs": []
    },
    {
      "cell_type": "code",
      "metadata": {
        "id": "uP3ryDPPEqgR"
      },
      "source": [
        "#Prova 1\r\n",
        "def make_model(shape=(60, 60, 1)):\r\n",
        "  model = Sequential([\r\n",
        "      \r\n",
        "      Conv2D(50, (5,5), padding='same', input_shape=shape),\r\n",
        "      BatchNormalization(),\r\n",
        "      Activation('relu'),\r\n",
        "      MaxPool2D((2,2)),\r\n",
        "      \r\n",
        "      Conv2D(100, (3,3), padding='same'),\r\n",
        "      BatchNormalization(),\r\n",
        "      Activation('relu'),\r\n",
        "      MaxPool2D((2,2)),\r\n",
        "        \r\n",
        "      Conv2D(200, (3,3), padding='same'),\r\n",
        "      BatchNormalization(),\r\n",
        "      Activation('relu'),\r\n",
        "\r\n",
        "      Conv2D(200, (3,3), padding='same'),\r\n",
        "      BatchNormalization(),\r\n",
        "      Activation('relu'),\r\n",
        "\r\n",
        "      Conv2D(100, (3,3), padding='same'),\r\n",
        "      BatchNormalization(),\r\n",
        "      Activation('relu'),\r\n",
        "      MaxPool2D(2, 2),\r\n",
        "\r\n",
        "      Flatten(), \r\n",
        "      \r\n",
        "\r\n",
        "      Dense(1, activation='sigmoid')\r\n",
        "      \r\n",
        "  ])\r\n",
        "  \r\n",
        "  return model"
      ],
      "execution_count": 25,
      "outputs": []
    },
    {
      "cell_type": "markdown",
      "metadata": {
        "id": "329QuHzR4huR"
      },
      "source": [
        "## MODEL = MAKE_MODEL() AND COMPILE"
      ]
    },
    {
      "cell_type": "code",
      "metadata": {
        "id": "39YQh1vL4gHZ"
      },
      "source": [
        "from keras.optimizers import SGD\r\n",
        "\r\n",
        "model = make_model()\r\n",
        "\r\n",
        "model.compile(optimizer=SGD(lr = 0.001, momentum = 0.9), metrics = 'accuracy', loss='binary_crossentropy')\r\n"
      ],
      "execution_count": 10,
      "outputs": []
    },
    {
      "cell_type": "markdown",
      "metadata": {
        "id": "mXt999cLSEeT"
      },
      "source": [
        "#Fit model on Dataset"
      ]
    },
    {
      "cell_type": "code",
      "metadata": {
        "id": "nUQjwzu90fsX"
      },
      "source": [
        "from keras.callbacks import EarlyStopping, ReduceLROnPlateau, ModelCheckpoint\r\n",
        "\r\n",
        "\r\n",
        "early_stopping = EarlyStopping(\r\n",
        "    min_delta=0.001, # minimium amount of change to count as an improvement\r\n",
        "    patience=10, # how many epochs to wait before stopping\r\n",
        "    restore_best_weights=True,\r\n",
        ")\r\n",
        "\r\n",
        "reduce_lr = ReduceLROnPlateau(\r\n",
        "    monitor='loss', \r\n",
        "    factor=0.5,\r\n",
        "    patience = 5,\r\n",
        "    min_lr=0.00001\r\n",
        "\r\n",
        ")\r\n",
        "\r\n",
        "checkpoint = ModelCheckpoint(\r\n",
        "    \"model-{epoch:02d}-{val_accuracy:.2f}.hdf5\", \r\n",
        "    monitor='val_accuracy', \r\n",
        "    verbose=0,\r\n",
        "    save_best_only=True,\r\n",
        "    save_weights_only=False,\r\n",
        "    mode='auto', save_freq='epoch')\r\n"
      ],
      "execution_count": null,
      "outputs": []
    },
    {
      "cell_type": "code",
      "metadata": {
        "id": "RH25BWCqfbGM",
        "colab": {
          "base_uri": "https://localhost:8080/",
          "height": 1000
        },
        "outputId": "cb7fff2c-8dd2-4695-dad4-842f2e2e3b05"
      },
      "source": [
        "history = model.fit(x_train, y_train, \r\n",
        "                    validation_split=0.3, \r\n",
        "                    epochs=100, \r\n",
        "                    batch_size=30, \r\n",
        "                    shuffle=True, \r\n",
        "                    callbacks = [checkpoint],\r\n",
        "                    verbose=1)\r\n",
        "\r\n",
        "\r\n",
        "\r\n",
        "#print(history.history.keys())\r\n",
        "\r\n",
        "plt.plot(history.history['loss'])\r\n",
        "plt.plot(history.history['val_loss'])\r\n",
        "plt.show()\r\n",
        "\r\n",
        "plt.plot(history.history['accuracy'])\r\n",
        "plt.plot(history.history['val_accuracy'])\r\n",
        "plt.show()"
      ],
      "execution_count": null,
      "outputs": [
        {
          "output_type": "stream",
          "text": [
            "Epoch 1/100\n",
            "10/10 [==============================] - 4s 75ms/step - loss: 0.6726 - accuracy: 0.7216 - val_loss: 0.7104 - val_accuracy: 0.1176\n",
            "Epoch 2/100\n",
            "10/10 [==============================] - 0s 14ms/step - loss: 0.4618 - accuracy: 0.8176 - val_loss: 0.7472 - val_accuracy: 0.0000e+00\n",
            "Epoch 3/100\n",
            "10/10 [==============================] - 0s 25ms/step - loss: 0.4421 - accuracy: 0.7826 - val_loss: 0.8366 - val_accuracy: 0.0000e+00\n",
            "Epoch 4/100\n",
            "10/10 [==============================] - 0s 14ms/step - loss: 0.3280 - accuracy: 0.8526 - val_loss: 0.9192 - val_accuracy: 0.0000e+00\n",
            "Epoch 5/100\n",
            "10/10 [==============================] - 0s 14ms/step - loss: 0.2765 - accuracy: 0.8790 - val_loss: 1.0685 - val_accuracy: 0.0000e+00\n",
            "Epoch 6/100\n",
            "10/10 [==============================] - 0s 13ms/step - loss: 0.2428 - accuracy: 0.8860 - val_loss: 1.1745 - val_accuracy: 0.0000e+00\n",
            "Epoch 7/100\n",
            "10/10 [==============================] - 0s 13ms/step - loss: 0.1697 - accuracy: 0.9451 - val_loss: 1.2993 - val_accuracy: 0.0000e+00\n",
            "Epoch 8/100\n",
            "10/10 [==============================] - 0s 13ms/step - loss: 0.1688 - accuracy: 0.9322 - val_loss: 1.3580 - val_accuracy: 0.0000e+00\n",
            "Epoch 9/100\n",
            "10/10 [==============================] - 0s 13ms/step - loss: 0.1599 - accuracy: 0.9560 - val_loss: 1.4853 - val_accuracy: 0.0000e+00\n",
            "Epoch 10/100\n",
            "10/10 [==============================] - 0s 13ms/step - loss: 0.1314 - accuracy: 0.9649 - val_loss: 1.6465 - val_accuracy: 0.0000e+00\n",
            "Epoch 11/100\n",
            "10/10 [==============================] - 0s 14ms/step - loss: 0.1588 - accuracy: 0.9426 - val_loss: 1.6212 - val_accuracy: 0.0000e+00\n",
            "Epoch 12/100\n",
            "10/10 [==============================] - 0s 13ms/step - loss: 0.3105 - accuracy: 0.8691 - val_loss: 1.7299 - val_accuracy: 0.0000e+00\n",
            "Epoch 13/100\n",
            "10/10 [==============================] - 0s 14ms/step - loss: 0.1683 - accuracy: 0.9165 - val_loss: 1.9131 - val_accuracy: 0.0000e+00\n",
            "Epoch 14/100\n",
            "10/10 [==============================] - 0s 13ms/step - loss: 0.1582 - accuracy: 0.9563 - val_loss: 2.0492 - val_accuracy: 0.0000e+00\n",
            "Epoch 15/100\n",
            "10/10 [==============================] - 0s 13ms/step - loss: 0.2344 - accuracy: 0.9107 - val_loss: 2.1387 - val_accuracy: 0.0000e+00\n",
            "Epoch 16/100\n",
            "10/10 [==============================] - 0s 13ms/step - loss: 0.1629 - accuracy: 0.9301 - val_loss: 2.2558 - val_accuracy: 0.0000e+00\n",
            "Epoch 17/100\n",
            "10/10 [==============================] - 0s 13ms/step - loss: 0.1082 - accuracy: 0.9605 - val_loss: 2.1447 - val_accuracy: 0.0000e+00\n",
            "Epoch 18/100\n",
            "10/10 [==============================] - 0s 13ms/step - loss: 0.1411 - accuracy: 0.9467 - val_loss: 2.2233 - val_accuracy: 0.0000e+00\n",
            "Epoch 19/100\n",
            "10/10 [==============================] - 0s 13ms/step - loss: 0.0720 - accuracy: 0.9776 - val_loss: 2.2198 - val_accuracy: 0.0000e+00\n",
            "Epoch 20/100\n",
            "10/10 [==============================] - 0s 13ms/step - loss: 0.0920 - accuracy: 0.9736 - val_loss: 2.5198 - val_accuracy: 0.0000e+00\n",
            "Epoch 21/100\n",
            "10/10 [==============================] - 0s 13ms/step - loss: 0.0746 - accuracy: 0.9736 - val_loss: 2.4682 - val_accuracy: 0.0000e+00\n",
            "Epoch 22/100\n",
            "10/10 [==============================] - 0s 13ms/step - loss: 0.0608 - accuracy: 0.9876 - val_loss: 2.9410 - val_accuracy: 0.0000e+00\n",
            "Epoch 23/100\n",
            "10/10 [==============================] - 0s 13ms/step - loss: 0.0545 - accuracy: 0.9831 - val_loss: 2.8759 - val_accuracy: 0.0000e+00\n",
            "Epoch 24/100\n",
            "10/10 [==============================] - 0s 14ms/step - loss: 0.0528 - accuracy: 0.9899 - val_loss: 2.7688 - val_accuracy: 0.0000e+00\n",
            "Epoch 25/100\n",
            "10/10 [==============================] - 0s 13ms/step - loss: 0.0494 - accuracy: 0.9914 - val_loss: 2.8540 - val_accuracy: 0.0000e+00\n",
            "Epoch 26/100\n",
            "10/10 [==============================] - 0s 13ms/step - loss: 0.0365 - accuracy: 0.9972 - val_loss: 2.9242 - val_accuracy: 0.0000e+00\n",
            "Epoch 27/100\n",
            "10/10 [==============================] - 0s 13ms/step - loss: 0.0700 - accuracy: 0.9673 - val_loss: 2.8744 - val_accuracy: 0.0000e+00\n",
            "Epoch 28/100\n",
            "10/10 [==============================] - 0s 14ms/step - loss: 0.0438 - accuracy: 0.9831 - val_loss: 2.8740 - val_accuracy: 0.0000e+00\n",
            "Epoch 29/100\n",
            "10/10 [==============================] - 0s 14ms/step - loss: 0.0374 - accuracy: 0.9936 - val_loss: 2.9801 - val_accuracy: 0.0000e+00\n",
            "Epoch 30/100\n",
            "10/10 [==============================] - 0s 13ms/step - loss: 0.0414 - accuracy: 0.9907 - val_loss: 3.0089 - val_accuracy: 0.0000e+00\n",
            "Epoch 31/100\n",
            "10/10 [==============================] - 0s 14ms/step - loss: 0.0435 - accuracy: 0.9903 - val_loss: 2.8931 - val_accuracy: 0.0000e+00\n",
            "Epoch 32/100\n",
            "10/10 [==============================] - 0s 16ms/step - loss: 0.0483 - accuracy: 0.9951 - val_loss: 2.8543 - val_accuracy: 0.0000e+00\n",
            "Epoch 33/100\n",
            "10/10 [==============================] - 0s 14ms/step - loss: 0.0435 - accuracy: 0.9964 - val_loss: 2.8821 - val_accuracy: 0.0000e+00\n",
            "Epoch 34/100\n",
            "10/10 [==============================] - 0s 14ms/step - loss: 0.0560 - accuracy: 0.9964 - val_loss: 3.6864 - val_accuracy: 0.0000e+00\n",
            "Epoch 35/100\n",
            "10/10 [==============================] - 0s 13ms/step - loss: 0.0897 - accuracy: 0.9676 - val_loss: 2.2869 - val_accuracy: 0.0252\n",
            "Epoch 36/100\n",
            "10/10 [==============================] - 0s 13ms/step - loss: 0.0430 - accuracy: 0.9922 - val_loss: 2.6255 - val_accuracy: 0.0000e+00\n",
            "Epoch 37/100\n",
            "10/10 [==============================] - 0s 13ms/step - loss: 0.0382 - accuracy: 0.9901 - val_loss: 2.8542 - val_accuracy: 0.0168\n",
            "Epoch 38/100\n",
            "10/10 [==============================] - 0s 13ms/step - loss: 0.0302 - accuracy: 0.9928 - val_loss: 3.0760 - val_accuracy: 0.0168\n",
            "Epoch 39/100\n",
            "10/10 [==============================] - 0s 13ms/step - loss: 0.0513 - accuracy: 0.9865 - val_loss: 2.6701 - val_accuracy: 0.0168\n",
            "Epoch 40/100\n",
            "10/10 [==============================] - 0s 14ms/step - loss: 0.0352 - accuracy: 0.9891 - val_loss: 2.6751 - val_accuracy: 0.0252\n",
            "Epoch 41/100\n",
            "10/10 [==============================] - 0s 14ms/step - loss: 0.0825 - accuracy: 0.9674 - val_loss: 2.7274 - val_accuracy: 0.0168\n",
            "Epoch 42/100\n",
            "10/10 [==============================] - 0s 13ms/step - loss: 0.0268 - accuracy: 0.9953 - val_loss: 3.2184 - val_accuracy: 0.0336\n",
            "Epoch 43/100\n",
            "10/10 [==============================] - 0s 14ms/step - loss: 0.0354 - accuracy: 0.9860 - val_loss: 3.6832 - val_accuracy: 0.0252\n",
            "Epoch 44/100\n",
            "10/10 [==============================] - 0s 14ms/step - loss: 0.0400 - accuracy: 0.9871 - val_loss: 3.2465 - val_accuracy: 0.0252\n",
            "Epoch 45/100\n",
            "10/10 [==============================] - 0s 14ms/step - loss: 0.0193 - accuracy: 0.9938 - val_loss: 3.0170 - val_accuracy: 0.0504\n",
            "Epoch 46/100\n",
            "10/10 [==============================] - 0s 14ms/step - loss: 0.0285 - accuracy: 0.9938 - val_loss: 3.7485 - val_accuracy: 0.0336\n",
            "Epoch 47/100\n",
            "10/10 [==============================] - 0s 14ms/step - loss: 0.0262 - accuracy: 0.9971 - val_loss: 3.1132 - val_accuracy: 0.0420\n",
            "Epoch 48/100\n",
            "10/10 [==============================] - 0s 14ms/step - loss: 0.0178 - accuracy: 0.9977 - val_loss: 2.8205 - val_accuracy: 0.0420\n",
            "Epoch 49/100\n",
            "10/10 [==============================] - 0s 13ms/step - loss: 0.0117 - accuracy: 1.0000 - val_loss: 2.7519 - val_accuracy: 0.0336\n",
            "Epoch 50/100\n",
            "10/10 [==============================] - 0s 13ms/step - loss: 0.0146 - accuracy: 1.0000 - val_loss: 2.9950 - val_accuracy: 0.0504\n",
            "Epoch 51/100\n",
            "10/10 [==============================] - 0s 13ms/step - loss: 0.0128 - accuracy: 1.0000 - val_loss: 2.7841 - val_accuracy: 0.1008\n",
            "Epoch 52/100\n",
            "10/10 [==============================] - 0s 13ms/step - loss: 0.0239 - accuracy: 0.9982 - val_loss: 2.7543 - val_accuracy: 0.1681\n",
            "Epoch 53/100\n",
            "10/10 [==============================] - 0s 13ms/step - loss: 0.0194 - accuracy: 1.0000 - val_loss: 1.8098 - val_accuracy: 0.2605\n",
            "Epoch 54/100\n",
            "10/10 [==============================] - 0s 13ms/step - loss: 0.0112 - accuracy: 1.0000 - val_loss: 1.8113 - val_accuracy: 0.2605\n",
            "Epoch 55/100\n",
            "10/10 [==============================] - 0s 14ms/step - loss: 0.0170 - accuracy: 0.9963 - val_loss: 2.2854 - val_accuracy: 0.1933\n",
            "Epoch 56/100\n",
            "10/10 [==============================] - 0s 14ms/step - loss: 0.0104 - accuracy: 1.0000 - val_loss: 2.7349 - val_accuracy: 0.1597\n",
            "Epoch 57/100\n",
            "10/10 [==============================] - 0s 25ms/step - loss: 0.0092 - accuracy: 1.0000 - val_loss: 2.6707 - val_accuracy: 0.1933\n",
            "Epoch 58/100\n",
            "10/10 [==============================] - 0s 14ms/step - loss: 0.0078 - accuracy: 1.0000 - val_loss: 2.2719 - val_accuracy: 0.2437\n",
            "Epoch 59/100\n",
            "10/10 [==============================] - 0s 14ms/step - loss: 0.0084 - accuracy: 0.9963 - val_loss: 2.3667 - val_accuracy: 0.2353\n",
            "Epoch 60/100\n",
            "10/10 [==============================] - 0s 14ms/step - loss: 0.0065 - accuracy: 1.0000 - val_loss: 2.6864 - val_accuracy: 0.2017\n",
            "Epoch 61/100\n",
            "10/10 [==============================] - 0s 14ms/step - loss: 0.0106 - accuracy: 0.9971 - val_loss: 2.8808 - val_accuracy: 0.1933\n",
            "Epoch 62/100\n",
            "10/10 [==============================] - 0s 14ms/step - loss: 0.0065 - accuracy: 1.0000 - val_loss: 2.3231 - val_accuracy: 0.2521\n",
            "Epoch 63/100\n",
            "10/10 [==============================] - 0s 14ms/step - loss: 0.0043 - accuracy: 1.0000 - val_loss: 2.5152 - val_accuracy: 0.2185\n",
            "Epoch 64/100\n",
            "10/10 [==============================] - 0s 15ms/step - loss: 0.0259 - accuracy: 0.9897 - val_loss: 0.7794 - val_accuracy: 0.6975\n",
            "Epoch 65/100\n",
            "10/10 [==============================] - 0s 15ms/step - loss: 0.0322 - accuracy: 0.9954 - val_loss: 0.3618 - val_accuracy: 0.8319\n",
            "Epoch 66/100\n",
            "10/10 [==============================] - 0s 15ms/step - loss: 0.0230 - accuracy: 0.9916 - val_loss: 0.4954 - val_accuracy: 0.7647\n",
            "Epoch 67/100\n",
            "10/10 [==============================] - 0s 14ms/step - loss: 0.0114 - accuracy: 0.9977 - val_loss: 1.5946 - val_accuracy: 0.3445\n",
            "Epoch 68/100\n",
            "10/10 [==============================] - 0s 14ms/step - loss: 0.0099 - accuracy: 0.9993 - val_loss: 0.9020 - val_accuracy: 0.6807\n",
            "Epoch 69/100\n",
            "10/10 [==============================] - 0s 14ms/step - loss: 0.0517 - accuracy: 0.9770 - val_loss: 0.1809 - val_accuracy: 0.9160\n",
            "Epoch 70/100\n",
            "10/10 [==============================] - 0s 14ms/step - loss: 0.0780 - accuracy: 0.9812 - val_loss: 0.0596 - val_accuracy: 0.9748\n",
            "Epoch 71/100\n",
            "10/10 [==============================] - 0s 14ms/step - loss: 0.0455 - accuracy: 0.9894 - val_loss: 0.1742 - val_accuracy: 0.9412\n",
            "Epoch 72/100\n",
            "10/10 [==============================] - 0s 14ms/step - loss: 0.0417 - accuracy: 0.9848 - val_loss: 0.3715 - val_accuracy: 0.8403\n",
            "Epoch 73/100\n",
            "10/10 [==============================] - 0s 14ms/step - loss: 0.0352 - accuracy: 0.9880 - val_loss: 0.9485 - val_accuracy: 0.6387\n",
            "Epoch 74/100\n",
            "10/10 [==============================] - 0s 14ms/step - loss: 0.0578 - accuracy: 0.9719 - val_loss: 0.6293 - val_accuracy: 0.7899\n",
            "Epoch 75/100\n",
            "10/10 [==============================] - 0s 14ms/step - loss: 0.0168 - accuracy: 0.9953 - val_loss: 0.4342 - val_accuracy: 0.8487\n",
            "Epoch 76/100\n",
            "10/10 [==============================] - 0s 14ms/step - loss: 0.0113 - accuracy: 0.9993 - val_loss: 0.2237 - val_accuracy: 0.9076\n",
            "Epoch 77/100\n",
            "10/10 [==============================] - 0s 15ms/step - loss: 0.0414 - accuracy: 0.9860 - val_loss: 0.2947 - val_accuracy: 0.8908\n",
            "Epoch 78/100\n",
            "10/10 [==============================] - 0s 14ms/step - loss: 0.0246 - accuracy: 0.9982 - val_loss: 0.4269 - val_accuracy: 0.8403\n",
            "Epoch 79/100\n",
            "10/10 [==============================] - 0s 14ms/step - loss: 0.0126 - accuracy: 0.9993 - val_loss: 0.3944 - val_accuracy: 0.8487\n",
            "Epoch 80/100\n",
            "10/10 [==============================] - 0s 14ms/step - loss: 0.0129 - accuracy: 0.9986 - val_loss: 1.0948 - val_accuracy: 0.6387\n",
            "Epoch 81/100\n",
            "10/10 [==============================] - 0s 15ms/step - loss: 0.0169 - accuracy: 0.9971 - val_loss: 1.1437 - val_accuracy: 0.6050\n",
            "Epoch 82/100\n",
            "10/10 [==============================] - 0s 15ms/step - loss: 0.0127 - accuracy: 0.9993 - val_loss: 1.6197 - val_accuracy: 0.4454\n",
            "Epoch 83/100\n",
            "10/10 [==============================] - 0s 14ms/step - loss: 0.0420 - accuracy: 0.9938 - val_loss: 0.1526 - val_accuracy: 0.9496\n",
            "Epoch 84/100\n",
            "10/10 [==============================] - 0s 15ms/step - loss: 0.0221 - accuracy: 0.9938 - val_loss: 0.0558 - val_accuracy: 0.9916\n",
            "Epoch 85/100\n",
            "10/10 [==============================] - 0s 15ms/step - loss: 0.0118 - accuracy: 1.0000 - val_loss: 0.1229 - val_accuracy: 0.9664\n",
            "Epoch 86/100\n",
            "10/10 [==============================] - 0s 15ms/step - loss: 0.0078 - accuracy: 1.0000 - val_loss: 0.2241 - val_accuracy: 0.8824\n",
            "Epoch 87/100\n",
            "10/10 [==============================] - 0s 14ms/step - loss: 0.0240 - accuracy: 0.9953 - val_loss: 1.4421 - val_accuracy: 0.5042\n",
            "Epoch 88/100\n",
            "10/10 [==============================] - 0s 14ms/step - loss: 0.0118 - accuracy: 0.9993 - val_loss: 0.8274 - val_accuracy: 0.6975\n",
            "Epoch 89/100\n",
            "10/10 [==============================] - 0s 14ms/step - loss: 0.0270 - accuracy: 0.9964 - val_loss: 0.2284 - val_accuracy: 0.8992\n",
            "Epoch 90/100\n",
            "10/10 [==============================] - 0s 15ms/step - loss: 0.0229 - accuracy: 0.9911 - val_loss: 0.2044 - val_accuracy: 0.8824\n",
            "Epoch 91/100\n",
            "10/10 [==============================] - 0s 15ms/step - loss: 0.0149 - accuracy: 1.0000 - val_loss: 0.2291 - val_accuracy: 0.8908\n",
            "Epoch 92/100\n",
            "10/10 [==============================] - 0s 15ms/step - loss: 0.0140 - accuracy: 0.9963 - val_loss: 0.4560 - val_accuracy: 0.7983\n",
            "Epoch 93/100\n",
            "10/10 [==============================] - 0s 14ms/step - loss: 0.0103 - accuracy: 1.0000 - val_loss: 0.4288 - val_accuracy: 0.7983\n",
            "Epoch 94/100\n",
            "10/10 [==============================] - 0s 15ms/step - loss: 0.0137 - accuracy: 1.0000 - val_loss: 0.6237 - val_accuracy: 0.7395\n",
            "Epoch 95/100\n",
            "10/10 [==============================] - 0s 13ms/step - loss: 0.0054 - accuracy: 1.0000 - val_loss: 0.6555 - val_accuracy: 0.7395\n",
            "Epoch 96/100\n",
            "10/10 [==============================] - 0s 14ms/step - loss: 0.0040 - accuracy: 1.0000 - val_loss: 0.6657 - val_accuracy: 0.7395\n",
            "Epoch 97/100\n",
            "10/10 [==============================] - 0s 14ms/step - loss: 0.0035 - accuracy: 1.0000 - val_loss: 0.6182 - val_accuracy: 0.7395\n",
            "Epoch 98/100\n",
            "10/10 [==============================] - 0s 14ms/step - loss: 0.0046 - accuracy: 0.9993 - val_loss: 0.7695 - val_accuracy: 0.7227\n",
            "Epoch 99/100\n",
            "10/10 [==============================] - 0s 14ms/step - loss: 0.0041 - accuracy: 1.0000 - val_loss: 0.8924 - val_accuracy: 0.7059\n",
            "Epoch 100/100\n",
            "10/10 [==============================] - 0s 14ms/step - loss: 0.0064 - accuracy: 1.0000 - val_loss: 1.7735 - val_accuracy: 0.4790\n"
          ],
          "name": "stdout"
        },
        {
          "output_type": "display_data",
          "data": {
            "image/png": "[encoded data removed]",
            "text/plain": [
              "<Figure size 432x288 with 1 Axes>"
            ]
          },
          "metadata": {
            "tags": [],
            "needs_background": "light"
          }
        },
        {
          "output_type": "display_data",
          "data": {
            "image/png": "[encoded data removed]",
            "text/plain": [
              "<Figure size 432x288 with 1 Axes>"
            ]
          },
          "metadata": {
            "tags": [],
            "needs_background": "light"
          }
        }
      ]
    },
    {
      "cell_type": "code",
      "metadata": {
        "id": "ConM7Babe9VD",
        "colab": {
          "base_uri": "https://localhost:8080/"
        },
        "outputId": "f5182c8c-885c-4dd7-af6f-34ad5af69b18"
      },
      "source": [
        "model.save(os.path.join(PATH, 'model.hdf5'))\r\n",
        "model.evaluate(x_test, y_test)  # returns 'loss' and 'metrics' (accuracy)"
      ],
      "execution_count": null,
      "outputs": [
        {
          "output_type": "stream",
          "text": [
            "13/13 [==============================] - 0s 7ms/step - loss: 0.9798 - accuracy: 0.6983\n"
          ],
          "name": "stdout"
        },
        {
          "output_type": "execute_result",
          "data": {
            "text/plain": [
              "[0.9797717332839966, 0.6982543468475342]"
            ]
          },
          "metadata": {
            "tags": []
          },
          "execution_count": 15
        }
      ]
    },
    {
      "cell_type": "markdown",
      "metadata": {
        "id": "uIPqHdYsvjVA"
      },
      "source": [
        "# Data augmentation\n",
        " Before we can run data aumentation with ImageDataGenerator we need to convert the PGM format to PNG"
      ]
    },
    {
      "cell_type": "code",
      "metadata": {
        "id": "QTyhLh7B_kNa",
        "colab": {
          "base_uri": "https://localhost:8080/"
        },
        "outputId": "9fede4d8-8d7b-4923-d8cf-49a0baf817ee"
      },
      "source": [
        "basename = os.path.basename(PATH)\r\n",
        "print(basename)"
      ],
      "execution_count": null,
      "outputs": [
        {
          "output_type": "stream",
          "text": [
            "Mammography_micro\n"
          ],
          "name": "stdout"
        }
      ]
    },
    {
      "cell_type": "code",
      "metadata": {
        "id": "pMTI6-hnoz5Z"
      },
      "source": [
        "import PIL\n",
        "import os"
      ],
      "execution_count": null,
      "outputs": []
    },
    {
      "cell_type": "code",
      "metadata": {
        "id": "xZBLJLRrp7pg"
      },
      "source": [
        "def convert_to_png(fname, dest_folder):\n",
        "  if not os.path.exists(dest_folder):\n",
        "    os.makedirs(dest_folder)\n",
        "  dest_fname = os.path.basename(fname).replace('.pgm', '.png')\n",
        "  dest_fname = os.path.join(dest_folder, dest_fname)\n",
        "  PIL.Image.open(fname).convert('L').save(dest_fname)\n"
      ],
      "execution_count": null,
      "outputs": []
    },
    {
      "cell_type": "markdown",
      "metadata": {
        "id": "37EjPUAips8R"
      },
      "source": [
        "Provare a fare una funzione migliore per convertire tutti i pgm in png\r\n",
        "Questa ci sta ~5 minuti"
      ]
    },
    {
      "cell_type": "code",
      "metadata": {
        "id": "WQxzGbJVsVIl",
        "colab": {
          "base_uri": "https://localhost:8080/"
        },
        "outputId": "f4491b20-6706-4f6e-b5f8-773d424dbae3"
      },
      "source": [
        "start_time = time.time()\n",
        "for data_path in [os.path.join(PATH, \"Train\"), os.path.join(PATH, \"Test\")]:\n",
        "  for path, folders, fnames in os.walk(data_path):\n",
        "    for fname in fnames:\n",
        "      abs_path = os.path.join(path, fname)\n",
        "      dest_folder = path.replace('Train', 'Train_png').replace('Test', 'Test_png')\n",
        "      convert_to_png(abs_path, dest_folder)\n",
        "print('Elapsed time = %.2f s', time.time()-start_time)"
      ],
      "execution_count": null,
      "outputs": [
        {
          "output_type": "stream",
          "text": [
            "291.19284987449646\n"
          ],
          "name": "stdout"
        }
      ]
    },
    {
      "cell_type": "markdown",
      "metadata": {
        "id": "un_vcpFHoL1u"
      },
      "source": [
        "# Data aumentation"
      ]
    },
    {
      "cell_type": "code",
      "metadata": {
        "id": "DnTT1VbO3C7o"
      },
      "source": [
        "import matplotlib.pyplot as plt\r\n",
        "from keras.preprocessing.image import ImageDataGenerator"
      ],
      "execution_count": 26,
      "outputs": []
    },
    {
      "cell_type": "markdown",
      "metadata": {
        "id": "ohEVrN-3aJfm"
      },
      "source": [
        "https://www.tensorflow.org/api_docs/python/tf/keras/preprocessing/image/ImageDataGenerator\r\n",
        "\r\n",
        "Il FLOW_FROM_DIRECTORY prende in input il path della directory di arrivo e genera gruppi di immagini dando in output un ITERATORE (x, y) con y le labels e x le immagini con shape (batch_size, *target_size, channels)\r\n",
        "\r\n",
        "di default crea le imm in png\r\n",
        "\r\n",
        "*  batch_size (di default è 32) cioè il numero di immagini modificate generate per ogni immagine di X_train.\r\n",
        "\r\n",
        "*  subset = training o validation, funziona solo se c'è validation_split nel \r\n",
        "\r\n",
        "\r\n",
        "\r\n",
        "\r\n",
        "ImageDataGenerator\r\n",
        "\r\n",
        "\r\n",
        "IMAGEDATAGENERATOR:\r\n",
        "Validation_split = 0.3 divide tutte le N immagini di x_train in: 70% train e 30% validazione e usa questo dataset nel model.fit \r\n",
        "\r\n"
      ]
    },
    {
      "cell_type": "code",
      "metadata": {
        "id": "wihSLPuRm4cU",
        "colab": {
          "base_uri": "https://localhost:8080/"
        },
        "outputId": "f4af4cdc-03e1-4026-ec6f-43e90d1206ce"
      },
      "source": [
        "path_to_png_data = os.path.join(PATH, \"Train_png\")\n",
        "\n",
        "img_width, img_height = (60, 60)\n",
        "\n",
        "aug_validation_split = 0.3\n",
        "\n",
        "\n",
        "train_datagen = ImageDataGenerator(\n",
        "        rotation_range=40,\n",
        "        width_shift_range=0.2,\n",
        "        height_shift_range=0.2,\n",
        "        rescale=1./255,  #Rescale every pixel to have a value between 0 and 1\n",
        "        shear_range=0.2, #Stretches the image \n",
        "        zoom_range=0.2, \n",
        "        horizontal_flip=True,\n",
        "        fill_mode='reflect',\n",
        "        validation_split = aug_validation_split)  \n",
        "        \n",
        "\n",
        "\n",
        "\n",
        "train_gen = train_datagen.flow_from_directory(\n",
        "    path_to_png_data,\n",
        "    target_size=(img_width, img_height),\n",
        "    color_mode='grayscale', \n",
        "    class_mode='binary',\n",
        "    subset='training')\n",
        "\n",
        "val_gen = train_datagen.flow_from_directory(\n",
        "    path_to_png_data,\n",
        "    target_size=(img_width, img_height),\n",
        "    color_mode='grayscale',\n",
        "    class_mode='binary',\n",
        "    subset='validation')\n",
        "\n"
      ],
      "execution_count": 27,
      "outputs": [
        {
          "output_type": "stream",
          "text": [
            "Found 278 images belonging to 2 classes.\n",
            "Found 118 images belonging to 2 classes.\n"
          ],
          "name": "stdout"
        }
      ]
    },
    {
      "cell_type": "markdown",
      "metadata": {
        "id": "WEaxeG18xLXH"
      },
      "source": [
        "Il.next() accede ad una immagine. train_gen.next()[0] ha shape = (32, 60, 60, 1) cioè per ogni immagine del dataset, lui genera 32 immagini modificate di dimensione 60x60 di colori grayscale"
      ]
    },
    {
      "cell_type": "markdown",
      "metadata": {
        "id": "rS3iyYXqoda2"
      },
      "source": [
        "# Fit model on augmented images"
      ]
    },
    {
      "cell_type": "code",
      "metadata": {
        "id": "avE0zljglFk5"
      },
      "source": [
        "from keras.callbacks import ModelCheckpoint\n",
        "from keras.optimizers import SGD\n",
        "\n",
        "checkpoint = ModelCheckpoint(\n",
        "    \"model_augmented.{epoch:02d}-{val_accuracy:.2f}.h5\", \n",
        "    monitor='val_accuracy', \n",
        "    verbose=1,\n",
        "    save_best_only=True,\n",
        "    save_weights_only=False,\n",
        "    mode='auto', save_freq='epoch')"
      ],
      "execution_count": 28,
      "outputs": []
    },
    {
      "cell_type": "markdown",
      "metadata": {
        "id": "q_CujADtu11l"
      },
      "source": [
        "STEPS_PER_EPOCH: Definisce il numero di immagini da usare ad ogni epoca, è utile quando il numero delle immagini non è fisso perchè vengono generate potenzialmente infiniti samples"
      ]
    },
    {
      "cell_type": "code",
      "metadata": {
        "id": "aFlLwmgSZvKP",
        "colab": {
          "base_uri": "https://localhost:8080/"
        },
        "outputId": "0df95a1a-ef33-428a-a8ce-f615596d5fe5"
      },
      "source": [
        "Tot_train_imgs = len(x_train)\r\n",
        "Tot_train_imgs"
      ],
      "execution_count": 29,
      "outputs": [
        {
          "output_type": "execute_result",
          "data": {
            "text/plain": [
              "396"
            ]
          },
          "metadata": {
            "tags": []
          },
          "execution_count": 29
        }
      ]
    },
    {
      "cell_type": "code",
      "metadata": {
        "id": "K7yiPz99j_Fw",
        "outputId": "f9121ad8-7789-4732-ba40-47c828e04587",
        "colab": {
          "base_uri": "https://localhost:8080/",
          "height": 1000
        }
      },
      "source": [
        "model = make_model()\n",
        "\n",
        "\n",
        "model.compile(optimizer=SGD(lr=0.0005, momentum=0.5), loss='binary_crossentropy', metrics=['accuracy'])\n",
        "\n",
        "\n",
        "batch_size=32\n",
        "steps_per_epoch = int(Tot_train_imgs * (1- aug_validation_split))\n",
        "validation_steps = int(Tot_train_imgs * aug_validation_split)\n",
        "\n",
        "logger.info('Steps per epoch = %d', steps_per_epoch)\n",
        "logger.info('Val steps = %d', validation_steps)\n",
        "\n",
        "\n",
        "history = model.fit(\n",
        "        train_gen,\n",
        "        steps_per_epoch=steps_per_epoch // batch_size,\n",
        "        epochs=100,\n",
        "        validation_data=val_gen,\n",
        "        validation_steps= validation_steps // batch_size,\n",
        "        verbose=1,\n",
        "        callbacks=[checkpoint])\n",
        "\n",
        "\n",
        "plt.plot(history.history['loss'])\n",
        "plt.plot(history.history['val_loss'])\n",
        "plt.show()\n",
        "\n",
        "plt.plot(history.history['accuracy'])\n",
        "plt.plot(history.history['val_accuracy'])\n",
        "plt.show()"
      ],
      "execution_count": 36,
      "outputs": [
        {
          "output_type": "stream",
          "text": [
            "INFO:Mylogger:Steps per epoch = 277\n",
            "INFO:Mylogger:Val steps = 118\n"
          ],
          "name": "stderr"
        },
        {
          "output_type": "stream",
          "text": [
            "Epoch 1/100\n",
            "8/8 [==============================] - 2s 125ms/step - loss: 0.6387 - accuracy: 0.6069 - val_loss: 0.6919 - val_accuracy: 0.7083\n",
            "\n",
            "Epoch 00001: val_accuracy did not improve from 0.97917\n",
            "Epoch 2/100\n",
            "8/8 [==============================] - 1s 87ms/step - loss: 0.5060 - accuracy: 0.7568 - val_loss: 0.6926 - val_accuracy: 0.5729\n",
            "\n",
            "Epoch 00002: val_accuracy did not improve from 0.97917\n",
            "Epoch 3/100\n",
            "8/8 [==============================] - 1s 94ms/step - loss: 0.4864 - accuracy: 0.7914 - val_loss: 0.6944 - val_accuracy: 0.3333\n",
            "\n",
            "Epoch 00003: val_accuracy did not improve from 0.97917\n",
            "Epoch 4/100\n",
            "8/8 [==============================] - 1s 91ms/step - loss: 0.5330 - accuracy: 0.7045 - val_loss: 0.6946 - val_accuracy: 0.5417\n",
            "\n",
            "Epoch 00004: val_accuracy did not improve from 0.97917\n",
            "Epoch 5/100\n",
            "8/8 [==============================] - 1s 87ms/step - loss: 0.4891 - accuracy: 0.7420 - val_loss: 0.6951 - val_accuracy: 0.5521\n",
            "\n",
            "Epoch 00005: val_accuracy did not improve from 0.97917\n",
            "Epoch 6/100\n",
            "8/8 [==============================] - 1s 92ms/step - loss: 0.4431 - accuracy: 0.7912 - val_loss: 0.6962 - val_accuracy: 0.5104\n",
            "\n",
            "Epoch 00006: val_accuracy did not improve from 0.97917\n",
            "Epoch 7/100\n",
            "8/8 [==============================] - 1s 93ms/step - loss: 0.4759 - accuracy: 0.7458 - val_loss: 0.6957 - val_accuracy: 0.3542\n",
            "\n",
            "Epoch 00007: val_accuracy did not improve from 0.97917\n",
            "Epoch 8/100\n",
            "8/8 [==============================] - 1s 91ms/step - loss: 0.4359 - accuracy: 0.7905 - val_loss: 0.6968 - val_accuracy: 0.5312\n",
            "\n",
            "Epoch 00008: val_accuracy did not improve from 0.97917\n",
            "Epoch 9/100\n",
            "8/8 [==============================] - 1s 90ms/step - loss: 0.4687 - accuracy: 0.7234 - val_loss: 0.6952 - val_accuracy: 0.5625\n",
            "\n",
            "Epoch 00009: val_accuracy did not improve from 0.97917\n",
            "Epoch 10/100\n",
            "8/8 [==============================] - 1s 90ms/step - loss: 0.4803 - accuracy: 0.7566 - val_loss: 0.6955 - val_accuracy: 0.5625\n",
            "\n",
            "Epoch 00010: val_accuracy did not improve from 0.97917\n",
            "Epoch 11/100\n",
            "8/8 [==============================] - 1s 89ms/step - loss: 0.4296 - accuracy: 0.8420 - val_loss: 0.6972 - val_accuracy: 0.2396\n",
            "\n",
            "Epoch 00011: val_accuracy did not improve from 0.97917\n",
            "Epoch 12/100\n",
            "8/8 [==============================] - 1s 88ms/step - loss: 0.4395 - accuracy: 0.7931 - val_loss: 0.6948 - val_accuracy: 0.5729\n",
            "\n",
            "Epoch 00012: val_accuracy did not improve from 0.97917\n",
            "Epoch 13/100\n",
            "8/8 [==============================] - 1s 88ms/step - loss: 0.4166 - accuracy: 0.7975 - val_loss: 0.6943 - val_accuracy: 0.6042\n",
            "\n",
            "Epoch 00013: val_accuracy did not improve from 0.97917\n",
            "Epoch 14/100\n",
            "8/8 [==============================] - 1s 92ms/step - loss: 0.3803 - accuracy: 0.8132 - val_loss: 0.6933 - val_accuracy: 0.5521\n",
            "\n",
            "Epoch 00014: val_accuracy did not improve from 0.97917\n",
            "Epoch 15/100\n",
            "8/8 [==============================] - 1s 98ms/step - loss: 0.4108 - accuracy: 0.8074 - val_loss: 0.6937 - val_accuracy: 0.5729\n",
            "\n",
            "Epoch 00015: val_accuracy did not improve from 0.97917\n",
            "Epoch 16/100\n",
            "8/8 [==============================] - 1s 95ms/step - loss: 0.4005 - accuracy: 0.8156 - val_loss: 0.6954 - val_accuracy: 0.5104\n",
            "\n",
            "Epoch 00016: val_accuracy did not improve from 0.97917\n",
            "Epoch 17/100\n",
            "8/8 [==============================] - 1s 97ms/step - loss: 0.4387 - accuracy: 0.7987 - val_loss: 0.6927 - val_accuracy: 0.5625\n",
            "\n",
            "Epoch 00017: val_accuracy did not improve from 0.97917\n",
            "Epoch 18/100\n",
            "8/8 [==============================] - 1s 97ms/step - loss: 0.3760 - accuracy: 0.7965 - val_loss: 0.6944 - val_accuracy: 0.5521\n",
            "\n",
            "Epoch 00018: val_accuracy did not improve from 0.97917\n",
            "Epoch 19/100\n",
            "8/8 [==============================] - 1s 98ms/step - loss: 0.3862 - accuracy: 0.8478 - val_loss: 0.6883 - val_accuracy: 0.5521\n",
            "\n",
            "Epoch 00019: val_accuracy did not improve from 0.97917\n",
            "Epoch 20/100\n",
            "8/8 [==============================] - 1s 90ms/step - loss: 0.5048 - accuracy: 0.7233 - val_loss: 0.6885 - val_accuracy: 0.6458\n",
            "\n",
            "Epoch 00020: val_accuracy did not improve from 0.97917\n",
            "Epoch 21/100\n",
            "8/8 [==============================] - 1s 99ms/step - loss: 0.3493 - accuracy: 0.8460 - val_loss: 0.6803 - val_accuracy: 0.6146\n",
            "\n",
            "Epoch 00021: val_accuracy did not improve from 0.97917\n",
            "Epoch 22/100\n",
            "8/8 [==============================] - 1s 98ms/step - loss: 0.3188 - accuracy: 0.8585 - val_loss: 0.6913 - val_accuracy: 0.5729\n",
            "\n",
            "Epoch 00022: val_accuracy did not improve from 0.97917\n",
            "Epoch 23/100\n",
            "8/8 [==============================] - 1s 96ms/step - loss: 0.4092 - accuracy: 0.7994 - val_loss: 0.6977 - val_accuracy: 0.5104\n",
            "\n",
            "Epoch 00023: val_accuracy did not improve from 0.97917\n",
            "Epoch 24/100\n",
            "8/8 [==============================] - 1s 91ms/step - loss: 0.2873 - accuracy: 0.9039 - val_loss: 0.6991 - val_accuracy: 0.5208\n",
            "\n",
            "Epoch 00024: val_accuracy did not improve from 0.97917\n",
            "Epoch 25/100\n",
            "8/8 [==============================] - 1s 87ms/step - loss: 0.3612 - accuracy: 0.8160 - val_loss: 0.6928 - val_accuracy: 0.5521\n",
            "\n",
            "Epoch 00025: val_accuracy did not improve from 0.97917\n",
            "Epoch 26/100\n",
            "8/8 [==============================] - 1s 95ms/step - loss: 0.3527 - accuracy: 0.8330 - val_loss: 0.6900 - val_accuracy: 0.5417\n",
            "\n",
            "Epoch 00026: val_accuracy did not improve from 0.97917\n",
            "Epoch 27/100\n",
            "8/8 [==============================] - 1s 95ms/step - loss: 0.3575 - accuracy: 0.8230 - val_loss: 0.6988 - val_accuracy: 0.5208\n",
            "\n",
            "Epoch 00027: val_accuracy did not improve from 0.97917\n",
            "Epoch 28/100\n",
            "8/8 [==============================] - 1s 93ms/step - loss: 0.3040 - accuracy: 0.8668 - val_loss: 0.6795 - val_accuracy: 0.6042\n",
            "\n",
            "Epoch 00028: val_accuracy did not improve from 0.97917\n",
            "Epoch 29/100\n",
            "8/8 [==============================] - 1s 91ms/step - loss: 0.3340 - accuracy: 0.8545 - val_loss: 0.7014 - val_accuracy: 0.5104\n",
            "\n",
            "Epoch 00029: val_accuracy did not improve from 0.97917\n",
            "Epoch 30/100\n",
            "8/8 [==============================] - 1s 88ms/step - loss: 0.3860 - accuracy: 0.8057 - val_loss: 0.6972 - val_accuracy: 0.5417\n",
            "\n",
            "Epoch 00030: val_accuracy did not improve from 0.97917\n",
            "Epoch 31/100\n",
            "8/8 [==============================] - 1s 89ms/step - loss: 0.3443 - accuracy: 0.8549 - val_loss: 0.7014 - val_accuracy: 0.5417\n",
            "\n",
            "Epoch 00031: val_accuracy did not improve from 0.97917\n",
            "Epoch 32/100\n",
            "8/8 [==============================] - 1s 97ms/step - loss: 0.3085 - accuracy: 0.8585 - val_loss: 0.6929 - val_accuracy: 0.5521\n",
            "\n",
            "Epoch 00032: val_accuracy did not improve from 0.97917\n",
            "Epoch 33/100\n",
            "8/8 [==============================] - 1s 97ms/step - loss: 0.2840 - accuracy: 0.8779 - val_loss: 0.6903 - val_accuracy: 0.5521\n",
            "\n",
            "Epoch 00033: val_accuracy did not improve from 0.97917\n",
            "Epoch 34/100\n",
            "8/8 [==============================] - 1s 96ms/step - loss: 0.3584 - accuracy: 0.8263 - val_loss: 0.6784 - val_accuracy: 0.5625\n",
            "\n",
            "Epoch 00034: val_accuracy did not improve from 0.97917\n",
            "Epoch 35/100\n",
            "8/8 [==============================] - 1s 94ms/step - loss: 0.2944 - accuracy: 0.8603 - val_loss: 0.6945 - val_accuracy: 0.5312\n",
            "\n",
            "Epoch 00035: val_accuracy did not improve from 0.97917\n",
            "Epoch 36/100\n",
            "8/8 [==============================] - 1s 91ms/step - loss: 0.2986 - accuracy: 0.8394 - val_loss: 0.6877 - val_accuracy: 0.5312\n",
            "\n",
            "Epoch 00036: val_accuracy did not improve from 0.97917\n",
            "Epoch 37/100\n",
            "8/8 [==============================] - 1s 94ms/step - loss: 0.3101 - accuracy: 0.8796 - val_loss: 0.7194 - val_accuracy: 0.5104\n",
            "\n",
            "Epoch 00037: val_accuracy did not improve from 0.97917\n",
            "Epoch 38/100\n",
            "8/8 [==============================] - 1s 98ms/step - loss: 0.4014 - accuracy: 0.7703 - val_loss: 0.6679 - val_accuracy: 0.6042\n",
            "\n",
            "Epoch 00038: val_accuracy did not improve from 0.97917\n",
            "Epoch 39/100\n",
            "8/8 [==============================] - 1s 91ms/step - loss: 0.2745 - accuracy: 0.8771 - val_loss: 0.6687 - val_accuracy: 0.5521\n",
            "\n",
            "Epoch 00039: val_accuracy did not improve from 0.97917\n",
            "Epoch 40/100\n",
            "8/8 [==============================] - 1s 110ms/step - loss: 0.3118 - accuracy: 0.8587 - val_loss: 0.6292 - val_accuracy: 0.7188\n",
            "\n",
            "Epoch 00040: val_accuracy did not improve from 0.97917\n",
            "Epoch 41/100\n",
            "8/8 [==============================] - 1s 92ms/step - loss: 0.3046 - accuracy: 0.8427 - val_loss: 0.6999 - val_accuracy: 0.5625\n",
            "\n",
            "Epoch 00041: val_accuracy did not improve from 0.97917\n",
            "Epoch 42/100\n",
            "8/8 [==============================] - 1s 97ms/step - loss: 0.3554 - accuracy: 0.8095 - val_loss: 0.7102 - val_accuracy: 0.5104\n",
            "\n",
            "Epoch 00042: val_accuracy did not improve from 0.97917\n",
            "Epoch 43/100\n",
            "8/8 [==============================] - 1s 96ms/step - loss: 0.3067 - accuracy: 0.8584 - val_loss: 0.7215 - val_accuracy: 0.5833\n",
            "\n",
            "Epoch 00043: val_accuracy did not improve from 0.97917\n",
            "Epoch 44/100\n",
            "8/8 [==============================] - 1s 99ms/step - loss: 0.3171 - accuracy: 0.8522 - val_loss: 0.7045 - val_accuracy: 0.5417\n",
            "\n",
            "Epoch 00044: val_accuracy did not improve from 0.97917\n",
            "Epoch 45/100\n",
            "8/8 [==============================] - 1s 105ms/step - loss: 0.3615 - accuracy: 0.7899 - val_loss: 0.6655 - val_accuracy: 0.6250\n",
            "\n",
            "Epoch 00045: val_accuracy did not improve from 0.97917\n",
            "Epoch 46/100\n",
            "8/8 [==============================] - 1s 97ms/step - loss: 0.3272 - accuracy: 0.8727 - val_loss: 0.6549 - val_accuracy: 0.6667\n",
            "\n",
            "Epoch 00046: val_accuracy did not improve from 0.97917\n",
            "Epoch 47/100\n",
            "8/8 [==============================] - 1s 102ms/step - loss: 0.3463 - accuracy: 0.8718 - val_loss: 0.5933 - val_accuracy: 0.6771\n",
            "\n",
            "Epoch 00047: val_accuracy did not improve from 0.97917\n",
            "Epoch 48/100\n",
            "8/8 [==============================] - 1s 99ms/step - loss: 0.2882 - accuracy: 0.8899 - val_loss: 0.6163 - val_accuracy: 0.6875\n",
            "\n",
            "Epoch 00048: val_accuracy did not improve from 0.97917\n",
            "Epoch 49/100\n",
            "8/8 [==============================] - 1s 95ms/step - loss: 0.2719 - accuracy: 0.8795 - val_loss: 0.5941 - val_accuracy: 0.6458\n",
            "\n",
            "Epoch 00049: val_accuracy did not improve from 0.97917\n",
            "Epoch 50/100\n",
            "8/8 [==============================] - 1s 92ms/step - loss: 0.3247 - accuracy: 0.8340 - val_loss: 0.5561 - val_accuracy: 0.7708\n",
            "\n",
            "Epoch 00050: val_accuracy did not improve from 0.97917\n",
            "Epoch 51/100\n",
            "8/8 [==============================] - 1s 91ms/step - loss: 0.3289 - accuracy: 0.8522 - val_loss: 0.5567 - val_accuracy: 0.7083\n",
            "\n",
            "Epoch 00051: val_accuracy did not improve from 0.97917\n",
            "Epoch 52/100\n",
            "8/8 [==============================] - 1s 91ms/step - loss: 0.2828 - accuracy: 0.8773 - val_loss: 0.4969 - val_accuracy: 0.8646\n",
            "\n",
            "Epoch 00052: val_accuracy did not improve from 0.97917\n",
            "Epoch 53/100\n",
            "8/8 [==============================] - 1s 91ms/step - loss: 0.2968 - accuracy: 0.8609 - val_loss: 0.5012 - val_accuracy: 0.8542\n",
            "\n",
            "Epoch 00053: val_accuracy did not improve from 0.97917\n",
            "Epoch 54/100\n",
            "8/8 [==============================] - 1s 96ms/step - loss: 0.2979 - accuracy: 0.8693 - val_loss: 0.4800 - val_accuracy: 0.8333\n",
            "\n",
            "Epoch 00054: val_accuracy did not improve from 0.97917\n",
            "Epoch 55/100\n",
            "8/8 [==============================] - 1s 95ms/step - loss: 0.2853 - accuracy: 0.8603 - val_loss: 0.5120 - val_accuracy: 0.8125\n",
            "\n",
            "Epoch 00055: val_accuracy did not improve from 0.97917\n",
            "Epoch 56/100\n",
            "8/8 [==============================] - 1s 93ms/step - loss: 0.3005 - accuracy: 0.8553 - val_loss: 0.4849 - val_accuracy: 0.7917\n",
            "\n",
            "Epoch 00056: val_accuracy did not improve from 0.97917\n",
            "Epoch 57/100\n",
            "8/8 [==============================] - 1s 93ms/step - loss: 0.3092 - accuracy: 0.8572 - val_loss: 0.5772 - val_accuracy: 0.6979\n",
            "\n",
            "Epoch 00057: val_accuracy did not improve from 0.97917\n",
            "Epoch 58/100\n",
            "8/8 [==============================] - 1s 99ms/step - loss: 0.2950 - accuracy: 0.8932 - val_loss: 0.5461 - val_accuracy: 0.7292\n",
            "\n",
            "Epoch 00058: val_accuracy did not improve from 0.97917\n",
            "Epoch 59/100\n",
            "8/8 [==============================] - 1s 92ms/step - loss: 0.3132 - accuracy: 0.8626 - val_loss: 0.5794 - val_accuracy: 0.6875\n",
            "\n",
            "Epoch 00059: val_accuracy did not improve from 0.97917\n",
            "Epoch 60/100\n",
            "8/8 [==============================] - 1s 100ms/step - loss: 0.3521 - accuracy: 0.8089 - val_loss: 0.5549 - val_accuracy: 0.6875\n",
            "\n",
            "Epoch 00060: val_accuracy did not improve from 0.97917\n",
            "Epoch 61/100\n",
            "8/8 [==============================] - 1s 100ms/step - loss: 0.2959 - accuracy: 0.8710 - val_loss: 0.5339 - val_accuracy: 0.6771\n",
            "\n",
            "Epoch 00061: val_accuracy did not improve from 0.97917\n",
            "Epoch 62/100\n",
            "8/8 [==============================] - 1s 100ms/step - loss: 0.3165 - accuracy: 0.8490 - val_loss: 0.5039 - val_accuracy: 0.7396\n",
            "\n",
            "Epoch 00062: val_accuracy did not improve from 0.97917\n",
            "Epoch 63/100\n",
            "8/8 [==============================] - 1s 92ms/step - loss: 0.2720 - accuracy: 0.8859 - val_loss: 0.3956 - val_accuracy: 0.8333\n",
            "\n",
            "Epoch 00063: val_accuracy did not improve from 0.97917\n",
            "Epoch 64/100\n",
            "8/8 [==============================] - 1s 94ms/step - loss: 0.2925 - accuracy: 0.8725 - val_loss: 0.5410 - val_accuracy: 0.7083\n",
            "\n",
            "Epoch 00064: val_accuracy did not improve from 0.97917\n",
            "Epoch 65/100\n",
            "8/8 [==============================] - 1s 95ms/step - loss: 0.3428 - accuracy: 0.8356 - val_loss: 0.3285 - val_accuracy: 0.9167\n",
            "\n",
            "Epoch 00065: val_accuracy did not improve from 0.97917\n",
            "Epoch 66/100\n",
            "8/8 [==============================] - 1s 95ms/step - loss: 0.3135 - accuracy: 0.8507 - val_loss: 0.3290 - val_accuracy: 0.8958\n",
            "\n",
            "Epoch 00066: val_accuracy did not improve from 0.97917\n",
            "Epoch 67/100\n",
            "8/8 [==============================] - 1s 92ms/step - loss: 0.2878 - accuracy: 0.8547 - val_loss: 0.3129 - val_accuracy: 0.8854\n",
            "\n",
            "Epoch 00067: val_accuracy did not improve from 0.97917\n",
            "Epoch 68/100\n",
            "8/8 [==============================] - 1s 101ms/step - loss: 0.2784 - accuracy: 0.8529 - val_loss: 0.3537 - val_accuracy: 0.8750\n",
            "\n",
            "Epoch 00068: val_accuracy did not improve from 0.97917\n",
            "Epoch 69/100\n",
            "8/8 [==============================] - 1s 101ms/step - loss: 0.3176 - accuracy: 0.8436 - val_loss: 0.4410 - val_accuracy: 0.7812\n",
            "\n",
            "Epoch 00069: val_accuracy did not improve from 0.97917\n",
            "Epoch 70/100\n",
            "8/8 [==============================] - 1s 102ms/step - loss: 0.3563 - accuracy: 0.8268 - val_loss: 0.3530 - val_accuracy: 0.8333\n",
            "\n",
            "Epoch 00070: val_accuracy did not improve from 0.97917\n",
            "Epoch 71/100\n",
            "8/8 [==============================] - 1s 101ms/step - loss: 0.2674 - accuracy: 0.8850 - val_loss: 0.3378 - val_accuracy: 0.8750\n",
            "\n",
            "Epoch 00071: val_accuracy did not improve from 0.97917\n",
            "Epoch 72/100\n",
            "8/8 [==============================] - 1s 92ms/step - loss: 0.3450 - accuracy: 0.8518 - val_loss: 0.3433 - val_accuracy: 0.8542\n",
            "\n",
            "Epoch 00072: val_accuracy did not improve from 0.97917\n",
            "Epoch 73/100\n",
            "8/8 [==============================] - 1s 96ms/step - loss: 0.3172 - accuracy: 0.8317 - val_loss: 0.5240 - val_accuracy: 0.6771\n",
            "\n",
            "Epoch 00073: val_accuracy did not improve from 0.97917\n",
            "Epoch 74/100\n",
            "8/8 [==============================] - 1s 93ms/step - loss: 0.3543 - accuracy: 0.7938 - val_loss: 0.2094 - val_accuracy: 0.9479\n",
            "\n",
            "Epoch 00074: val_accuracy did not improve from 0.97917\n",
            "Epoch 75/100\n",
            "8/8 [==============================] - 1s 90ms/step - loss: 0.3407 - accuracy: 0.8522 - val_loss: 0.2137 - val_accuracy: 0.9375\n",
            "\n",
            "Epoch 00075: val_accuracy did not improve from 0.97917\n",
            "Epoch 76/100\n",
            "8/8 [==============================] - 1s 90ms/step - loss: 0.3161 - accuracy: 0.8578 - val_loss: 0.5021 - val_accuracy: 0.7396\n",
            "\n",
            "Epoch 00076: val_accuracy did not improve from 0.97917\n",
            "Epoch 77/100\n",
            "8/8 [==============================] - 1s 97ms/step - loss: 0.3110 - accuracy: 0.8282 - val_loss: 0.2353 - val_accuracy: 0.9479\n",
            "\n",
            "Epoch 00077: val_accuracy did not improve from 0.97917\n",
            "Epoch 78/100\n",
            "8/8 [==============================] - 1s 99ms/step - loss: 0.3580 - accuracy: 0.8463 - val_loss: 0.3262 - val_accuracy: 0.8646\n",
            "\n",
            "Epoch 00078: val_accuracy did not improve from 0.97917\n",
            "Epoch 79/100\n",
            "8/8 [==============================] - 1s 94ms/step - loss: 0.3199 - accuracy: 0.8540 - val_loss: 0.3023 - val_accuracy: 0.8333\n",
            "\n",
            "Epoch 00079: val_accuracy did not improve from 0.97917\n",
            "Epoch 80/100\n",
            "8/8 [==============================] - 1s 93ms/step - loss: 0.2702 - accuracy: 0.8663 - val_loss: 0.5707 - val_accuracy: 0.6979\n",
            "\n",
            "Epoch 00080: val_accuracy did not improve from 0.97917\n",
            "Epoch 81/100\n",
            "8/8 [==============================] - 1s 97ms/step - loss: 0.3127 - accuracy: 0.8572 - val_loss: 0.1385 - val_accuracy: 0.9688\n",
            "\n",
            "Epoch 00081: val_accuracy did not improve from 0.97917\n",
            "Epoch 82/100\n",
            "8/8 [==============================] - 1s 97ms/step - loss: 0.2624 - accuracy: 0.8850 - val_loss: 0.2203 - val_accuracy: 0.9062\n",
            "\n",
            "Epoch 00082: val_accuracy did not improve from 0.97917\n",
            "Epoch 83/100\n",
            "8/8 [==============================] - 1s 91ms/step - loss: 0.2542 - accuracy: 0.8883 - val_loss: 0.1760 - val_accuracy: 0.9271\n",
            "\n",
            "Epoch 00083: val_accuracy did not improve from 0.97917\n",
            "Epoch 84/100\n",
            "8/8 [==============================] - 1s 105ms/step - loss: 0.2859 - accuracy: 0.8714 - val_loss: 0.2184 - val_accuracy: 0.8958\n",
            "\n",
            "Epoch 00084: val_accuracy did not improve from 0.97917\n",
            "Epoch 85/100\n",
            "8/8 [==============================] - 1s 98ms/step - loss: 0.2918 - accuracy: 0.8674 - val_loss: 0.3978 - val_accuracy: 0.8854\n",
            "\n",
            "Epoch 00085: val_accuracy did not improve from 0.97917\n",
            "Epoch 86/100\n",
            "8/8 [==============================] - 1s 98ms/step - loss: 0.3289 - accuracy: 0.8139 - val_loss: 0.1784 - val_accuracy: 0.9271\n",
            "\n",
            "Epoch 00086: val_accuracy did not improve from 0.97917\n",
            "Epoch 87/100\n",
            "8/8 [==============================] - 1s 94ms/step - loss: 0.2392 - accuracy: 0.9066 - val_loss: 0.2629 - val_accuracy: 0.8750\n",
            "\n",
            "Epoch 00087: val_accuracy did not improve from 0.97917\n",
            "Epoch 88/100\n",
            "8/8 [==============================] - 1s 91ms/step - loss: 0.2794 - accuracy: 0.8773 - val_loss: 0.3154 - val_accuracy: 0.8333\n",
            "\n",
            "Epoch 00088: val_accuracy did not improve from 0.97917\n",
            "Epoch 89/100\n",
            "8/8 [==============================] - 1s 92ms/step - loss: 0.2491 - accuracy: 0.8801 - val_loss: 0.2451 - val_accuracy: 0.8854\n",
            "\n",
            "Epoch 00089: val_accuracy did not improve from 0.97917\n",
            "Epoch 90/100\n",
            "8/8 [==============================] - 1s 96ms/step - loss: 0.2819 - accuracy: 0.8516 - val_loss: 0.1473 - val_accuracy: 0.9479\n",
            "\n",
            "Epoch 00090: val_accuracy did not improve from 0.97917\n",
            "Epoch 91/100\n",
            "8/8 [==============================] - 1s 93ms/step - loss: 0.2130 - accuracy: 0.9255 - val_loss: 0.1341 - val_accuracy: 0.9479\n",
            "\n",
            "Epoch 00091: val_accuracy did not improve from 0.97917\n",
            "Epoch 92/100\n",
            "8/8 [==============================] - 1s 93ms/step - loss: 0.2638 - accuracy: 0.8954 - val_loss: 0.4753 - val_accuracy: 0.7604\n",
            "\n",
            "Epoch 00092: val_accuracy did not improve from 0.97917\n",
            "Epoch 93/100\n",
            "8/8 [==============================] - 1s 97ms/step - loss: 0.3196 - accuracy: 0.8214 - val_loss: 0.1582 - val_accuracy: 0.9271\n",
            "\n",
            "Epoch 00093: val_accuracy did not improve from 0.97917\n",
            "Epoch 94/100\n",
            "8/8 [==============================] - 1s 100ms/step - loss: 0.2866 - accuracy: 0.8614 - val_loss: 0.2966 - val_accuracy: 0.8438\n",
            "\n",
            "Epoch 00094: val_accuracy did not improve from 0.97917\n",
            "Epoch 95/100\n",
            "8/8 [==============================] - 1s 105ms/step - loss: 0.3413 - accuracy: 0.8166 - val_loss: 0.1820 - val_accuracy: 0.9479\n",
            "\n",
            "Epoch 00095: val_accuracy did not improve from 0.97917\n",
            "Epoch 96/100\n",
            "8/8 [==============================] - 1s 93ms/step - loss: 0.2851 - accuracy: 0.8799 - val_loss: 0.1784 - val_accuracy: 0.9062\n",
            "\n",
            "Epoch 00096: val_accuracy did not improve from 0.97917\n",
            "Epoch 97/100\n",
            "8/8 [==============================] - 1s 101ms/step - loss: 0.2783 - accuracy: 0.8510 - val_loss: 0.1438 - val_accuracy: 0.9479\n",
            "\n",
            "Epoch 00097: val_accuracy did not improve from 0.97917\n",
            "Epoch 98/100\n",
            "8/8 [==============================] - 1s 101ms/step - loss: 0.3047 - accuracy: 0.8423 - val_loss: 0.2187 - val_accuracy: 0.9167\n",
            "\n",
            "Epoch 00098: val_accuracy did not improve from 0.97917\n",
            "Epoch 99/100\n",
            "8/8 [==============================] - 1s 95ms/step - loss: 0.2346 - accuracy: 0.9214 - val_loss: 0.2342 - val_accuracy: 0.8854\n",
            "\n",
            "Epoch 00099: val_accuracy did not improve from 0.97917\n",
            "Epoch 100/100\n",
            "8/8 [==============================] - 1s 100ms/step - loss: 0.3644 - accuracy: 0.8308 - val_loss: 0.1559 - val_accuracy: 0.9479\n",
            "\n",
            "Epoch 00100: val_accuracy did not improve from 0.97917\n"
          ],
          "name": "stdout"
        },
        {
          "output_type": "display_data",
          "data": {
            "image/png": "[encoded data removed]",
            "text/plain": [
              "<Figure size 432x288 with 1 Axes>"
            ]
          },
          "metadata": {
            "tags": [],
            "needs_background": "light"
          }
        },
        {
          "output_type": "display_data",
          "data": {
            "image/png": "[encoded data removed]",
            "text/plain": [
              "<Figure size 432x288 with 1 Axes>"
            ]
          },
          "metadata": {
            "tags": [],
            "needs_background": "light"
          }
        }
      ]
    },
    {
      "cell_type": "markdown",
      "metadata": {
        "id": "PpIDYyYf29HD"
      },
      "source": [
        "Saving the model"
      ]
    },
    {
      "cell_type": "code",
      "metadata": {
        "id": "s7sjHFpGpPtI",
        "outputId": "41e7d564-46b5-4c13-e4f9-8b2c70dee599",
        "colab": {
          "base_uri": "https://localhost:8080/"
        }
      },
      "source": [
        "model.save(os.path.join(PATH, 'model_augmented.hdf5'))\r\n",
        "\r\n",
        "model.evaluate(x_test, y_test)"
      ],
      "execution_count": 37,
      "outputs": [
        {
          "output_type": "stream",
          "text": [
            "13/13 [==============================] - 0s 7ms/step - loss: 0.4619 - accuracy: 0.7955\n"
          ],
          "name": "stdout"
        },
        {
          "output_type": "execute_result",
          "data": {
            "text/plain": [
              "[0.46187886595726013, 0.7955112457275391]"
            ]
          },
          "metadata": {
            "tags": []
          },
          "execution_count": 37
        }
      ]
    },
    {
      "cell_type": "markdown",
      "metadata": {
        "id": "ziJxv3y8fYoo"
      },
      "source": [
        "# Comparing the performances of the two models"
      ]
    },
    {
      "cell_type": "code",
      "metadata": {
        "id": "6u8dNJW0fLd3"
      },
      "source": [
        "from keras.models import load_model\n",
        "aug_model = load_model(os.path.join(PATH, 'model_augmented.hdf5'))\n",
        "noaug_model = load_model(os.path.join(PATH, 'model.hdf5'))"
      ],
      "execution_count": null,
      "outputs": []
    },
    {
      "cell_type": "code",
      "metadata": {
        "id": "MoMbhMQMf_E9",
        "colab": {
          "base_uri": "https://localhost:8080/"
        },
        "outputId": "922d2d02-13fe-41f6-e413-df5d490f94b1"
      },
      "source": [
        "noaug_model.evaluate(x_test, y_test)\r\n",
        "\r\n",
        "aug_model.evaluate(x_test, y_test)"
      ],
      "execution_count": null,
      "outputs": [
        {
          "output_type": "stream",
          "text": [
            "13/13 [==============================] - 1s 30ms/step - loss: 1.4573 - accuracy: 0.5411\n",
            "13/13 [==============================] - 0s 15ms/step - loss: 0.6845 - accuracy: 0.5686\n"
          ],
          "name": "stdout"
        },
        {
          "output_type": "execute_result",
          "data": {
            "text/plain": [
              "[0.684547483921051, 0.5685785412788391]"
            ]
          },
          "metadata": {
            "tags": []
          },
          "execution_count": 41
        }
      ]
    },
    {
      "cell_type": "markdown",
      "metadata": {
        "id": "uZBgQ-PwuSFq"
      },
      "source": [
        "#Implement a cross-validation test"
      ]
    },
    {
      "cell_type": "code",
      "metadata": {
        "id": "md5HpjB_uzIJ"
      },
      "source": [
        "from sklearn.model_selection import KFold"
      ],
      "execution_count": 17,
      "outputs": []
    },
    {
      "cell_type": "code",
      "metadata": {
        "id": "IhshIa47uU-x"
      },
      "source": [
        "# Define per-fold score arrays\r\n",
        "acc_per_fold = []\r\n",
        "loss_per_fold = []\r\n",
        "\r\n",
        "# Merge train and test in a single array\r\n",
        "X_tot = np.concatenate((x_train, x_test), axis=0)\r\n",
        "Y_tot = np.concatenate((y_train, y_test), axis=0)\r\n",
        "\r\n",
        "\r\n",
        "num_folds = 10\r\n",
        "\r\n",
        "kfold = KFold(n_splits=num_folds, shuffle=True)\r\n",
        "\r\n",
        "batch_size = 32\r\n",
        "num_epochs = 30\r\n",
        "\r\n",
        "fold_nro = 1\r\n",
        "\r\n",
        "for train, test in kfold.split(X_tot, Y_tot):\r\n",
        "  print('In fold n. ', fold_nro)\r\n",
        "  model = make_model()\r\n",
        "\r\n",
        "  model.compile(optimizer=SGD(lr = 0.001, momentum = 0.9), metrics = 'accuracy', loss='binary_crossentropy')\r\n",
        "\r\n",
        "  history = model.fit(\r\n",
        "          X_tot[train], Y_tot[train],\r\n",
        "          batch_size = batch_size,\r\n",
        "          verbose=0,\r\n",
        "          epochs = num_epochs)  \r\n",
        "  \r\n",
        "  scores = model.evaluate(X_tot[test], Y_tot[test], verbose=0)\r\n",
        "\r\n",
        "  print(f'Score for fold {fold_nro}: {model.metrics_names[0]} of {scores[0]}; {model.metrics_names[1]} of {scores[1]*100}%')\r\n",
        "  acc_per_fold.append(scores[1])\r\n",
        "  loss_per_fold.append(scores[0])\r\n",
        "  fold_nro += 1"
      ],
      "execution_count": null,
      "outputs": []
    },
    {
      "cell_type": "markdown",
      "metadata": {
        "id": "kC2AHLkUjOgn"
      },
      "source": [
        "Computing average scores"
      ]
    },
    {
      "cell_type": "code",
      "metadata": {
        "id": "ViYB3QK8chZJ",
        "outputId": "601406d4-b337-4ea9-c847-b9eb719e00bc",
        "colab": {
          "base_uri": "https://localhost:8080/"
        }
      },
      "source": [
        "print('Score per fold')\r\n",
        "for i in range(0, len(acc_per_fold)):\r\n",
        "  print(f'> Fold {i+1} - Loss: {loss_per_fold[i]} - Accuracy: {acc_per_fold[i]}%')\r\n",
        "\r\n",
        "print('\\n')\r\n",
        "print('Average scores for all folds:')\r\n",
        "print(f'-- Accuracy: {np.mean(acc_per_fold)} (+- {np.std(acc_per_fold)})')\r\n",
        "print(f'-- Loss: {np.mean(loss_per_fold)}')\r\n",
        "\r\n"
      ],
      "execution_count": 19,
      "outputs": [
        {
          "output_type": "stream",
          "text": [
            "Score per fold\n",
            "> Fold 1 - Loss: 0.27033376693725586 - Accuracy: 0.8999999761581421%\n",
            "> Fold 2 - Loss: 0.23841264843940735 - Accuracy: 0.8999999761581421%\n",
            "> Fold 3 - Loss: 0.7847806215286255 - Accuracy: 0.762499988079071%\n",
            "> Fold 4 - Loss: 0.15519122779369354 - Accuracy: 0.9375%\n",
            "> Fold 5 - Loss: 0.18688325583934784 - Accuracy: 0.8999999761581421%\n",
            "> Fold 6 - Loss: 0.2376764565706253 - Accuracy: 0.9125000238418579%\n",
            "> Fold 7 - Loss: 0.3531305193901062 - Accuracy: 0.875%\n",
            "> Fold 8 - Loss: 0.31873416900634766 - Accuracy: 0.9113923907279968%\n",
            "> Fold 9 - Loss: 0.32309162616729736 - Accuracy: 0.8607594966888428%\n",
            "> Fold 10 - Loss: 0.24024492502212524 - Accuracy: 0.8987341523170471%\n",
            "\n",
            "\n",
            "Average scores for all folds:\n",
            "-- Accuracy: 0.8858385980129242 (+- 0.04556260182307142)\n",
            "-- Loss: 0.31084792166948316\n"
          ],
          "name": "stdout"
        }
      ]
    }
  ]
}