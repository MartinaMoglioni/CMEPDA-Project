{
  "nbformat": 4,
  "nbformat_minor": 0,
  "metadata": {
    "colab": {
      "name": "CNN.ipynb",
      "provenance": [],
      "collapsed_sections": [],
      "include_colab_link": true
    },
    "kernelspec": {
      "name": "python3",
      "display_name": "Python 3"
    },
    "accelerator": "GPU"
  },
  "cells": [
    {
      "cell_type": "markdown",
      "metadata": {
        "id": "view-in-github",
        "colab_type": "text"
      },
      "source": [
        "<a href=\"https://colab.research.google.com/github/federicocampo/CNN_prova/blob/Prime_modifiche/CNN.ipynb\" target=\"_parent\"><img src=\"https://colab.research.google.com/assets/colab-badge.svg\" alt=\"Open In Colab\"/></a>"
      ]
    },
    {
      "cell_type": "markdown",
      "metadata": {
        "id": "LfPNt06nZRfC"
      },
      "source": [
        "# Importing the dataset from Google Drive"
      ]
    },
    {
      "cell_type": "code",
      "metadata": {
        "id": "ycQRMl2Bg4Me",
        "colab": {
          "base_uri": "https://localhost:8080/"
        },
        "outputId": "51cef9c3-beab-483e-ce60-fb1c60c2c095"
      },
      "source": [
        "from google.colab import drive\n",
        "drive.mount('/content/gdrive')"
      ],
      "execution_count": 2,
      "outputs": [
        {
          "output_type": "stream",
          "text": [
            "Mounted at /content/gdrive\n"
          ],
          "name": "stdout"
        }
      ]
    },
    {
      "cell_type": "code",
      "metadata": {
        "id": "xJpPtAOPv1D2"
      },
      "source": [
        "import time\r\n",
        "import logging\r\n",
        "\r\n",
        "logger = logging.getLogger('Mylogger')\r\n",
        "logger.setLevel(logging.DEBUG)\r\n",
        "\r\n",
        "ch = logging.StreamHandler()\r\n",
        "ch.setLevel(logging.DEBUG)\r\n",
        "\r\n",
        "formatter = logging.Formatter('%(name)s (%(levelname)s): %(message)s')\r\n",
        "\r\n",
        "ch.setFormatter(formatter)\r\n",
        "\r\n",
        "logger.addHandler(ch)"
      ],
      "execution_count": 5,
      "outputs": []
    },
    {
      "cell_type": "markdown",
      "metadata": {
        "id": "Zqw3aYF1gDFD"
      },
      "source": [
        "# Reading and visualize the images"
      ]
    },
    {
      "cell_type": "code",
      "metadata": {
        "id": "rqCZ72z2gCIH"
      },
      "source": [
        "from matplotlib import pyplot as plt\n",
        "from skimage.io import imread, imshow\n",
        "import os\n",
        "import glob\n",
        "import numpy as np"
      ],
      "execution_count": 6,
      "outputs": []
    },
    {
      "cell_type": "code",
      "metadata": {
        "id": "GkOspN9xPlg8"
      },
      "source": [
        "PATH = 'gdrive/MyDrive/IMAGES/Mammography_micro'"
      ],
      "execution_count": 7,
      "outputs": []
    },
    {
      "cell_type": "markdown",
      "metadata": {
        "id": "OUKkkzEYlMqP"
      },
      "source": [
        "Imread restituisce un array 60 x 60"
      ]
    },
    {
      "cell_type": "code",
      "metadata": {
        "id": "8bVKQicJt1gi"
      },
      "source": [
        "import multiprocessing as mp\r\n",
        "\r\n",
        "def read_img(image_path):\r\n",
        "  fnames = glob.glob(os.path.join(image_path, '*.pgm'))\r\n",
        "\r\n",
        "  pool = mp.Pool(processes=4)\r\n",
        "  results = pool.map_async(imread, fnames)\r\n",
        "\r\n",
        "  x = results.get()\r\n",
        "  x_np = np.array(x, dtype='float32')[..., np.newaxis]/255\r\n",
        "\r\n",
        "  logger.info('Num images found in %s: %d',image_path, len(x_np))\r\n",
        "  return x_np\r\n"
      ],
      "execution_count": 8,
      "outputs": []
    },
    {
      "cell_type": "code",
      "metadata": {
        "id": "XAREAlnsKhWk",
        "colab": {
          "base_uri": "https://localhost:8080/"
        },
        "outputId": "ff67b343-4e4b-40ed-a482-2138c606c01e"
      },
      "source": [
        "start_time = time.time()\r\n",
        "\r\n",
        "labels = []\r\n",
        "\r\n",
        "image_path = os.path.join(PATH, 'Train/0')\r\n",
        "x0_train = read_img(image_path)\r\n",
        "labels += len(x0_train)*[0]\r\n",
        "\r\n",
        "image_path = os.path.join(PATH, 'Train/1')\r\n",
        "x1_train = read_img(image_path)\r\n",
        "labels += len(x1_train)*[1]\r\n",
        "\r\n",
        "x_train = np.concatenate((x0_train, x1_train), axis = 0)\r\n",
        "y_train = np.array(labels)\r\n",
        "\r\n",
        "\r\n",
        "labels = []\r\n",
        "\r\n",
        "image_path = os.path.join(PATH, 'Test/0')\r\n",
        "x0_test = read_img(image_path)\r\n",
        "labels += len(x0_test)*[0]\r\n",
        "\r\n",
        "image_path = os.path.join(PATH, 'Test/1')\r\n",
        "x1_test = read_img(image_path)\r\n",
        "labels += len(x1_test)*[1]\r\n",
        "\r\n",
        "x_test = np.concatenate((x0_test, x1_test), axis = 0)\r\n",
        "y_test = np.array(labels)\r\n",
        "\r\n",
        "print(f'There are {len(x_train)} train images and {len(x_test)} test images')\r\n",
        "elapsed_time = time.time() - start_time\r\n",
        "logger.debug('Elapsed time = %.2f s', elapsed_time)\r\n"
      ],
      "execution_count": 12,
      "outputs": [
        {
          "output_type": "stream",
          "text": [
            "Mylogger (INFO): Num images found in gdrive/MyDrive/IMAGES/Mammography_micro/Train/0: 209\n",
            "Mylogger (INFO): Num images found in gdrive/MyDrive/IMAGES/Mammography_micro/Train/0: 209\n",
            "Mylogger (INFO): Num images found in gdrive/MyDrive/IMAGES/Mammography_micro/Train/1: 187\n",
            "Mylogger (INFO): Num images found in gdrive/MyDrive/IMAGES/Mammography_micro/Train/1: 187\n",
            "Mylogger (INFO): Num images found in gdrive/MyDrive/IMAGES/Mammography_micro/Test/0: 205\n",
            "Mylogger (INFO): Num images found in gdrive/MyDrive/IMAGES/Mammography_micro/Test/0: 205\n",
            "Mylogger (INFO): Num images found in gdrive/MyDrive/IMAGES/Mammography_micro/Test/1: 196\n",
            "Mylogger (INFO): Num images found in gdrive/MyDrive/IMAGES/Mammography_micro/Test/1: 196\n",
            "Mylogger (DEBUG): Elapsed time = 82.73 s\n",
            "Mylogger (DEBUG): Elapsed time = 82.73 s\n"
          ],
          "name": "stderr"
        },
        {
          "output_type": "stream",
          "text": [
            "There are 396 train images and 401 test images\n"
          ],
          "name": "stdout"
        }
      ]
    },
    {
      "cell_type": "markdown",
      "metadata": {
        "id": "p1BAtPrtt7Fm"
      },
      "source": [
        "***Visualize some images***\r\n",
        "\r\n",
        "Visualize 4 random train images and 4 random test images "
      ]
    },
    {
      "cell_type": "code",
      "metadata": {
        "id": "BfyUHHdW3Pa_",
        "colab": {
          "base_uri": "https://localhost:8080/",
          "height": 537
        },
        "outputId": "c1bb335c-3c67-4134-92b3-9fc2293c13e5"
      },
      "source": [
        "import random \r\n",
        "\r\n",
        "n = 4\r\n",
        "\r\n",
        "plt.figure(1)\r\n",
        "plt.suptitle('Train images')\r\n",
        "for i in range(1, n+1):\r\n",
        "  r = random.randrange(0, len(x_train))\r\n",
        "  Im = x_train[r].squeeze()\r\n",
        "  plt.subplot(2, 2, i)\r\n",
        "  plt.imshow(Im, cmap = 'gray')\r\n",
        "  plt.axis('off')\r\n",
        "  plt.title(f'{y_train[r]}')\r\n",
        "\r\n",
        "plt.figure(2)\r\n",
        "plt.suptitle('Test images')\r\n",
        "for i in range(1, n+1):\r\n",
        "  r = random.randrange(0, len(x_test))\r\n",
        "  Im = x_train[r].squeeze()\r\n",
        "  plt.subplot(2, 2, i)\r\n",
        "  plt.imshow(Im, cmap = 'gray')\r\n",
        "  plt.axis('off')\r\n",
        "  plt.title(f'{y_train[r]}')\r\n"
      ],
      "execution_count": 29,
      "outputs": [
        {
          "output_type": "display_data",
          "data": {
            "image/png": "[encoded data removed]",
            "text/plain": [
              "<Figure size 432x288 with 4 Axes>"
            ]
          },
          "metadata": {
            "tags": [],
            "needs_background": "light"
          }
        },
        {
          "output_type": "display_data",
          "data": {
            "image/png": "[encoded data removed]",
            "text/plain": [
              "<Figure size 432x288 with 4 Axes>"
            ]
          },
          "metadata": {
            "tags": [],
            "needs_background": "light"
          }
        }
      ]
    },
    {
      "cell_type": "markdown",
      "metadata": {
        "id": "uBkLQzhsmYaJ"
      },
      "source": [
        "#Data augmentation"
      ]
    },
    {
      "cell_type": "markdown",
      "metadata": {
        "id": "5xang6C1lUht"
      },
      "source": [
        "Convert all 'pgm' images format to 'png' format"
      ]
    },
    {
      "cell_type": "code",
      "metadata": {
        "id": "fsWgaT6LmebC"
      },
      "source": [
        "import PIL\r\n",
        "import os"
      ],
      "execution_count": null,
      "outputs": []
    },
    {
      "cell_type": "code",
      "metadata": {
        "id": "Re8kga5lmeMA"
      },
      "source": [
        "def convert_to_png(fname, dest_folder):\r\n",
        "  if not os.path.exists(dest_folder):\r\n",
        "    os.makedirs(dest_folder)\r\n",
        "  dest_fname = os.path.basename(fname).replace('.pgm', '.png')\r\n",
        "  dest_fname = os.path.join(dest_folder, dest_fname)\r\n",
        "  PIL.Image.open(fname).convert('L').save(dest_fname)"
      ],
      "execution_count": null,
      "outputs": []
    },
    {
      "cell_type": "code",
      "metadata": {
        "id": "-XUCFASbmjLH"
      },
      "source": [
        "start_time = time.time()\r\n",
        "for data_path in [os.path.join(PATH, \"Train\"), os.path.join(PATH, \"Test\")]:\r\n",
        "  for path, folders, fnames in os.walk(data_path):\r\n",
        "    for fname in fnames:\r\n",
        "      abs_path = os.path.join(path, fname)\r\n",
        "      dest_folder = path.replace('Train', 'Train_png').replace('Test', 'Test_png')\r\n",
        "      convert_to_png(abs_path, dest_folder)\r\n",
        "logger.debug('Elapsed time = %.2f s', time.time()-start_time)"
      ],
      "execution_count": null,
      "outputs": []
    },
    {
      "cell_type": "markdown",
      "metadata": {
        "id": "hm0582HRmr_h"
      },
      "source": [
        "#Data aumentation. "
      ]
    },
    {
      "cell_type": "code",
      "metadata": {
        "id": "cLXrCayXmrV3"
      },
      "source": [
        "import matplotlib.pyplot as plt\r\n",
        "from keras.preprocessing.image import ImageDataGenerator"
      ],
      "execution_count": 19,
      "outputs": []
    },
    {
      "cell_type": "markdown",
      "metadata": {
        "id": "4SayDNbnm3Fr"
      },
      "source": [
        "https://www.tensorflow.org/api_docs/python/tf/keras/preprocessing/image/ImageDataGenerator\r\n",
        "\r\n",
        "Il FLOW_FROM_DIRECTORY takes as input the destination folder path and generates batches of images giving as output an iterator (x, y) where y is the iterator over the labels and x over the images.\r\n",
        "\r\n",
        "Images shape = (batch_size, *target_size, channels) where:\r\n",
        "\r\n",
        "*  batch_size (default = 32) number of images generated from every single x_train image.\r\n",
        "\r\n",
        "Default format of images = png\r\n",
        "\r\n",
        "\r\n",
        "\r\n",
        "*  subset = training o validation, funziona solo se c'è validation_split nel \r\n",
        "\r\n",
        "\r\n",
        "\r\n",
        "\r\n",
        "ImageDataGenerator\r\n",
        "\r\n",
        "\r\n",
        "IMAGEDATAGENERATOR:\r\n",
        "Validation_split = 0.3 divide tutte le N immagini di x_train in: 70% train e 30% validazione e usa questo dataset nel model.fit \r\n"
      ]
    },
    {
      "cell_type": "markdown",
      "metadata": {
        "id": "aKqhV2t8m_TS"
      },
      "source": [
        "Il.next() accede ad una immagine. train_gen.next()[0] ha shape = (32, 60, 60, 1) cioè per ogni immagine del dataset, lui genera 32 immagini modificate di dimensione 60x60 di colori grayscale"
      ]
    },
    {
      "cell_type": "code",
      "metadata": {
        "id": "I49kI5enm4C_",
        "colab": {
          "base_uri": "https://localhost:8080/"
        },
        "outputId": "261528bd-b6f0-4733-dacb-232a45271af7"
      },
      "source": [
        "path_to_png_data = os.path.join(PATH, \"Train_png\")\r\n",
        "\r\n",
        "img_width, img_height = (60, 60)\r\n",
        "\r\n",
        "aug_validation_split = 0.3\r\n",
        "\r\n",
        "\r\n",
        "train_datagen = ImageDataGenerator(\r\n",
        "        rotation_range=40,\r\n",
        "        width_shift_range=0.2,\r\n",
        "        height_shift_range=0.2,\r\n",
        "        rescale=1./255,  #Rescale every pixel to have a value between 0 and 1\r\n",
        "        shear_range=0.2, #Stretches the image \r\n",
        "        zoom_range=0.2, \r\n",
        "        horizontal_flip=True,\r\n",
        "        fill_mode='reflect',\r\n",
        "        validation_split = aug_validation_split)  \r\n",
        "        \r\n",
        "\r\n",
        "\r\n",
        "\r\n",
        "train_gen = train_datagen.flow_from_directory(\r\n",
        "    path_to_png_data,\r\n",
        "    target_size=(img_width, img_height),\r\n",
        "    color_mode='grayscale', \r\n",
        "    class_mode='binary',\r\n",
        "    subset='training')\r\n",
        "\r\n",
        "val_gen = train_datagen.flow_from_directory(\r\n",
        "    path_to_png_data,\r\n",
        "    target_size=(img_width, img_height),\r\n",
        "    color_mode='grayscale',\r\n",
        "    class_mode='binary',\r\n",
        "    subset='validation')\r\n",
        "\r\n"
      ],
      "execution_count": 20,
      "outputs": [
        {
          "output_type": "stream",
          "text": [
            "Found 278 images belonging to 2 classes.\n",
            "Found 118 images belonging to 2 classes.\n"
          ],
          "name": "stdout"
        }
      ]
    },
    {
      "cell_type": "markdown",
      "metadata": {
        "id": "Blz5VJ8pajXz"
      },
      "source": [
        "# Defining a CNN model"
      ]
    },
    {
      "cell_type": "code",
      "metadata": {
        "id": "7plXV2WyaoGt"
      },
      "source": [
        "from keras.layers import Conv2D, BatchNormalization, MaxPool2D, Dense, Flatten, InputLayer, Activation, Dropout\n",
        "from keras.models import Sequential"
      ],
      "execution_count": 21,
      "outputs": []
    },
    {
      "cell_type": "code",
      "metadata": {
        "id": "XBloTVdsaewM"
      },
      "source": [
        "def make_model(shape=(60, 60, 1)):\n",
        "  ''' Returns the model'''\n",
        "  model = Sequential([\n",
        "      \n",
        "      Conv2D(50, (5,5), padding='same', input_shape=shape),\n",
        "      BatchNormalization(),\n",
        "      Activation('relu'),\n",
        "      MaxPool2D((2,2)),\n",
        "      \n",
        "      Conv2D(60, (3,3), padding='same'),\n",
        "      BatchNormalization(),\n",
        "      Activation('relu'),\n",
        "      MaxPool2D((2,2)),\n",
        "        \n",
        "      Conv2D(100, (3,3), padding='same'),\n",
        "      BatchNormalization(),\n",
        "      Activation('relu'),\n",
        "\n",
        "      Conv2D(100, (3,3), padding='same'),\n",
        "      BatchNormalization(),\n",
        "      Activation('relu'),\n",
        "\n",
        "      Conv2D(50, (4,4), padding='same'),\n",
        "      BatchNormalization(),\n",
        "      Activation('relu'),\n",
        "      MaxPool2D(2, 2),\n",
        "\n",
        "      Flatten(), \n",
        "      \n",
        "\n",
        "      Dense(1, activation='sigmoid')\n",
        "      \n",
        "  ])\n",
        "  \n",
        "  return model\n"
      ],
      "execution_count": 22,
      "outputs": []
    },
    {
      "cell_type": "markdown",
      "metadata": {
        "id": "mXt999cLSEeT"
      },
      "source": [
        "#Fit model on original dataset"
      ]
    },
    {
      "cell_type": "code",
      "metadata": {
        "id": "KFZbeUx2ueKJ"
      },
      "source": [
        "import tensorflow\r\n",
        "tensorflow.random.set_seed(2)"
      ],
      "execution_count": 23,
      "outputs": []
    },
    {
      "cell_type": "code",
      "metadata": {
        "id": "nUQjwzu90fsX"
      },
      "source": [
        "from keras.callbacks import EarlyStopping, ReduceLROnPlateau, ModelCheckpoint\r\n",
        "\r\n",
        "\r\n",
        "early_stopping = EarlyStopping(\r\n",
        "    min_delta=0.001, # minimium amount of change to count as an improvement\r\n",
        "    patience=10, # how many epochs to wait before stopping\r\n",
        "    restore_best_weights=True,\r\n",
        ")\r\n",
        "\r\n",
        "reduce_lr = ReduceLROnPlateau(\r\n",
        "    monitor='loss', \r\n",
        "    factor=0.5,\r\n",
        "    patience = 5,\r\n",
        "    min_lr=0.00001\r\n",
        "\r\n",
        ")\r\n",
        "\r\n",
        "checkpoint = ModelCheckpoint(\r\n",
        "    \"model-{epoch:02d}-{val_accuracy:.2f}.hdf5\", \r\n",
        "    monitor='val_accuracy', \r\n",
        "    verbose=1,\r\n",
        "    save_best_only=True,\r\n",
        "    save_weights_only=False,\r\n",
        "    mode='auto', save_freq='epoch')\r\n"
      ],
      "execution_count": 24,
      "outputs": []
    },
    {
      "cell_type": "code",
      "metadata": {
        "id": "nPh3ewyPn1bR"
      },
      "source": [
        "from keras.optimizers import SGD\r\n",
        "\r\n",
        "model = make_model()\r\n",
        "\r\n",
        "model.compile(optimizer=SGD(lr = 0.001, momentum = 0.5), metrics = 'accuracy', loss='binary_crossentropy')"
      ],
      "execution_count": 25,
      "outputs": []
    },
    {
      "cell_type": "code",
      "metadata": {
        "id": "RH25BWCqfbGM",
        "outputId": "cf075b3e-9160-4454-914d-ed88e1671f70",
        "colab": {
          "base_uri": "https://localhost:8080/",
          "height": 1000
        }
      },
      "source": [
        "history = model.fit(x_train, y_train, \r\n",
        "                    validation_split=0.3, \r\n",
        "                    epochs=100, \r\n",
        "                    batch_size=30, \r\n",
        "                    shuffle=True, \r\n",
        "                    callbacks = [checkpoint],\r\n",
        "                    verbose=1)\r\n",
        "\r\n",
        "\r\n",
        "\r\n",
        "\r\n",
        "plt.plot(history.history['loss'])\r\n",
        "plt.plot(history.history['val_loss'])\r\n",
        "plt.show()\r\n",
        "\r\n",
        "plt.plot(history.history['accuracy'])\r\n",
        "plt.plot(history.history['val_accuracy'])\r\n",
        "plt.show()"
      ],
      "execution_count": 26,
      "outputs": [
        {
          "output_type": "stream",
          "text": [
            "Epoch 1/100\n",
            "10/10 [==============================] - 1s 30ms/step - loss: 0.6660 - accuracy: 0.6389 - val_loss: 0.6984 - val_accuracy: 0.2857\n",
            "\n",
            "Epoch 00001: val_accuracy improved from -inf to 0.28571, saving model to model-01-0.29.hdf5\n",
            "Epoch 2/100\n",
            "10/10 [==============================] - 0s 12ms/step - loss: 0.4136 - accuracy: 0.8025 - val_loss: 0.7319 - val_accuracy: 0.0000e+00\n",
            "\n",
            "Epoch 00002: val_accuracy did not improve from 0.28571\n",
            "Epoch 3/100\n",
            "10/10 [==============================] - 0s 11ms/step - loss: 0.3077 - accuracy: 0.8644 - val_loss: 0.7520 - val_accuracy: 0.0000e+00\n",
            "\n",
            "Epoch 00003: val_accuracy did not improve from 0.28571\n",
            "Epoch 4/100\n",
            "10/10 [==============================] - 0s 12ms/step - loss: 0.2890 - accuracy: 0.8677 - val_loss: 0.7597 - val_accuracy: 0.0000e+00\n",
            "\n",
            "Epoch 00004: val_accuracy did not improve from 0.28571\n",
            "Epoch 5/100\n",
            "10/10 [==============================] - 0s 12ms/step - loss: 0.2936 - accuracy: 0.8911 - val_loss: 0.8134 - val_accuracy: 0.0000e+00\n",
            "\n",
            "Epoch 00005: val_accuracy did not improve from 0.28571\n",
            "Epoch 6/100\n",
            "10/10 [==============================] - 0s 12ms/step - loss: 0.2814 - accuracy: 0.8588 - val_loss: 0.8272 - val_accuracy: 0.0000e+00\n",
            "\n",
            "Epoch 00006: val_accuracy did not improve from 0.28571\n",
            "Epoch 7/100\n",
            "10/10 [==============================] - 0s 11ms/step - loss: 0.2877 - accuracy: 0.8668 - val_loss: 0.8638 - val_accuracy: 0.0000e+00\n",
            "\n",
            "Epoch 00007: val_accuracy did not improve from 0.28571\n",
            "Epoch 8/100\n",
            "10/10 [==============================] - 0s 11ms/step - loss: 0.2438 - accuracy: 0.9107 - val_loss: 0.9078 - val_accuracy: 0.0000e+00\n",
            "\n",
            "Epoch 00008: val_accuracy did not improve from 0.28571\n",
            "Epoch 9/100\n",
            "10/10 [==============================] - 0s 11ms/step - loss: 0.2733 - accuracy: 0.9052 - val_loss: 0.9758 - val_accuracy: 0.0000e+00\n",
            "\n",
            "Epoch 00009: val_accuracy did not improve from 0.28571\n",
            "Epoch 10/100\n",
            "10/10 [==============================] - 0s 11ms/step - loss: 0.1922 - accuracy: 0.9356 - val_loss: 0.9890 - val_accuracy: 0.0000e+00\n",
            "\n",
            "Epoch 00010: val_accuracy did not improve from 0.28571\n",
            "Epoch 11/100\n",
            "10/10 [==============================] - 0s 11ms/step - loss: 0.1630 - accuracy: 0.9537 - val_loss: 1.0318 - val_accuracy: 0.0000e+00\n",
            "\n",
            "Epoch 00011: val_accuracy did not improve from 0.28571\n",
            "Epoch 12/100\n",
            "10/10 [==============================] - 0s 11ms/step - loss: 0.2010 - accuracy: 0.9473 - val_loss: 1.0256 - val_accuracy: 0.0000e+00\n",
            "\n",
            "Epoch 00012: val_accuracy did not improve from 0.28571\n",
            "Epoch 13/100\n",
            "10/10 [==============================] - 0s 11ms/step - loss: 0.1710 - accuracy: 0.9721 - val_loss: 1.1715 - val_accuracy: 0.0000e+00\n",
            "\n",
            "Epoch 00013: val_accuracy did not improve from 0.28571\n",
            "Epoch 14/100\n",
            "10/10 [==============================] - 0s 11ms/step - loss: 0.1947 - accuracy: 0.9252 - val_loss: 1.2089 - val_accuracy: 0.0000e+00\n",
            "\n",
            "Epoch 00014: val_accuracy did not improve from 0.28571\n",
            "Epoch 15/100\n",
            "10/10 [==============================] - 0s 12ms/step - loss: 0.1825 - accuracy: 0.9423 - val_loss: 1.2359 - val_accuracy: 0.0000e+00\n",
            "\n",
            "Epoch 00015: val_accuracy did not improve from 0.28571\n",
            "Epoch 16/100\n",
            "10/10 [==============================] - 0s 11ms/step - loss: 0.1573 - accuracy: 0.9506 - val_loss: 1.3084 - val_accuracy: 0.0000e+00\n",
            "\n",
            "Epoch 00016: val_accuracy did not improve from 0.28571\n",
            "Epoch 17/100\n",
            "10/10 [==============================] - 0s 12ms/step - loss: 0.1249 - accuracy: 0.9700 - val_loss: 1.3386 - val_accuracy: 0.0000e+00\n",
            "\n",
            "Epoch 00017: val_accuracy did not improve from 0.28571\n",
            "Epoch 18/100\n",
            "10/10 [==============================] - 0s 13ms/step - loss: 0.1374 - accuracy: 0.9776 - val_loss: 1.3732 - val_accuracy: 0.0000e+00\n",
            "\n",
            "Epoch 00018: val_accuracy did not improve from 0.28571\n",
            "Epoch 19/100\n",
            "10/10 [==============================] - 0s 12ms/step - loss: 0.1620 - accuracy: 0.9539 - val_loss: 1.4298 - val_accuracy: 0.0000e+00\n",
            "\n",
            "Epoch 00019: val_accuracy did not improve from 0.28571\n",
            "Epoch 20/100\n",
            "10/10 [==============================] - 0s 11ms/step - loss: 0.1665 - accuracy: 0.9286 - val_loss: 1.5107 - val_accuracy: 0.0000e+00\n",
            "\n",
            "Epoch 00020: val_accuracy did not improve from 0.28571\n",
            "Epoch 21/100\n",
            "10/10 [==============================] - 0s 12ms/step - loss: 0.1138 - accuracy: 0.9706 - val_loss: 1.5256 - val_accuracy: 0.0000e+00\n",
            "\n",
            "Epoch 00021: val_accuracy did not improve from 0.28571\n",
            "Epoch 22/100\n",
            "10/10 [==============================] - 0s 11ms/step - loss: 0.1129 - accuracy: 0.9632 - val_loss: 1.6300 - val_accuracy: 0.0000e+00\n",
            "\n",
            "Epoch 00022: val_accuracy did not improve from 0.28571\n",
            "Epoch 23/100\n",
            "10/10 [==============================] - 0s 11ms/step - loss: 0.1049 - accuracy: 0.9579 - val_loss: 1.6959 - val_accuracy: 0.0000e+00\n",
            "\n",
            "Epoch 00023: val_accuracy did not improve from 0.28571\n",
            "Epoch 24/100\n",
            "10/10 [==============================] - 0s 11ms/step - loss: 0.1296 - accuracy: 0.9641 - val_loss: 1.7096 - val_accuracy: 0.0000e+00\n",
            "\n",
            "Epoch 00024: val_accuracy did not improve from 0.28571\n",
            "Epoch 25/100\n",
            "10/10 [==============================] - 0s 12ms/step - loss: 0.1311 - accuracy: 0.9633 - val_loss: 1.8116 - val_accuracy: 0.0000e+00\n",
            "\n",
            "Epoch 00025: val_accuracy did not improve from 0.28571\n",
            "Epoch 26/100\n",
            "10/10 [==============================] - 0s 11ms/step - loss: 0.0920 - accuracy: 0.9659 - val_loss: 1.8035 - val_accuracy: 0.0000e+00\n",
            "\n",
            "Epoch 00026: val_accuracy did not improve from 0.28571\n",
            "Epoch 27/100\n",
            "10/10 [==============================] - 0s 12ms/step - loss: 0.2027 - accuracy: 0.9307 - val_loss: 1.7702 - val_accuracy: 0.0000e+00\n",
            "\n",
            "Epoch 00027: val_accuracy did not improve from 0.28571\n",
            "Epoch 28/100\n",
            "10/10 [==============================] - 0s 12ms/step - loss: 0.1076 - accuracy: 0.9766 - val_loss: 2.0268 - val_accuracy: 0.0000e+00\n",
            "\n",
            "Epoch 00028: val_accuracy did not improve from 0.28571\n",
            "Epoch 29/100\n",
            "10/10 [==============================] - 0s 11ms/step - loss: 0.1835 - accuracy: 0.8968 - val_loss: 1.5042 - val_accuracy: 0.0252\n",
            "\n",
            "Epoch 00029: val_accuracy did not improve from 0.28571\n",
            "Epoch 30/100\n",
            "10/10 [==============================] - 0s 12ms/step - loss: 0.1369 - accuracy: 0.9583 - val_loss: 1.5267 - val_accuracy: 0.0588\n",
            "\n",
            "Epoch 00030: val_accuracy did not improve from 0.28571\n",
            "Epoch 31/100\n",
            "10/10 [==============================] - 0s 12ms/step - loss: 0.1133 - accuracy: 0.9787 - val_loss: 1.7472 - val_accuracy: 0.0000e+00\n",
            "\n",
            "Epoch 00031: val_accuracy did not improve from 0.28571\n",
            "Epoch 32/100\n",
            "10/10 [==============================] - 0s 11ms/step - loss: 0.1111 - accuracy: 0.9628 - val_loss: 1.7541 - val_accuracy: 0.0000e+00\n",
            "\n",
            "Epoch 00032: val_accuracy did not improve from 0.28571\n",
            "Epoch 33/100\n",
            "10/10 [==============================] - 0s 12ms/step - loss: 0.1368 - accuracy: 0.9490 - val_loss: 1.6890 - val_accuracy: 0.0336\n",
            "\n",
            "Epoch 00033: val_accuracy did not improve from 0.28571\n",
            "Epoch 34/100\n",
            "10/10 [==============================] - 0s 21ms/step - loss: 0.1030 - accuracy: 0.9721 - val_loss: 2.1041 - val_accuracy: 0.0000e+00\n",
            "\n",
            "Epoch 00034: val_accuracy did not improve from 0.28571\n",
            "Epoch 35/100\n",
            "10/10 [==============================] - 0s 12ms/step - loss: 0.1088 - accuracy: 0.9649 - val_loss: 1.7164 - val_accuracy: 0.0000e+00\n",
            "\n",
            "Epoch 00035: val_accuracy did not improve from 0.28571\n",
            "Epoch 36/100\n",
            "10/10 [==============================] - 0s 12ms/step - loss: 0.1003 - accuracy: 0.9740 - val_loss: 1.5785 - val_accuracy: 0.0672\n",
            "\n",
            "Epoch 00036: val_accuracy did not improve from 0.28571\n",
            "Epoch 37/100\n",
            "10/10 [==============================] - 0s 11ms/step - loss: 0.1464 - accuracy: 0.9667 - val_loss: 1.2639 - val_accuracy: 0.1092\n",
            "\n",
            "Epoch 00037: val_accuracy did not improve from 0.28571\n",
            "Epoch 38/100\n",
            "10/10 [==============================] - 0s 12ms/step - loss: 0.1666 - accuracy: 0.9294 - val_loss: 1.8617 - val_accuracy: 0.0000e+00\n",
            "\n",
            "Epoch 00038: val_accuracy did not improve from 0.28571\n",
            "Epoch 39/100\n",
            "10/10 [==============================] - 0s 11ms/step - loss: 0.0918 - accuracy: 0.9651 - val_loss: 1.7746 - val_accuracy: 0.0000e+00\n",
            "\n",
            "Epoch 00039: val_accuracy did not improve from 0.28571\n",
            "Epoch 40/100\n",
            "10/10 [==============================] - 0s 11ms/step - loss: 0.1246 - accuracy: 0.9421 - val_loss: 1.8563 - val_accuracy: 0.0000e+00\n",
            "\n",
            "Epoch 00040: val_accuracy did not improve from 0.28571\n",
            "Epoch 41/100\n",
            "10/10 [==============================] - 0s 11ms/step - loss: 0.1147 - accuracy: 0.9785 - val_loss: 1.9963 - val_accuracy: 0.0000e+00\n",
            "\n",
            "Epoch 00041: val_accuracy did not improve from 0.28571\n",
            "Epoch 42/100\n",
            "10/10 [==============================] - 0s 12ms/step - loss: 0.0974 - accuracy: 0.9845 - val_loss: 1.3835 - val_accuracy: 0.0168\n",
            "\n",
            "Epoch 00042: val_accuracy did not improve from 0.28571\n",
            "Epoch 43/100\n",
            "10/10 [==============================] - 0s 11ms/step - loss: 0.0817 - accuracy: 0.9880 - val_loss: 1.2905 - val_accuracy: 0.1261\n",
            "\n",
            "Epoch 00043: val_accuracy did not improve from 0.28571\n",
            "Epoch 44/100\n",
            "10/10 [==============================] - 0s 12ms/step - loss: 0.0737 - accuracy: 0.9957 - val_loss: 1.4050 - val_accuracy: 0.0672\n",
            "\n",
            "Epoch 00044: val_accuracy did not improve from 0.28571\n",
            "Epoch 45/100\n",
            "10/10 [==============================] - 0s 12ms/step - loss: 0.0571 - accuracy: 0.9920 - val_loss: 1.3788 - val_accuracy: 0.1008\n",
            "\n",
            "Epoch 00045: val_accuracy did not improve from 0.28571\n",
            "Epoch 46/100\n",
            "10/10 [==============================] - 0s 11ms/step - loss: 0.0552 - accuracy: 0.9878 - val_loss: 2.1458 - val_accuracy: 0.0084\n",
            "\n",
            "Epoch 00046: val_accuracy did not improve from 0.28571\n",
            "Epoch 47/100\n",
            "10/10 [==============================] - 0s 12ms/step - loss: 0.1068 - accuracy: 0.9508 - val_loss: 1.6241 - val_accuracy: 0.0840\n",
            "\n",
            "Epoch 00047: val_accuracy did not improve from 0.28571\n",
            "Epoch 48/100\n",
            "10/10 [==============================] - 0s 11ms/step - loss: 0.0626 - accuracy: 0.9909 - val_loss: 2.2650 - val_accuracy: 0.0084\n",
            "\n",
            "Epoch 00048: val_accuracy did not improve from 0.28571\n",
            "Epoch 49/100\n",
            "10/10 [==============================] - 0s 11ms/step - loss: 0.0708 - accuracy: 0.9740 - val_loss: 1.2534 - val_accuracy: 0.2857\n",
            "\n",
            "Epoch 00049: val_accuracy did not improve from 0.28571\n",
            "Epoch 50/100\n",
            "10/10 [==============================] - 0s 11ms/step - loss: 0.0850 - accuracy: 0.9705 - val_loss: 1.5546 - val_accuracy: 0.0924\n",
            "\n",
            "Epoch 00050: val_accuracy did not improve from 0.28571\n",
            "Epoch 51/100\n",
            "10/10 [==============================] - 0s 11ms/step - loss: 0.0561 - accuracy: 0.9949 - val_loss: 1.3008 - val_accuracy: 0.2437\n",
            "\n",
            "Epoch 00051: val_accuracy did not improve from 0.28571\n",
            "Epoch 52/100\n",
            "10/10 [==============================] - 0s 12ms/step - loss: 0.0706 - accuracy: 0.9754 - val_loss: 1.1643 - val_accuracy: 0.3866\n",
            "\n",
            "Epoch 00052: val_accuracy improved from 0.28571 to 0.38655, saving model to model-52-0.39.hdf5\n",
            "Epoch 53/100\n",
            "10/10 [==============================] - 0s 12ms/step - loss: 0.0644 - accuracy: 0.9900 - val_loss: 1.3671 - val_accuracy: 0.1849\n",
            "\n",
            "Epoch 00053: val_accuracy did not improve from 0.38655\n",
            "Epoch 54/100\n",
            "10/10 [==============================] - 0s 11ms/step - loss: 0.0684 - accuracy: 0.9835 - val_loss: 1.4534 - val_accuracy: 0.1933\n",
            "\n",
            "Epoch 00054: val_accuracy did not improve from 0.38655\n",
            "Epoch 55/100\n",
            "10/10 [==============================] - 0s 12ms/step - loss: 0.0900 - accuracy: 0.9748 - val_loss: 2.3027 - val_accuracy: 0.0672\n",
            "\n",
            "Epoch 00055: val_accuracy did not improve from 0.38655\n",
            "Epoch 56/100\n",
            "10/10 [==============================] - 0s 11ms/step - loss: 0.0799 - accuracy: 0.9734 - val_loss: 2.1938 - val_accuracy: 0.0420\n",
            "\n",
            "Epoch 00056: val_accuracy did not improve from 0.38655\n",
            "Epoch 57/100\n",
            "10/10 [==============================] - 0s 12ms/step - loss: 0.0483 - accuracy: 0.9911 - val_loss: 1.5305 - val_accuracy: 0.1849\n",
            "\n",
            "Epoch 00057: val_accuracy did not improve from 0.38655\n",
            "Epoch 58/100\n",
            "10/10 [==============================] - 0s 11ms/step - loss: 0.0539 - accuracy: 0.9823 - val_loss: 1.7467 - val_accuracy: 0.1513\n",
            "\n",
            "Epoch 00058: val_accuracy did not improve from 0.38655\n",
            "Epoch 59/100\n",
            "10/10 [==============================] - 0s 11ms/step - loss: 0.0541 - accuracy: 0.9880 - val_loss: 2.1031 - val_accuracy: 0.1176\n",
            "\n",
            "Epoch 00059: val_accuracy did not improve from 0.38655\n",
            "Epoch 60/100\n",
            "10/10 [==============================] - 0s 12ms/step - loss: 0.0511 - accuracy: 0.9950 - val_loss: 1.8211 - val_accuracy: 0.1176\n",
            "\n",
            "Epoch 00060: val_accuracy did not improve from 0.38655\n",
            "Epoch 61/100\n",
            "10/10 [==============================] - 0s 12ms/step - loss: 0.0522 - accuracy: 0.9906 - val_loss: 1.4831 - val_accuracy: 0.3025\n",
            "\n",
            "Epoch 00061: val_accuracy did not improve from 0.38655\n",
            "Epoch 62/100\n",
            "10/10 [==============================] - 0s 12ms/step - loss: 0.0419 - accuracy: 0.9940 - val_loss: 1.4727 - val_accuracy: 0.3277\n",
            "\n",
            "Epoch 00062: val_accuracy did not improve from 0.38655\n",
            "Epoch 63/100\n",
            "10/10 [==============================] - 0s 12ms/step - loss: 0.0507 - accuracy: 0.9891 - val_loss: 0.5761 - val_accuracy: 0.6891\n",
            "\n",
            "Epoch 00063: val_accuracy improved from 0.38655 to 0.68908, saving model to model-63-0.69.hdf5\n",
            "Epoch 64/100\n",
            "10/10 [==============================] - 0s 11ms/step - loss: 0.0365 - accuracy: 0.9895 - val_loss: 1.1591 - val_accuracy: 0.4286\n",
            "\n",
            "Epoch 00064: val_accuracy did not improve from 0.68908\n",
            "Epoch 65/100\n",
            "10/10 [==============================] - 0s 12ms/step - loss: 0.0384 - accuracy: 0.9924 - val_loss: 1.3427 - val_accuracy: 0.3697\n",
            "\n",
            "Epoch 00065: val_accuracy did not improve from 0.68908\n",
            "Epoch 66/100\n",
            "10/10 [==============================] - 0s 11ms/step - loss: 0.1387 - accuracy: 0.9578 - val_loss: 1.1152 - val_accuracy: 0.4790\n",
            "\n",
            "Epoch 00066: val_accuracy did not improve from 0.68908\n",
            "Epoch 67/100\n",
            "10/10 [==============================] - 0s 11ms/step - loss: 0.0460 - accuracy: 0.9909 - val_loss: 0.0528 - val_accuracy: 0.9580\n",
            "\n",
            "Epoch 00067: val_accuracy improved from 0.68908 to 0.95798, saving model to model-67-0.96.hdf5\n",
            "Epoch 68/100\n",
            "10/10 [==============================] - 0s 12ms/step - loss: 0.1526 - accuracy: 0.9383 - val_loss: 0.8241 - val_accuracy: 0.5882\n",
            "\n",
            "Epoch 00068: val_accuracy did not improve from 0.95798\n",
            "Epoch 69/100\n",
            "10/10 [==============================] - 0s 12ms/step - loss: 0.0432 - accuracy: 0.9939 - val_loss: 1.3017 - val_accuracy: 0.4202\n",
            "\n",
            "Epoch 00069: val_accuracy did not improve from 0.95798\n",
            "Epoch 70/100\n",
            "10/10 [==============================] - 0s 12ms/step - loss: 0.0548 - accuracy: 0.9814 - val_loss: 1.3128 - val_accuracy: 0.4454\n",
            "\n",
            "Epoch 00070: val_accuracy did not improve from 0.95798\n",
            "Epoch 71/100\n",
            "10/10 [==============================] - 0s 11ms/step - loss: 0.0380 - accuracy: 0.9905 - val_loss: 1.2441 - val_accuracy: 0.4874\n",
            "\n",
            "Epoch 00071: val_accuracy did not improve from 0.95798\n",
            "Epoch 72/100\n",
            "10/10 [==============================] - 0s 11ms/step - loss: 0.0466 - accuracy: 0.9915 - val_loss: 1.1880 - val_accuracy: 0.4706\n",
            "\n",
            "Epoch 00072: val_accuracy did not improve from 0.95798\n",
            "Epoch 73/100\n",
            "10/10 [==============================] - 0s 12ms/step - loss: 0.0325 - accuracy: 0.9962 - val_loss: 0.7457 - val_accuracy: 0.6387\n",
            "\n",
            "Epoch 00073: val_accuracy did not improve from 0.95798\n",
            "Epoch 74/100\n",
            "10/10 [==============================] - 0s 13ms/step - loss: 0.0454 - accuracy: 0.9959 - val_loss: 0.6931 - val_accuracy: 0.6723\n",
            "\n",
            "Epoch 00074: val_accuracy did not improve from 0.95798\n",
            "Epoch 75/100\n",
            "10/10 [==============================] - 0s 12ms/step - loss: 0.0462 - accuracy: 0.9873 - val_loss: 0.4489 - val_accuracy: 0.7563\n",
            "\n",
            "Epoch 00075: val_accuracy did not improve from 0.95798\n",
            "Epoch 76/100\n",
            "10/10 [==============================] - 0s 12ms/step - loss: 0.0522 - accuracy: 0.9805 - val_loss: 0.6138 - val_accuracy: 0.7059\n",
            "\n",
            "Epoch 00076: val_accuracy did not improve from 0.95798\n",
            "Epoch 77/100\n",
            "10/10 [==============================] - 0s 11ms/step - loss: 0.0374 - accuracy: 0.9950 - val_loss: 1.0286 - val_accuracy: 0.5042\n",
            "\n",
            "Epoch 00077: val_accuracy did not improve from 0.95798\n",
            "Epoch 78/100\n",
            "10/10 [==============================] - 0s 12ms/step - loss: 0.0391 - accuracy: 0.9948 - val_loss: 0.7806 - val_accuracy: 0.6387\n",
            "\n",
            "Epoch 00078: val_accuracy did not improve from 0.95798\n",
            "Epoch 79/100\n",
            "10/10 [==============================] - 0s 22ms/step - loss: 0.0262 - accuracy: 0.9961 - val_loss: 0.7776 - val_accuracy: 0.6387\n",
            "\n",
            "Epoch 00079: val_accuracy did not improve from 0.95798\n",
            "Epoch 80/100\n",
            "10/10 [==============================] - 0s 12ms/step - loss: 0.0377 - accuracy: 0.9901 - val_loss: 0.0087 - val_accuracy: 1.0000\n",
            "\n",
            "Epoch 00080: val_accuracy improved from 0.95798 to 1.00000, saving model to model-80-1.00.hdf5\n",
            "Epoch 81/100\n",
            "10/10 [==============================] - 0s 12ms/step - loss: 0.0976 - accuracy: 0.9590 - val_loss: 0.7191 - val_accuracy: 0.6807\n",
            "\n",
            "Epoch 00081: val_accuracy did not improve from 1.00000\n",
            "Epoch 82/100\n",
            "10/10 [==============================] - 0s 11ms/step - loss: 0.0419 - accuracy: 0.9932 - val_loss: 1.1278 - val_accuracy: 0.5462\n",
            "\n",
            "Epoch 00082: val_accuracy did not improve from 1.00000\n",
            "Epoch 83/100\n",
            "10/10 [==============================] - 0s 11ms/step - loss: 0.0616 - accuracy: 0.9880 - val_loss: 0.7659 - val_accuracy: 0.6471\n",
            "\n",
            "Epoch 00083: val_accuracy did not improve from 1.00000\n",
            "Epoch 84/100\n",
            "10/10 [==============================] - 0s 12ms/step - loss: 0.0378 - accuracy: 0.9928 - val_loss: 0.9072 - val_accuracy: 0.5294\n",
            "\n",
            "Epoch 00084: val_accuracy did not improve from 1.00000\n",
            "Epoch 85/100\n",
            "10/10 [==============================] - 0s 12ms/step - loss: 0.0423 - accuracy: 0.9902 - val_loss: 0.5829 - val_accuracy: 0.7395\n",
            "\n",
            "Epoch 00085: val_accuracy did not improve from 1.00000\n",
            "Epoch 86/100\n",
            "10/10 [==============================] - 0s 12ms/step - loss: 0.0351 - accuracy: 0.9855 - val_loss: 1.0608 - val_accuracy: 0.5966\n",
            "\n",
            "Epoch 00086: val_accuracy did not improve from 1.00000\n",
            "Epoch 87/100\n",
            "10/10 [==============================] - 0s 12ms/step - loss: 0.0279 - accuracy: 0.9963 - val_loss: 1.0276 - val_accuracy: 0.5798\n",
            "\n",
            "Epoch 00087: val_accuracy did not improve from 1.00000\n",
            "Epoch 88/100\n",
            "10/10 [==============================] - 0s 12ms/step - loss: 0.0254 - accuracy: 0.9947 - val_loss: 0.2000 - val_accuracy: 0.8992\n",
            "\n",
            "Epoch 00088: val_accuracy did not improve from 1.00000\n",
            "Epoch 89/100\n",
            "10/10 [==============================] - 0s 11ms/step - loss: 0.0290 - accuracy: 0.9982 - val_loss: 0.4020 - val_accuracy: 0.8067\n",
            "\n",
            "Epoch 00089: val_accuracy did not improve from 1.00000\n",
            "Epoch 90/100\n",
            "10/10 [==============================] - 0s 11ms/step - loss: 0.0322 - accuracy: 0.9898 - val_loss: 0.8714 - val_accuracy: 0.6387\n",
            "\n",
            "Epoch 00090: val_accuracy did not improve from 1.00000\n",
            "Epoch 91/100\n",
            "10/10 [==============================] - 0s 11ms/step - loss: 0.0453 - accuracy: 0.9871 - val_loss: 0.5670 - val_accuracy: 0.7479\n",
            "\n",
            "Epoch 00091: val_accuracy did not improve from 1.00000\n",
            "Epoch 92/100\n",
            "10/10 [==============================] - 0s 12ms/step - loss: 0.0333 - accuracy: 0.9986 - val_loss: 0.1824 - val_accuracy: 0.9244\n",
            "\n",
            "Epoch 00092: val_accuracy did not improve from 1.00000\n",
            "Epoch 93/100\n",
            "10/10 [==============================] - 0s 11ms/step - loss: 0.0222 - accuracy: 0.9990 - val_loss: 0.5326 - val_accuracy: 0.7479\n",
            "\n",
            "Epoch 00093: val_accuracy did not improve from 1.00000\n",
            "Epoch 94/100\n",
            "10/10 [==============================] - 0s 11ms/step - loss: 0.0292 - accuracy: 1.0000 - val_loss: 0.5365 - val_accuracy: 0.7311\n",
            "\n",
            "Epoch 00094: val_accuracy did not improve from 1.00000\n",
            "Epoch 95/100\n",
            "10/10 [==============================] - 0s 11ms/step - loss: 0.0294 - accuracy: 0.9952 - val_loss: 0.5019 - val_accuracy: 0.7311\n",
            "\n",
            "Epoch 00095: val_accuracy did not improve from 1.00000\n",
            "Epoch 96/100\n",
            "10/10 [==============================] - 0s 12ms/step - loss: 0.0364 - accuracy: 1.0000 - val_loss: 0.2546 - val_accuracy: 0.8655\n",
            "\n",
            "Epoch 00096: val_accuracy did not improve from 1.00000\n",
            "Epoch 97/100\n",
            "10/10 [==============================] - 0s 11ms/step - loss: 0.0359 - accuracy: 0.9935 - val_loss: 0.6368 - val_accuracy: 0.7143\n",
            "\n",
            "Epoch 00097: val_accuracy did not improve from 1.00000\n",
            "Epoch 98/100\n",
            "10/10 [==============================] - 0s 11ms/step - loss: 0.0513 - accuracy: 0.9839 - val_loss: 0.4582 - val_accuracy: 0.7815\n",
            "\n",
            "Epoch 00098: val_accuracy did not improve from 1.00000\n",
            "Epoch 99/100\n",
            "10/10 [==============================] - 0s 11ms/step - loss: 0.0344 - accuracy: 0.9879 - val_loss: 0.7385 - val_accuracy: 0.6471\n",
            "\n",
            "Epoch 00099: val_accuracy did not improve from 1.00000\n",
            "Epoch 100/100\n",
            "10/10 [==============================] - 0s 12ms/step - loss: 0.0234 - accuracy: 0.9940 - val_loss: 1.2398 - val_accuracy: 0.4874\n",
            "\n",
            "Epoch 00100: val_accuracy did not improve from 1.00000\n"
          ],
          "name": "stdout"
        },
        {
          "output_type": "display_data",
          "data": {
            "image/png": "[encoded data removed]",
            "text/plain": [
              "<Figure size 432x288 with 1 Axes>"
            ]
          },
          "metadata": {
            "tags": [],
            "needs_background": "light"
          }
        },
        {
          "output_type": "display_data",
          "data": {
            "image/png": "[encoded data removed]",
            "text/plain": [
              "<Figure size 432x288 with 1 Axes>"
            ]
          },
          "metadata": {
            "tags": [],
            "needs_background": "light"
          }
        }
      ]
    },
    {
      "cell_type": "code",
      "metadata": {
        "id": "ConM7Babe9VD",
        "colab": {
          "base_uri": "https://localhost:8080/"
        },
        "outputId": "1ebbcdc7-00f7-4611-f903-28bc639aef2b"
      },
      "source": [
        "model.save(os.path.join(PATH, 'model.hdf5'))\r\n",
        "model.evaluate(x_test, y_test)  # returns 'loss' and 'metrics' (accuracy)"
      ],
      "execution_count": 27,
      "outputs": [
        {
          "output_type": "stream",
          "text": [
            "13/13 [==============================] - 0s 3ms/step - loss: 0.7937 - accuracy: 0.7182\n"
          ],
          "name": "stdout"
        },
        {
          "output_type": "execute_result",
          "data": {
            "text/plain": [
              "[0.7936921715736389, 0.7182044982910156]"
            ]
          },
          "metadata": {
            "tags": []
          },
          "execution_count": 27
        }
      ]
    },
    {
      "cell_type": "markdown",
      "metadata": {
        "id": "rS3iyYXqoda2"
      },
      "source": [
        "# Fit model on augmented dataset"
      ]
    },
    {
      "cell_type": "code",
      "metadata": {
        "id": "avE0zljglFk5"
      },
      "source": [
        "from keras.callbacks import ModelCheckpoint, ReduceLROnPlateau\n",
        "from keras.optimizers import SGD\n",
        "\n",
        "checkpoint = ModelCheckpoint(\n",
        "    \"model_augmented.{epoch:02d}-{val_accuracy:.2f}.h5\", \n",
        "    monitor='val_accuracy', \n",
        "    verbose=1,\n",
        "    save_best_only=True,\n",
        "    save_weights_only=False,\n",
        "    mode='auto', save_freq='epoch')\n",
        "\n",
        "\n",
        "reduce_lr = ReduceLROnPlateau(\n",
        "    monitor='loss', \n",
        "    factor=0.5,\n",
        "    patience = 5,\n",
        "    min_lr=0.00001\n",
        ")"
      ],
      "execution_count": 28,
      "outputs": []
    },
    {
      "cell_type": "markdown",
      "metadata": {
        "id": "q_CujADtu11l"
      },
      "source": [
        "STEPS_PER_EPOCH: Definisce il numero di immagini da usare ad ogni epoca, è utile quando il numero delle immagini non è fisso perchè vengono generate potenzialmente infiniti samples"
      ]
    },
    {
      "cell_type": "code",
      "metadata": {
        "id": "aFlLwmgSZvKP"
      },
      "source": [
        "Tot_train_imgs = len(x_train)"
      ],
      "execution_count": 29,
      "outputs": []
    },
    {
      "cell_type": "code",
      "metadata": {
        "id": "aeX4F1vFrDdM"
      },
      "source": [
        "import tensorflow\r\n",
        "tensorflow.random.set_seed(2)"
      ],
      "execution_count": 30,
      "outputs": []
    },
    {
      "cell_type": "code",
      "metadata": {
        "id": "K7yiPz99j_Fw"
      },
      "source": [
        "model = make_model()\n",
        "\n",
        "\n",
        "model.compile(optimizer=SGD(lr=0.001, momentum=0.9), loss='binary_crossentropy', metrics=['accuracy'])\n",
        "\n",
        "\n",
        "batch_size=32\n",
        "steps_per_epoch = int(Tot_train_imgs * (1- aug_validation_split))\n",
        "validation_steps = int(Tot_train_imgs * aug_validation_split)\n",
        "\n",
        "logger.info('Steps per epoch = %d', steps_per_epoch)\n",
        "logger.info('Val steps = %d', validation_steps)\n",
        "\n",
        "\n",
        "history = model.fit(\n",
        "        train_gen,\n",
        "        steps_per_epoch = steps_per_epoch // batch_size,\n",
        "        epochs=100,\n",
        "        validation_data=val_gen,\n",
        "        validation_steps= validation_steps // batch_size,\n",
        "        verbose=1,\n",
        "        callbacks=[checkpoint])\n",
        "\n",
        "\n",
        "plt.plot(history.history['loss'])\n",
        "plt.plot(history.history['val_loss'])\n",
        "plt.show()\n",
        "\n",
        "plt.plot(history.history['accuracy'])\n",
        "plt.plot(history.history['val_accuracy'])\n",
        "plt.show()"
      ],
      "execution_count": null,
      "outputs": []
    },
    {
      "cell_type": "markdown",
      "metadata": {
        "id": "PpIDYyYf29HD"
      },
      "source": [
        "Saving the model"
      ]
    },
    {
      "cell_type": "code",
      "metadata": {
        "id": "s7sjHFpGpPtI",
        "outputId": "b3ccc88d-acdc-471d-cf78-0f53334366c1",
        "colab": {
          "base_uri": "https://localhost:8080/"
        }
      },
      "source": [
        "#model.save(os.path.join(PATH, 'model_augmented.hdf5'))\r\n",
        "\r\n",
        "model.evaluate(x_test, y_test)"
      ],
      "execution_count": 32,
      "outputs": [
        {
          "output_type": "stream",
          "text": [
            "13/13 [==============================] - 0s 4ms/step - loss: 0.3512 - accuracy: 0.9002\n"
          ],
          "name": "stdout"
        },
        {
          "output_type": "execute_result",
          "data": {
            "text/plain": [
              "[0.3512449860572815, 0.9002493619918823]"
            ]
          },
          "metadata": {
            "tags": []
          },
          "execution_count": 32
        }
      ]
    },
    {
      "cell_type": "markdown",
      "metadata": {
        "id": "ziJxv3y8fYoo"
      },
      "source": [
        "# Comparing the performances of the two trainings"
      ]
    },
    {
      "cell_type": "code",
      "metadata": {
        "id": "6u8dNJW0fLd3"
      },
      "source": [
        "from keras.models import load_model\n",
        "aug_model = load_model(os.path.join(PATH, 'model_augmented.hdf5'))\n",
        "noaug_model = load_model(os.path.join(PATH, 'model.hdf5'))"
      ],
      "execution_count": null,
      "outputs": []
    },
    {
      "cell_type": "code",
      "metadata": {
        "id": "MoMbhMQMf_E9"
      },
      "source": [
        "noaug_model.evaluate(x_test, y_test)\r\n",
        "\r\n",
        "aug_model.evaluate(x_test, y_test)"
      ],
      "execution_count": null,
      "outputs": []
    },
    {
      "cell_type": "markdown",
      "metadata": {
        "id": "uZBgQ-PwuSFq"
      },
      "source": [
        "#Implement a cross-validation test"
      ]
    },
    {
      "cell_type": "code",
      "metadata": {
        "id": "md5HpjB_uzIJ"
      },
      "source": [
        "from sklearn.model_selection import KFold\r\n",
        "from keras.optimizers import SGD"
      ],
      "execution_count": 33,
      "outputs": []
    },
    {
      "cell_type": "code",
      "metadata": {
        "id": "IhshIa47uU-x",
        "outputId": "516e3617-39d9-46ff-a8f5-368da3418d30",
        "colab": {
          "base_uri": "https://localhost:8080/"
        }
      },
      "source": [
        "# Define per-fold score arrays\r\n",
        "acc_per_fold = []\r\n",
        "loss_per_fold = []\r\n",
        "\r\n",
        "# Merge train and test in a single array\r\n",
        "X_tot = np.concatenate((x_train, x_test), axis=0)\r\n",
        "Y_tot = np.concatenate((y_train, y_test), axis=0)\r\n",
        "\r\n",
        "\r\n",
        "num_folds = 5\r\n",
        "\r\n",
        "kfold = KFold(n_splits=num_folds, shuffle=True)\r\n",
        "\r\n",
        "batch_size = 32\r\n",
        "num_epochs = 30\r\n",
        "\r\n",
        "fold_num = 1\r\n",
        "\r\n",
        "for train, test in kfold.split(X_tot, Y_tot):\r\n",
        "  model = make_model()\r\n",
        "\r\n",
        "  model.compile(optimizer=SGD(lr = 0.001, momentum = 0.9), metrics = 'accuracy', loss='binary_crossentropy')\r\n",
        "\r\n",
        "  history = model.fit(\r\n",
        "          X_tot[train], Y_tot[train],\r\n",
        "          batch_size = batch_size,\r\n",
        "          verbose=0,\r\n",
        "          epochs = num_epochs)  \r\n",
        "  \r\n",
        "  scores = model.evaluate(X_tot[test], Y_tot[test], verbose=0)\r\n",
        "\r\n",
        "  #print(f'Score for fold {fold_nro}: {model.metrics_names[0]} of {scores[0]}; {model.metrics_names[1]} of {scores[1]}')\r\n",
        "  print('In folder {:d}: {} of {:.4f} - {} of {:.4f}'.format(fold_num,\r\n",
        "                                                          model.metrics_names[0],scores[0],\r\n",
        "                                                          model.metrics_names[1], scores[1] ))\r\n",
        "\r\n",
        "  acc_per_fold.append(scores[1])\r\n",
        "  loss_per_fold.append(scores[0])\r\n",
        "  fold_num += 1"
      ],
      "execution_count": 36,
      "outputs": [
        {
          "output_type": "stream",
          "text": [
            "WARNING:tensorflow:5 out of the last 13 calls to <function Model.make_test_function.<locals>.test_function at 0x7f379d131ae8> triggered tf.function retracing. Tracing is expensive and the excessive number of tracings could be due to (1) creating @tf.function repeatedly in a loop, (2) passing tensors with different shapes, (3) passing Python objects instead of tensors. For (1), please define your @tf.function outside of the loop. For (2), @tf.function has experimental_relax_shapes=True option that relaxes argument shapes that can avoid unnecessary retracing. For (3), please refer to https://www.tensorflow.org/guide/function#controlling_retracing and https://www.tensorflow.org/api_docs/python/tf/function for  more details.\n",
            "In folder 1: loss of 0.3205 - accuracy of 0.8562\n",
            "In folder 2: loss of 0.4139 - accuracy of 0.8125\n",
            "In folder 3: loss of 0.2368 - accuracy of 0.9057\n",
            "In folder 4: loss of 0.8509 - accuracy of 0.7799\n",
            "In folder 5: loss of 0.1981 - accuracy of 0.9245\n"
          ],
          "name": "stdout"
        }
      ]
    },
    {
      "cell_type": "markdown",
      "metadata": {
        "id": "kC2AHLkUjOgn"
      },
      "source": [
        "Computing average scores"
      ]
    },
    {
      "cell_type": "code",
      "metadata": {
        "id": "ViYB3QK8chZJ",
        "outputId": "8df2785d-69bf-4e35-9e8e-c4d01e8a86e6",
        "colab": {
          "base_uri": "https://localhost:8080/"
        }
      },
      "source": [
        "print('Average scores for all folds:')\r\n",
        "print(f'-- Accuracy: {np.mean(acc_per_fold)} (+- {np.std(acc_per_fold)})')\r\n",
        "print(f'-- Loss: {np.mean(loss_per_fold)}')"
      ],
      "execution_count": 37,
      "outputs": [
        {
          "output_type": "stream",
          "text": [
            "Average scores for all folds:\n",
            "-- Accuracy: 0.8557625770568847 (+- 0.054496696497205656)\n",
            "-- Loss: 0.40403358936309813\n"
          ],
          "name": "stdout"
        }
      ]
    }
  ]
}