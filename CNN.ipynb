{
  "nbformat": 4,
  "nbformat_minor": 0,
  "metadata": {
    "colab": {
      "name": "CNN.ipynb",
      "provenance": [],
      "collapsed_sections": [],
      "include_colab_link": true
    },
    "kernelspec": {
      "name": "python3",
      "display_name": "Python 3"
    },
    "accelerator": "GPU"
  },
  "cells": [
    {
      "cell_type": "markdown",
      "metadata": {
        "id": "view-in-github",
        "colab_type": "text"
      },
      "source": [
        "<a href=\"https://colab.research.google.com/github/federicocampo/CNN_prova/blob/Prime_modifiche/CNN.ipynb\" target=\"_parent\"><img src=\"https://colab.research.google.com/assets/colab-badge.svg\" alt=\"Open In Colab\"/></a>"
      ]
    },
    {
      "cell_type": "markdown",
      "metadata": {
        "id": "LfPNt06nZRfC"
      },
      "source": [
        "# Importing the dataset from Google Drive"
      ]
    },
    {
      "cell_type": "code",
      "metadata": {
        "id": "ycQRMl2Bg4Me",
        "colab": {
          "base_uri": "https://localhost:8080/"
        },
        "outputId": "24be61f5-747d-437d-d21f-21d1b5fb665c"
      },
      "source": [
        "from google.colab import drive\n",
        "drive.mount('/content/gdrive')"
      ],
      "execution_count": 5,
      "outputs": [
        {
          "output_type": "stream",
          "text": [
            "Drive already mounted at /content/gdrive; to attempt to forcibly remount, call drive.mount(\"/content/gdrive\", force_remount=True).\n"
          ],
          "name": "stdout"
        }
      ]
    },
    {
      "cell_type": "markdown",
      "metadata": {
        "id": "Zqw3aYF1gDFD"
      },
      "source": [
        "# Reading the images"
      ]
    },
    {
      "cell_type": "code",
      "metadata": {
        "id": "rqCZ72z2gCIH"
      },
      "source": [
        "from matplotlib import pyplot as plt\n",
        "from skimage.io import imread, imshow\n",
        "import os\n",
        "import glob\n",
        "import numpy as np\n",
        "\n",
        "import logging\n",
        "import time\n",
        "\n",
        "\n",
        "logger = logging.getLogger('Mylogger')\n",
        "logger.setLevel(logging.DEBUG)\n"
      ],
      "execution_count": 9,
      "outputs": []
    },
    {
      "cell_type": "code",
      "metadata": {
        "id": "GkOspN9xPlg8"
      },
      "source": [
        "PATH = 'gdrive/MyDrive/IMAGES/Mammography_micro'"
      ],
      "execution_count": 10,
      "outputs": []
    },
    {
      "cell_type": "markdown",
      "metadata": {
        "id": "VmE9CC0f6qb6"
      },
      "source": [
        "*  Imread restituisce un array 60 x 60"
      ]
    },
    {
      "cell_type": "code",
      "metadata": {
        "id": "C-r0YaUuhMAR"
      },
      "source": [
        "def read_imgs(dataset_path, classes):\n",
        "  logger.debug('In folder: %s', dataset_path)\n",
        "  tmp = []\n",
        "  labels = []\n",
        "  for cls in classes:\n",
        "    fnames = glob.glob(os.path.join(dataset_path, str(cls), '*.pgm'))\n",
        "    tmp += [ imread(fname) for fname in fnames ]\n",
        "    labels += len(fnames)*[cls]\n",
        "  images_array = np.array(tmp, dtype='float32')[..., np.newaxis]/255\n",
        "  labels_array = np.array(labels)\n",
        "\n",
        "  print('Found %d images' %len(images_array))\n",
        "  \n",
        "  return images_array, labels_array"
      ],
      "execution_count": 19,
      "outputs": []
    },
    {
      "cell_type": "markdown",
      "metadata": {
        "id": "-a_6n_b1WRYy"
      },
      "source": [
        "Ci sta ~5 minuti a caricare le immagini"
      ]
    },
    {
      "cell_type": "code",
      "metadata": {
        "id": "x81szNHPklZ4",
        "colab": {
          "base_uri": "https://localhost:8080/"
        },
        "outputId": "097651dc-cd05-4d1f-f8c2-1e80a0b8d557"
      },
      "source": [
        "initial_time = time.time()\n",
        "path_to_png_data = os.path.join(PATH, 'Train')\n",
        "x_train, y_train = read_imgs(path_to_png_data, [0, 1])\n",
        "\n",
        "test_dataset_path =os.path.join(PATH, 'Test')\n",
        "x_test, y_test = read_imgs(test_dataset_path, [0, 1])\n",
        "\n",
        "logger.info('x_train shape = ', x_train.shape)\n",
        "\n",
        "\n",
        "elapsed_time=time.time() - initial_time\n",
        "logger.info('Done in %.1f minutes',elapsed_time/60)"
      ],
      "execution_count": 20,
      "outputs": [
        {
          "output_type": "stream",
          "text": [
            "DEBUG:Mylogger:In folder: gdrive/MyDrive/IMAGES/Mammography_micro/Train\n",
            "DEBUG:Mylogger:In folder: gdrive/MyDrive/IMAGES/Mammography_micro/Test\n"
          ],
          "name": "stderr"
        },
        {
          "output_type": "stream",
          "text": [
            "Found 396 images\n"
          ],
          "name": "stdout"
        },
        {
          "output_type": "stream",
          "text": [
            "INFO:Mylogger:Done in 0.0 minutes\n"
          ],
          "name": "stderr"
        },
        {
          "output_type": "stream",
          "text": [
            "Found 401 images\n",
            "(396, 60, 60, 1) (396,)\n",
            "(401, 60, 60, 1) (401,)\n"
          ],
          "name": "stdout"
        }
      ]
    },
    {
      "cell_type": "code",
      "metadata": {
        "id": "K1UUvn4QZjNY",
        "colab": {
          "base_uri": "https://localhost:8080/"
        },
        "outputId": "1df35d09-0e59-4272-e4e9-97ba9f4443b1"
      },
      "source": [
        "len(x_train)\r\n"
      ],
      "execution_count": 22,
      "outputs": [
        {
          "output_type": "stream",
          "text": [
            "60\n"
          ],
          "name": "stdout"
        }
      ]
    },
    {
      "cell_type": "code",
      "metadata": {
        "id": "BfyUHHdW3Pa_"
      },
      "source": [
        "'''\r\n",
        "Questa parte serve solo per visualizzare qualche immagine dalla #a alla #a+3\r\n",
        "'''\r\n",
        "\r\n",
        "image_type = 'Test/1'\r\n",
        "a=6\r\n",
        "i=0\r\n",
        "plt.figure(i)\r\n",
        "\r\n",
        "for imagename in (os.listdir(os.path.join(PATH, image_type)))[a:a+4]:\r\n",
        "  Im = imread(os.path.join(PATH, image_type, imagename))\r\n",
        "  print(Im.shape)\r\n",
        " #plt.subplot(2, 2, i)\r\n",
        "  plt.figure(i)\r\n",
        "  imshow(Im)\r\n",
        "  i+=1"
      ],
      "execution_count": null,
      "outputs": []
    },
    {
      "cell_type": "markdown",
      "metadata": {
        "id": "Blz5VJ8pajXz"
      },
      "source": [
        "# Defining a CNN model"
      ]
    },
    {
      "cell_type": "code",
      "metadata": {
        "id": "7plXV2WyaoGt"
      },
      "source": [
        "from keras.layers import Conv2D, BatchNormalization, MaxPool2D, Dense, Flatten, InputLayer, Activation, Dropout\n",
        "from keras.models import Sequential"
      ],
      "execution_count": 12,
      "outputs": []
    },
    {
      "cell_type": "markdown",
      "metadata": {
        "id": "gY86U7qK2h8v"
      },
      "source": [
        "##CNN prova\r\n",
        "Per ora è la miglire tra le 3 (con 100 epoche) per loss e validation sul dataset augmented"
      ]
    },
    {
      "cell_type": "code",
      "metadata": {
        "id": "XBloTVdsaewM"
      },
      "source": [
        "def make_model(shape=(60, 60, 1)):\n",
        "  model = Sequential([\n",
        "      \n",
        "      Conv2D(50, (5,5), padding='same', input_shape=shape),\n",
        "      BatchNormalization(),\n",
        "      Activation('relu'),\n",
        "      MaxPool2D((2,2)),\n",
        "      \n",
        "      Conv2D(60, (3,3), padding='same'),\n",
        "      BatchNormalization(),\n",
        "      Activation('relu'),\n",
        "      MaxPool2D((2,2)),\n",
        "        \n",
        "      Conv2D(100, (3,3), padding='same'),\n",
        "      BatchNormalization(),\n",
        "      Activation('relu'),\n",
        "\n",
        "      Conv2D(100, (3,3), padding='same'),\n",
        "      BatchNormalization(),\n",
        "      Activation('relu'),\n",
        "\n",
        "      Conv2D(50, (4,4), padding='same'),\n",
        "      BatchNormalization(),\n",
        "      Activation('relu'),\n",
        "      MaxPool2D(2, 2),\n",
        "\n",
        "      Flatten(), \n",
        "      \n",
        "\n",
        "      Dense(1, activation='sigmoid')\n",
        "      \n",
        "  ])\n",
        "  \n",
        "  return model\n"
      ],
      "execution_count": 16,
      "outputs": []
    },
    {
      "cell_type": "markdown",
      "metadata": {
        "id": "329QuHzR4huR"
      },
      "source": [
        "## MODEL = MAKE_MODEL() AND COMPILE"
      ]
    },
    {
      "cell_type": "code",
      "metadata": {
        "id": "39YQh1vL4gHZ"
      },
      "source": [
        "from keras.optimizers import SGD\r\n",
        "\r\n",
        "model = make_model()\r\n",
        "\r\n",
        "model.compile(optimizer=SGD(lr = 0.001, momentum = 0.9), metrics = 'accuracy', loss='binary_crossentropy')\r\n"
      ],
      "execution_count": 20,
      "outputs": []
    },
    {
      "cell_type": "markdown",
      "metadata": {
        "id": "mXt999cLSEeT"
      },
      "source": [
        "#Fit model on Dataset"
      ]
    },
    {
      "cell_type": "code",
      "metadata": {
        "id": "nUQjwzu90fsX"
      },
      "source": [
        "from keras.callbacks import EarlyStopping, ReduceLROnPlateau, ModelCheckpoint\r\n",
        "\r\n",
        "\r\n",
        "early_stopping = EarlyStopping(\r\n",
        "    min_delta=0.001, # minimium amount of change to count as an improvement\r\n",
        "    patience=10, # how many epochs to wait before stopping\r\n",
        "    restore_best_weights=True,\r\n",
        ")\r\n",
        "\r\n",
        "reduce_lr = ReduceLROnPlateau(\r\n",
        "    monitor='loss', \r\n",
        "    factor=0.5,\r\n",
        "    patience = 5,\r\n",
        "    min_lr=0.00001\r\n",
        "\r\n",
        ")\r\n",
        "\r\n",
        "checkpoint = ModelCheckpoint(\r\n",
        "    \"model-{epoch:02d}-{val_accuracy:.2f}.hdf5\", \r\n",
        "    monitor='val_accuracy', \r\n",
        "    verbose=0,\r\n",
        "    save_best_only=True,\r\n",
        "    save_weights_only=False,\r\n",
        "    mode='auto', save_freq='epoch')\r\n"
      ],
      "execution_count": 18,
      "outputs": []
    },
    {
      "cell_type": "code",
      "metadata": {
        "id": "RH25BWCqfbGM",
        "colab": {
          "base_uri": "https://localhost:8080/",
          "height": 1000
        },
        "outputId": "128d5ad6-58e1-4763-91df-3466a0bfadfd"
      },
      "source": [
        "history = model.fit(x_train, y_train, \r\n",
        "                    validation_split=0.3, \r\n",
        "                    epochs=100, \r\n",
        "                    batch_size=30, \r\n",
        "                    shuffle=True, \r\n",
        "                    callbacks = [checkpoint],\r\n",
        "                    verbose=1)\r\n",
        "\r\n",
        "\r\n",
        "\r\n",
        "#print(history.history.keys())\r\n",
        "\r\n",
        "plt.plot(history.history['loss'])\r\n",
        "plt.plot(history.history['val_loss'])\r\n",
        "plt.show()\r\n",
        "\r\n",
        "plt.plot(history.history['accuracy'])\r\n",
        "plt.plot(history.history['val_accuracy'])\r\n",
        "plt.show()"
      ],
      "execution_count": 22,
      "outputs": [
        {
          "output_type": "stream",
          "text": [
            "Epoch 1/100\n",
            "10/10 [==============================] - 0s 22ms/step - loss: 0.0104 - accuracy: 1.0000 - val_loss: 0.4247 - val_accuracy: 0.8403\n",
            "Epoch 2/100\n",
            "10/10 [==============================] - 0s 16ms/step - loss: 0.0102 - accuracy: 1.0000 - val_loss: 0.4142 - val_accuracy: 0.8403\n",
            "Epoch 3/100\n",
            "10/10 [==============================] - 0s 15ms/step - loss: 0.0039 - accuracy: 1.0000 - val_loss: 0.4633 - val_accuracy: 0.8151\n",
            "Epoch 4/100\n",
            "10/10 [==============================] - 0s 14ms/step - loss: 0.0048 - accuracy: 1.0000 - val_loss: 0.5817 - val_accuracy: 0.8067\n",
            "Epoch 5/100\n",
            "10/10 [==============================] - 0s 15ms/step - loss: 0.0051 - accuracy: 1.0000 - val_loss: 0.9490 - val_accuracy: 0.6891\n",
            "Epoch 6/100\n",
            "10/10 [==============================] - 0s 14ms/step - loss: 0.0056 - accuracy: 1.0000 - val_loss: 1.7077 - val_accuracy: 0.4874\n",
            "Epoch 7/100\n",
            "10/10 [==============================] - 0s 13ms/step - loss: 0.0046 - accuracy: 1.0000 - val_loss: 1.8358 - val_accuracy: 0.4370\n",
            "Epoch 8/100\n",
            "10/10 [==============================] - 0s 14ms/step - loss: 0.0041 - accuracy: 1.0000 - val_loss: 1.8145 - val_accuracy: 0.4538\n",
            "Epoch 9/100\n",
            "10/10 [==============================] - 0s 14ms/step - loss: 0.0027 - accuracy: 1.0000 - val_loss: 1.5906 - val_accuracy: 0.5378\n",
            "Epoch 10/100\n",
            "10/10 [==============================] - 0s 13ms/step - loss: 0.0038 - accuracy: 1.0000 - val_loss: 1.4353 - val_accuracy: 0.5966\n",
            "Epoch 11/100\n",
            "10/10 [==============================] - 0s 13ms/step - loss: 0.0033 - accuracy: 1.0000 - val_loss: 1.4007 - val_accuracy: 0.5882\n",
            "Epoch 12/100\n",
            "10/10 [==============================] - 0s 13ms/step - loss: 0.0072 - accuracy: 1.0000 - val_loss: 1.0839 - val_accuracy: 0.6050\n",
            "Epoch 13/100\n",
            "10/10 [==============================] - 0s 14ms/step - loss: 0.0039 - accuracy: 1.0000 - val_loss: 0.8674 - val_accuracy: 0.7311\n",
            "Epoch 14/100\n",
            "10/10 [==============================] - 0s 13ms/step - loss: 0.0073 - accuracy: 1.0000 - val_loss: 0.9109 - val_accuracy: 0.7143\n",
            "Epoch 15/100\n",
            "10/10 [==============================] - 0s 14ms/step - loss: 0.0035 - accuracy: 1.0000 - val_loss: 0.6538 - val_accuracy: 0.7647\n",
            "Epoch 16/100\n",
            "10/10 [==============================] - 0s 13ms/step - loss: 0.0032 - accuracy: 1.0000 - val_loss: 1.4800 - val_accuracy: 0.5546\n",
            "Epoch 17/100\n",
            "10/10 [==============================] - 0s 13ms/step - loss: 0.0035 - accuracy: 1.0000 - val_loss: 1.4613 - val_accuracy: 0.5546\n",
            "Epoch 18/100\n",
            "10/10 [==============================] - 0s 14ms/step - loss: 0.0039 - accuracy: 1.0000 - val_loss: 1.2509 - val_accuracy: 0.6134\n",
            "Epoch 19/100\n",
            "10/10 [==============================] - 0s 13ms/step - loss: 0.0018 - accuracy: 1.0000 - val_loss: 0.9043 - val_accuracy: 0.6975\n",
            "Epoch 20/100\n",
            "10/10 [==============================] - 0s 14ms/step - loss: 0.0030 - accuracy: 1.0000 - val_loss: 0.7989 - val_accuracy: 0.7227\n",
            "Epoch 21/100\n",
            "10/10 [==============================] - 0s 13ms/step - loss: 0.0025 - accuracy: 1.0000 - val_loss: 0.9000 - val_accuracy: 0.7059\n",
            "Epoch 22/100\n",
            "10/10 [==============================] - 0s 14ms/step - loss: 0.0034 - accuracy: 1.0000 - val_loss: 1.4226 - val_accuracy: 0.5798\n",
            "Epoch 23/100\n",
            "10/10 [==============================] - 0s 14ms/step - loss: 0.0042 - accuracy: 1.0000 - val_loss: 1.4674 - val_accuracy: 0.5462\n",
            "Epoch 24/100\n",
            "10/10 [==============================] - 0s 13ms/step - loss: 0.0046 - accuracy: 1.0000 - val_loss: 1.4685 - val_accuracy: 0.5630\n",
            "Epoch 25/100\n",
            "10/10 [==============================] - 0s 13ms/step - loss: 0.0032 - accuracy: 1.0000 - val_loss: 1.1286 - val_accuracy: 0.6723\n",
            "Epoch 26/100\n",
            "10/10 [==============================] - 0s 13ms/step - loss: 0.0159 - accuracy: 0.9928 - val_loss: 0.4580 - val_accuracy: 0.8151\n",
            "Epoch 27/100\n",
            "10/10 [==============================] - 0s 13ms/step - loss: 0.0556 - accuracy: 0.9783 - val_loss: 0.0819 - val_accuracy: 0.9580\n",
            "Epoch 28/100\n",
            "10/10 [==============================] - 0s 13ms/step - loss: 0.0982 - accuracy: 0.9639 - val_loss: 0.0146 - val_accuracy: 0.9916\n",
            "Epoch 29/100\n",
            "10/10 [==============================] - 0s 14ms/step - loss: 0.0243 - accuracy: 0.9928 - val_loss: 0.0046 - val_accuracy: 1.0000\n",
            "Epoch 30/100\n",
            "10/10 [==============================] - 0s 13ms/step - loss: 0.0239 - accuracy: 0.9928 - val_loss: 0.0193 - val_accuracy: 0.9916\n",
            "Epoch 31/100\n",
            "10/10 [==============================] - 0s 25ms/step - loss: 0.0105 - accuracy: 1.0000 - val_loss: 0.0494 - val_accuracy: 0.9748\n",
            "Epoch 32/100\n",
            "10/10 [==============================] - 0s 14ms/step - loss: 0.0138 - accuracy: 1.0000 - val_loss: 0.2026 - val_accuracy: 0.8992\n",
            "Epoch 33/100\n",
            "10/10 [==============================] - 0s 14ms/step - loss: 0.0124 - accuracy: 0.9964 - val_loss: 0.3081 - val_accuracy: 0.8739\n",
            "Epoch 34/100\n",
            "10/10 [==============================] - 0s 13ms/step - loss: 0.0041 - accuracy: 1.0000 - val_loss: 0.2948 - val_accuracy: 0.8739\n",
            "Epoch 35/100\n",
            "10/10 [==============================] - 0s 14ms/step - loss: 0.0179 - accuracy: 0.9928 - val_loss: 0.8186 - val_accuracy: 0.7059\n",
            "Epoch 36/100\n",
            "10/10 [==============================] - 0s 14ms/step - loss: 0.0267 - accuracy: 0.9856 - val_loss: 0.0205 - val_accuracy: 0.9916\n",
            "Epoch 37/100\n",
            "10/10 [==============================] - 0s 13ms/step - loss: 0.0219 - accuracy: 0.9928 - val_loss: 0.0195 - val_accuracy: 0.9916\n",
            "Epoch 38/100\n",
            "10/10 [==============================] - 0s 13ms/step - loss: 0.0118 - accuracy: 0.9964 - val_loss: 0.0666 - val_accuracy: 0.9664\n",
            "Epoch 39/100\n",
            "10/10 [==============================] - 0s 13ms/step - loss: 0.0098 - accuracy: 1.0000 - val_loss: 0.0481 - val_accuracy: 0.9748\n",
            "Epoch 40/100\n",
            "10/10 [==============================] - 0s 14ms/step - loss: 0.0111 - accuracy: 0.9964 - val_loss: 0.0443 - val_accuracy: 0.9748\n",
            "Epoch 41/100\n",
            "10/10 [==============================] - 0s 14ms/step - loss: 0.0092 - accuracy: 1.0000 - val_loss: 0.0845 - val_accuracy: 0.9664\n",
            "Epoch 42/100\n",
            "10/10 [==============================] - 0s 13ms/step - loss: 0.0089 - accuracy: 1.0000 - val_loss: 0.2073 - val_accuracy: 0.9076\n",
            "Epoch 43/100\n",
            "10/10 [==============================] - 0s 14ms/step - loss: 0.0075 - accuracy: 1.0000 - val_loss: 0.1858 - val_accuracy: 0.9160\n",
            "Epoch 44/100\n",
            "10/10 [==============================] - 0s 13ms/step - loss: 0.0109 - accuracy: 0.9964 - val_loss: 0.5421 - val_accuracy: 0.8235\n",
            "Epoch 45/100\n",
            "10/10 [==============================] - 0s 15ms/step - loss: 0.0043 - accuracy: 1.0000 - val_loss: 1.5365 - val_accuracy: 0.5546\n",
            "Epoch 46/100\n",
            "10/10 [==============================] - 0s 14ms/step - loss: 0.0045 - accuracy: 1.0000 - val_loss: 1.3054 - val_accuracy: 0.5798\n",
            "Epoch 47/100\n",
            "10/10 [==============================] - 0s 13ms/step - loss: 0.0066 - accuracy: 1.0000 - val_loss: 1.2332 - val_accuracy: 0.5630\n",
            "Epoch 48/100\n",
            "10/10 [==============================] - 0s 15ms/step - loss: 0.0031 - accuracy: 1.0000 - val_loss: 1.3615 - val_accuracy: 0.5294\n",
            "Epoch 49/100\n",
            "10/10 [==============================] - 0s 14ms/step - loss: 0.0056 - accuracy: 1.0000 - val_loss: 0.8645 - val_accuracy: 0.6891\n",
            "Epoch 50/100\n",
            "10/10 [==============================] - 0s 13ms/step - loss: 0.0126 - accuracy: 0.9928 - val_loss: 0.8086 - val_accuracy: 0.6891\n",
            "Epoch 51/100\n",
            "10/10 [==============================] - 0s 14ms/step - loss: 0.0381 - accuracy: 0.9928 - val_loss: 0.1657 - val_accuracy: 0.9328\n",
            "Epoch 52/100\n",
            "10/10 [==============================] - 0s 14ms/step - loss: 0.0219 - accuracy: 0.9892 - val_loss: 0.1397 - val_accuracy: 0.9496\n",
            "Epoch 53/100\n",
            "10/10 [==============================] - 0s 13ms/step - loss: 0.0122 - accuracy: 0.9964 - val_loss: 0.1339 - val_accuracy: 0.9412\n",
            "Epoch 54/100\n",
            "10/10 [==============================] - 0s 14ms/step - loss: 0.0068 - accuracy: 1.0000 - val_loss: 0.3849 - val_accuracy: 0.8655\n",
            "Epoch 55/100\n",
            "10/10 [==============================] - 0s 14ms/step - loss: 0.0047 - accuracy: 1.0000 - val_loss: 0.4754 - val_accuracy: 0.8319\n",
            "Epoch 56/100\n",
            "10/10 [==============================] - 0s 13ms/step - loss: 0.0057 - accuracy: 1.0000 - val_loss: 0.8151 - val_accuracy: 0.7395\n",
            "Epoch 57/100\n",
            "10/10 [==============================] - 0s 13ms/step - loss: 0.0224 - accuracy: 0.9928 - val_loss: 1.3892 - val_accuracy: 0.4958\n",
            "Epoch 58/100\n",
            "10/10 [==============================] - 0s 14ms/step - loss: 0.0175 - accuracy: 0.9928 - val_loss: 0.8437 - val_accuracy: 0.6639\n",
            "Epoch 59/100\n",
            "10/10 [==============================] - 0s 14ms/step - loss: 0.0038 - accuracy: 1.0000 - val_loss: 0.5011 - val_accuracy: 0.7983\n",
            "Epoch 60/100\n",
            "10/10 [==============================] - 0s 13ms/step - loss: 0.0088 - accuracy: 1.0000 - val_loss: 0.8560 - val_accuracy: 0.6723\n",
            "Epoch 61/100\n",
            "10/10 [==============================] - 0s 13ms/step - loss: 0.0054 - accuracy: 1.0000 - val_loss: 1.4095 - val_accuracy: 0.5042\n",
            "Epoch 62/100\n",
            "10/10 [==============================] - 0s 13ms/step - loss: 0.0033 - accuracy: 1.0000 - val_loss: 1.5488 - val_accuracy: 0.4706\n",
            "Epoch 63/100\n",
            "10/10 [==============================] - 0s 14ms/step - loss: 0.0046 - accuracy: 1.0000 - val_loss: 1.4421 - val_accuracy: 0.5126\n",
            "Epoch 64/100\n",
            "10/10 [==============================] - 0s 14ms/step - loss: 0.0034 - accuracy: 1.0000 - val_loss: 1.4912 - val_accuracy: 0.5042\n",
            "Epoch 65/100\n",
            "10/10 [==============================] - 0s 14ms/step - loss: 0.0038 - accuracy: 1.0000 - val_loss: 2.6333 - val_accuracy: 0.3193\n",
            "Epoch 66/100\n",
            "10/10 [==============================] - 0s 13ms/step - loss: 0.0059 - accuracy: 1.0000 - val_loss: 1.9451 - val_accuracy: 0.3950\n",
            "Epoch 67/100\n",
            "10/10 [==============================] - 0s 13ms/step - loss: 0.0018 - accuracy: 1.0000 - val_loss: 0.9056 - val_accuracy: 0.6807\n",
            "Epoch 68/100\n",
            "10/10 [==============================] - 0s 13ms/step - loss: 0.0027 - accuracy: 1.0000 - val_loss: 0.8653 - val_accuracy: 0.6891\n",
            "Epoch 69/100\n",
            "10/10 [==============================] - 0s 13ms/step - loss: 0.0035 - accuracy: 1.0000 - val_loss: 1.1051 - val_accuracy: 0.6555\n",
            "Epoch 70/100\n",
            "10/10 [==============================] - 0s 14ms/step - loss: 0.0072 - accuracy: 1.0000 - val_loss: 0.8326 - val_accuracy: 0.7227\n",
            "Epoch 71/100\n",
            "10/10 [==============================] - 0s 14ms/step - loss: 0.0040 - accuracy: 1.0000 - val_loss: 0.5627 - val_accuracy: 0.8235\n",
            "Epoch 72/100\n",
            "10/10 [==============================] - 0s 13ms/step - loss: 0.0027 - accuracy: 1.0000 - val_loss: 0.5674 - val_accuracy: 0.8151\n",
            "Epoch 73/100\n",
            "10/10 [==============================] - 0s 14ms/step - loss: 0.0064 - accuracy: 1.0000 - val_loss: 0.6203 - val_accuracy: 0.7731\n",
            "Epoch 74/100\n",
            "10/10 [==============================] - 0s 14ms/step - loss: 0.0019 - accuracy: 1.0000 - val_loss: 0.8250 - val_accuracy: 0.6891\n",
            "Epoch 75/100\n",
            "10/10 [==============================] - 0s 13ms/step - loss: 0.0017 - accuracy: 1.0000 - val_loss: 1.0859 - val_accuracy: 0.6303\n",
            "Epoch 76/100\n",
            "10/10 [==============================] - 0s 13ms/step - loss: 0.0014 - accuracy: 1.0000 - val_loss: 1.3288 - val_accuracy: 0.5798\n",
            "Epoch 77/100\n",
            "10/10 [==============================] - 0s 13ms/step - loss: 0.0018 - accuracy: 1.0000 - val_loss: 1.4398 - val_accuracy: 0.5714\n",
            "Epoch 78/100\n",
            "10/10 [==============================] - 0s 16ms/step - loss: 0.0075 - accuracy: 0.9964 - val_loss: 1.2882 - val_accuracy: 0.5882\n",
            "Epoch 79/100\n",
            "10/10 [==============================] - 0s 13ms/step - loss: 0.0028 - accuracy: 1.0000 - val_loss: 1.3485 - val_accuracy: 0.5714\n",
            "Epoch 80/100\n",
            "10/10 [==============================] - 0s 14ms/step - loss: 0.0020 - accuracy: 1.0000 - val_loss: 1.4004 - val_accuracy: 0.5546\n",
            "Epoch 81/100\n",
            "10/10 [==============================] - 0s 14ms/step - loss: 0.0014 - accuracy: 1.0000 - val_loss: 1.4028 - val_accuracy: 0.5714\n",
            "Epoch 82/100\n",
            "10/10 [==============================] - 0s 14ms/step - loss: 0.0013 - accuracy: 1.0000 - val_loss: 1.4281 - val_accuracy: 0.5798\n",
            "Epoch 83/100\n",
            "10/10 [==============================] - 0s 14ms/step - loss: 0.0016 - accuracy: 1.0000 - val_loss: 1.4571 - val_accuracy: 0.5798\n",
            "Epoch 84/100\n",
            "10/10 [==============================] - 0s 13ms/step - loss: 0.0017 - accuracy: 1.0000 - val_loss: 1.4090 - val_accuracy: 0.5714\n",
            "Epoch 85/100\n",
            "10/10 [==============================] - 0s 25ms/step - loss: 0.0030 - accuracy: 1.0000 - val_loss: 1.6723 - val_accuracy: 0.5378\n",
            "Epoch 86/100\n",
            "10/10 [==============================] - 0s 13ms/step - loss: 0.0019 - accuracy: 1.0000 - val_loss: 1.7563 - val_accuracy: 0.5378\n",
            "Epoch 87/100\n",
            "10/10 [==============================] - 0s 14ms/step - loss: 0.0012 - accuracy: 1.0000 - val_loss: 1.5978 - val_accuracy: 0.5798\n",
            "Epoch 88/100\n",
            "10/10 [==============================] - 0s 14ms/step - loss: 0.0018 - accuracy: 1.0000 - val_loss: 1.3683 - val_accuracy: 0.6050\n",
            "Epoch 89/100\n",
            "10/10 [==============================] - 0s 14ms/step - loss: 0.0015 - accuracy: 1.0000 - val_loss: 0.4997 - val_accuracy: 0.8319\n",
            "Epoch 90/100\n",
            "10/10 [==============================] - 0s 14ms/step - loss: 0.0015 - accuracy: 1.0000 - val_loss: 0.3960 - val_accuracy: 0.8739\n",
            "Epoch 91/100\n",
            "10/10 [==============================] - 0s 14ms/step - loss: 0.0029 - accuracy: 1.0000 - val_loss: 0.5139 - val_accuracy: 0.8319\n",
            "Epoch 92/100\n",
            "10/10 [==============================] - 0s 14ms/step - loss: 0.0016 - accuracy: 1.0000 - val_loss: 0.8246 - val_accuracy: 0.6891\n",
            "Epoch 93/100\n",
            "10/10 [==============================] - 0s 13ms/step - loss: 0.0062 - accuracy: 0.9964 - val_loss: 0.4792 - val_accuracy: 0.8151\n",
            "Epoch 94/100\n",
            "10/10 [==============================] - 0s 14ms/step - loss: 0.0102 - accuracy: 1.0000 - val_loss: 0.0463 - val_accuracy: 0.9832\n",
            "Epoch 95/100\n",
            "10/10 [==============================] - 0s 14ms/step - loss: 0.0155 - accuracy: 1.0000 - val_loss: 0.0481 - val_accuracy: 0.9832\n",
            "Epoch 96/100\n",
            "10/10 [==============================] - 0s 14ms/step - loss: 0.0081 - accuracy: 1.0000 - val_loss: 0.0706 - val_accuracy: 0.9748\n",
            "Epoch 97/100\n",
            "10/10 [==============================] - 0s 13ms/step - loss: 0.0043 - accuracy: 1.0000 - val_loss: 0.1887 - val_accuracy: 0.9244\n",
            "Epoch 98/100\n",
            "10/10 [==============================] - 0s 14ms/step - loss: 0.0146 - accuracy: 0.9928 - val_loss: 0.3484 - val_accuracy: 0.8655\n",
            "Epoch 99/100\n",
            "10/10 [==============================] - 0s 13ms/step - loss: 0.0037 - accuracy: 1.0000 - val_loss: 0.4233 - val_accuracy: 0.8403\n",
            "Epoch 100/100\n",
            "10/10 [==============================] - 0s 14ms/step - loss: 0.0033 - accuracy: 1.0000 - val_loss: 0.5987 - val_accuracy: 0.7899\n"
          ],
          "name": "stdout"
        },
        {
          "output_type": "display_data",
          "data": {
            "image/png": "[encoded data removed]",
            "text/plain": [
              "<Figure size 432x288 with 1 Axes>"
            ]
          },
          "metadata": {
            "tags": [],
            "needs_background": "light"
          }
        },
        {
          "output_type": "display_data",
          "data": {
            "image/png": "[encoded data removed]",
            "text/plain": [
              "<Figure size 432x288 with 1 Axes>"
            ]
          },
          "metadata": {
            "tags": [],
            "needs_background": "light"
          }
        }
      ]
    },
    {
      "cell_type": "code",
      "metadata": {
        "id": "ConM7Babe9VD",
        "colab": {
          "base_uri": "https://localhost:8080/"
        },
        "outputId": "315397a4-a112-4399-b9a7-d58b077f1a70"
      },
      "source": [
        "model.save(os.path.join(PATH, 'model.hdf5'))\r\n",
        "model.evaluate(x_test, y_test)  # returns 'loss' and 'metrics' (accuracy)"
      ],
      "execution_count": 23,
      "outputs": [
        {
          "output_type": "stream",
          "text": [
            "13/13 [==============================] - 0s 11ms/step - loss: 0.5374 - accuracy: 0.8379\n"
          ],
          "name": "stdout"
        },
        {
          "output_type": "execute_result",
          "data": {
            "text/plain": [
              "[0.5373760461807251, 0.83790522813797]"
            ]
          },
          "metadata": {
            "tags": []
          },
          "execution_count": 23
        }
      ]
    },
    {
      "cell_type": "markdown",
      "metadata": {
        "id": "uIPqHdYsvjVA"
      },
      "source": [
        "# Data augmentation\n",
        " Before we can run data aumentation with ImageDataGenerator we need to convert the PGM format to PNG"
      ]
    },
    {
      "cell_type": "code",
      "metadata": {
        "id": "QTyhLh7B_kNa",
        "colab": {
          "base_uri": "https://localhost:8080/"
        },
        "outputId": "9fede4d8-8d7b-4923-d8cf-49a0baf817ee"
      },
      "source": [
        "basename = os.path.basename(PATH)\r\n",
        "print(basename)"
      ],
      "execution_count": null,
      "outputs": [
        {
          "output_type": "stream",
          "text": [
            "Mammography_micro\n"
          ],
          "name": "stdout"
        }
      ]
    },
    {
      "cell_type": "code",
      "metadata": {
        "id": "pMTI6-hnoz5Z"
      },
      "source": [
        "import PIL\n",
        "import os"
      ],
      "execution_count": null,
      "outputs": []
    },
    {
      "cell_type": "code",
      "metadata": {
        "id": "xZBLJLRrp7pg"
      },
      "source": [
        "def convert_to_png(fname, dest_folder):\n",
        "  if not os.path.exists(dest_folder):\n",
        "    os.makedirs(dest_folder)\n",
        "  dest_fname = os.path.basename(fname).replace('.pgm', '.png')\n",
        "  dest_fname = os.path.join(dest_folder, dest_fname)\n",
        "  PIL.Image.open(fname).convert('L').save(dest_fname)\n"
      ],
      "execution_count": null,
      "outputs": []
    },
    {
      "cell_type": "markdown",
      "metadata": {
        "id": "37EjPUAips8R"
      },
      "source": [
        "Provare a fare una funzione migliore per convertire tutti i pgm in png\r\n",
        "Questa ci sta ~5 minuti"
      ]
    },
    {
      "cell_type": "code",
      "metadata": {
        "id": "WQxzGbJVsVIl",
        "colab": {
          "base_uri": "https://localhost:8080/"
        },
        "outputId": "f4491b20-6706-4f6e-b5f8-773d424dbae3"
      },
      "source": [
        "start_time = time.time()\n",
        "for data_path in [os.path.join(PATH, \"Train\"), os.path.join(PATH, \"Test\")]:\n",
        "  for path, folders, fnames in os.walk(data_path):\n",
        "    for fname in fnames:\n",
        "      abs_path = os.path.join(path, fname)\n",
        "      dest_folder = path.replace('Train', 'Train_png').replace('Test', 'Test_png')\n",
        "      convert_to_png(abs_path, dest_folder)\n",
        "print('Elapsed time = %.2f s', time.time()-start_time)"
      ],
      "execution_count": null,
      "outputs": [
        {
          "output_type": "stream",
          "text": [
            "291.19284987449646\n"
          ],
          "name": "stdout"
        }
      ]
    },
    {
      "cell_type": "markdown",
      "metadata": {
        "id": "un_vcpFHoL1u"
      },
      "source": [
        "# Data aumentation"
      ]
    },
    {
      "cell_type": "code",
      "metadata": {
        "id": "DnTT1VbO3C7o"
      },
      "source": [
        "import matplotlib.pyplot as plt\r\n",
        "from keras.preprocessing.image import ImageDataGenerator"
      ],
      "execution_count": 24,
      "outputs": []
    },
    {
      "cell_type": "markdown",
      "metadata": {
        "id": "ohEVrN-3aJfm"
      },
      "source": [
        "https://www.tensorflow.org/api_docs/python/tf/keras/preprocessing/image/ImageDataGenerator\r\n",
        "\r\n",
        "Il FLOW_FROM_DIRECTORY prende in input il path della directory di arrivo e genera gruppi di immagini dando in output un ITERATORE (x, y) con y le labels e x le immagini con shape (batch_size, *target_size, channels)\r\n",
        "\r\n",
        "di default crea le imm in png\r\n",
        "\r\n",
        "*  batch_size (di default è 32) cioè il numero di immagini modificate generate per ogni immagine di X_train.\r\n",
        "\r\n",
        "*  subset = training o validation, funziona solo se c'è validation_split nel \r\n",
        "\r\n",
        "\r\n",
        "\r\n",
        "\r\n",
        "ImageDataGenerator\r\n",
        "\r\n",
        "\r\n",
        "IMAGEDATAGENERATOR:\r\n",
        "Validation_split = 0.3 divide tutte le N immagini di x_train in: 70% train e 30% validazione e usa questo dataset nel model.fit \r\n",
        "\r\n"
      ]
    },
    {
      "cell_type": "code",
      "metadata": {
        "id": "wihSLPuRm4cU",
        "colab": {
          "base_uri": "https://localhost:8080/"
        },
        "outputId": "4acd691e-3941-4751-adc4-d1303c59ad22"
      },
      "source": [
        "path_to_png_data = os.path.join(PATH, \"Train_png\")\n",
        "\n",
        "img_width, img_height = (60, 60)\n",
        "\n",
        "aug_validation_split = 0.3\n",
        "\n",
        "\n",
        "train_datagen = ImageDataGenerator(\n",
        "        rotation_range=40,\n",
        "        width_shift_range=0.2,\n",
        "        height_shift_range=0.2,\n",
        "        rescale=1./255,  #Rescale every pixel to have a value between 0 and 1\n",
        "        shear_range=0.2, #Stretches the image \n",
        "        zoom_range=0.2, \n",
        "        horizontal_flip=True,\n",
        "        fill_mode='reflect',\n",
        "        validation_split = aug_validation_split)  \n",
        "        \n",
        "\n",
        "\n",
        "\n",
        "train_gen = train_datagen.flow_from_directory(\n",
        "    path_to_png_data,\n",
        "    target_size=(img_width, img_height),\n",
        "    color_mode='grayscale', \n",
        "    class_mode='binary',\n",
        "    subset='training')\n",
        "\n",
        "val_gen = train_datagen.flow_from_directory(\n",
        "    path_to_png_data,\n",
        "    target_size=(img_width, img_height),\n",
        "    color_mode='grayscale',\n",
        "    class_mode='binary',\n",
        "    subset='validation')\n",
        "\n"
      ],
      "execution_count": 25,
      "outputs": [
        {
          "output_type": "stream",
          "text": [
            "Found 278 images belonging to 2 classes.\n",
            "Found 118 images belonging to 2 classes.\n"
          ],
          "name": "stdout"
        }
      ]
    },
    {
      "cell_type": "markdown",
      "metadata": {
        "id": "WEaxeG18xLXH"
      },
      "source": [
        "Il.next() accede ad una immagine. train_gen.next()[0] ha shape = (32, 60, 60, 1) cioè per ogni immagine del dataset, lui genera 32 immagini modificate di dimensione 60x60 di colori grayscale"
      ]
    },
    {
      "cell_type": "markdown",
      "metadata": {
        "id": "rS3iyYXqoda2"
      },
      "source": [
        "# Fit model on augmented images"
      ]
    },
    {
      "cell_type": "code",
      "metadata": {
        "id": "avE0zljglFk5"
      },
      "source": [
        "from keras.callbacks import ModelCheckpoint\n",
        "from keras.optimizers import SGD\n",
        "\n",
        "checkpoint = ModelCheckpoint(\n",
        "    \"model_augmented.{epoch:02d}-{val_accuracy:.2f}.h5\", \n",
        "    monitor='val_accuracy', \n",
        "    verbose=1,\n",
        "    save_best_only=True,\n",
        "    save_weights_only=False,\n",
        "    mode='auto', save_freq='epoch')"
      ],
      "execution_count": 26,
      "outputs": []
    },
    {
      "cell_type": "markdown",
      "metadata": {
        "id": "q_CujADtu11l"
      },
      "source": [
        "STEPS_PER_EPOCH: Definisce il numero di immagini da usare ad ogni epoca, è utile quando il numero delle immagini non è fisso perchè vengono generate potenzialmente infiniti samples"
      ]
    },
    {
      "cell_type": "code",
      "metadata": {
        "id": "aFlLwmgSZvKP",
        "colab": {
          "base_uri": "https://localhost:8080/"
        },
        "outputId": "a9f2cfca-beef-4f3e-b411-89e3d677006d"
      },
      "source": [
        "Tot_train_imgs = len(x_train)\r\n",
        "Tot_train_imgs"
      ],
      "execution_count": 28,
      "outputs": [
        {
          "output_type": "execute_result",
          "data": {
            "text/plain": [
              "396"
            ]
          },
          "metadata": {
            "tags": []
          },
          "execution_count": 28
        }
      ]
    },
    {
      "cell_type": "code",
      "metadata": {
        "id": "K7yiPz99j_Fw"
      },
      "source": [
        "model = make_model()\n",
        "\n",
        "\n",
        "model.compile(optimizer=SGD(lr=0.001, momentum=0.9), loss='binary_crossentropy', metrics=['accuracy'])\n",
        "\n",
        "\n",
        "batch_size=32\n",
        "steps_per_epoch = int(Tot_train_imgs * (1- aug_validation_split))\n",
        "validation_steps = int(Tot_train_imgs * aug_validation_split)\n",
        "\n",
        "logger.info('Steps per epoch = %d', steps_per_epoch)\n",
        "logger.info('Val steps = %d', validation_steps)\n",
        "\n",
        "\n",
        "history = model.fit(\n",
        "        train_gen,\n",
        "        steps_per_epoch=278 // batch_size,\n",
        "        epochs=60,\n",
        "        validation_data=val_gen,\n",
        "        validation_steps= 118 // batch_size,\n",
        "        verbose=1,\n",
        "        callbacks=[checkpoint])\n",
        "\n",
        "\n",
        "plt.plot(history.history['loss'])\n",
        "plt.plot(history.history['val_loss'])\n",
        "plt.show()\n",
        "\n",
        "plt.plot(history.history['accuracy'])\n",
        "plt.plot(history.history['val_accuracy'])\n",
        "plt.show()"
      ],
      "execution_count": null,
      "outputs": []
    },
    {
      "cell_type": "markdown",
      "metadata": {
        "id": "PpIDYyYf29HD"
      },
      "source": [
        "Saving the model"
      ]
    },
    {
      "cell_type": "code",
      "metadata": {
        "id": "s7sjHFpGpPtI"
      },
      "source": [
        "model.save(os.path.join(PATH, 'model_augmented.hdf5'))\r\n",
        "\r\n",
        "model.evaluate(x_test, y_test)"
      ],
      "execution_count": null,
      "outputs": []
    },
    {
      "cell_type": "markdown",
      "metadata": {
        "id": "ziJxv3y8fYoo"
      },
      "source": [
        "# Comparing the performances of the two models"
      ]
    },
    {
      "cell_type": "code",
      "metadata": {
        "id": "6u8dNJW0fLd3"
      },
      "source": [
        "from keras.models import load_model\n",
        "aug_model = load_model(os.path.join(PATH, 'model_augmented.hdf5'))\n",
        "noaug_model = load_model(os.path.join(PATH, 'model.hdf5'))"
      ],
      "execution_count": null,
      "outputs": []
    },
    {
      "cell_type": "code",
      "metadata": {
        "id": "MoMbhMQMf_E9",
        "colab": {
          "base_uri": "https://localhost:8080/"
        },
        "outputId": "922d2d02-13fe-41f6-e413-df5d490f94b1"
      },
      "source": [
        "noaug_model.evaluate(x_test, y_test)\r\n",
        "\r\n",
        "aug_model.evaluate(x_test, y_test)"
      ],
      "execution_count": null,
      "outputs": [
        {
          "output_type": "stream",
          "text": [
            "13/13 [==============================] - 1s 30ms/step - loss: 1.4573 - accuracy: 0.5411\n",
            "13/13 [==============================] - 0s 15ms/step - loss: 0.6845 - accuracy: 0.5686\n"
          ],
          "name": "stdout"
        },
        {
          "output_type": "execute_result",
          "data": {
            "text/plain": [
              "[0.684547483921051, 0.5685785412788391]"
            ]
          },
          "metadata": {
            "tags": []
          },
          "execution_count": 41
        }
      ]
    },
    {
      "cell_type": "markdown",
      "metadata": {
        "id": "uZBgQ-PwuSFq"
      },
      "source": [
        "#Implement a cross-validation test"
      ]
    },
    {
      "cell_type": "code",
      "metadata": {
        "id": "md5HpjB_uzIJ"
      },
      "source": [
        "from sklearn.model_selection import KFold"
      ],
      "execution_count": 2,
      "outputs": []
    },
    {
      "cell_type": "code",
      "metadata": {
        "id": "IhshIa47uU-x",
        "colab": {
          "base_uri": "https://localhost:8080/",
          "height": 243
        },
        "outputId": "ef6a4a21-fac7-4e52-968c-13f6107def35"
      },
      "source": [
        "# Define per-fold score arrays\r\n",
        "acc_per_fold = []\r\n",
        "loss_per_fold = []\r\n",
        "\r\n",
        "# Merge train and test in a single array\r\n",
        "X_tot = np.concatenate((x_train, x_test), axis=0)\r\n",
        "Y_tot = np.concatenate((y_train, y_test), axis=0)\r\n",
        "\r\n",
        "\r\n",
        "num_folds = 10\r\n",
        "\r\n",
        "kfold = KFold(n_splits=num_folds, shuffle=True)\r\n",
        "\r\n",
        "batch_size = 32\r\n",
        "num_epochs = 30\r\n",
        "\r\n",
        "fold_nro = 1\r\n",
        "\r\n",
        "for train, test in kfold.split(X_tot, Y_tot):\r\n",
        "  print('In fold n. ', fold_nro)\r\n",
        "  model = make_model()\r\n",
        "\r\n",
        "  model.compile(optimizer=SGD(lr = 0.001, momentum = 0.9), metrics = 'accuracy', loss='binary_crossentropy')\r\n",
        "\r\n",
        "  history = model.fit(\r\n",
        "          X_tot[train], Y_tot[train],\r\n",
        "          batch_size = batch_size,\r\n",
        "          verbose=0,\r\n",
        "          epochs = num_epochs)  \r\n",
        "  \r\n",
        "  scores = model.evaluate(X_tot[test], Y_tot[test], verbose=0)\r\n",
        "\r\n",
        "  print(f'Score for fold {fold_nro}: {model.metrics_names[0]} of {scores[0]}; {model.metrics_names[1]} of {scores[1]*100}%')\r\n",
        "  acc_per_fold.append(scores[1])\r\n",
        "  loss_per_fold.append(scores[0])\r\n",
        "  fold_nro += 1"
      ],
      "execution_count": 3,
      "outputs": [
        {
          "output_type": "error",
          "ename": "NameError",
          "evalue": "ignored",
          "traceback": [
            "\u001b[0;31m---------------------------------------------------------------------------\u001b[0m",
            "\u001b[0;31mNameError\u001b[0m                                 Traceback (most recent call last)",
            "\u001b[0;32m<ipython-input-3-be28578c782b>\u001b[0m in \u001b[0;36m<module>\u001b[0;34m()\u001b[0m\n\u001b[1;32m      4\u001b[0m \u001b[0;34m\u001b[0m\u001b[0m\n\u001b[1;32m      5\u001b[0m \u001b[0;31m# Merge train and test in a single array\u001b[0m\u001b[0;34m\u001b[0m\u001b[0;34m\u001b[0m\u001b[0;34m\u001b[0m\u001b[0m\n\u001b[0;32m----> 6\u001b[0;31m \u001b[0mX_tot\u001b[0m \u001b[0;34m=\u001b[0m \u001b[0mnp\u001b[0m\u001b[0;34m.\u001b[0m\u001b[0mconcatenate\u001b[0m\u001b[0;34m(\u001b[0m\u001b[0;34m(\u001b[0m\u001b[0mx_train\u001b[0m\u001b[0;34m,\u001b[0m \u001b[0mx_test\u001b[0m\u001b[0;34m)\u001b[0m\u001b[0;34m,\u001b[0m \u001b[0maxis\u001b[0m\u001b[0;34m=\u001b[0m\u001b[0;36m0\u001b[0m\u001b[0;34m)\u001b[0m\u001b[0;34m\u001b[0m\u001b[0;34m\u001b[0m\u001b[0m\n\u001b[0m\u001b[1;32m      7\u001b[0m \u001b[0mY_tot\u001b[0m \u001b[0;34m=\u001b[0m \u001b[0mnp\u001b[0m\u001b[0;34m.\u001b[0m\u001b[0mconcatenate\u001b[0m\u001b[0;34m(\u001b[0m\u001b[0;34m(\u001b[0m\u001b[0my_train\u001b[0m\u001b[0;34m,\u001b[0m \u001b[0my_test\u001b[0m\u001b[0;34m)\u001b[0m\u001b[0;34m,\u001b[0m \u001b[0maxis\u001b[0m\u001b[0;34m=\u001b[0m\u001b[0;36m0\u001b[0m\u001b[0;34m)\u001b[0m\u001b[0;34m\u001b[0m\u001b[0;34m\u001b[0m\u001b[0m\n\u001b[1;32m      8\u001b[0m \u001b[0;34m\u001b[0m\u001b[0m\n",
            "\u001b[0;31mNameError\u001b[0m: name 'x_train' is not defined"
          ]
        }
      ]
    },
    {
      "cell_type": "markdown",
      "metadata": {
        "id": "kC2AHLkUjOgn"
      },
      "source": [
        "Computing average scores"
      ]
    },
    {
      "cell_type": "code",
      "metadata": {
        "id": "ViYB3QK8chZJ"
      },
      "source": [
        "print('Score per fold')\r\n",
        "for i in range(0, len(acc_per_fold)):\r\n",
        "  print(f'> Fold {i+1} - Loss: {loss_per_fold[i]} - Accuracy: {acc_per_fold[i]}%')\r\n",
        "\r\n",
        "print('\\n')\r\n",
        "print('Average scores for all folds:')\r\n",
        "print(f'-- Accuracy: {np.mean(acc_per_fold)} (+- {np.std(acc_per_fold)})')\r\n",
        "print(f'-- Loss: {np.mean(loss_per_fold)}')\r\n",
        "\r\n"
      ],
      "execution_count": null,
      "outputs": []
    }
  ]
}