{
  "nbformat": 4,
  "nbformat_minor": 0,
  "metadata": {
    "colab": {
      "name": "Copy of Lecture11_CNN.ipynb",
      "provenance": [],
      "collapsed_sections": [],
      "include_colab_link": true
    },
    "kernelspec": {
      "name": "python3",
      "display_name": "Python 3"
    },
    "accelerator": "GPU"
  },
  "cells": [
    {
      "cell_type": "markdown",
      "metadata": {
        "id": "view-in-github",
        "colab_type": "text"
      },
      "source": [
        "<a href=\"https://colab.research.google.com/github/federicocampo/CNN_prova/blob/Prime_modifiche/Copy_of_Lecture11_CNN.ipynb\" target=\"_parent\"><img src=\"https://colab.research.google.com/assets/colab-badge.svg\" alt=\"Open In Colab\"/></a>"
      ]
    },
    {
      "cell_type": "markdown",
      "metadata": {
        "id": "LfPNt06nZRfC"
      },
      "source": [
        "# Importing the dataset from Google Drive"
      ]
    },
    {
      "cell_type": "code",
      "metadata": {
        "id": "ycQRMl2Bg4Me",
        "colab": {
          "base_uri": "https://localhost:8080/"
        },
        "outputId": "3c25cdf0-7505-4724-e357-1ffaabc4ae4e"
      },
      "source": [
        "from google.colab import drive\n",
        "drive.mount('/content/gdrive')"
      ],
      "execution_count": 32,
      "outputs": [
        {
          "output_type": "stream",
          "text": [
            "Drive already mounted at /content/gdrive; to attempt to forcibly remount, call drive.mount(\"/content/gdrive\", force_remount=True).\n"
          ],
          "name": "stdout"
        }
      ]
    },
    {
      "cell_type": "markdown",
      "metadata": {
        "id": "Zqw3aYF1gDFD"
      },
      "source": [
        "# Reading the images"
      ]
    },
    {
      "cell_type": "code",
      "metadata": {
        "id": "rqCZ72z2gCIH"
      },
      "source": [
        "from matplotlib import pyplot as plt\n",
        "from skimage.io import imread, imshow\n",
        "import os\n",
        "import glob\n",
        "import numpy as np\n",
        "\n",
        "import logging\n",
        "import time\n",
        "\n",
        "#logger = logging.getLogger(__name__)\n",
        "#logger.setLevel(logging.DEBUG)\n",
        "\n",
        "logging.basicConfig(level=logging.INFO)"
      ],
      "execution_count": 39,
      "outputs": []
    },
    {
      "cell_type": "code",
      "metadata": {
        "id": "GkOspN9xPlg8"
      },
      "source": [
        "PATH = 'gdrive/MyDrive/IMAGES/Mammography_micro'\r\n",
        "#PATH = 'gdrive/MyDrive/Immagini'"
      ],
      "execution_count": 40,
      "outputs": []
    },
    {
      "cell_type": "markdown",
      "metadata": {
        "id": "VmE9CC0f6qb6"
      },
      "source": [
        "*  Imread restituisce un array 60 x 60"
      ]
    },
    {
      "cell_type": "code",
      "metadata": {
        "id": "C-r0YaUuhMAR"
      },
      "source": [
        "def read_imgs(dataset_path, classes):\n",
        "  tmp = []\n",
        "  labels = []\n",
        "  for cls in classes:\n",
        "    fnames = glob.glob(os.path.join(dataset_path, str(cls), '*.pgm'))\n",
        "    tmp += [ imread(fname) for fname in fnames ]\n",
        "    labels += len(fnames)*[cls]\n",
        "  return np.array(tmp, dtype='float32')[..., np.newaxis]/255, np.array(labels)"
      ],
      "execution_count": 41,
      "outputs": []
    },
    {
      "cell_type": "markdown",
      "metadata": {
        "id": "-a_6n_b1WRYy"
      },
      "source": [
        "Ci sta ~5 minuti a caricare le immagini"
      ]
    },
    {
      "cell_type": "code",
      "metadata": {
        "id": "x81szNHPklZ4",
        "colab": {
          "base_uri": "https://localhost:8080/"
        },
        "outputId": "92c416d4-7fa4-494b-9b17-9849eb277a52"
      },
      "source": [
        "initial_time = time.time()\n",
        "path_to_png_data = os.path.join(PATH, 'Train')\n",
        "x_train, y_train = read_imgs(path_to_png_data, [0, 1])\n",
        "\n",
        "test_dataset_path =os.path.join(PATH, 'Test')\n",
        "x_test, y_test = read_imgs(test_dataset_path, [0, 1])\n",
        "\n",
        "print(x_train.shape, y_train.shape)\n",
        "print(x_test.shape, y_test.shape)\n",
        "\n",
        "elapsed_time=time.time() - initial_time\n",
        "logging.info('Done in %.2f minutes',elapsed_time/60)\n"
      ],
      "execution_count": 45,
      "outputs": [
        {
          "output_type": "stream",
          "text": [
            "INFO:root:Done in 0.02 minutes\n"
          ],
          "name": "stderr"
        },
        {
          "output_type": "stream",
          "text": [
            "(396, 60, 60, 1) (396,)\n",
            "(401, 60, 60, 1) (401,)\n"
          ],
          "name": "stdout"
        }
      ]
    },
    {
      "cell_type": "code",
      "metadata": {
        "id": "K1UUvn4QZjNY",
        "colab": {
          "base_uri": "https://localhost:8080/"
        },
        "outputId": "e8cf127f-a336-4414-ec32-183569037769"
      },
      "source": [
        "len(x_train)"
      ],
      "execution_count": 43,
      "outputs": [
        {
          "output_type": "execute_result",
          "data": {
            "text/plain": [
              "396"
            ]
          },
          "metadata": {
            "tags": []
          },
          "execution_count": 43
        }
      ]
    },
    {
      "cell_type": "code",
      "metadata": {
        "id": "BfyUHHdW3Pa_"
      },
      "source": [
        "'''\r\n",
        "Questa parte serve solo per visualizzare qualche immagine dalla #a alla #a+3\r\n",
        "'''\r\n",
        "\r\n",
        "image_type = 'Test/1'\r\n",
        "a=6\r\n",
        "i=0\r\n",
        "plt.figure(i)\r\n",
        "\r\n",
        "for imagename in (os.listdir(os.path.join(PATH, image_type)))[a:a+4]:\r\n",
        "  Im = imread(os.path.join(PATH, image_type, imagename))\r\n",
        "  print(Im.shape)\r\n",
        " #plt.subplot(2, 2, i)\r\n",
        "  plt.figure(i)\r\n",
        "  imshow(Im)\r\n",
        "  i+=1"
      ],
      "execution_count": null,
      "outputs": []
    },
    {
      "cell_type": "markdown",
      "metadata": {
        "id": "Blz5VJ8pajXz"
      },
      "source": [
        "# Defining a CNN model"
      ]
    },
    {
      "cell_type": "code",
      "metadata": {
        "id": "7plXV2WyaoGt"
      },
      "source": [
        "from keras.layers import Conv2D, BatchNormalization, MaxPool2D, Dense, Flatten, InputLayer, Activation, Dropout\n",
        "from keras.models import Sequential"
      ],
      "execution_count": 46,
      "outputs": []
    },
    {
      "cell_type": "markdown",
      "metadata": {
        "id": "gY86U7qK2h8v"
      },
      "source": [
        "##CNN prova\r\n",
        "Per ora è la miglire tra le 3 (con 100 epoche) per loss e validation sul dataset augmented"
      ]
    },
    {
      "cell_type": "code",
      "metadata": {
        "id": "XBloTVdsaewM"
      },
      "source": [
        "def make_model(shape=(60, 60, 1)):\n",
        "  model = Sequential([\n",
        "      \n",
        "      Conv2D(50, (5,5), padding='same', input_shape=shape),\n",
        "      BatchNormalization(),\n",
        "      Activation('relu'),\n",
        "      MaxPool2D((2,2)),\n",
        "      \n",
        "      Conv2D(60, (3,3), padding='same'),\n",
        "      BatchNormalization(),\n",
        "      Activation('relu'),\n",
        "      MaxPool2D((2,2)),\n",
        "        \n",
        "      Conv2D(100, (3,3), padding='same'),\n",
        "      BatchNormalization(),\n",
        "      Activation('relu'),\n",
        "\n",
        "      Conv2D(100, (3,3), padding='same'),\n",
        "      BatchNormalization(),\n",
        "      Activation('relu'),\n",
        "\n",
        "      Conv2D(50, (4,4), padding='same'),\n",
        "      BatchNormalization(),\n",
        "      Activation('relu'),\n",
        "      MaxPool2D(2, 2),\n",
        "\n",
        "      Flatten(), \n",
        "      \n",
        "\n",
        "      Dense(1, activation='sigmoid')\n",
        "      \n",
        "  ])\n",
        "  \n",
        "  return model\n"
      ],
      "execution_count": 47,
      "outputs": []
    },
    {
      "cell_type": "markdown",
      "metadata": {
        "id": "hQXlvLsfy8Jj"
      },
      "source": [
        "## CNN presa da https://www.researchgate.net/publication/332306208_Convolutional_Neural_Networks_for_the_Segmentation_of_Microcalcification_in_Mammography_Imaging (con sigmoide al posto di SoftMax)\r\n",
        "\r\n",
        "\r\n"
      ]
    },
    {
      "cell_type": "code",
      "metadata": {
        "id": "2M2VIEg1y3-o"
      },
      "source": [
        "def make_model(shape=(60, 60, 1)):\r\n",
        "  model = Sequential([\r\n",
        "      \r\n",
        "      Conv2D(16, (3,3), padding='same', input_shape=shape),\r\n",
        "      Activation('relu'),\r\n",
        "      MaxPool2D((2,2)),\r\n",
        "      BatchNormalization(),\r\n",
        "      \r\n",
        "      Conv2D(32, (3,3), padding='same'),\r\n",
        "      Activation('relu'),\r\n",
        "      MaxPool2D((2,2)),\r\n",
        "      BatchNormalization(),\r\n",
        "        \r\n",
        "      Conv2D(16, (3,3), padding='same'),\r\n",
        "      BatchNormalization(),\r\n",
        "      Activation('relu'),\r\n",
        "\r\n",
        "      Conv2D(16, (3,3), padding='same'),\r\n",
        "      BatchNormalization(),\r\n",
        "      Activation('relu'),\r\n",
        "\r\n",
        "      Conv2D(16, (3,3), padding='same'),\r\n",
        "      BatchNormalization(),\r\n",
        "      Activation('relu'),\r\n",
        "\r\n",
        "      Conv2D(32, (3, 3), padding= 'same'),\r\n",
        "      BatchNormalization(),\r\n",
        "      Activation('relu'),\r\n",
        "\r\n",
        "      Flatten(), \r\n",
        "      \r\n",
        "      Dense(64, activation = 'relu'),\r\n",
        "      BatchNormalization(),\r\n",
        "      Dense(1, activation='sigmoid')\r\n",
        "      \r\n",
        "  ])\r\n",
        "  \r\n",
        "  return model"
      ],
      "execution_count": null,
      "outputs": []
    },
    {
      "cell_type": "markdown",
      "metadata": {
        "id": "xxCC2uwW27Ha"
      },
      "source": [
        "##CNN presa da https://www.hindawi.com/journals/cmmm/2019/2717454/\r\n",
        "Layers {96, 256, 384, 384, 256} with a kernel size of {11, 5, 3, 3, 4}, "
      ]
    },
    {
      "cell_type": "code",
      "metadata": {
        "id": "zxOxBnG9249G"
      },
      "source": [
        "def make_model(shape=(60, 60, 1)):\r\n",
        "  model = Sequential([\r\n",
        "      \r\n",
        "      Conv2D(96, (11,11), padding='same', input_shape=shape),\r\n",
        "      Activation('relu'),\r\n",
        "      MaxPool2D((2,2)),\r\n",
        "      BatchNormalization(),\r\n",
        "      \r\n",
        "      Conv2D(256, 5, padding='same'),\r\n",
        "      Activation('relu'),\r\n",
        "      MaxPool2D((2,2)),\r\n",
        "      BatchNormalization(),\r\n",
        "        \r\n",
        "      Conv2D(384, 3, padding='same'),\r\n",
        "      BatchNormalization(),\r\n",
        "      Activation('relu'),\r\n",
        "\r\n",
        "      Conv2D(384, 3, padding='same'),\r\n",
        "      BatchNormalization(),\r\n",
        "      Activation('relu'),\r\n",
        "\r\n",
        "      Conv2D(256, 4, padding='same'),\r\n",
        "      BatchNormalization(),\r\n",
        "      Activation('relu'),\r\n",
        "\r\n",
        "\r\n",
        "      Flatten(), \r\n",
        "      \r\n",
        "      Dropout(0.5),\r\n",
        "      Dense(1, activation='sigmoid')\r\n",
        "      \r\n",
        "  ])\r\n",
        "  \r\n",
        "  return model"
      ],
      "execution_count": null,
      "outputs": []
    },
    {
      "cell_type": "markdown",
      "metadata": {
        "id": "329QuHzR4huR"
      },
      "source": [
        "## MODEL = MAKE_MODEL() AND COMPILE"
      ]
    },
    {
      "cell_type": "code",
      "metadata": {
        "id": "39YQh1vL4gHZ"
      },
      "source": [
        "from keras.optimizers import SGD\r\n",
        "\r\n",
        "model = make_model()\r\n",
        "\r\n",
        "model.compile(optimizer=SGD(lr = 0.001, momentum = 0.9), metrics = 'accuracy', loss='binary_crossentropy')\r\n"
      ],
      "execution_count": 48,
      "outputs": []
    },
    {
      "cell_type": "markdown",
      "metadata": {
        "id": "mXt999cLSEeT"
      },
      "source": [
        "#Fit model on Dataset"
      ]
    },
    {
      "cell_type": "code",
      "metadata": {
        "id": "nUQjwzu90fsX"
      },
      "source": [
        "from keras.callbacks import EarlyStopping, ReduceLROnPlateau, ModelCheckpoint\r\n",
        "\r\n",
        "\r\n",
        "early_stopping = EarlyStopping(\r\n",
        "    min_delta=0.001, # minimium amount of change to count as an improvement\r\n",
        "    patience=10, # how many epochs to wait before stopping\r\n",
        "    restore_best_weights=True,\r\n",
        ")\r\n",
        "\r\n",
        "reduce_lr = ReduceLROnPlateau(\r\n",
        "    monitor='loss', \r\n",
        "    factor=0.5,\r\n",
        "    patience = 5,\r\n",
        "    min_lr=0.00001\r\n",
        "\r\n",
        ")\r\n",
        "\r\n",
        "checkpoint = ModelCheckpoint(\r\n",
        "    \"model-{epoch:02d}-{val_accuracy:.2f}.hdf5\", \r\n",
        "    monitor='val_accuracy', \r\n",
        "    verbose=0,\r\n",
        "    save_best_only=True,\r\n",
        "    save_weights_only=False,\r\n",
        "    mode='auto', save_freq='epoch')\r\n"
      ],
      "execution_count": null,
      "outputs": []
    },
    {
      "cell_type": "code",
      "metadata": {
        "id": "RH25BWCqfbGM",
        "colab": {
          "base_uri": "https://localhost:8080/",
          "height": 513
        },
        "outputId": "a886aa66-e19e-4eb2-ca2d-08ce75a5b9a9"
      },
      "source": [
        "history = model.fit(x_train, y_train, \r\n",
        "                    validation_split=0.3, \r\n",
        "                    epochs=100, \r\n",
        "                    batch_size=30, \r\n",
        "                    shuffle=True, \r\n",
        "                    callbacks = [checkpoint],\r\n",
        "                    verbose=0)\r\n",
        "\r\n",
        "\r\n",
        "\r\n",
        "#print(history.history.keys())\r\n",
        "\r\n",
        "plt.plot(history.history['loss'])\r\n",
        "plt.plot(history.history['val_loss'])\r\n",
        "plt.show()\r\n",
        "\r\n",
        "plt.plot(history.history['accuracy'])\r\n",
        "plt.plot(history.history['val_accuracy'])\r\n",
        "plt.show()"
      ],
      "execution_count": null,
      "outputs": [
        {
          "output_type": "display_data",
          "data": {
            "image/png": "[encoded data removed]",
            "text/plain": [
              "<Figure size 432x288 with 1 Axes>"
            ]
          },
          "metadata": {
            "tags": [],
            "needs_background": "light"
          }
        },
        {
          "output_type": "display_data",
          "data": {
            "image/png": "[encoded data removed]",
            "text/plain": [
              "<Figure size 432x288 with 1 Axes>"
            ]
          },
          "metadata": {
            "tags": [],
            "needs_background": "light"
          }
        }
      ]
    },
    {
      "cell_type": "code",
      "metadata": {
        "id": "ConM7Babe9VD",
        "colab": {
          "base_uri": "https://localhost:8080/"
        },
        "outputId": "eadf0e1f-87f3-4562-b42b-7595efad4b4b"
      },
      "source": [
        "model.save(os.path.join(PATH, 'model.hdf5'))\r\n",
        "model.evaluate(x_test, y_test)  # returns 'loss' and 'metrics' (accuracy)"
      ],
      "execution_count": null,
      "outputs": [
        {
          "output_type": "stream",
          "text": [
            "13/13 [==============================] - 0s 3ms/step - loss: 0.7119 - accuracy: 0.7332\n"
          ],
          "name": "stdout"
        },
        {
          "output_type": "execute_result",
          "data": {
            "text/plain": [
              "[0.711947500705719, 0.7331671118736267]"
            ]
          },
          "metadata": {
            "tags": []
          },
          "execution_count": 24
        }
      ]
    },
    {
      "cell_type": "markdown",
      "metadata": {
        "id": "uIPqHdYsvjVA"
      },
      "source": [
        "# Data augmentation\n",
        " Before we can run data aumentation with ImageDataGenerator we need to convert the PGM format to PNG"
      ]
    },
    {
      "cell_type": "code",
      "metadata": {
        "id": "QTyhLh7B_kNa",
        "colab": {
          "base_uri": "https://localhost:8080/"
        },
        "outputId": "9fede4d8-8d7b-4923-d8cf-49a0baf817ee"
      },
      "source": [
        "basename = os.path.basename(PATH)\r\n",
        "print(basename)"
      ],
      "execution_count": null,
      "outputs": [
        {
          "output_type": "stream",
          "text": [
            "Mammography_micro\n"
          ],
          "name": "stdout"
        }
      ]
    },
    {
      "cell_type": "code",
      "metadata": {
        "id": "pMTI6-hnoz5Z"
      },
      "source": [
        "import PIL\n",
        "import os"
      ],
      "execution_count": null,
      "outputs": []
    },
    {
      "cell_type": "code",
      "metadata": {
        "id": "xZBLJLRrp7pg"
      },
      "source": [
        "def convert_to_png(fname, dest_folder):\n",
        "  if not os.path.exists(dest_folder):\n",
        "    os.makedirs(dest_folder)\n",
        "  dest_fname = os.path.basename(fname).replace('.pgm', '.png')\n",
        "  dest_fname = os.path.join(dest_folder, dest_fname)\n",
        "  PIL.Image.open(fname).convert('L').save(dest_fname)\n"
      ],
      "execution_count": null,
      "outputs": []
    },
    {
      "cell_type": "markdown",
      "metadata": {
        "id": "37EjPUAips8R"
      },
      "source": [
        "Provare a fare una funzione migliore per convertire tutti i pgm in png\r\n",
        "Questa ci sta ~5 minuti"
      ]
    },
    {
      "cell_type": "code",
      "metadata": {
        "id": "WQxzGbJVsVIl",
        "colab": {
          "base_uri": "https://localhost:8080/"
        },
        "outputId": "f4491b20-6706-4f6e-b5f8-773d424dbae3"
      },
      "source": [
        "start_time = time.time()\n",
        "for data_path in [os.path.join(PATH, \"Train\"), os.path.join(PATH, \"Test\")]:\n",
        "  for path, folders, fnames in os.walk(data_path):\n",
        "    for fname in fnames:\n",
        "      abs_path = os.path.join(path, fname)\n",
        "      dest_folder = path.replace('Train', 'Train_png').replace('Test', 'Test_png')\n",
        "      convert_to_png(abs_path, dest_folder)\n",
        "print('Elapsed time = %.2f s', time.time()-start_time)"
      ],
      "execution_count": null,
      "outputs": [
        {
          "output_type": "stream",
          "text": [
            "291.19284987449646\n"
          ],
          "name": "stdout"
        }
      ]
    },
    {
      "cell_type": "markdown",
      "metadata": {
        "id": "un_vcpFHoL1u"
      },
      "source": [
        "# Data aumentation"
      ]
    },
    {
      "cell_type": "code",
      "metadata": {
        "id": "DnTT1VbO3C7o"
      },
      "source": [
        "import matplotlib.pyplot as plt\r\n",
        "from keras.preprocessing.image import ImageDataGenerator"
      ],
      "execution_count": null,
      "outputs": []
    },
    {
      "cell_type": "markdown",
      "metadata": {
        "id": "ohEVrN-3aJfm"
      },
      "source": [
        "https://www.tensorflow.org/api_docs/python/tf/keras/preprocessing/image/ImageDataGenerator\r\n",
        "\r\n",
        "Il FLOW_FROM_DIRECTORY prende in input il path della directory di arrivo e genera gruppi di immagini dando in output un ITERATORE (x, y) con y le labels e x le immagini con shape (batch_size, *target_size, channels)\r\n",
        "\r\n",
        "di default crea le imm in png\r\n",
        "\r\n",
        "*  batch_size (di default è 32) cioè il numero di immagini modificate generate per ogni immagine di X_train.\r\n",
        "\r\n",
        "*  subset = training o validation, funziona solo se c'è validation_split nel \r\n",
        "\r\n",
        "\r\n",
        "\r\n",
        "\r\n",
        "ImageDataGenerator\r\n",
        "\r\n",
        "\r\n",
        "IMAGEDATAGENERATOR:\r\n",
        "Validation_split = 0.3 divide tutte le N immagini di x_train in: 70% train e 30% validazione e usa questo dataset nel model.fit \r\n",
        "\r\n"
      ]
    },
    {
      "cell_type": "code",
      "metadata": {
        "id": "wihSLPuRm4cU",
        "colab": {
          "base_uri": "https://localhost:8080/"
        },
        "outputId": "55ceb6a0-6ab1-48ce-b90d-9069bcda7f7c"
      },
      "source": [
        "path_to_png_data = os.path.join(PATH, \"Train_png\")\n",
        "\n",
        "img_width, img_height = (60, 60)\n",
        "\n",
        "aug_validation_split = 0.3\n",
        "\n",
        "\n",
        "train_datagen = ImageDataGenerator(\n",
        "        rotation_range=40,\n",
        "        width_shift_range=0.2,\n",
        "        height_shift_range=0.2,\n",
        "        rescale=1./255,\n",
        "        shear_range=0.2, #shear deforma l'immagine \"tirandola tra due lati\"\n",
        "        zoom_range=0.2, \n",
        "        horizontal_flip=True,\n",
        "        fill_mode='reflect',\n",
        "        validation_split = aug_validation_split)  \n",
        "        \n",
        "\n",
        "\n",
        "\n",
        "train_gen = train_datagen.flow_from_directory(\n",
        "    path_to_png_data,\n",
        "    target_size=(img_width, img_height),\n",
        "    color_mode='grayscale', \n",
        "    class_mode='binary',\n",
        "    subset='training')\n",
        "\n",
        "val_gen = train_datagen.flow_from_directory(\n",
        "    path_to_png_data,\n",
        "    target_size=(img_width, img_height),\n",
        "    color_mode='grayscale',\n",
        "    class_mode='binary',\n",
        "    subset='validation')\n",
        "\n"
      ],
      "execution_count": null,
      "outputs": [
        {
          "output_type": "stream",
          "text": [
            "Found 278 images belonging to 2 classes.\n",
            "Found 118 images belonging to 2 classes.\n"
          ],
          "name": "stdout"
        }
      ]
    },
    {
      "cell_type": "markdown",
      "metadata": {
        "id": "WEaxeG18xLXH"
      },
      "source": [
        "Il.next() accede ad una immagine. train_gen.next()[0] ha shape = (32, 60, 60, 1) cioè per ogni immagine del dataset, lui genera 32 immagini modificate di dimensione 60x60 di colori grayscale"
      ]
    },
    {
      "cell_type": "markdown",
      "metadata": {
        "id": "rS3iyYXqoda2"
      },
      "source": [
        "# Fit model on augmented images"
      ]
    },
    {
      "cell_type": "code",
      "metadata": {
        "id": "avE0zljglFk5"
      },
      "source": [
        "from keras.callbacks import ModelCheckpoint\n",
        "from keras.optimizers import SGD\n",
        "\n",
        "checkpoint = ModelCheckpoint(\n",
        "    \"model_augmented.{epoch:02d}-{val_accuracy:.2f}.h5\", \n",
        "    monitor='val_accuracy', \n",
        "    verbose=1,\n",
        "    save_best_only=True,\n",
        "    save_weights_only=False,\n",
        "    mode='auto', save_freq='epoch')"
      ],
      "execution_count": null,
      "outputs": []
    },
    {
      "cell_type": "markdown",
      "metadata": {
        "id": "q_CujADtu11l"
      },
      "source": [
        "STEPS_PER_EPOCH: Definisce il numero di immagini da usare ad ogni epoca, è utile quando il numero delle immagini non è fisso perchè vengono generate potenzialmente infiniti samples"
      ]
    },
    {
      "cell_type": "code",
      "metadata": {
        "id": "aFlLwmgSZvKP"
      },
      "source": [
        "Tot_train_imgs = len(x_train)"
      ],
      "execution_count": null,
      "outputs": []
    },
    {
      "cell_type": "code",
      "metadata": {
        "id": "K7yiPz99j_Fw"
      },
      "source": [
        "model = make_model()\n",
        "\n",
        "\n",
        "model.compile(optimizer=SGD(lr=0.001, momentum=0.9), loss='binary_crossentropy', metrics=['accuracy'])\n",
        "\n",
        "\n",
        "batch_size=32\n",
        "steps_per_epoch = int(Tot_train_imgs * (1- aug_validation_split))\n",
        "validation_steps = int(Tot_train_imgs * aug_validation_split)\n",
        "\n",
        "history = model.fit(\n",
        "        train_gen,\n",
        "        steps_per_epoch=278 // batch_size,\n",
        "        epochs=100,\n",
        "        validation_data=val_gen,\n",
        "        validation_steps= 118 // batch_size,\n",
        "        verbose=1,\n",
        "        callbacks=[checkpoint])\n",
        "\n",
        "\n",
        "plt.plot(history.history['loss'])\n",
        "plt.plot(history.history['val_loss'])\n",
        "plt.show()\n",
        "\n",
        "plt.plot(history.history['accuracy'])\n",
        "plt.plot(history.history['val_accuracy'])\n",
        "plt.show()"
      ],
      "execution_count": null,
      "outputs": []
    },
    {
      "cell_type": "markdown",
      "metadata": {
        "id": "PpIDYyYf29HD"
      },
      "source": [
        "Saving the model"
      ]
    },
    {
      "cell_type": "code",
      "metadata": {
        "id": "s7sjHFpGpPtI",
        "colab": {
          "base_uri": "https://localhost:8080/"
        },
        "outputId": "63730585-9398-4cfe-9513-7d0954dbec52"
      },
      "source": [
        "model.save(os.path.join(PATH, 'model_augmented.hdf5'))\r\n",
        "\r\n",
        "model.evaluate(x_test, y_test)"
      ],
      "execution_count": null,
      "outputs": [
        {
          "output_type": "stream",
          "text": [
            "13/13 [==============================] - 0s 5ms/step - loss: 0.3028 - accuracy: 0.9152\n"
          ],
          "name": "stdout"
        },
        {
          "output_type": "execute_result",
          "data": {
            "text/plain": [
              "[0.3028273582458496, 0.9152119755744934]"
            ]
          },
          "metadata": {
            "tags": []
          },
          "execution_count": 37
        }
      ]
    },
    {
      "cell_type": "markdown",
      "metadata": {
        "id": "ziJxv3y8fYoo"
      },
      "source": [
        "# Comparing the performances of the two models"
      ]
    },
    {
      "cell_type": "code",
      "metadata": {
        "id": "6u8dNJW0fLd3"
      },
      "source": [
        "from keras.models import load_model\n",
        "aug_model = load_model(os.path.join(PATH, 'model_augmented.hdf5'))\n",
        "noaug_model = load_model(os.path.join(PATH, 'model.hdf5'))"
      ],
      "execution_count": null,
      "outputs": []
    },
    {
      "cell_type": "code",
      "metadata": {
        "id": "MoMbhMQMf_E9",
        "colab": {
          "base_uri": "https://localhost:8080/"
        },
        "outputId": "922d2d02-13fe-41f6-e413-df5d490f94b1"
      },
      "source": [
        "noaug_model.evaluate(x_test, y_test)\r\n",
        "\r\n",
        "aug_model.evaluate(x_test, y_test)"
      ],
      "execution_count": null,
      "outputs": [
        {
          "output_type": "stream",
          "text": [
            "13/13 [==============================] - 1s 30ms/step - loss: 1.4573 - accuracy: 0.5411\n",
            "13/13 [==============================] - 0s 15ms/step - loss: 0.6845 - accuracy: 0.5686\n"
          ],
          "name": "stdout"
        },
        {
          "output_type": "execute_result",
          "data": {
            "text/plain": [
              "[0.684547483921051, 0.5685785412788391]"
            ]
          },
          "metadata": {
            "tags": []
          },
          "execution_count": 41
        }
      ]
    },
    {
      "cell_type": "markdown",
      "metadata": {
        "id": "uZBgQ-PwuSFq"
      },
      "source": [
        "#Implement a cross-validation test"
      ]
    },
    {
      "cell_type": "code",
      "metadata": {
        "id": "md5HpjB_uzIJ"
      },
      "source": [
        "from sklearn.model_selection import KFold"
      ],
      "execution_count": 49,
      "outputs": []
    },
    {
      "cell_type": "code",
      "metadata": {
        "id": "IhshIa47uU-x"
      },
      "source": [
        "# Define per-fold score arrays\r\n",
        "acc_per_fold = []\r\n",
        "loss_per_fold = []\r\n",
        "\r\n",
        "# Merge train and test in a single array\r\n",
        "X_tot = np.concatenate((x_train, x_test), axis=0)\r\n",
        "Y_tot = np.concatenate((y_train, y_test), axis=0)\r\n",
        "\r\n",
        "\r\n",
        "num_folds = 10\r\n",
        "\r\n",
        "kfold = KFold(n_splits=num_folds, shuffle=True)\r\n",
        "\r\n",
        "batch_size = 32\r\n",
        "num_epochs = 30\r\n",
        "\r\n",
        "for train, test in kfold.split(inputs, targets):\r\n",
        "  fold_nro = 1\r\n",
        "  print('In fold n. ', fold_nro)\r\n",
        "  model = make_model()\r\n",
        "\r\n",
        "  model.compile(optimizer=SGD(lr = 0.001, momentum = 0.9), metrics = 'accuracy', loss='binary_crossentropy')\r\n",
        "\r\n",
        "  history = model.fit(\r\n",
        "          X_tot[train], Y_tot[train],\r\n",
        "          batch_size = batch_size,\r\n",
        "          verbose=0,\r\n",
        "          epochs = num_epochs)  \r\n",
        "  \r\n",
        "  scores = model.evaluate(X_tot[test], Y_tot[test], verbose=0)\r\n",
        "\r\n",
        "  print(f'Score for fold {fold_nro}: {model.metrics_names[0]} of {scores[0]}; {model.metrics_names[1]} of {scores[1]*100}%')\r\n",
        "  acc_per_fold.append(scores[1])\r\n",
        "  loss_per_fold.append(scores[0])\r\n",
        "  fold_nro += 1"
      ],
      "execution_count": null,
      "outputs": []
    },
    {
      "cell_type": "markdown",
      "metadata": {
        "id": "kC2AHLkUjOgn"
      },
      "source": [
        "Computing average scores"
      ]
    },
    {
      "cell_type": "code",
      "metadata": {
        "colab": {
          "base_uri": "https://localhost:8080/"
        },
        "id": "ViYB3QK8chZJ",
        "outputId": "24ea0e5f-7972-4c89-c66d-c3cca98748cd"
      },
      "source": [
        "print('Score per fold')\r\n",
        "for i in range(0, len(acc_per_fold)):\r\n",
        "  print(f'> Fold {i+1} - Loss: {loss_per_fold[i]} - Accuracy: {acc_per_fold[i]}%')\r\n",
        "\r\n",
        "print('\\n')\r\n",
        "print('Average scores for all folds:')\r\n",
        "print(f'-- Accuracy: {np.mean(acc_per_fold)} (+- {np.std(acc_per_fold)})')\r\n",
        "print(f'-- Loss: {np.mean(loss_per_fold)}')\r\n",
        "\r\n"
      ],
      "execution_count": 51,
      "outputs": [
        {
          "output_type": "stream",
          "text": [
            "Score per fold\n",
            "> Fold 1 - Loss: 0.18454262614250183 - Accuracy: 92.5000011920929%\n",
            "> Fold 2 - Loss: 0.33404821157455444 - Accuracy: 87.5%\n",
            "> Fold 3 - Loss: 0.2539677023887634 - Accuracy: 88.7499988079071%\n",
            "> Fold 4 - Loss: 0.23129165172576904 - Accuracy: 91.25000238418579%\n",
            "> Fold 5 - Loss: 0.16628272831439972 - Accuracy: 94.9999988079071%\n",
            "> Fold 6 - Loss: 0.3571431636810303 - Accuracy: 88.7499988079071%\n",
            "> Fold 7 - Loss: 0.2507432699203491 - Accuracy: 88.7499988079071%\n",
            "> Fold 8 - Loss: 0.21372686326503754 - Accuracy: 91.13923907279968%\n",
            "> Fold 9 - Loss: 0.7303618788719177 - Accuracy: 88.60759735107422%\n",
            "> Fold 10 - Loss: 0.16900086402893066 - Accuracy: 88.60759735107422%\n",
            "\n",
            "\n",
            "Average scores for all folds:\n",
            "-- Accuracy: 90.08544325828552 (+- 2.2102587942435514)\n",
            "-- Loss: 0.2891108959913254\n"
          ],
          "name": "stdout"
        }
      ]
    }
  ]
}
