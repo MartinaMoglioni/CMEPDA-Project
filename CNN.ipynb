{
  "nbformat": 4,
  "nbformat_minor": 0,
  "metadata": {
    "colab": {
      "name": "CNN.ipynb",
      "provenance": [],
      "collapsed_sections": [],
      "include_colab_link": true
    },
    "kernelspec": {
      "name": "python3",
      "display_name": "Python 3"
    },
    "accelerator": "GPU"
  },
  "cells": [
    {
      "cell_type": "markdown",
      "metadata": {
        "id": "view-in-github",
        "colab_type": "text"
      },
      "source": [
        "<a href=\"https://colab.research.google.com/github/federicocampo/CNN_prova/blob/Prime_modifiche/CNN.ipynb\" target=\"_parent\"><img src=\"https://colab.research.google.com/assets/colab-badge.svg\" alt=\"Open In Colab\"/></a>"
      ]
    },
    {
      "cell_type": "markdown",
      "metadata": {
        "id": "LfPNt06nZRfC"
      },
      "source": [
        "# Importing the dataset from Google Drive"
      ]
    },
    {
      "cell_type": "code",
      "metadata": {
        "id": "ycQRMl2Bg4Me",
        "colab": {
          "base_uri": "https://localhost:8080/"
        },
        "outputId": "c5cbd8a3-fcc1-4a73-a046-b17fae33844d"
      },
      "source": [
        "from google.colab import drive\n",
        "drive.mount('/content/gdrive')"
      ],
      "execution_count": 30,
      "outputs": [
        {
          "output_type": "stream",
          "text": [
            "Drive already mounted at /content/gdrive; to attempt to forcibly remount, call drive.mount(\"/content/gdrive\", force_remount=True).\n"
          ],
          "name": "stdout"
        }
      ]
    },
    {
      "cell_type": "markdown",
      "metadata": {
        "id": "ZNUU6BXG_-Ia"
      },
      "source": [
        "Setting a personal logger and a streamHandler"
      ]
    },
    {
      "cell_type": "code",
      "metadata": {
        "id": "xJpPtAOPv1D2"
      },
      "source": [
        "import time\r\n",
        "import logging\r\n",
        "\r\n",
        "#Setting a logger and a logging level\r\n",
        "logger = logging.getLogger('Mylogger')\r\n",
        "logger.setLevel(logging.DEBUG)\r\n",
        "#Setting an handler to send logging output\r\n",
        "ch = logging.StreamHandler()\r\n",
        "ch.setLevel(logging.DEBUG)\r\n",
        "#Set the format of every log message printing the name of logger, logging level and the message.\r\n",
        "formatter = logging.Formatter('%(name)s (%(levelname)s): %(message)s')\r\n",
        "ch.setFormatter(formatter)\r\n",
        "#Add the specified handler to this logger.\r\n",
        "logger.addHandler(ch)"
      ],
      "execution_count": 31,
      "outputs": []
    },
    {
      "cell_type": "markdown",
      "metadata": {
        "id": "Zqw3aYF1gDFD"
      },
      "source": [
        "# Read and visualize the original dataset"
      ]
    },
    {
      "cell_type": "code",
      "metadata": {
        "id": "rqCZ72z2gCIH"
      },
      "source": [
        "from matplotlib import pyplot as plt\n",
        "from skimage.io import imread, imshow\n",
        "import os\n",
        "import glob\n",
        "import numpy as np"
      ],
      "execution_count": 3,
      "outputs": []
    },
    {
      "cell_type": "code",
      "metadata": {
        "id": "GkOspN9xPlg8"
      },
      "source": [
        "PATH = 'gdrive/MyDrive/IMAGES/Mammography_micro'"
      ],
      "execution_count": 4,
      "outputs": []
    },
    {
      "cell_type": "markdown",
      "metadata": {
        "id": "OUKkkzEYlMqP"
      },
      "source": [
        "*Imread* returns a 60 x 60 array"
      ]
    },
    {
      "cell_type": "code",
      "metadata": {
        "id": "8bVKQicJt1gi"
      },
      "source": [
        "import multiprocessing as mp\r\n",
        "\r\n",
        "def read_img(image_path):\r\n",
        "  '''Takes as input the path to the image folder and \r\n",
        "  returns the numpy array of images and label found in that folder'''\r\n",
        "\r\n",
        "  #Creating a list of all image names found in image_path\r\n",
        "  fnames = glob.glob(os.path.join(image_path, '*.pgm'))\r\n",
        "\r\n",
        "  #Defining 4 sub-processes and apply imread to all the images found previously\r\n",
        "  #(imread reads images in pgm format)\r\n",
        "  pool = mp.Pool(processes=4)\r\n",
        "  results = pool.map_async(imread, fnames)\r\n",
        "\r\n",
        "  #Get the list of images and convert to numpy array\r\n",
        "  x = results.get()\r\n",
        "  x_np = np.array(x, dtype='float32')[..., np.newaxis]/255\r\n",
        "\r\n",
        "  logger.info('Num images found in %s: %d',image_path, len(x_np))\r\n",
        "\r\n",
        "  #Create a list of corrisponding labels and conver it to numpy array\r\n",
        "  label = os.path.basename(image_path)\r\n",
        "  y = [int(label)] * len(x_np)\r\n",
        "  y_np = np.array(y)\r\n",
        "\r\n",
        "  \r\n",
        "  return x_np, y_np\r\n"
      ],
      "execution_count": 5,
      "outputs": []
    },
    {
      "cell_type": "code",
      "metadata": {
        "id": "XAREAlnsKhWk",
        "colab": {
          "base_uri": "https://localhost:8080/"
        },
        "outputId": "a7baa77f-64e7-43ab-f33b-dfc4c4b4c9a9"
      },
      "source": [
        "start_time = time.time()\r\n",
        "\r\n",
        "#Define the path to the sub-folder of Train images folder containing \"normal\" breast mammograms\r\n",
        "image_path = os.path.join(PATH, 'Train/0')\r\n",
        "#Create the test images and labels array with read_img function\r\n",
        "x0_train, y0_train = read_img(image_path)\r\n",
        "\r\n",
        "\r\n",
        "#Define the path to the sub-folder of Train images folder containing breast mammograms with microcalcifications\r\n",
        "image_path = os.path.join(PATH, 'Train/1')\r\n",
        "#Create the test images and labels array with read_img function\r\n",
        "x1_train, y1_train = read_img(image_path)\r\n",
        "\r\n",
        "#Create an array with both normal and sick images and labels\r\n",
        "x_train = np.concatenate((x0_train, x1_train), axis = 0)\r\n",
        "y_train = np.concatenate((y0_train, y1_train))\r\n",
        "\r\n",
        "#Doing the same of previous lines, on Test folder\r\n",
        "image_path = os.path.join(PATH, 'Test/0')\r\n",
        "x0_test, y0_test = read_img(image_path)\r\n",
        "\r\n",
        "image_path = os.path.join(PATH, 'Test/1')\r\n",
        "x1_test, y1_test = read_img(image_path)\r\n",
        "\r\n",
        "x_test = np.concatenate((x0_test, x1_test), axis = 0)\r\n",
        "y_test = np.concatenate((y0_test, y1_test))\r\n",
        "\r\n",
        "#Print the total number of images found.\r\n",
        "print(f'There are {len(x_train)} train images and {len(x_test)} test images')\r\n",
        "\r\n",
        "elapsed_time = time.time() - start_time\r\n",
        "logger.debug('Done in %.2f s', elapsed_time)\r\n"
      ],
      "execution_count": 6,
      "outputs": [
        {
          "output_type": "stream",
          "text": [
            "Mylogger (INFO): Num images found in gdrive/MyDrive/IMAGES/Mammography_micro/Train/0: 209\n",
            "Mylogger (INFO): Num images found in gdrive/MyDrive/IMAGES/Mammography_micro/Train/1: 187\n",
            "Mylogger (INFO): Num images found in gdrive/MyDrive/IMAGES/Mammography_micro/Test/0: 205\n",
            "Mylogger (INFO): Num images found in gdrive/MyDrive/IMAGES/Mammography_micro/Test/1: 196\n",
            "Mylogger (DEBUG): Done in 1.44 s\n"
          ],
          "name": "stderr"
        },
        {
          "output_type": "stream",
          "text": [
            "There are 396 train images and 401 test images\n"
          ],
          "name": "stdout"
        }
      ]
    },
    {
      "cell_type": "markdown",
      "metadata": {
        "id": "NZPx6CGyBdpG"
      },
      "source": [
        "Create a single array with both train and test images and an array containing all labels"
      ]
    },
    {
      "cell_type": "code",
      "metadata": {
        "id": "w5zh7TpIBcVp"
      },
      "source": [
        "# Merge train and test in a single array n-dim\r\n",
        "X_tot = np.concatenate((x_train, x_test), axis=0)\r\n",
        "Y_tot = np.concatenate((y_train, y_test), axis=0)"
      ],
      "execution_count": 7,
      "outputs": []
    },
    {
      "cell_type": "markdown",
      "metadata": {
        "id": "p1BAtPrtt7Fm"
      },
      "source": [
        "***Visualize some images***\r\n",
        "\r\n",
        "Visualize n random train images and n random test images "
      ]
    },
    {
      "cell_type": "code",
      "metadata": {
        "id": "BfyUHHdW3Pa_"
      },
      "source": [
        "import random \r\n",
        "\r\n",
        "#defining the number of images to visualize\r\n",
        "n = 10\r\n",
        "\r\n",
        "\r\n",
        "#Defining the number or rows and columns of the subplots based on the parity of n\r\n",
        "if n % 2 == 0:\r\n",
        "  n_rows = n/2\r\n",
        "  n_cols = n/2\r\n",
        "else: \r\n",
        "  n_rows = int(round(n/2))\r\n",
        "  n_cols = int(round(n/2)) +1\r\n",
        "\r\n",
        "#Create the main figure and the subfigures of training images\r\n",
        "plt.figure(1, figsize = (15, 15))\r\n",
        "plt.suptitle('Train images')\r\n",
        "for i in range(1, n+1):\r\n",
        "  #Choose a random index among x_train number of images\r\n",
        "  r = random.randrange(0, len(x_train))\r\n",
        "  Im = x_train[r].squeeze()\r\n",
        "  plt.subplot(n_rows, n_cols, i)\r\n",
        "  plt.imshow(Im, cmap = 'gray')\r\n",
        "  plt.axis('off')\r\n",
        "  plt.title(f'{y_train[r]}')\r\n",
        "\r\n",
        "#Create the main figure and the subfigures of test images\r\n",
        "plt.figure(2, figsize = (15, 15))\r\n",
        "plt.suptitle('Test images')\r\n",
        "for i in range(1, n+1):\r\n",
        "  r = random.randrange(0, len(x_test))\r\n",
        "  Im = x_test[r].squeeze()\r\n",
        "  plt.subplot(n_rows, n_cols, i)\r\n",
        "  plt.imshow(Im, cmap = 'gray')\r\n",
        "  plt.axis('off')\r\n",
        "  plt.title(f'{y_test[r]}')\r\n"
      ],
      "execution_count": null,
      "outputs": []
    },
    {
      "cell_type": "markdown",
      "metadata": {
        "id": "uBkLQzhsmYaJ"
      },
      "source": [
        "#Data augmentation"
      ]
    },
    {
      "cell_type": "markdown",
      "metadata": {
        "id": "5xang6C1lUht"
      },
      "source": [
        "##Convert all 'pgm' images format to 'png' format\r\n",
        "(needed to run ImageDataGenerator)"
      ]
    },
    {
      "cell_type": "code",
      "metadata": {
        "id": "fsWgaT6LmebC"
      },
      "source": [
        "import PIL\r\n",
        "import os"
      ],
      "execution_count": null,
      "outputs": []
    },
    {
      "cell_type": "code",
      "metadata": {
        "id": "Re8kga5lmeMA"
      },
      "source": [
        "def convert_to_png(fname, dest_folder):\r\n",
        "  #Create a new folder to put converted images in\r\n",
        "  if not os.path.exists(dest_folder):\r\n",
        "    os.makedirs(dest_folder)\r\n",
        "    \r\n",
        "  logger.debug('converting %s', fname)\r\n",
        "  #Change the name of the filename to png extension\r\n",
        "  dest_fname = os.path.basename(fname).replace('.pgm', '.png')\r\n",
        "  #Define the destination file path\r\n",
        "  dest_fname = os.path.join(dest_folder, dest_fname)\r\n",
        "  #Convert the image to grayscale and save it\r\n",
        "  PIL.Image.open(fname).convert('L').save(dest_fname)"
      ],
      "execution_count": null,
      "outputs": []
    },
    {
      "cell_type": "code",
      "metadata": {
        "id": "-XUCFASbmjLH"
      },
      "source": [
        "for data_path in [os.path.join(PATH, \"Train\"), os.path.join(PATH, \"Test\")]:\r\n",
        "  for path, folders, fnames in os.walk(data_path):\r\n",
        "    #Using convert_to_png function to every filename\r\n",
        "    for fname in fnames:\r\n",
        "      abs_path = os.path.join(path, fname)\r\n",
        "      #Create folders for png images at the same path of original pgm images\r\n",
        "      dest_folder = path.replace('Train', 'Train_png').replace('Test', 'Test_png')\r\n",
        "      convert_to_png(abs_path, dest_folder)\r\n"
      ],
      "execution_count": null,
      "outputs": []
    },
    {
      "cell_type": "markdown",
      "metadata": {
        "id": "hm0582HRmr_h"
      },
      "source": [
        "##Data augmentation. "
      ]
    },
    {
      "cell_type": "code",
      "metadata": {
        "id": "cLXrCayXmrV3"
      },
      "source": [
        "import matplotlib.pyplot as plt\r\n",
        "from keras.preprocessing.image import ImageDataGenerator"
      ],
      "execution_count": 16,
      "outputs": []
    },
    {
      "cell_type": "markdown",
      "metadata": {
        "id": "4SayDNbnm3Fr"
      },
      "source": [
        "https://www.tensorflow.org/api_docs/python/tf/keras/preprocessing/image/ImageDataGenerator\r\n",
        "\r\n",
        "FLOW_FROM_DIRECTORY takes as input the destination folder path and generates batches of images giving as output an iterator (x, y) where y is the iterator over the labels and x over the images.\r\n",
        "\r\n",
        "Images shape = (batch_size, *target_size, channels) where:\r\n",
        "\r\n",
        "*  batch_size (default = 32) number of images generated from every single x_train image.\r\n",
        "\r\n",
        "Default format of images = png\r\n",
        "\r\n",
        "\r\n",
        "\r\n",
        "*  subset = training o validation, funziona solo se c'è validation_split nel \r\n",
        "\r\n",
        "\r\n",
        "\r\n",
        "\r\n",
        "ImageDataGenerator\r\n",
        "\r\n",
        "\r\n",
        "IMAGEDATAGENERATOR:\r\n",
        "Validation_split = 0.3 divide tutte le N immagini di x_train in: 70% train e 30% validazione e usa questo dataset nel model.fit \r\n"
      ]
    },
    {
      "cell_type": "markdown",
      "metadata": {
        "id": "aKqhV2t8m_TS"
      },
      "source": [
        "Il.next() accede ad una immagine. train_gen.next()[0] ha shape = (32, 60, 60, 1) cioè per ogni immagine del dataset, lui genera 32 immagini modificate di dimensione 60x60 di colori grayscale"
      ]
    },
    {
      "cell_type": "code",
      "metadata": {
        "id": "I49kI5enm4C_",
        "colab": {
          "base_uri": "https://localhost:8080/"
        },
        "outputId": "8d2ac6f6-b330-4cf0-9f92-2e9911eb0d1e"
      },
      "source": [
        "path_to_png_data = os.path.join(PATH, \"Train_png\")\r\n",
        "#Define the shape of the images\r\n",
        "img_width, img_height = (60, 60)\r\n",
        "\r\n",
        "aug_validation_split = 0.3\r\n",
        "\r\n",
        "\r\n",
        "train_datagen = ImageDataGenerator(\r\n",
        "        rotation_range=40,\r\n",
        "        width_shift_range=0.2,\r\n",
        "        height_shift_range=0.2,\r\n",
        "        zoom_range=0.2, \r\n",
        "        rescale=1./255,  #Rescale every pixel to have a value between 0 and 1\r\n",
        "        shear_range=0.2, #Stretches the image \r\n",
        "        horizontal_flip=True,\r\n",
        "        fill_mode='reflect',\r\n",
        "        validation_split = validation_split)  \r\n",
        "        \r\n",
        "\r\n",
        "\r\n",
        "\r\n",
        "train_gen = train_datagen.flow_from_directory(\r\n",
        "    path_to_png_data,\r\n",
        "    target_size=(img_width, img_height),\r\n",
        "    color_mode='grayscale', \r\n",
        "    class_mode='binary',\r\n",
        "    subset='training')\r\n",
        "\r\n",
        "val_gen = train_datagen.flow_from_directory(\r\n",
        "    path_to_png_data,\r\n",
        "    target_size=(img_width, img_height),\r\n",
        "    color_mode='grayscale',\r\n",
        "    class_mode='binary',\r\n",
        "    subset='validation')\r\n",
        "\r\n"
      ],
      "execution_count": 17,
      "outputs": [
        {
          "output_type": "stream",
          "text": [
            "Found 278 images belonging to 2 classes.\n",
            "Found 118 images belonging to 2 classes.\n"
          ],
          "name": "stdout"
        }
      ]
    },
    {
      "cell_type": "markdown",
      "metadata": {
        "id": "Blz5VJ8pajXz"
      },
      "source": [
        "# Defining a CNN model"
      ]
    },
    {
      "cell_type": "code",
      "metadata": {
        "id": "7plXV2WyaoGt"
      },
      "source": [
        "from keras.layers import Conv2D, BatchNormalization, MaxPool2D, Dense, Flatten, InputLayer, Activation, Dropout\n",
        "from keras.models import Sequential"
      ],
      "execution_count": 11,
      "outputs": []
    },
    {
      "cell_type": "code",
      "metadata": {
        "id": "XBloTVdsaewM"
      },
      "source": [
        "def make_model(shape=(60, 60, 1)):\n",
        "  ''' Returns the CNN model'''\n",
        "  model = Sequential([\n",
        "      \n",
        "      Conv2D(50, (5,5), padding='same', input_shape=shape),\n",
        "      BatchNormalization(),\n",
        "      Activation('relu'),\n",
        "      MaxPool2D((2,2)),\n",
        "      \n",
        "      Conv2D(60, (3,3), padding='same'),\n",
        "      BatchNormalization(),\n",
        "      Activation('relu'),\n",
        "      MaxPool2D((2,2)),\n",
        "        \n",
        "      Conv2D(100, (3,3), padding='same'),\n",
        "      BatchNormalization(),\n",
        "      Activation('relu'),\n",
        "\n",
        "      Conv2D(100, (3,3), padding='same'),\n",
        "      BatchNormalization(),\n",
        "      Activation('relu'),\n",
        "\n",
        "      Conv2D(50, (4,4), padding='same'),\n",
        "      BatchNormalization(),\n",
        "      Activation('relu'),\n",
        "      MaxPool2D(2, 2),\n",
        "\n",
        "      Flatten(), \n",
        "      \n",
        "\n",
        "      Dense(1, activation='sigmoid')\n",
        "      \n",
        "  ])\n",
        "  \n",
        "  return model\n"
      ],
      "execution_count": 12,
      "outputs": []
    },
    {
      "cell_type": "markdown",
      "metadata": {
        "id": "mXt999cLSEeT"
      },
      "source": [
        "#Fit model on original dataset"
      ]
    },
    {
      "cell_type": "markdown",
      "metadata": {
        "id": "JlOs39msC6cs"
      },
      "source": [
        "Define a checkpoint to save the best weights of model"
      ]
    },
    {
      "cell_type": "code",
      "metadata": {
        "id": "nUQjwzu90fsX"
      },
      "source": [
        "from keras.callbacks import ModelCheckpoint\r\n",
        "\r\n",
        "#Set a checkpoint to save weights giving the best performance on val_accuracy \r\n",
        "checkpoint = ModelCheckpoint(\r\n",
        "    \"model-{epoch:02d}-{val_accuracy:.2f}.hdf5\", \r\n",
        "    monitor='val_accuracy', \r\n",
        "    verbose=1,\r\n",
        "    save_best_only=True,\r\n",
        "    save_weights_only=False,\r\n",
        "    mode='auto', save_freq='epoch')\r\n"
      ],
      "execution_count": 35,
      "outputs": []
    },
    {
      "cell_type": "code",
      "metadata": {
        "id": "nPh3ewyPn1bR"
      },
      "source": [
        "from keras.optimizers import SGD\r\n",
        "\r\n",
        "model = make_model()\r\n",
        "\r\n",
        "model.compile(optimizer = SGD(lr = 0.001, momentum = 0.9), metrics = 'accuracy', loss='binary_crossentropy')"
      ],
      "execution_count": 36,
      "outputs": []
    },
    {
      "cell_type": "code",
      "metadata": {
        "id": "RH25BWCqfbGM"
      },
      "source": [
        "history = model.fit(x_train, y_train, \r\n",
        "                    validation_split=0.3, \r\n",
        "                    epochs=100, \r\n",
        "                    batch_size=30, \r\n",
        "                    shuffle=True, \r\n",
        "                    callbacks = [checkpoint],\r\n",
        "                    verbose=1)"
      ],
      "execution_count": null,
      "outputs": []
    },
    {
      "cell_type": "code",
      "metadata": {
        "id": "FXkkfjdPSsuM",
        "outputId": "b4f0554c-4db8-40a0-c714-28a8b5b61e94",
        "colab": {
          "base_uri": "https://localhost:8080/",
          "height": 563
        }
      },
      "source": [
        "plt.figure(1)\r\n",
        "plt.plot(history.history['loss'])\r\n",
        "plt.plot(history.history['val_loss'])\r\n",
        "plt.title('Loss and val_loss')\r\n",
        "\r\n",
        "plt.figure(2)\r\n",
        "plt.plot(history.history['accuracy'])\r\n",
        "plt.plot(history.history['val_accuracy'])\r\n",
        "plt.title('Accuracy and val_accuracy')"
      ],
      "execution_count": 38,
      "outputs": [
        {
          "output_type": "execute_result",
          "data": {
            "text/plain": [
              "Text(0.5, 1.0, 'Accuracy and val_accuracy')"
            ]
          },
          "metadata": {
            "tags": []
          },
          "execution_count": 38
        },
        {
          "output_type": "display_data",
          "data": {
            "image/png": "[encoded data removed]",
            "text/plain": [
              "<Figure size 432x288 with 1 Axes>"
            ]
          },
          "metadata": {
            "tags": [],
            "needs_background": "light"
          }
        },
        {
          "output_type": "display_data",
          "data": {
            "image/png": "[encoded data removed]",
            "text/plain": [
              "<Figure size 432x288 with 1 Axes>"
            ]
          },
          "metadata": {
            "tags": [],
            "needs_background": "light"
          }
        }
      ]
    },
    {
      "cell_type": "code",
      "metadata": {
        "id": "ConM7Babe9VD",
        "outputId": "99ae1355-00c1-4249-cbc1-c97d6ef8c87f",
        "colab": {
          "base_uri": "https://localhost:8080/"
        }
      },
      "source": [
        "model.save(os.path.join(PATH, 'model.hdf5'))\r\n",
        "#calculate 'loss' and 'metrics' (accuracy in our case)\r\n",
        "model.evaluate(x_test, y_test) \r\n"
      ],
      "execution_count": 39,
      "outputs": [
        {
          "output_type": "stream",
          "text": [
            "13/13 [==============================] - 0s 8ms/step - loss: 0.5801 - accuracy: 0.8130\n"
          ],
          "name": "stdout"
        },
        {
          "output_type": "execute_result",
          "data": {
            "text/plain": [
              "[0.580134391784668, 0.8129675984382629]"
            ]
          },
          "metadata": {
            "tags": []
          },
          "execution_count": 39
        }
      ]
    },
    {
      "cell_type": "markdown",
      "metadata": {
        "id": "rS3iyYXqoda2"
      },
      "source": [
        "# Fit model on augmented dataset"
      ]
    },
    {
      "cell_type": "code",
      "metadata": {
        "id": "avE0zljglFk5"
      },
      "source": [
        "from keras.callbacks import ModelCheckpoint\n",
        "\n",
        "checkpoint = ModelCheckpoint(\n",
        "    \"model_augmented.{epoch:02d}-{val_accuracy:.2f}.h5\", \n",
        "    monitor='val_accuracy', \n",
        "    verbose=1,\n",
        "    save_best_only=True,\n",
        "    save_weights_only=False,\n",
        "    mode='auto', save_freq='epoch')\n"
      ],
      "execution_count": 24,
      "outputs": []
    },
    {
      "cell_type": "code",
      "metadata": {
        "id": "aFlLwmgSZvKP"
      },
      "source": [
        "Tot_train_imgs = len(x_train)"
      ],
      "execution_count": 25,
      "outputs": []
    },
    {
      "cell_type": "code",
      "metadata": {
        "id": "K7yiPz99j_Fw",
        "outputId": "26a4f3f8-81f0-4de0-83d3-40b6d3dcc2ef",
        "colab": {
          "base_uri": "https://localhost:8080/"
        }
      },
      "source": [
        "from keras.optimizers import SGD\n",
        "\n",
        "\n",
        "model = make_model()\n",
        "\n",
        "\n",
        "model.compile(optimizer=SGD(lr=0.001, momentum=0.9), loss='binary_crossentropy', metrics=['accuracy'])\n",
        "\n",
        "\n",
        "batch_size=32\n",
        "#Defining the number of images to use in each epoch\n",
        "steps_per_epoch = int(Tot_train_imgs * (1- aug_validation_split))\n",
        "validation_steps = int(Tot_train_imgs * aug_validation_split)\n",
        "\n",
        "logger.info('Steps per epoch = %d', steps_per_epoch)\n",
        "logger.info('Val steps = %d', validation_steps)\n",
        "\n",
        "\n",
        "history = model.fit(\n",
        "        train_gen,\n",
        "        steps_per_epoch = steps_per_epoch // batch_size,\n",
        "        epochs=100,\n",
        "        validation_data=val_gen,\n",
        "        validation_steps= validation_steps // batch_size,\n",
        "        verbose=1,\n",
        "        callbacks=[checkpoint])\n",
        "\n",
        "\n"
      ],
      "execution_count": 26,
      "outputs": [
        {
          "output_type": "stream",
          "text": [
            "Mylogger (INFO): Steps per epoch = 277\n",
            "Mylogger (INFO): Val steps = 118\n"
          ],
          "name": "stderr"
        },
        {
          "output_type": "stream",
          "text": [
            "Epoch 1/100\n",
            "8/8 [==============================] - 2s 176ms/step - loss: 0.5885 - accuracy: 0.6395 - val_loss: 0.6926 - val_accuracy: 0.4896\n",
            "\n",
            "Epoch 00001: val_accuracy improved from -inf to 0.48958, saving model to model_augmented.01-0.49.h5\n",
            "Epoch 2/100\n",
            "8/8 [==============================] - 1s 132ms/step - loss: 0.5661 - accuracy: 0.6856 - val_loss: 0.6958 - val_accuracy: 0.4792\n",
            "\n",
            "Epoch 00002: val_accuracy did not improve from 0.48958\n",
            "Epoch 3/100\n",
            "8/8 [==============================] - 1s 130ms/step - loss: 0.6183 - accuracy: 0.7142 - val_loss: 0.6943 - val_accuracy: 0.4062\n",
            "\n",
            "Epoch 00003: val_accuracy did not improve from 0.48958\n",
            "Epoch 4/100\n",
            "8/8 [==============================] - 1s 133ms/step - loss: 0.5974 - accuracy: 0.6689 - val_loss: 0.6882 - val_accuracy: 0.7604\n",
            "\n",
            "Epoch 00004: val_accuracy improved from 0.48958 to 0.76042, saving model to model_augmented.04-0.76.h5\n",
            "Epoch 5/100\n",
            "8/8 [==============================] - 1s 132ms/step - loss: 0.5797 - accuracy: 0.6993 - val_loss: 0.7020 - val_accuracy: 0.4583\n",
            "\n",
            "Epoch 00005: val_accuracy did not improve from 0.76042\n",
            "Epoch 6/100\n",
            "8/8 [==============================] - 1s 133ms/step - loss: 0.5362 - accuracy: 0.6824 - val_loss: 0.6923 - val_accuracy: 0.5625\n",
            "\n",
            "Epoch 00006: val_accuracy did not improve from 0.76042\n",
            "Epoch 7/100\n",
            "8/8 [==============================] - 1s 132ms/step - loss: 0.5131 - accuracy: 0.8032 - val_loss: 0.7023 - val_accuracy: 0.2083\n",
            "\n",
            "Epoch 00007: val_accuracy did not improve from 0.76042\n",
            "Epoch 8/100\n",
            "8/8 [==============================] - 1s 131ms/step - loss: 0.4226 - accuracy: 0.7847 - val_loss: 0.7078 - val_accuracy: 0.2188\n",
            "\n",
            "Epoch 00008: val_accuracy did not improve from 0.76042\n",
            "Epoch 9/100\n",
            "8/8 [==============================] - 1s 131ms/step - loss: 0.3889 - accuracy: 0.8255 - val_loss: 0.7040 - val_accuracy: 0.5104\n",
            "\n",
            "Epoch 00009: val_accuracy did not improve from 0.76042\n",
            "Epoch 10/100\n",
            "8/8 [==============================] - 1s 130ms/step - loss: 0.4239 - accuracy: 0.8058 - val_loss: 0.7031 - val_accuracy: 0.5000\n",
            "\n",
            "Epoch 00010: val_accuracy did not improve from 0.76042\n",
            "Epoch 11/100\n",
            "8/8 [==============================] - 1s 139ms/step - loss: 0.3971 - accuracy: 0.8041 - val_loss: 0.7007 - val_accuracy: 0.5312\n",
            "\n",
            "Epoch 00011: val_accuracy did not improve from 0.76042\n",
            "Epoch 12/100\n",
            "8/8 [==============================] - 1s 146ms/step - loss: 0.4598 - accuracy: 0.7735 - val_loss: 0.7101 - val_accuracy: 0.4792\n",
            "\n",
            "Epoch 00012: val_accuracy did not improve from 0.76042\n",
            "Epoch 13/100\n",
            "8/8 [==============================] - 1s 133ms/step - loss: 0.3641 - accuracy: 0.8336 - val_loss: 0.7135 - val_accuracy: 0.5104\n",
            "\n",
            "Epoch 00013: val_accuracy did not improve from 0.76042\n",
            "Epoch 14/100\n",
            "8/8 [==============================] - 1s 131ms/step - loss: 0.3525 - accuracy: 0.8510 - val_loss: 0.6993 - val_accuracy: 0.5312\n",
            "\n",
            "Epoch 00014: val_accuracy did not improve from 0.76042\n",
            "Epoch 15/100\n",
            "8/8 [==============================] - 1s 137ms/step - loss: 0.4203 - accuracy: 0.7775 - val_loss: 0.6967 - val_accuracy: 0.4896\n",
            "\n",
            "Epoch 00015: val_accuracy did not improve from 0.76042\n",
            "Epoch 16/100\n",
            "8/8 [==============================] - 1s 131ms/step - loss: 0.3977 - accuracy: 0.7866 - val_loss: 0.6870 - val_accuracy: 0.5521\n",
            "\n",
            "Epoch 00016: val_accuracy did not improve from 0.76042\n",
            "Epoch 17/100\n",
            "8/8 [==============================] - 1s 133ms/step - loss: 0.3570 - accuracy: 0.8501 - val_loss: 0.7122 - val_accuracy: 0.5417\n",
            "\n",
            "Epoch 00017: val_accuracy did not improve from 0.76042\n",
            "Epoch 18/100\n",
            "8/8 [==============================] - 1s 132ms/step - loss: 0.4030 - accuracy: 0.8011 - val_loss: 0.6946 - val_accuracy: 0.5729\n",
            "\n",
            "Epoch 00018: val_accuracy did not improve from 0.76042\n",
            "Epoch 19/100\n",
            "8/8 [==============================] - 1s 130ms/step - loss: 0.4387 - accuracy: 0.8224 - val_loss: 0.7748 - val_accuracy: 0.5000\n",
            "\n",
            "Epoch 00019: val_accuracy did not improve from 0.76042\n",
            "Epoch 20/100\n",
            "8/8 [==============================] - 1s 128ms/step - loss: 0.3922 - accuracy: 0.8326 - val_loss: 0.7135 - val_accuracy: 0.5625\n",
            "\n",
            "Epoch 00020: val_accuracy did not improve from 0.76042\n",
            "Epoch 21/100\n",
            "8/8 [==============================] - 1s 132ms/step - loss: 0.2930 - accuracy: 0.8895 - val_loss: 0.7616 - val_accuracy: 0.5104\n",
            "\n",
            "Epoch 00021: val_accuracy did not improve from 0.76042\n",
            "Epoch 22/100\n",
            "8/8 [==============================] - 1s 135ms/step - loss: 0.3657 - accuracy: 0.8376 - val_loss: 0.7624 - val_accuracy: 0.4896\n",
            "\n",
            "Epoch 00022: val_accuracy did not improve from 0.76042\n",
            "Epoch 23/100\n",
            "8/8 [==============================] - 1s 136ms/step - loss: 0.3588 - accuracy: 0.8567 - val_loss: 0.7943 - val_accuracy: 0.5208\n",
            "\n",
            "Epoch 00023: val_accuracy did not improve from 0.76042\n",
            "Epoch 24/100\n",
            "8/8 [==============================] - 1s 131ms/step - loss: 0.2983 - accuracy: 0.8788 - val_loss: 0.7672 - val_accuracy: 0.5521\n",
            "\n",
            "Epoch 00024: val_accuracy did not improve from 0.76042\n",
            "Epoch 25/100\n",
            "8/8 [==============================] - 1s 133ms/step - loss: 0.3338 - accuracy: 0.8579 - val_loss: 0.7924 - val_accuracy: 0.5208\n",
            "\n",
            "Epoch 00025: val_accuracy did not improve from 0.76042\n",
            "Epoch 26/100\n",
            "8/8 [==============================] - 1s 135ms/step - loss: 0.2805 - accuracy: 0.8958 - val_loss: 0.8129 - val_accuracy: 0.5208\n",
            "\n",
            "Epoch 00026: val_accuracy did not improve from 0.76042\n",
            "Epoch 27/100\n",
            "8/8 [==============================] - 1s 134ms/step - loss: 0.2989 - accuracy: 0.8726 - val_loss: 0.7724 - val_accuracy: 0.5312\n",
            "\n",
            "Epoch 00027: val_accuracy did not improve from 0.76042\n",
            "Epoch 28/100\n",
            "8/8 [==============================] - 1s 134ms/step - loss: 0.3413 - accuracy: 0.8338 - val_loss: 0.7926 - val_accuracy: 0.5208\n",
            "\n",
            "Epoch 00028: val_accuracy did not improve from 0.76042\n",
            "Epoch 29/100\n",
            "8/8 [==============================] - 1s 132ms/step - loss: 0.3824 - accuracy: 0.8111 - val_loss: 0.7532 - val_accuracy: 0.5312\n",
            "\n",
            "Epoch 00029: val_accuracy did not improve from 0.76042\n",
            "Epoch 30/100\n",
            "8/8 [==============================] - 1s 133ms/step - loss: 0.3465 - accuracy: 0.8584 - val_loss: 0.7792 - val_accuracy: 0.5417\n",
            "\n",
            "Epoch 00030: val_accuracy did not improve from 0.76042\n",
            "Epoch 31/100\n",
            "8/8 [==============================] - 1s 132ms/step - loss: 0.3237 - accuracy: 0.8457 - val_loss: 0.7796 - val_accuracy: 0.5000\n",
            "\n",
            "Epoch 00031: val_accuracy did not improve from 0.76042\n",
            "Epoch 32/100\n",
            "8/8 [==============================] - 1s 135ms/step - loss: 0.3081 - accuracy: 0.8664 - val_loss: 0.8228 - val_accuracy: 0.5312\n",
            "\n",
            "Epoch 00032: val_accuracy did not improve from 0.76042\n",
            "Epoch 33/100\n",
            "8/8 [==============================] - 1s 138ms/step - loss: 0.3246 - accuracy: 0.8635 - val_loss: 0.7801 - val_accuracy: 0.4583\n",
            "\n",
            "Epoch 00033: val_accuracy did not improve from 0.76042\n",
            "Epoch 34/100\n",
            "8/8 [==============================] - 1s 134ms/step - loss: 0.3031 - accuracy: 0.9042 - val_loss: 0.8409 - val_accuracy: 0.5312\n",
            "\n",
            "Epoch 00034: val_accuracy did not improve from 0.76042\n",
            "Epoch 35/100\n",
            "8/8 [==============================] - 1s 135ms/step - loss: 0.3812 - accuracy: 0.8294 - val_loss: 0.7515 - val_accuracy: 0.5208\n",
            "\n",
            "Epoch 00035: val_accuracy did not improve from 0.76042\n",
            "Epoch 36/100\n",
            "8/8 [==============================] - 1s 134ms/step - loss: 0.3293 - accuracy: 0.8926 - val_loss: 0.8434 - val_accuracy: 0.5417\n",
            "\n",
            "Epoch 00036: val_accuracy did not improve from 0.76042\n",
            "Epoch 37/100\n",
            "8/8 [==============================] - 1s 136ms/step - loss: 0.3719 - accuracy: 0.8505 - val_loss: 0.8531 - val_accuracy: 0.5000\n",
            "\n",
            "Epoch 00037: val_accuracy did not improve from 0.76042\n",
            "Epoch 38/100\n",
            "8/8 [==============================] - 1s 147ms/step - loss: 0.3986 - accuracy: 0.8100 - val_loss: 0.7596 - val_accuracy: 0.5521\n",
            "\n",
            "Epoch 00038: val_accuracy did not improve from 0.76042\n",
            "Epoch 39/100\n",
            "8/8 [==============================] - 1s 159ms/step - loss: 0.2915 - accuracy: 0.8389 - val_loss: 0.7512 - val_accuracy: 0.5312\n",
            "\n",
            "Epoch 00039: val_accuracy did not improve from 0.76042\n",
            "Epoch 40/100\n",
            "8/8 [==============================] - 1s 160ms/step - loss: 0.2569 - accuracy: 0.8868 - val_loss: 0.5271 - val_accuracy: 0.6667\n",
            "\n",
            "Epoch 00040: val_accuracy did not improve from 0.76042\n",
            "Epoch 41/100\n",
            "8/8 [==============================] - 1s 161ms/step - loss: 0.3719 - accuracy: 0.8350 - val_loss: 0.5784 - val_accuracy: 0.6667\n",
            "\n",
            "Epoch 00041: val_accuracy did not improve from 0.76042\n",
            "Epoch 42/100\n",
            "8/8 [==============================] - 1s 146ms/step - loss: 0.2803 - accuracy: 0.8838 - val_loss: 0.5120 - val_accuracy: 0.7292\n",
            "\n",
            "Epoch 00042: val_accuracy did not improve from 0.76042\n",
            "Epoch 43/100\n",
            "8/8 [==============================] - 1s 130ms/step - loss: 0.2852 - accuracy: 0.8792 - val_loss: 0.5811 - val_accuracy: 0.6354\n",
            "\n",
            "Epoch 00043: val_accuracy did not improve from 0.76042\n",
            "Epoch 44/100\n",
            "8/8 [==============================] - 1s 134ms/step - loss: 0.2454 - accuracy: 0.8880 - val_loss: 0.5774 - val_accuracy: 0.6667\n",
            "\n",
            "Epoch 00044: val_accuracy did not improve from 0.76042\n",
            "Epoch 45/100\n",
            "8/8 [==============================] - 1s 132ms/step - loss: 0.3350 - accuracy: 0.8423 - val_loss: 0.4280 - val_accuracy: 0.8542\n",
            "\n",
            "Epoch 00045: val_accuracy improved from 0.76042 to 0.85417, saving model to model_augmented.45-0.85.h5\n",
            "Epoch 46/100\n",
            "8/8 [==============================] - 1s 136ms/step - loss: 0.3321 - accuracy: 0.8708 - val_loss: 0.4932 - val_accuracy: 0.6979\n",
            "\n",
            "Epoch 00046: val_accuracy did not improve from 0.85417\n",
            "Epoch 47/100\n",
            "8/8 [==============================] - 1s 133ms/step - loss: 0.2737 - accuracy: 0.8699 - val_loss: 0.3040 - val_accuracy: 0.9167\n",
            "\n",
            "Epoch 00047: val_accuracy improved from 0.85417 to 0.91667, saving model to model_augmented.47-0.92.h5\n",
            "Epoch 48/100\n",
            "8/8 [==============================] - 1s 129ms/step - loss: 0.2433 - accuracy: 0.8876 - val_loss: 0.5357 - val_accuracy: 0.6458\n",
            "\n",
            "Epoch 00048: val_accuracy did not improve from 0.91667\n",
            "Epoch 49/100\n",
            "8/8 [==============================] - 1s 130ms/step - loss: 0.3001 - accuracy: 0.8581 - val_loss: 0.6005 - val_accuracy: 0.5938\n",
            "\n",
            "Epoch 00049: val_accuracy did not improve from 0.91667\n",
            "Epoch 50/100\n",
            "8/8 [==============================] - 1s 136ms/step - loss: 0.2297 - accuracy: 0.9137 - val_loss: 0.6041 - val_accuracy: 0.5938\n",
            "\n",
            "Epoch 00050: val_accuracy did not improve from 0.91667\n",
            "Epoch 51/100\n",
            "8/8 [==============================] - 1s 136ms/step - loss: 0.2693 - accuracy: 0.8835 - val_loss: 0.5420 - val_accuracy: 0.6667\n",
            "\n",
            "Epoch 00051: val_accuracy did not improve from 0.91667\n",
            "Epoch 52/100\n",
            "8/8 [==============================] - 1s 131ms/step - loss: 0.2530 - accuracy: 0.8993 - val_loss: 0.5560 - val_accuracy: 0.6354\n",
            "\n",
            "Epoch 00052: val_accuracy did not improve from 0.91667\n",
            "Epoch 53/100\n",
            "8/8 [==============================] - 1s 135ms/step - loss: 0.2763 - accuracy: 0.8674 - val_loss: 0.5318 - val_accuracy: 0.6354\n",
            "\n",
            "Epoch 00053: val_accuracy did not improve from 0.91667\n",
            "Epoch 54/100\n",
            "8/8 [==============================] - 1s 135ms/step - loss: 0.2650 - accuracy: 0.8927 - val_loss: 0.2187 - val_accuracy: 0.9167\n",
            "\n",
            "Epoch 00054: val_accuracy did not improve from 0.91667\n",
            "Epoch 55/100\n",
            "8/8 [==============================] - 1s 136ms/step - loss: 0.3001 - accuracy: 0.8649 - val_loss: 0.5023 - val_accuracy: 0.6979\n",
            "\n",
            "Epoch 00055: val_accuracy did not improve from 0.91667\n",
            "Epoch 56/100\n",
            "8/8 [==============================] - 1s 133ms/step - loss: 0.4005 - accuracy: 0.7912 - val_loss: 0.2836 - val_accuracy: 0.9062\n",
            "\n",
            "Epoch 00056: val_accuracy did not improve from 0.91667\n",
            "Epoch 57/100\n",
            "8/8 [==============================] - 1s 133ms/step - loss: 0.3543 - accuracy: 0.8697 - val_loss: 0.4314 - val_accuracy: 0.7604\n",
            "\n",
            "Epoch 00057: val_accuracy did not improve from 0.91667\n",
            "Epoch 58/100\n",
            "8/8 [==============================] - 1s 145ms/step - loss: 0.3228 - accuracy: 0.8745 - val_loss: 0.5552 - val_accuracy: 0.6875\n",
            "\n",
            "Epoch 00058: val_accuracy did not improve from 0.91667\n",
            "Epoch 59/100\n",
            "8/8 [==============================] - 1s 136ms/step - loss: 0.4116 - accuracy: 0.8047 - val_loss: 0.3231 - val_accuracy: 0.8854\n",
            "\n",
            "Epoch 00059: val_accuracy did not improve from 0.91667\n",
            "Epoch 60/100\n",
            "8/8 [==============================] - 1s 136ms/step - loss: 0.3933 - accuracy: 0.8896 - val_loss: 0.7376 - val_accuracy: 0.5938\n",
            "\n",
            "Epoch 00060: val_accuracy did not improve from 0.91667\n",
            "Epoch 61/100\n",
            "8/8 [==============================] - 1s 133ms/step - loss: 0.2198 - accuracy: 0.9167 - val_loss: 0.6178 - val_accuracy: 0.6354\n",
            "\n",
            "Epoch 00061: val_accuracy did not improve from 0.91667\n",
            "Epoch 62/100\n",
            "8/8 [==============================] - 1s 128ms/step - loss: 0.3210 - accuracy: 0.8806 - val_loss: 0.2172 - val_accuracy: 0.9479\n",
            "\n",
            "Epoch 00062: val_accuracy improved from 0.91667 to 0.94792, saving model to model_augmented.62-0.95.h5\n",
            "Epoch 63/100\n",
            "8/8 [==============================] - 1s 129ms/step - loss: 0.1866 - accuracy: 0.9254 - val_loss: 0.4760 - val_accuracy: 0.7292\n",
            "\n",
            "Epoch 00063: val_accuracy did not improve from 0.94792\n",
            "Epoch 64/100\n",
            "8/8 [==============================] - 1s 135ms/step - loss: 0.3365 - accuracy: 0.8759 - val_loss: 0.3201 - val_accuracy: 0.8958\n",
            "\n",
            "Epoch 00064: val_accuracy did not improve from 0.94792\n",
            "Epoch 65/100\n",
            "8/8 [==============================] - 1s 131ms/step - loss: 0.2710 - accuracy: 0.8792 - val_loss: 1.4422 - val_accuracy: 0.8542\n",
            "\n",
            "Epoch 00065: val_accuracy did not improve from 0.94792\n",
            "Epoch 66/100\n",
            "8/8 [==============================] - 1s 132ms/step - loss: 0.3044 - accuracy: 0.8624 - val_loss: 1.7979 - val_accuracy: 0.8229\n",
            "\n",
            "Epoch 00066: val_accuracy did not improve from 0.94792\n",
            "Epoch 67/100\n",
            "8/8 [==============================] - 1s 133ms/step - loss: 0.2590 - accuracy: 0.8921 - val_loss: 0.6044 - val_accuracy: 0.8854\n",
            "\n",
            "Epoch 00067: val_accuracy did not improve from 0.94792\n",
            "Epoch 68/100\n",
            "8/8 [==============================] - 1s 131ms/step - loss: 0.2675 - accuracy: 0.9012 - val_loss: 0.6092 - val_accuracy: 0.9062\n",
            "\n",
            "Epoch 00068: val_accuracy did not improve from 0.94792\n",
            "Epoch 69/100\n",
            "8/8 [==============================] - 1s 131ms/step - loss: 0.2744 - accuracy: 0.8775 - val_loss: 0.2252 - val_accuracy: 0.9271\n",
            "\n",
            "Epoch 00069: val_accuracy did not improve from 0.94792\n",
            "Epoch 70/100\n",
            "8/8 [==============================] - 1s 131ms/step - loss: 0.2519 - accuracy: 0.9173 - val_loss: 0.1974 - val_accuracy: 0.9167\n",
            "\n",
            "Epoch 00070: val_accuracy did not improve from 0.94792\n",
            "Epoch 71/100\n",
            "8/8 [==============================] - 1s 135ms/step - loss: 0.2333 - accuracy: 0.9060 - val_loss: 0.2196 - val_accuracy: 0.8958\n",
            "\n",
            "Epoch 00071: val_accuracy did not improve from 0.94792\n",
            "Epoch 72/100\n",
            "8/8 [==============================] - 1s 134ms/step - loss: 0.2398 - accuracy: 0.8867 - val_loss: 0.4345 - val_accuracy: 0.9167\n",
            "\n",
            "Epoch 00072: val_accuracy did not improve from 0.94792\n",
            "Epoch 73/100\n",
            "8/8 [==============================] - 1s 141ms/step - loss: 0.2228 - accuracy: 0.9174 - val_loss: 0.2036 - val_accuracy: 0.8958\n",
            "\n",
            "Epoch 00073: val_accuracy did not improve from 0.94792\n",
            "Epoch 74/100\n",
            "8/8 [==============================] - 1s 140ms/step - loss: 0.2997 - accuracy: 0.8586 - val_loss: 0.4334 - val_accuracy: 0.9062\n",
            "\n",
            "Epoch 00074: val_accuracy did not improve from 0.94792\n",
            "Epoch 75/100\n",
            "8/8 [==============================] - 1s 137ms/step - loss: 0.1828 - accuracy: 0.9170 - val_loss: 0.1552 - val_accuracy: 0.9479\n",
            "\n",
            "Epoch 00075: val_accuracy did not improve from 0.94792\n",
            "Epoch 76/100\n",
            "8/8 [==============================] - 1s 139ms/step - loss: 0.2760 - accuracy: 0.8394 - val_loss: 0.1529 - val_accuracy: 0.9375\n",
            "\n",
            "Epoch 00076: val_accuracy did not improve from 0.94792\n",
            "Epoch 77/100\n",
            "8/8 [==============================] - 1s 133ms/step - loss: 0.2357 - accuracy: 0.8857 - val_loss: 0.6263 - val_accuracy: 0.9167\n",
            "\n",
            "Epoch 00077: val_accuracy did not improve from 0.94792\n",
            "Epoch 78/100\n",
            "8/8 [==============================] - 1s 134ms/step - loss: 0.3193 - accuracy: 0.8896 - val_loss: 0.4636 - val_accuracy: 0.9062\n",
            "\n",
            "Epoch 00078: val_accuracy did not improve from 0.94792\n",
            "Epoch 79/100\n",
            "8/8 [==============================] - 1s 138ms/step - loss: 0.2780 - accuracy: 0.8987 - val_loss: 0.2536 - val_accuracy: 0.8750\n",
            "\n",
            "Epoch 00079: val_accuracy did not improve from 0.94792\n",
            "Epoch 80/100\n",
            "8/8 [==============================] - 1s 137ms/step - loss: 0.2633 - accuracy: 0.8865 - val_loss: 0.1001 - val_accuracy: 0.9688\n",
            "\n",
            "Epoch 00080: val_accuracy improved from 0.94792 to 0.96875, saving model to model_augmented.80-0.97.h5\n",
            "Epoch 81/100\n",
            "8/8 [==============================] - 1s 135ms/step - loss: 0.2254 - accuracy: 0.9255 - val_loss: 0.3582 - val_accuracy: 0.8229\n",
            "\n",
            "Epoch 00081: val_accuracy did not improve from 0.96875\n",
            "Epoch 82/100\n",
            "8/8 [==============================] - 1s 136ms/step - loss: 0.3126 - accuracy: 0.8594 - val_loss: 0.3167 - val_accuracy: 0.9271\n",
            "\n",
            "Epoch 00082: val_accuracy did not improve from 0.96875\n",
            "Epoch 83/100\n",
            "8/8 [==============================] - 1s 140ms/step - loss: 0.2066 - accuracy: 0.8914 - val_loss: 0.5781 - val_accuracy: 0.8958\n",
            "\n",
            "Epoch 00083: val_accuracy did not improve from 0.96875\n",
            "Epoch 84/100\n",
            "8/8 [==============================] - 1s 138ms/step - loss: 0.2701 - accuracy: 0.8833 - val_loss: 0.2783 - val_accuracy: 0.8646\n",
            "\n",
            "Epoch 00084: val_accuracy did not improve from 0.96875\n",
            "Epoch 85/100\n",
            "8/8 [==============================] - 1s 137ms/step - loss: 0.1894 - accuracy: 0.9173 - val_loss: 0.0979 - val_accuracy: 0.9688\n",
            "\n",
            "Epoch 00085: val_accuracy did not improve from 0.96875\n",
            "Epoch 86/100\n",
            "8/8 [==============================] - 1s 137ms/step - loss: 0.2225 - accuracy: 0.9256 - val_loss: 0.1390 - val_accuracy: 0.9167\n",
            "\n",
            "Epoch 00086: val_accuracy did not improve from 0.96875\n",
            "Epoch 87/100\n",
            "8/8 [==============================] - 1s 137ms/step - loss: 0.2806 - accuracy: 0.8562 - val_loss: 0.1542 - val_accuracy: 0.9479\n",
            "\n",
            "Epoch 00087: val_accuracy did not improve from 0.96875\n",
            "Epoch 88/100\n",
            "8/8 [==============================] - 1s 133ms/step - loss: 0.2820 - accuracy: 0.8947 - val_loss: 0.2296 - val_accuracy: 0.9062\n",
            "\n",
            "Epoch 00088: val_accuracy did not improve from 0.96875\n",
            "Epoch 89/100\n",
            "8/8 [==============================] - 1s 135ms/step - loss: 0.2526 - accuracy: 0.8729 - val_loss: 0.7496 - val_accuracy: 0.8958\n",
            "\n",
            "Epoch 00089: val_accuracy did not improve from 0.96875\n",
            "Epoch 90/100\n",
            "8/8 [==============================] - 1s 133ms/step - loss: 0.2377 - accuracy: 0.8731 - val_loss: 0.1594 - val_accuracy: 0.9479\n",
            "\n",
            "Epoch 00090: val_accuracy did not improve from 0.96875\n",
            "Epoch 91/100\n",
            "8/8 [==============================] - 1s 138ms/step - loss: 0.2366 - accuracy: 0.8875 - val_loss: 0.4249 - val_accuracy: 0.9375\n",
            "\n",
            "Epoch 00091: val_accuracy did not improve from 0.96875\n",
            "Epoch 92/100\n",
            "8/8 [==============================] - 1s 136ms/step - loss: 0.2092 - accuracy: 0.9143 - val_loss: 0.9383 - val_accuracy: 0.9062\n",
            "\n",
            "Epoch 00092: val_accuracy did not improve from 0.96875\n",
            "Epoch 93/100\n",
            "8/8 [==============================] - 1s 136ms/step - loss: 0.2447 - accuracy: 0.9032 - val_loss: 0.1294 - val_accuracy: 0.9375\n",
            "\n",
            "Epoch 00093: val_accuracy did not improve from 0.96875\n",
            "Epoch 94/100\n",
            "8/8 [==============================] - 1s 135ms/step - loss: 0.2444 - accuracy: 0.9006 - val_loss: 0.3174 - val_accuracy: 0.9271\n",
            "\n",
            "Epoch 00094: val_accuracy did not improve from 0.96875\n",
            "Epoch 95/100\n",
            "8/8 [==============================] - 1s 136ms/step - loss: 0.2004 - accuracy: 0.9139 - val_loss: 0.1780 - val_accuracy: 0.9271\n",
            "\n",
            "Epoch 00095: val_accuracy did not improve from 0.96875\n",
            "Epoch 96/100\n",
            "8/8 [==============================] - 1s 140ms/step - loss: 0.3073 - accuracy: 0.8419 - val_loss: 0.1671 - val_accuracy: 0.9271\n",
            "\n",
            "Epoch 00096: val_accuracy did not improve from 0.96875\n",
            "Epoch 97/100\n",
            "8/8 [==============================] - 1s 137ms/step - loss: 0.2248 - accuracy: 0.9258 - val_loss: 2.5766 - val_accuracy: 0.7396\n",
            "\n",
            "Epoch 00097: val_accuracy did not improve from 0.96875\n",
            "Epoch 98/100\n",
            "8/8 [==============================] - 1s 133ms/step - loss: 0.3337 - accuracy: 0.8646 - val_loss: 0.1745 - val_accuracy: 0.9479\n",
            "\n",
            "Epoch 00098: val_accuracy did not improve from 0.96875\n",
            "Epoch 99/100\n",
            "8/8 [==============================] - 1s 133ms/step - loss: 0.2379 - accuracy: 0.8855 - val_loss: 0.1894 - val_accuracy: 0.8958\n",
            "\n",
            "Epoch 00099: val_accuracy did not improve from 0.96875\n",
            "Epoch 100/100\n",
            "8/8 [==============================] - 1s 133ms/step - loss: 0.2175 - accuracy: 0.9185 - val_loss: 0.1745 - val_accuracy: 0.9167\n",
            "\n",
            "Epoch 00100: val_accuracy did not improve from 0.96875\n"
          ],
          "name": "stdout"
        }
      ]
    },
    {
      "cell_type": "markdown",
      "metadata": {
        "id": "BDugx01mTZHh"
      },
      "source": [
        "Visualize the progress of training"
      ]
    },
    {
      "cell_type": "code",
      "metadata": {
        "id": "KkoLiCT4TX5x",
        "outputId": "68998e53-b085-4a1d-f1f5-476097a1593e",
        "colab": {
          "base_uri": "https://localhost:8080/",
          "height": 545
        }
      },
      "source": [
        "plt.figure(1)\r\n",
        "plt.plot(history.history['loss'])\r\n",
        "plt.plot(history.history['val_loss'])\r\n",
        "plt.title('Loss and val_loss')\r\n",
        "\r\n",
        "plt.figure(2)\r\n",
        "plt.plot(history.history['accuracy'])\r\n",
        "plt.plot(history.history['val_accuracy'])\r\n",
        "plt.title('Accuracy and val_accuracy')\r\n",
        "plt.show()"
      ],
      "execution_count": 27,
      "outputs": [
        {
          "output_type": "display_data",
          "data": {
            "image/png": "[encoded data removed]",
            "text/plain": [
              "<Figure size 432x288 with 1 Axes>"
            ]
          },
          "metadata": {
            "tags": [],
            "needs_background": "light"
          }
        },
        {
          "output_type": "display_data",
          "data": {
            "image/png": "[encoded data removed]",
            "text/plain": [
              "<Figure size 432x288 with 1 Axes>"
            ]
          },
          "metadata": {
            "tags": [],
            "needs_background": "light"
          }
        }
      ]
    },
    {
      "cell_type": "markdown",
      "metadata": {
        "id": "PpIDYyYf29HD"
      },
      "source": [
        "Saving the model"
      ]
    },
    {
      "cell_type": "code",
      "metadata": {
        "id": "s7sjHFpGpPtI",
        "outputId": "c51bb51d-ee38-402b-c6fb-8aa53844c4de",
        "colab": {
          "base_uri": "https://localhost:8080/"
        }
      },
      "source": [
        "model.save(os.path.join(PATH, 'model_augmented.hdf5'))\r\n",
        "\r\n",
        "model.evaluate(x_test, y_test)"
      ],
      "execution_count": 28,
      "outputs": [
        {
          "output_type": "stream",
          "text": [
            "13/13 [==============================] - 0s 11ms/step - loss: 0.2911 - accuracy: 0.9177\n"
          ],
          "name": "stdout"
        },
        {
          "output_type": "execute_result",
          "data": {
            "text/plain": [
              "[0.29110804200172424, 0.9177057147026062]"
            ]
          },
          "metadata": {
            "tags": []
          },
          "execution_count": 28
        }
      ]
    },
    {
      "cell_type": "markdown",
      "metadata": {
        "id": "ziJxv3y8fYoo"
      },
      "source": [
        "# Comparing the performances of the two trainings"
      ]
    },
    {
      "cell_type": "code",
      "metadata": {
        "id": "6u8dNJW0fLd3"
      },
      "source": [
        "from keras.models import load_model\n",
        "aug_model = load_model(os.path.join(PATH, 'model_augmented.hdf5'))\n",
        "noaug_model = load_model(os.path.join(PATH, 'model.hdf5'))"
      ],
      "execution_count": null,
      "outputs": []
    },
    {
      "cell_type": "code",
      "metadata": {
        "id": "MoMbhMQMf_E9"
      },
      "source": [
        "noaug_model.evaluate(x_test, y_test)\r\n",
        "\r\n",
        "aug_model.evaluate(x_test, y_test)"
      ],
      "execution_count": null,
      "outputs": []
    },
    {
      "cell_type": "markdown",
      "metadata": {
        "id": "53lAkDPmWmiK"
      },
      "source": [
        "#**Testing model on wavelet-filtered images**"
      ]
    },
    {
      "cell_type": "markdown",
      "metadata": {
        "id": "MJA_n59C7jRB"
      },
      "source": [
        "##Define the path and the wavelet type"
      ]
    },
    {
      "cell_type": "code",
      "metadata": {
        "id": "o26QMFx_Wl_6"
      },
      "source": [
        "PATH = 'gdrive/MyDrive/IMAGES/Mammography_micro/Wavelets'"
      ],
      "execution_count": 61,
      "outputs": []
    },
    {
      "cell_type": "markdown",
      "metadata": {
        "id": "7oNUShVS6tnK"
      },
      "source": [
        "Read the images"
      ]
    },
    {
      "cell_type": "code",
      "metadata": {
        "id": "plFsvsZnFa33",
        "outputId": "b7b9ba87-6789-4330-eecd-b9e34b043199",
        "colab": {
          "base_uri": "https://localhost:8080/"
        }
      },
      "source": [
        "print('Wavelet type:')\r\n",
        "for i, wavelet_type in enumerate(os.listdir(PATH)):\r\n",
        "  print(f'{i}. {wavelet_type}')"
      ],
      "execution_count": 62,
      "outputs": [
        {
          "output_type": "stream",
          "text": [
            "Wavelet type:\n",
            "0. sym2_3levels_nodenoise\n",
            "1. db2_3levels_nodenoise\n",
            "2. db5_4levels_nodenoise\n",
            "3. sym2_3levels_yesdenoise\n",
            "4. db5_4levels_yesdenoise\n",
            "5. db2_3levels_yesdenoise\n"
          ],
          "name": "stdout"
        }
      ]
    },
    {
      "cell_type": "code",
      "metadata": {
        "id": "EaA96tzFykbz"
      },
      "source": [
        "#Choose a wavelet type\r\n",
        "wavelet_type = 'db5_4levels_yesdenoise'"
      ],
      "execution_count": 63,
      "outputs": []
    },
    {
      "cell_type": "markdown",
      "metadata": {
        "id": "SbhjmxEcyrzZ"
      },
      "source": [
        "##Reading the images applying read_img function"
      ]
    },
    {
      "cell_type": "code",
      "metadata": {
        "id": "rHaHYEUdDMi9",
        "outputId": "20ee5edf-0cb8-42ca-d2f8-749b34dfbb38",
        "colab": {
          "base_uri": "https://localhost:8080/"
        }
      },
      "source": [
        "#Define the path to the sub-folder of Train images folder containing \"normal\" breast mammograms\r\n",
        "image_path = os.path.join(PATH, wavelet_type,'Train/0')\r\n",
        "#Create the test images and labels array with read_img function\r\n",
        "x0_train, y0_train = read_img(image_path)\r\n",
        "\r\n",
        "\r\n",
        "#Define the path to the sub-folder of Train images folder containing breast mammograms with microcalcifications\r\n",
        "image_path = os.path.join(PATH, wavelet_type,'Train/1')\r\n",
        "#Create the test images and labels array with read_img function\r\n",
        "x1_train, y1_train = read_img(image_path)\r\n",
        "\r\n",
        "#Create an array with both normal and sick images and labels\r\n",
        "x_train = np.concatenate((x0_train, x1_train), axis = 0)\r\n",
        "y_train = np.concatenate((y0_train, y1_train))\r\n",
        "\r\n",
        "#Doing the same of previous lines, on Test folder\r\n",
        "image_path = os.path.join(PATH, wavelet_type, 'Test/0')\r\n",
        "x0_test, y0_test = read_img(image_path)\r\n",
        "\r\n",
        "image_path = os.path.join(PATH,  wavelet_type,'Test/1')\r\n",
        "x1_test, y1_test = read_img(image_path)\r\n",
        "\r\n",
        "x_test = np.concatenate((x0_test, x1_test), axis = 0)\r\n",
        "y_test = np.concatenate((y0_test, y1_test))\r\n",
        "\r\n",
        "#Print the total number of images found.\r\n",
        "print(f'There are {len(x_train)} train images and {len(x_test)} test images')"
      ],
      "execution_count": 64,
      "outputs": [
        {
          "output_type": "stream",
          "text": [
            "Mylogger (INFO): Num images found in gdrive/MyDrive/IMAGES/Mammography_micro/Wavelets/db5_4levels_yesdenoise/Train/0: 209\n",
            "Mylogger (INFO): Num images found in gdrive/MyDrive/IMAGES/Mammography_micro/Wavelets/db5_4levels_yesdenoise/Train/0: 209\n",
            "Mylogger (INFO): Num images found in gdrive/MyDrive/IMAGES/Mammography_micro/Wavelets/db5_4levels_yesdenoise/Train/1: 187\n",
            "Mylogger (INFO): Num images found in gdrive/MyDrive/IMAGES/Mammography_micro/Wavelets/db5_4levels_yesdenoise/Train/1: 187\n",
            "Mylogger (INFO): Num images found in gdrive/MyDrive/IMAGES/Mammography_micro/Wavelets/db5_4levels_yesdenoise/Test/0: 205\n",
            "Mylogger (INFO): Num images found in gdrive/MyDrive/IMAGES/Mammography_micro/Wavelets/db5_4levels_yesdenoise/Test/0: 205\n",
            "Mylogger (INFO): Num images found in gdrive/MyDrive/IMAGES/Mammography_micro/Wavelets/db5_4levels_yesdenoise/Test/1: 196\n",
            "Mylogger (INFO): Num images found in gdrive/MyDrive/IMAGES/Mammography_micro/Wavelets/db5_4levels_yesdenoise/Test/1: 196\n"
          ],
          "name": "stderr"
        },
        {
          "output_type": "stream",
          "text": [
            "There are 396 train images and 401 test images\n"
          ],
          "name": "stdout"
        }
      ]
    },
    {
      "cell_type": "markdown",
      "metadata": {
        "id": "SuxDa1eny19p"
      },
      "source": [
        "##Training and eveluate the model"
      ]
    },
    {
      "cell_type": "code",
      "metadata": {
        "id": "WWW6SqE37tJD"
      },
      "source": [
        "from keras.callbacks import ModelCheckpoint\r\n",
        "\r\n",
        "#Set a checkpoint to save weights giving the best performance on val_accuracy \r\n",
        "checkpoint = ModelCheckpoint(\r\n",
        "    \"model_on_wavelets-{epoch:02d}-{val_accuracy:.2f}.hdf5\", \r\n",
        "    monitor='val_accuracy', \r\n",
        "    verbose=1,\r\n",
        "    save_best_only=True,\r\n",
        "    save_weights_only=False,\r\n",
        "    mode='auto', save_freq='epoch')"
      ],
      "execution_count": 42,
      "outputs": []
    },
    {
      "cell_type": "code",
      "metadata": {
        "id": "wiFC2u1m77iJ"
      },
      "source": [
        "from keras.optimizers import SGD\r\n",
        "\r\n",
        "model = make_model()\r\n",
        "\r\n",
        "model.compile(optimizer = SGD(lr = 0.001, momentum = 0.9), metrics = 'accuracy', loss='binary_crossentropy')"
      ],
      "execution_count": 43,
      "outputs": []
    },
    {
      "cell_type": "code",
      "metadata": {
        "id": "sK7nfHZO8CDJ"
      },
      "source": [
        "history = model.fit(x_train, y_train, \r\n",
        "                    validation_split=0.3, \r\n",
        "                    epochs=100, \r\n",
        "                    batch_size=30, \r\n",
        "                    shuffle=True, \r\n",
        "                    callbacks = [checkpoint],\r\n",
        "                    verbose=1)"
      ],
      "execution_count": null,
      "outputs": []
    },
    {
      "cell_type": "code",
      "metadata": {
        "id": "YTzaJmL-8Cpt"
      },
      "source": [
        "plt.plot(history.history['loss'])\r\n",
        "plt.plot(history.history['val_loss'])\r\n",
        "plt.show()\r\n",
        "\r\n",
        "plt.plot(history.history['accuracy'])\r\n",
        "plt.plot(history.history['val_accuracy'])\r\n",
        "plt.show()"
      ],
      "execution_count": null,
      "outputs": []
    },
    {
      "cell_type": "code",
      "metadata": {
        "id": "qK8MNgnv8Frv",
        "outputId": "048333c0-a433-4c88-b936-533931c3a196",
        "colab": {
          "base_uri": "https://localhost:8080/"
        }
      },
      "source": [
        "#calculate 'loss' and 'metrics' (accuracy in our case)\r\n",
        "model.evaluate(x_test, y_test) "
      ],
      "execution_count": 49,
      "outputs": [
        {
          "output_type": "stream",
          "text": [
            "13/13 [==============================] - 0s 10ms/step - loss: 3.7141 - accuracy: 0.5312\n"
          ],
          "name": "stdout"
        },
        {
          "output_type": "execute_result",
          "data": {
            "text/plain": [
              "[3.714081287384033, 0.5311720967292786]"
            ]
          },
          "metadata": {
            "tags": []
          },
          "execution_count": 49
        }
      ]
    },
    {
      "cell_type": "markdown",
      "metadata": {
        "id": "uZBgQ-PwuSFq"
      },
      "source": [
        "#Implement a cross-validation test\r\n",
        "\r\n",
        "It can be run both for original dataset loaded in the second block and for wavelet-filtered dataset loaded in the block above this."
      ]
    },
    {
      "cell_type": "code",
      "metadata": {
        "id": "md5HpjB_uzIJ"
      },
      "source": [
        "from sklearn.model_selection import KFold\r\n",
        "from keras.optimizers import SGD"
      ],
      "execution_count": 65,
      "outputs": []
    },
    {
      "cell_type": "code",
      "metadata": {
        "id": "IhshIa47uU-x"
      },
      "source": [
        "# Define per-fold accuracy and loss arrays\r\n",
        "acc_per_fold = []\r\n",
        "loss_per_fold = []\r\n",
        "\r\n",
        "#Define the number of folds to split dataset on\r\n",
        "num_folds = 10\r\n",
        "\r\n",
        "kfold = KFold(n_splits = num_folds, shuffle=True)\r\n",
        "\r\n",
        "batch_size = 32\r\n",
        "num_epochs = 50\r\n",
        "\r\n",
        "fold_num = 1\r\n",
        "\r\n",
        "#Define the model and compile\r\n",
        "model = make_model()\r\n",
        "model.compile(optimizer=SGD(lr = 0.001, momentum = 0.9), metrics = 'accuracy', loss='binary_crossentropy')\r\n",
        "#Saving the weights before training as reset before each training\r\n",
        "model.save_weights('reset_model.h5')\r\n",
        "\r\n",
        "for train, test in kfold.split(X_tot, Y_tot):\r\n",
        "  #Reset the model loading weights of untrained model\r\n",
        "  model.load_weights('reset_model.h5')\r\n",
        "  #Fitting the model using every folder but one as training\r\n",
        "  history = model.fit(\r\n",
        "          X_tot[train], Y_tot[train],\r\n",
        "          batch_size = batch_size,\r\n",
        "          verbose=0,\r\n",
        "          epochs = num_epochs)  \r\n",
        "  \r\n",
        "  #Evaluate the efficiency of the model\r\n",
        "  scores = model.evaluate(X_tot[test], Y_tot[test], verbose=0)\r\n",
        "\r\n",
        "  print('In folder {:d}: {} of {:.4f} - {} of {:.4f}'.format(fold_num,\r\n",
        "                                                          model.metrics_names[0],scores[0],\r\n",
        "                                                          model.metrics_names[1], scores[1] ))\r\n",
        "  plt.figure(fold_num)\r\n",
        "  plt.suptitle(f'In fold num. {fold_num}')\r\n",
        "  plt.subplot(1, 2, 1)\r\n",
        "  plt.plot(history.history['loss'])\r\n",
        "  #plt.plot(history.history['val_loss'])\r\n",
        "  plt.subplot(1, 2, 2)\r\n",
        "  plt.plot(history.history['accuracy'])\r\n",
        "  #plt.plot(history.history['val_accuracy'])\r\n",
        "\r\n",
        "  acc_per_fold.append(scores[1])\r\n",
        "  loss_per_fold.append(scores[0])\r\n",
        "  fold_num += 1"
      ],
      "execution_count": null,
      "outputs": []
    },
    {
      "cell_type": "markdown",
      "metadata": {
        "id": "kC2AHLkUjOgn"
      },
      "source": [
        "Computing average scores"
      ]
    },
    {
      "cell_type": "code",
      "metadata": {
        "id": "ViYB3QK8chZJ"
      },
      "source": [
        "print('Average scores for all folds:')\r\n",
        "print(f'-- Accuracy: {np.mean(acc_per_fold)} (+- {np.std(acc_per_fold)})')\r\n",
        "#Calculare loss error as maximum value error\r\n",
        "err_loss = (max(loss_per_fold)-min(loss_per_fold))/2\r\n",
        "print(f'-- Loss: {np.mean(loss_per_fold)} +/- {err_loss}')\r\n"
      ],
      "execution_count": null,
      "outputs": []
    }
  ]
}