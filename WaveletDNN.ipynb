{
  "nbformat": 4,
  "nbformat_minor": 0,
  "metadata": {
    "colab": {
      "name": "WaveletDNN.ipynb",
      "provenance": [],
      "collapsed_sections": [],
      "include_colab_link": true
    },
    "kernelspec": {
      "name": "python3",
      "display_name": "Python 3"
    },
    "accelerator": "GPU"
  },
  "cells": [
    {
      "cell_type": "markdown",
      "metadata": {
        "id": "view-in-github",
        "colab_type": "text"
      },
      "source": [
        "<a href=\"https://colab.research.google.com/github/federicocampo/CMEPDA-Project/blob/Prime_modifiche/WaveletDNN.ipynb\" target=\"_parent\"><img src=\"https://colab.research.google.com/assets/colab-badge.svg\" alt=\"Open In Colab\"/></a>"
      ]
    },
    {
      "cell_type": "markdown",
      "metadata": {
        "id": "h7UQdhtmCS3B"
      },
      "source": [
        "Cloning into our repository to import all the needed functions."
      ]
    },
    {
      "cell_type": "code",
      "metadata": {
        "colab": {
          "base_uri": "https://localhost:8080/"
        },
        "id": "sNBucPrt99Aa",
        "outputId": "71374e1b-a370-4810-bfd0-619db9b68135"
      },
      "source": [
        "!git clone https://github.com/federicocampo/CMEPDA-Project.git"
      ],
      "execution_count": 7,
      "outputs": [
        {
          "output_type": "stream",
          "text": [
            "Cloning into 'CMEPDA-Project'...\n",
            "remote: Enumerating objects: 232, done.\u001b[K\n",
            "remote: Counting objects: 100% (232/232), done.\u001b[K\n",
            "remote: Compressing objects: 100% (208/208), done.\u001b[K\n",
            "remote: Total 232 (delta 90), reused 50 (delta 21), pack-reused 0\u001b[K\n",
            "Receiving objects: 100% (232/232), 3.62 MiB | 9.66 MiB/s, done.\n",
            "Resolving deltas: 100% (90/90), done.\n"
          ],
          "name": "stdout"
        }
      ]
    },
    {
      "cell_type": "code",
      "metadata": {
        "colab": {
          "base_uri": "https://localhost:8080/"
        },
        "id": "KNVOhk1rMi4D",
        "outputId": "70e0868a-3430-400b-e9ef-8f68470aa50e"
      },
      "source": [
        "%cd /content/CMEPDA-Project/"
      ],
      "execution_count": 8,
      "outputs": [
        {
          "output_type": "stream",
          "text": [
            "/content/CMEPDA-Project\n"
          ],
          "name": "stdout"
        }
      ]
    },
    {
      "cell_type": "code",
      "metadata": {
        "colab": {
          "base_uri": "https://localhost:8080/"
        },
        "id": "LIPzsClBDhdW",
        "outputId": "0299c1e3-7ae0-49b3-c5f5-d3b29c2db0db"
      },
      "source": [
        "from google.colab import drive\r\n",
        "drive.mount('/content/gdrive')"
      ],
      "execution_count": 9,
      "outputs": [
        {
          "output_type": "stream",
          "text": [
            "Drive already mounted at /content/gdrive; to attempt to forcibly remount, call drive.mount(\"/content/gdrive\", force_remount=True).\n"
          ],
          "name": "stdout"
        }
      ]
    },
    {
      "cell_type": "code",
      "metadata": {
        "id": "ZOV3UF99AhGP"
      },
      "source": [
        "import os\r\n",
        "from PIL import Image\r\n",
        "import pywt\r\n",
        "from skimage.restoration import denoise_wavelet\r\n",
        "from skimage import img_as_float\r\n",
        "import matplotlib.pyplot as plt\r\n",
        "import numpy as np\r\n",
        "import glob\r\n",
        "import multiprocessing as mp\r\n",
        "\r\n",
        "from keras.layers import BatchNormalization, Dense, Flatten, Activation, Dropout, Input\r\n",
        "from keras.models import Sequential, load_model\r\n",
        "from keras.callbacks import ModelCheckpoint\r\n",
        "from keras.optimizers import SGD, Adam\r\n",
        "\r\n",
        "from sklearn.model_selection import KFold\r\n",
        "\r\n",
        "from waveletconverter import dwtcoefftoarray\r\n",
        "\r\n",
        "import logging\r\n",
        "\r\n",
        "#Setting a logger and a logging level\r\n",
        "logger = logging.getLogger('Mylogger')\r\n",
        "logger.setLevel(logging.DEBUG)\r\n",
        "#Setting an handler to send logging output\r\n",
        "ch = logging.StreamHandler()\r\n",
        "ch.setLevel(logging.DEBUG)\r\n",
        "#Set the format of every log message printing the name of logger, logging level and the message.\r\n",
        "formatter = logging.Formatter('%(name)s (%(levelname)s): %(message)s')\r\n",
        "ch.setFormatter(formatter)\r\n",
        "#Add the specified handler to this logger.\r\n",
        "logger.addHandler(ch)"
      ],
      "execution_count": 10,
      "outputs": []
    },
    {
      "cell_type": "markdown",
      "metadata": {
        "id": "iUJCHbedvlEc"
      },
      "source": [
        "#Read the images"
      ]
    },
    {
      "cell_type": "code",
      "metadata": {
        "colab": {
          "base_uri": "https://localhost:8080/"
        },
        "id": "BRLV3NwMEW-v",
        "outputId": "65699abf-dd1f-4160-ee49-dff200d9ef5b"
      },
      "source": [
        "PATH = '/content/gdrive/My Drive/IMAGES/Mammography_micro'\r\n",
        "\r\n",
        "def read_img(image_path):\r\n",
        "  ''' Takes as input the path to the image folder and \r\n",
        "      returns the numpy array of images and label found in that folder\r\n",
        "  '''\r\n",
        "\r\n",
        "  # Creating a list of all image names found in image_path\r\n",
        "  imagefilename = glob.glob(os.path.join(image_path, '*.pgm'))\r\n",
        "\r\n",
        "  # Defining 4 sub-processes and apply imread to all the images found previously\r\n",
        "  # (imread reads images in pgm format)\r\n",
        "  pool = mp.Pool(processes=4)\r\n",
        "  results = pool.map_async(Image.open, imagefilename)\r\n",
        "\r\n",
        "  # Get the list of images and convert to numpy array\r\n",
        "  images = results.get()\r\n",
        "\r\n",
        "  logger.info(f'Num images found in {image_path}: {len(images)}')\r\n",
        "\r\n",
        "  # Create a list of corrisponding labels and conver it to numpy array\r\n",
        "  label = os.path.basename(image_path)\r\n",
        "  y = [int(label)] * len(images)\r\n",
        "  y_np = np.array(y)\r\n",
        "\r\n",
        "  return images, y_np\r\n",
        "\r\n",
        "\r\n",
        "# Define the path to the sub-folder of Train images folder containing \"normal\" breast mammograms\r\n",
        "image_path = os.path.join(PATH, 'Train/0')\r\n",
        "# Create the test images and labels array with read_img function\r\n",
        "images0_train, y0_train = read_img(image_path)\r\n",
        "\r\n",
        "# Define the path to the sub-folder of Train images folder containing \"normal\" breast mammograms\r\n",
        "image_path = os.path.join(PATH, 'Train/1')\r\n",
        "# Create the test images and labels array with read_img function\r\n",
        "images1_train, y1_train = read_img(image_path)\r\n",
        "\r\n",
        "# Create an array with both normal and microcalcifications containing images and labels\r\n",
        "images_train = images0_train + images1_train\r\n",
        "y_train = np.concatenate((y0_train, y1_train))\r\n",
        "\r\n",
        "# Define the path to the sub-folder of Train images folder containing \"normal\" breast mammograms\r\n",
        "image_path = os.path.join(PATH, 'Test/0')\r\n",
        "# Create the test images and labels array with read_img function\r\n",
        "images0_test, y0_test = read_img(image_path)\r\n",
        "\r\n",
        "# Define the path to the sub-folder of Train images folder containing \"normal\" breast mammograms\r\n",
        "image_path = os.path.join(PATH, 'Test/1')\r\n",
        "# Create the test images and labels array with read_img function\r\n",
        "images1_test, y1_test = read_img(image_path)\r\n",
        "\r\n",
        "# Create an array with both normal and microcalcifications containing images and labels\r\n",
        "images_test = images0_test + images1_test\r\n",
        "y_test = np.concatenate((y0_test, y1_test))\r\n",
        "\r\n",
        "images_tot = images_test + images_train\r\n",
        "labels = np.concatenate((y_test, y_train))"
      ],
      "execution_count": 11,
      "outputs": [
        {
          "output_type": "stream",
          "text": [
            "Mylogger (INFO): Num images found in /content/gdrive/My Drive/IMAGES/Mammography_micro/Train/0: 209\n",
            "Mylogger (INFO): Num images found in /content/gdrive/My Drive/IMAGES/Mammography_micro/Train/0: 209\n",
            "Mylogger (INFO): Num images found in /content/gdrive/My Drive/IMAGES/Mammography_micro/Train/1: 187\n",
            "Mylogger (INFO): Num images found in /content/gdrive/My Drive/IMAGES/Mammography_micro/Train/1: 187\n",
            "Mylogger (INFO): Num images found in /content/gdrive/My Drive/IMAGES/Mammography_micro/Test/0: 205\n",
            "Mylogger (INFO): Num images found in /content/gdrive/My Drive/IMAGES/Mammography_micro/Test/0: 205\n",
            "Mylogger (INFO): Num images found in /content/gdrive/My Drive/IMAGES/Mammography_micro/Test/1: 196\n",
            "Mylogger (INFO): Num images found in /content/gdrive/My Drive/IMAGES/Mammography_micro/Test/1: 196\n"
          ],
          "name": "stderr"
        }
      ]
    },
    {
      "cell_type": "code",
      "metadata": {
        "id": "mkW1aJuAKIdu"
      },
      "source": [
        "wavelet = 'db5'\r\n",
        "level = 4\r\n",
        "denoise = 'no'\r\n",
        "\r\n",
        "coefficients = []\r\n",
        "\r\n",
        "for i, image in enumerate(images_tot):\r\n",
        "  array = dwtcoefftoarray(images_tot[i], wavelet, level, denoise)\r\n",
        "  coefficients.append(array)\r\n",
        "\r\n",
        "coefficients = np.array(coefficients)\r\n",
        "\r\n",
        "print(coefficients.shape)"
      ],
      "execution_count": null,
      "outputs": []
    },
    {
      "cell_type": "markdown",
      "metadata": {
        "id": "Lep8LG7MvowQ"
      },
      "source": [
        "#Define and train the model"
      ]
    },
    {
      "cell_type": "code",
      "metadata": {
        "id": "AeHKcX-6ThO4"
      },
      "source": [
        "def make_model():\r\n",
        "  model = Sequential([\r\n",
        "                      Input(shape=(6042)),\r\n",
        "                      Dense(10, activation='relu'),\r\n",
        "                      Dense(20, activation='relu'),\r\n",
        "                      Dense(20, activation='relu'),\r\n",
        "                      Dense(10, activation='relu'),\r\n",
        "                      #Dense(50, activation = 'relu'),\r\n",
        "                      Dense(1, activation='sigmoid')\r\n",
        "  ])\r\n",
        "  return model"
      ],
      "execution_count": 91,
      "outputs": []
    },
    {
      "cell_type": "code",
      "metadata": {
        "id": "hl3JXHtpU8Mf"
      },
      "source": [
        "#Set a checkpoint to save weights giving the best performance on val_accuracy \r\n",
        "checkpoint = ModelCheckpoint(\r\n",
        "    \"model-{epoch:02d}-{val_accuracy:.2f}.hdf5\", \r\n",
        "    monitor='val_accuracy', \r\n",
        "    verbose=1,\r\n",
        "    save_best_only=True,\r\n",
        "    save_weights_only=False,\r\n",
        "    mode='auto', save_freq='epoch')"
      ],
      "execution_count": 92,
      "outputs": []
    },
    {
      "cell_type": "code",
      "metadata": {
        "id": "huSEQkpOWzvs"
      },
      "source": [
        "''' Define the model and compile it\r\n",
        "'''\r\n",
        "model = make_model()\r\n",
        "model.compile(optimizer = Adam(lr = 0.005), metrics = 'accuracy', loss='binary_crossentropy')"
      ],
      "execution_count": 93,
      "outputs": []
    },
    {
      "cell_type": "markdown",
      "metadata": {
        "id": "6mIXdD3WyyLi"
      },
      "source": [
        "##Train the model"
      ]
    },
    {
      "cell_type": "code",
      "metadata": {
        "colab": {
          "base_uri": "https://localhost:8080/"
        },
        "id": "l6UwZw-6XECa",
        "outputId": "1fe0d4cc-03e4-4fd5-9319-6a55913bcee7"
      },
      "source": [
        "''' Training the model using x_train and y_train images and labels and doing a validation split of 30%\r\n",
        "'''\r\n",
        "\r\n",
        "val_split = 0.3\r\n",
        "\r\n",
        "history = model.fit(coefficients, labels, \r\n",
        "                    validation_split=val_split, \r\n",
        "                    epochs=100, \r\n",
        "                    batch_size=30, \r\n",
        "                    shuffle=True, \r\n",
        "                    callbacks = [checkpoint],\r\n",
        "                    verbose=1)"
      ],
      "execution_count": 94,
      "outputs": [
        {
          "output_type": "stream",
          "text": [
            "Epoch 1/100\n",
            "19/19 [==============================] - 1s 20ms/step - loss: 24.2803 - accuracy: 0.5336 - val_loss: 0.6365 - val_accuracy: 0.3417\n",
            "\n",
            "Epoch 00001: val_accuracy improved from -inf to 0.34167, saving model to model-01-0.34.hdf5\n",
            "Epoch 2/100\n",
            "19/19 [==============================] - 0s 5ms/step - loss: 0.7174 - accuracy: 0.6645 - val_loss: 0.7058 - val_accuracy: 0.2208\n",
            "\n",
            "Epoch 00002: val_accuracy did not improve from 0.34167\n",
            "Epoch 3/100\n",
            "19/19 [==============================] - 0s 5ms/step - loss: 0.6762 - accuracy: 0.6518 - val_loss: 0.7193 - val_accuracy: 0.2208\n",
            "\n",
            "Epoch 00003: val_accuracy did not improve from 0.34167\n",
            "Epoch 4/100\n",
            "19/19 [==============================] - 0s 5ms/step - loss: 0.6685 - accuracy: 0.6617 - val_loss: 0.7342 - val_accuracy: 0.2208\n",
            "\n",
            "Epoch 00004: val_accuracy did not improve from 0.34167\n",
            "Epoch 5/100\n",
            "19/19 [==============================] - 0s 5ms/step - loss: 0.6675 - accuracy: 0.6390 - val_loss: 0.6868 - val_accuracy: 0.3208\n",
            "\n",
            "Epoch 00005: val_accuracy did not improve from 0.34167\n",
            "Epoch 6/100\n",
            "19/19 [==============================] - 0s 5ms/step - loss: 0.6632 - accuracy: 0.6448 - val_loss: 0.7609 - val_accuracy: 0.2250\n",
            "\n",
            "Epoch 00006: val_accuracy did not improve from 0.34167\n",
            "Epoch 7/100\n",
            "19/19 [==============================] - 0s 5ms/step - loss: 0.6442 - accuracy: 0.6724 - val_loss: 0.7770 - val_accuracy: 0.2250\n",
            "\n",
            "Epoch 00007: val_accuracy did not improve from 0.34167\n",
            "Epoch 8/100\n",
            "19/19 [==============================] - 0s 5ms/step - loss: 0.6224 - accuracy: 0.7208 - val_loss: 0.7998 - val_accuracy: 0.2208\n",
            "\n",
            "Epoch 00008: val_accuracy did not improve from 0.34167\n",
            "Epoch 9/100\n",
            "19/19 [==============================] - 0s 5ms/step - loss: 0.6549 - accuracy: 0.6548 - val_loss: 0.8117 - val_accuracy: 0.2208\n",
            "\n",
            "Epoch 00009: val_accuracy did not improve from 0.34167\n",
            "Epoch 10/100\n",
            "19/19 [==============================] - 0s 5ms/step - loss: 0.6563 - accuracy: 0.6455 - val_loss: 0.8219 - val_accuracy: 0.2208\n",
            "\n",
            "Epoch 00010: val_accuracy did not improve from 0.34167\n",
            "Epoch 11/100\n",
            "19/19 [==============================] - 0s 5ms/step - loss: 0.6565 - accuracy: 0.6412 - val_loss: 0.8326 - val_accuracy: 0.2208\n",
            "\n",
            "Epoch 00011: val_accuracy did not improve from 0.34167\n",
            "Epoch 12/100\n",
            "19/19 [==============================] - 0s 5ms/step - loss: 0.6647 - accuracy: 0.6197 - val_loss: 0.8401 - val_accuracy: 0.2208\n",
            "\n",
            "Epoch 00012: val_accuracy did not improve from 0.34167\n",
            "Epoch 13/100\n",
            "19/19 [==============================] - 0s 5ms/step - loss: 0.6369 - accuracy: 0.6815 - val_loss: 0.8526 - val_accuracy: 0.2208\n",
            "\n",
            "Epoch 00013: val_accuracy did not improve from 0.34167\n",
            "Epoch 14/100\n",
            "19/19 [==============================] - 0s 5ms/step - loss: 0.6560 - accuracy: 0.6370 - val_loss: 0.8579 - val_accuracy: 0.2208\n",
            "\n",
            "Epoch 00014: val_accuracy did not improve from 0.34167\n",
            "Epoch 15/100\n",
            "19/19 [==============================] - 0s 6ms/step - loss: 0.6650 - accuracy: 0.6176 - val_loss: 0.8666 - val_accuracy: 0.2208\n",
            "\n",
            "Epoch 00015: val_accuracy did not improve from 0.34167\n",
            "Epoch 16/100\n",
            "19/19 [==============================] - 0s 6ms/step - loss: 0.6517 - accuracy: 0.6444 - val_loss: 0.8723 - val_accuracy: 0.2208\n",
            "\n",
            "Epoch 00016: val_accuracy did not improve from 0.34167\n",
            "Epoch 17/100\n",
            "19/19 [==============================] - 0s 5ms/step - loss: 0.6381 - accuracy: 0.6700 - val_loss: 0.8799 - val_accuracy: 0.2208\n",
            "\n",
            "Epoch 00017: val_accuracy did not improve from 0.34167\n",
            "Epoch 18/100\n",
            "19/19 [==============================] - 0s 5ms/step - loss: 0.6395 - accuracy: 0.6659 - val_loss: 0.8846 - val_accuracy: 0.2208\n",
            "\n",
            "Epoch 00018: val_accuracy did not improve from 0.34167\n",
            "Epoch 19/100\n",
            "19/19 [==============================] - 0s 6ms/step - loss: 0.6391 - accuracy: 0.6661 - val_loss: 0.8889 - val_accuracy: 0.2208\n",
            "\n",
            "Epoch 00019: val_accuracy did not improve from 0.34167\n",
            "Epoch 20/100\n",
            "19/19 [==============================] - 0s 6ms/step - loss: 0.6527 - accuracy: 0.6413 - val_loss: 0.8914 - val_accuracy: 0.2208\n",
            "\n",
            "Epoch 00020: val_accuracy did not improve from 0.34167\n",
            "Epoch 21/100\n",
            "19/19 [==============================] - 0s 6ms/step - loss: 0.6585 - accuracy: 0.6310 - val_loss: 0.8950 - val_accuracy: 0.2208\n",
            "\n",
            "Epoch 00021: val_accuracy did not improve from 0.34167\n",
            "Epoch 22/100\n",
            "19/19 [==============================] - 0s 6ms/step - loss: 0.6497 - accuracy: 0.6465 - val_loss: 0.8971 - val_accuracy: 0.2208\n",
            "\n",
            "Epoch 00022: val_accuracy did not improve from 0.34167\n",
            "Epoch 23/100\n",
            "19/19 [==============================] - 0s 6ms/step - loss: 0.6457 - accuracy: 0.6532 - val_loss: 0.9001 - val_accuracy: 0.2208\n",
            "\n",
            "Epoch 00023: val_accuracy did not improve from 0.34167\n",
            "Epoch 24/100\n",
            "19/19 [==============================] - 0s 6ms/step - loss: 0.6339 - accuracy: 0.6733 - val_loss: 0.9028 - val_accuracy: 0.2208\n",
            "\n",
            "Epoch 00024: val_accuracy did not improve from 0.34167\n",
            "Epoch 25/100\n",
            "19/19 [==============================] - 0s 6ms/step - loss: 0.6515 - accuracy: 0.6433 - val_loss: 0.9026 - val_accuracy: 0.2208\n",
            "\n",
            "Epoch 00025: val_accuracy did not improve from 0.34167\n",
            "Epoch 26/100\n",
            "19/19 [==============================] - 0s 5ms/step - loss: 0.6532 - accuracy: 0.6404 - val_loss: 0.9026 - val_accuracy: 0.2208\n",
            "\n",
            "Epoch 00026: val_accuracy did not improve from 0.34167\n",
            "Epoch 27/100\n",
            "19/19 [==============================] - 0s 5ms/step - loss: 0.6419 - accuracy: 0.6594 - val_loss: 0.9041 - val_accuracy: 0.2208\n",
            "\n",
            "Epoch 00027: val_accuracy did not improve from 0.34167\n",
            "Epoch 28/100\n",
            "19/19 [==============================] - 0s 5ms/step - loss: 0.6381 - accuracy: 0.6658 - val_loss: 0.9051 - val_accuracy: 0.2208\n",
            "\n",
            "Epoch 00028: val_accuracy did not improve from 0.34167\n",
            "Epoch 29/100\n",
            "19/19 [==============================] - 0s 5ms/step - loss: 0.6688 - accuracy: 0.6145 - val_loss: 0.9017 - val_accuracy: 0.2208\n",
            "\n",
            "Epoch 00029: val_accuracy did not improve from 0.34167\n",
            "Epoch 30/100\n",
            "19/19 [==============================] - 0s 5ms/step - loss: 0.6578 - accuracy: 0.6327 - val_loss: 0.9013 - val_accuracy: 0.2208\n",
            "\n",
            "Epoch 00030: val_accuracy did not improve from 0.34167\n",
            "Epoch 31/100\n",
            "19/19 [==============================] - 0s 5ms/step - loss: 0.6406 - accuracy: 0.6618 - val_loss: 0.9057 - val_accuracy: 0.2208\n",
            "\n",
            "Epoch 00031: val_accuracy did not improve from 0.34167\n",
            "Epoch 32/100\n",
            "19/19 [==============================] - 0s 5ms/step - loss: 0.6426 - accuracy: 0.6581 - val_loss: 0.9050 - val_accuracy: 0.2208\n",
            "\n",
            "Epoch 00032: val_accuracy did not improve from 0.34167\n",
            "Epoch 33/100\n",
            "19/19 [==============================] - 0s 5ms/step - loss: 0.6496 - accuracy: 0.6466 - val_loss: 0.9060 - val_accuracy: 0.2208\n",
            "\n",
            "Epoch 00033: val_accuracy did not improve from 0.34167\n",
            "Epoch 34/100\n",
            "19/19 [==============================] - 0s 5ms/step - loss: 0.6523 - accuracy: 0.6420 - val_loss: 0.9063 - val_accuracy: 0.2208\n",
            "\n",
            "Epoch 00034: val_accuracy did not improve from 0.34167\n",
            "Epoch 35/100\n",
            "19/19 [==============================] - 0s 5ms/step - loss: 0.6552 - accuracy: 0.6373 - val_loss: 0.9064 - val_accuracy: 0.2208\n",
            "\n",
            "Epoch 00035: val_accuracy did not improve from 0.34167\n",
            "Epoch 36/100\n",
            "19/19 [==============================] - 0s 5ms/step - loss: 0.6408 - accuracy: 0.6610 - val_loss: 0.9099 - val_accuracy: 0.2208\n",
            "\n",
            "Epoch 00036: val_accuracy did not improve from 0.34167\n",
            "Epoch 37/100\n",
            "19/19 [==============================] - 0s 5ms/step - loss: 0.6420 - accuracy: 0.6589 - val_loss: 0.9127 - val_accuracy: 0.2208\n",
            "\n",
            "Epoch 00037: val_accuracy did not improve from 0.34167\n",
            "Epoch 38/100\n",
            "19/19 [==============================] - 0s 6ms/step - loss: 0.6435 - accuracy: 0.6564 - val_loss: 0.9104 - val_accuracy: 0.2208\n",
            "\n",
            "Epoch 00038: val_accuracy did not improve from 0.34167\n",
            "Epoch 39/100\n",
            "19/19 [==============================] - 0s 6ms/step - loss: 0.6452 - accuracy: 0.6537 - val_loss: 0.9097 - val_accuracy: 0.2208\n",
            "\n",
            "Epoch 00039: val_accuracy did not improve from 0.34167\n",
            "Epoch 40/100\n",
            "19/19 [==============================] - 0s 6ms/step - loss: 0.6553 - accuracy: 0.6371 - val_loss: 0.9087 - val_accuracy: 0.2208\n",
            "\n",
            "Epoch 00040: val_accuracy did not improve from 0.34167\n",
            "Epoch 41/100\n",
            "19/19 [==============================] - 0s 5ms/step - loss: 0.6569 - accuracy: 0.6345 - val_loss: 0.9087 - val_accuracy: 0.2208\n",
            "\n",
            "Epoch 00041: val_accuracy did not improve from 0.34167\n",
            "Epoch 42/100\n",
            "19/19 [==============================] - 0s 5ms/step - loss: 0.6490 - accuracy: 0.6475 - val_loss: 0.9075 - val_accuracy: 0.2208\n",
            "\n",
            "Epoch 00042: val_accuracy did not improve from 0.34167\n",
            "Epoch 43/100\n",
            "19/19 [==============================] - 0s 5ms/step - loss: 0.6639 - accuracy: 0.6229 - val_loss: 0.9076 - val_accuracy: 0.2208\n",
            "\n",
            "Epoch 00043: val_accuracy did not improve from 0.34167\n",
            "Epoch 44/100\n",
            "19/19 [==============================] - 0s 5ms/step - loss: 0.6380 - accuracy: 0.6658 - val_loss: 0.9115 - val_accuracy: 0.2208\n",
            "\n",
            "Epoch 00044: val_accuracy did not improve from 0.34167\n",
            "Epoch 45/100\n",
            "19/19 [==============================] - 0s 5ms/step - loss: 0.6387 - accuracy: 0.6643 - val_loss: 0.9138 - val_accuracy: 0.2208\n",
            "\n",
            "Epoch 00045: val_accuracy did not improve from 0.34167\n",
            "Epoch 46/100\n",
            "19/19 [==============================] - 0s 5ms/step - loss: 0.6337 - accuracy: 0.6723 - val_loss: 0.9118 - val_accuracy: 0.2208\n",
            "\n",
            "Epoch 00046: val_accuracy did not improve from 0.34167\n",
            "Epoch 47/100\n",
            "19/19 [==============================] - 0s 5ms/step - loss: 0.6487 - accuracy: 0.6481 - val_loss: 0.9101 - val_accuracy: 0.2208\n",
            "\n",
            "Epoch 00047: val_accuracy did not improve from 0.34167\n",
            "Epoch 48/100\n",
            "19/19 [==============================] - 0s 5ms/step - loss: 0.6284 - accuracy: 0.6811 - val_loss: 0.9122 - val_accuracy: 0.2208\n",
            "\n",
            "Epoch 00048: val_accuracy did not improve from 0.34167\n",
            "Epoch 49/100\n",
            "19/19 [==============================] - 0s 5ms/step - loss: 0.6653 - accuracy: 0.6212 - val_loss: 0.9058 - val_accuracy: 0.2208\n",
            "\n",
            "Epoch 00049: val_accuracy did not improve from 0.34167\n",
            "Epoch 50/100\n",
            "19/19 [==============================] - 0s 5ms/step - loss: 0.6323 - accuracy: 0.6753 - val_loss: 0.9086 - val_accuracy: 0.2208\n",
            "\n",
            "Epoch 00050: val_accuracy did not improve from 0.34167\n",
            "Epoch 51/100\n",
            "19/19 [==============================] - 0s 5ms/step - loss: 0.6411 - accuracy: 0.6606 - val_loss: 0.9071 - val_accuracy: 0.2208\n",
            "\n",
            "Epoch 00051: val_accuracy did not improve from 0.34167\n",
            "Epoch 52/100\n",
            "19/19 [==============================] - 0s 5ms/step - loss: 0.6378 - accuracy: 0.6661 - val_loss: 0.9107 - val_accuracy: 0.2208\n",
            "\n",
            "Epoch 00052: val_accuracy did not improve from 0.34167\n",
            "Epoch 53/100\n",
            "19/19 [==============================] - 0s 5ms/step - loss: 0.6241 - accuracy: 0.6881 - val_loss: 0.9144 - val_accuracy: 0.2208\n",
            "\n",
            "Epoch 00053: val_accuracy did not improve from 0.34167\n",
            "Epoch 54/100\n",
            "19/19 [==============================] - 0s 5ms/step - loss: 0.6387 - accuracy: 0.6641 - val_loss: 0.9093 - val_accuracy: 0.2208\n",
            "\n",
            "Epoch 00054: val_accuracy did not improve from 0.34167\n",
            "Epoch 55/100\n",
            "19/19 [==============================] - 0s 5ms/step - loss: 0.6357 - accuracy: 0.6694 - val_loss: 0.9092 - val_accuracy: 0.2208\n",
            "\n",
            "Epoch 00055: val_accuracy did not improve from 0.34167\n",
            "Epoch 56/100\n",
            "19/19 [==============================] - 0s 5ms/step - loss: 0.6501 - accuracy: 0.6457 - val_loss: 0.9099 - val_accuracy: 0.2208\n",
            "\n",
            "Epoch 00056: val_accuracy did not improve from 0.34167\n",
            "Epoch 57/100\n",
            "19/19 [==============================] - 0s 5ms/step - loss: 0.6327 - accuracy: 0.6741 - val_loss: 0.9121 - val_accuracy: 0.2208\n",
            "\n",
            "Epoch 00057: val_accuracy did not improve from 0.34167\n",
            "Epoch 58/100\n",
            "19/19 [==============================] - 0s 5ms/step - loss: 0.6431 - accuracy: 0.6570 - val_loss: 0.9076 - val_accuracy: 0.2208\n",
            "\n",
            "Epoch 00058: val_accuracy did not improve from 0.34167\n",
            "Epoch 59/100\n",
            "19/19 [==============================] - 0s 5ms/step - loss: 0.6556 - accuracy: 0.6365 - val_loss: 0.9063 - val_accuracy: 0.2208\n",
            "\n",
            "Epoch 00059: val_accuracy did not improve from 0.34167\n",
            "Epoch 60/100\n",
            "19/19 [==============================] - 0s 5ms/step - loss: 0.6555 - accuracy: 0.6367 - val_loss: 0.9063 - val_accuracy: 0.2208\n",
            "\n",
            "Epoch 00060: val_accuracy did not improve from 0.34167\n",
            "Epoch 61/100\n",
            "19/19 [==============================] - 0s 11ms/step - loss: 0.6489 - accuracy: 0.6476 - val_loss: 0.9131 - val_accuracy: 0.2208\n",
            "\n",
            "Epoch 00061: val_accuracy did not improve from 0.34167\n",
            "Epoch 62/100\n",
            "19/19 [==============================] - 0s 5ms/step - loss: 0.6459 - accuracy: 0.6525 - val_loss: 0.9096 - val_accuracy: 0.2208\n",
            "\n",
            "Epoch 00062: val_accuracy did not improve from 0.34167\n",
            "Epoch 63/100\n",
            "19/19 [==============================] - 0s 6ms/step - loss: 0.6617 - accuracy: 0.6268 - val_loss: 0.9084 - val_accuracy: 0.2208\n",
            "\n",
            "Epoch 00063: val_accuracy did not improve from 0.34167\n",
            "Epoch 64/100\n",
            "19/19 [==============================] - 0s 5ms/step - loss: 0.6474 - accuracy: 0.6502 - val_loss: 0.9081 - val_accuracy: 0.2208\n",
            "\n",
            "Epoch 00064: val_accuracy did not improve from 0.34167\n",
            "Epoch 65/100\n",
            "19/19 [==============================] - 0s 5ms/step - loss: 0.6451 - accuracy: 0.6540 - val_loss: 0.9104 - val_accuracy: 0.2208\n",
            "\n",
            "Epoch 00065: val_accuracy did not improve from 0.34167\n",
            "Epoch 66/100\n",
            "19/19 [==============================] - 0s 5ms/step - loss: 0.6528 - accuracy: 0.6412 - val_loss: 0.9101 - val_accuracy: 0.2208\n",
            "\n",
            "Epoch 00066: val_accuracy did not improve from 0.34167\n",
            "Epoch 67/100\n",
            "19/19 [==============================] - 0s 6ms/step - loss: 0.6327 - accuracy: 0.6741 - val_loss: 0.9135 - val_accuracy: 0.2208\n",
            "\n",
            "Epoch 00067: val_accuracy did not improve from 0.34167\n",
            "Epoch 68/100\n",
            "19/19 [==============================] - 0s 5ms/step - loss: 0.6492 - accuracy: 0.6472 - val_loss: 0.9112 - val_accuracy: 0.2208\n",
            "\n",
            "Epoch 00068: val_accuracy did not improve from 0.34167\n",
            "Epoch 69/100\n",
            "19/19 [==============================] - 0s 5ms/step - loss: 0.6463 - accuracy: 0.6520 - val_loss: 0.9125 - val_accuracy: 0.2208\n",
            "\n",
            "Epoch 00069: val_accuracy did not improve from 0.34167\n",
            "Epoch 70/100\n",
            "19/19 [==============================] - 0s 5ms/step - loss: 0.6652 - accuracy: 0.6212 - val_loss: 0.9080 - val_accuracy: 0.2208\n",
            "\n",
            "Epoch 00070: val_accuracy did not improve from 0.34167\n",
            "Epoch 71/100\n",
            "19/19 [==============================] - 0s 5ms/step - loss: 0.6299 - accuracy: 0.6790 - val_loss: 0.9124 - val_accuracy: 0.2208\n",
            "\n",
            "Epoch 00071: val_accuracy did not improve from 0.34167\n",
            "Epoch 72/100\n",
            "19/19 [==============================] - 0s 5ms/step - loss: 0.6487 - accuracy: 0.6481 - val_loss: 0.9117 - val_accuracy: 0.2208\n",
            "\n",
            "Epoch 00072: val_accuracy did not improve from 0.34167\n",
            "Epoch 73/100\n",
            "19/19 [==============================] - 0s 6ms/step - loss: 0.6542 - accuracy: 0.6390 - val_loss: 0.9087 - val_accuracy: 0.2208\n",
            "\n",
            "Epoch 00073: val_accuracy did not improve from 0.34167\n",
            "Epoch 74/100\n",
            "19/19 [==============================] - 0s 5ms/step - loss: 0.6631 - accuracy: 0.6243 - val_loss: 0.9096 - val_accuracy: 0.2208\n",
            "\n",
            "Epoch 00074: val_accuracy did not improve from 0.34167\n",
            "Epoch 75/100\n",
            "19/19 [==============================] - 0s 6ms/step - loss: 0.6442 - accuracy: 0.6554 - val_loss: 0.9104 - val_accuracy: 0.2208\n",
            "\n",
            "Epoch 00075: val_accuracy did not improve from 0.34167\n",
            "Epoch 76/100\n",
            "19/19 [==============================] - 0s 6ms/step - loss: 0.6615 - accuracy: 0.6271 - val_loss: 0.9077 - val_accuracy: 0.2208\n",
            "\n",
            "Epoch 00076: val_accuracy did not improve from 0.34167\n",
            "Epoch 77/100\n",
            "19/19 [==============================] - 0s 6ms/step - loss: 0.6372 - accuracy: 0.6671 - val_loss: 0.9105 - val_accuracy: 0.2208\n",
            "\n",
            "Epoch 00077: val_accuracy did not improve from 0.34167\n",
            "Epoch 78/100\n",
            "19/19 [==============================] - 0s 6ms/step - loss: 0.6511 - accuracy: 0.6440 - val_loss: 0.9095 - val_accuracy: 0.2208\n",
            "\n",
            "Epoch 00078: val_accuracy did not improve from 0.34167\n",
            "Epoch 79/100\n",
            "19/19 [==============================] - 0s 5ms/step - loss: 0.6589 - accuracy: 0.6313 - val_loss: 0.9118 - val_accuracy: 0.2208\n",
            "\n",
            "Epoch 00079: val_accuracy did not improve from 0.34167\n",
            "Epoch 80/100\n",
            "19/19 [==============================] - 0s 5ms/step - loss: 0.6705 - accuracy: 0.6125 - val_loss: 0.9055 - val_accuracy: 0.2208\n",
            "\n",
            "Epoch 00080: val_accuracy did not improve from 0.34167\n",
            "Epoch 81/100\n",
            "19/19 [==============================] - 0s 5ms/step - loss: 0.6395 - accuracy: 0.6634 - val_loss: 0.9119 - val_accuracy: 0.2208\n",
            "\n",
            "Epoch 00081: val_accuracy did not improve from 0.34167\n",
            "Epoch 82/100\n",
            "19/19 [==============================] - 0s 5ms/step - loss: 0.6522 - accuracy: 0.6423 - val_loss: 0.9120 - val_accuracy: 0.2208\n",
            "\n",
            "Epoch 00082: val_accuracy did not improve from 0.34167\n",
            "Epoch 83/100\n",
            "19/19 [==============================] - 0s 6ms/step - loss: 0.6591 - accuracy: 0.6311 - val_loss: 0.9086 - val_accuracy: 0.2208\n",
            "\n",
            "Epoch 00083: val_accuracy did not improve from 0.34167\n",
            "Epoch 84/100\n",
            "19/19 [==============================] - 0s 5ms/step - loss: 0.6405 - accuracy: 0.6616 - val_loss: 0.9130 - val_accuracy: 0.2208\n",
            "\n",
            "Epoch 00084: val_accuracy did not improve from 0.34167\n",
            "Epoch 85/100\n",
            "19/19 [==============================] - 0s 5ms/step - loss: 0.6390 - accuracy: 0.6636 - val_loss: 0.9138 - val_accuracy: 0.2208\n",
            "\n",
            "Epoch 00085: val_accuracy did not improve from 0.34167\n",
            "Epoch 86/100\n",
            "19/19 [==============================] - 0s 5ms/step - loss: 0.6528 - accuracy: 0.6414 - val_loss: 0.9094 - val_accuracy: 0.2208\n",
            "\n",
            "Epoch 00086: val_accuracy did not improve from 0.34167\n",
            "Epoch 87/100\n",
            "19/19 [==============================] - 0s 6ms/step - loss: 0.6409 - accuracy: 0.6608 - val_loss: 0.9099 - val_accuracy: 0.2208\n",
            "\n",
            "Epoch 00087: val_accuracy did not improve from 0.34167\n",
            "Epoch 88/100\n",
            "19/19 [==============================] - 0s 5ms/step - loss: 0.6381 - accuracy: 0.6653 - val_loss: 0.9093 - val_accuracy: 0.2208\n",
            "\n",
            "Epoch 00088: val_accuracy did not improve from 0.34167\n",
            "Epoch 89/100\n",
            "19/19 [==============================] - 0s 5ms/step - loss: 0.6454 - accuracy: 0.6535 - val_loss: 0.9079 - val_accuracy: 0.2208\n",
            "\n",
            "Epoch 00089: val_accuracy did not improve from 0.34167\n",
            "Epoch 90/100\n",
            "19/19 [==============================] - 0s 5ms/step - loss: 0.6492 - accuracy: 0.6472 - val_loss: 0.9036 - val_accuracy: 0.2208\n",
            "\n",
            "Epoch 00090: val_accuracy did not improve from 0.34167\n",
            "Epoch 91/100\n",
            "19/19 [==============================] - 0s 5ms/step - loss: 0.6484 - accuracy: 0.6485 - val_loss: 0.9054 - val_accuracy: 0.2208\n",
            "\n",
            "Epoch 00091: val_accuracy did not improve from 0.34167\n",
            "Epoch 92/100\n",
            "19/19 [==============================] - 0s 6ms/step - loss: 0.6271 - accuracy: 0.6839 - val_loss: 0.9085 - val_accuracy: 0.2208\n",
            "\n",
            "Epoch 00092: val_accuracy did not improve from 0.34167\n",
            "Epoch 93/100\n",
            "19/19 [==============================] - 0s 5ms/step - loss: 0.6446 - accuracy: 0.6547 - val_loss: 0.9069 - val_accuracy: 0.2208\n",
            "\n",
            "Epoch 00093: val_accuracy did not improve from 0.34167\n",
            "Epoch 94/100\n",
            "19/19 [==============================] - 0s 5ms/step - loss: 0.6352 - accuracy: 0.6705 - val_loss: 0.9089 - val_accuracy: 0.2208\n",
            "\n",
            "Epoch 00094: val_accuracy did not improve from 0.34167\n",
            "Epoch 95/100\n",
            "19/19 [==============================] - 0s 5ms/step - loss: 0.6535 - accuracy: 0.6401 - val_loss: 0.9059 - val_accuracy: 0.2208\n",
            "\n",
            "Epoch 00095: val_accuracy did not improve from 0.34167\n",
            "Epoch 96/100\n",
            "19/19 [==============================] - 0s 6ms/step - loss: 0.6663 - accuracy: 0.6188 - val_loss: 0.9050 - val_accuracy: 0.2208\n",
            "\n",
            "Epoch 00096: val_accuracy did not improve from 0.34167\n",
            "Epoch 97/100\n",
            "19/19 [==============================] - 0s 5ms/step - loss: 0.6603 - accuracy: 0.6288 - val_loss: 0.9079 - val_accuracy: 0.2208\n",
            "\n",
            "Epoch 00097: val_accuracy did not improve from 0.34167\n",
            "Epoch 98/100\n",
            "19/19 [==============================] - 0s 5ms/step - loss: 0.6366 - accuracy: 0.6680 - val_loss: 0.9113 - val_accuracy: 0.2208\n",
            "\n",
            "Epoch 00098: val_accuracy did not improve from 0.34167\n",
            "Epoch 99/100\n",
            "19/19 [==============================] - 0s 5ms/step - loss: 0.6580 - accuracy: 0.6328 - val_loss: 0.9106 - val_accuracy: 0.2208\n",
            "\n",
            "Epoch 00099: val_accuracy did not improve from 0.34167\n",
            "Epoch 100/100\n",
            "19/19 [==============================] - 0s 6ms/step - loss: 0.6558 - accuracy: 0.6364 - val_loss: 0.9089 - val_accuracy: 0.2208\n",
            "\n",
            "Epoch 00100: val_accuracy did not improve from 0.34167\n"
          ],
          "name": "stdout"
        }
      ]
    },
    {
      "cell_type": "code",
      "metadata": {
        "colab": {
          "base_uri": "https://localhost:8080/",
          "height": 563
        },
        "id": "g1gXhyMOaLiu",
        "outputId": "d0dcf257-4249-4293-b0d6-43c279df8b0b"
      },
      "source": [
        "''' Visualize loss, val_loss, accuracy and val_accuracy obtanined during the train\r\n",
        "''' \r\n",
        "plt.figure(1)\r\n",
        "plt.plot(history.history['loss'])\r\n",
        "plt.plot(history.history['val_loss'])\r\n",
        "plt.title('Loss and val_loss')\r\n",
        "\r\n",
        "plt.figure(2)\r\n",
        "plt.plot(history.history['accuracy'])\r\n",
        "plt.plot(history.history['val_accuracy'])\r\n",
        "plt.title('Accuracy and val_accuracy')"
      ],
      "execution_count": 95,
      "outputs": [
        {
          "output_type": "execute_result",
          "data": {
            "text/plain": [
              "Text(0.5, 1.0, 'Accuracy and val_accuracy')"
            ]
          },
          "metadata": {
            "tags": []
          },
          "execution_count": 95
        },
        {
          "output_type": "display_data",
          "data": {
            "image/png": "[encoded data removed]",
            "text/plain": [
              "<Figure size 432x288 with 1 Axes>"
            ]
          },
          "metadata": {
            "tags": [],
            "needs_background": "light"
          }
        },
        {
          "output_type": "display_data",
          "data": {
            "image/png": "[encoded data removed]",
            "text/plain": [
              "<Figure size 432x288 with 1 Axes>"
            ]
          },
          "metadata": {
            "tags": [],
            "needs_background": "light"
          }
        }
      ]
    },
    {
      "cell_type": "markdown",
      "metadata": {
        "id": "mTj0M6DZvu2B"
      },
      "source": [
        "#CV Test"
      ]
    },
    {
      "cell_type": "code",
      "metadata": {
        "colab": {
          "base_uri": "https://localhost:8080/"
        },
        "id": "CEyAPDs6dUmN",
        "outputId": "c81a49ca-9ef5-47d3-dbf1-827cc19824a2"
      },
      "source": [
        "# Define per-fold accuracy and loss arrays\r\n",
        "acc_per_fold = []\r\n",
        "loss_per_fold = []\r\n",
        "\r\n",
        "# Define the number of folds to split dataset on\r\n",
        "num_folds = 10\r\n",
        "# Defining the function KFold useful to split the dataset\r\n",
        "kfold = KFold(n_splits = num_folds, shuffle=True)\r\n",
        "\r\n",
        "batch_size = 32\r\n",
        "num_epochs = 50\r\n",
        "\r\n",
        "fold_num = 1\r\n",
        "\r\n",
        "# Define the model and compile\r\n",
        "model = make_model()\r\n",
        "model.compile(optimizer=Adam(lr = 0.001), metrics = 'accuracy', loss='binary_crossentropy')\r\n",
        "# Saving the weights before training as reset before each training\r\n",
        "model.save_weights('reset_model.h5')\r\n",
        "\r\n",
        "for train, test in kfold.split(coefficients, labels):\r\n",
        "  ''' Training the model and test it for every fold created \r\n",
        "      from the total original dataset\r\n",
        "  '''\r\n",
        "  # Reset the model loading weights of untrained model\r\n",
        "  model.load_weights('reset_model.h5')\r\n",
        "  # Fitting the model using every folder but one as training\r\n",
        "  history = model.fit(\r\n",
        "          coefficients[train], labels[train],\r\n",
        "          batch_size = batch_size,\r\n",
        "          verbose=0,\r\n",
        "          epochs = num_epochs)  \r\n",
        "  \r\n",
        "  # Evaluate the efficiency of the model\r\n",
        "  scores = model.evaluate(coefficients[test], labels[test], verbose=0)\r\n",
        "  #Printing the results of the training\r\n",
        "  print('In folder {:d}: {} of {:.4f} - {} of {:.4f}'.format(fold_num,\r\n",
        "                                                          model.metrics_names[0],scores[0],\r\n",
        "                                                          model.metrics_names[1], scores[1] ))\r\n",
        "  \r\n",
        "  '''\r\n",
        "  # Visualize loss and accuracy obtanined during the train for each fold  \r\n",
        "  plt.figure(fold_num)\r\n",
        "  plt.suptitle(f'In fold num. {fold_num}')\r\n",
        "  plt.subplot(1, 2, 1)\r\n",
        "  plt.plot(history.history['loss'])\r\n",
        "  plt.subplot(1, 2, 2)\r\n",
        "  plt.plot(history.history['accuracy'])\r\n",
        "  '''\r\n",
        "  #Putting scores on to the corrisponding list to calculate the mean value ot them at the end\r\n",
        "  acc_per_fold.append(scores[1])\r\n",
        "  loss_per_fold.append(scores[0])\r\n",
        "  fold_num += 1\r\n",
        "\r\n",
        "#Computing and printing average scores\r\n",
        "print('Average scores for all folds:')\r\n",
        "print(f'-- Accuracy: {np.mean(acc_per_fold)} (+- {np.std(acc_per_fold)})')\r\n",
        "#Calculare loss error as maximum value error\r\n",
        "err_loss = (max(loss_per_fold)-min(loss_per_fold))/2\r\n",
        "print(f'-- Loss: {np.mean(loss_per_fold)} +/- {err_loss}')"
      ],
      "execution_count": 96,
      "outputs": [
        {
          "output_type": "stream",
          "text": [
            "In folder 1: loss of 1.3184 - accuracy of 0.6375\n",
            "In folder 2: loss of 1.0543 - accuracy of 0.6625\n",
            "In folder 3: loss of 2.1596 - accuracy of 0.5250\n",
            "In folder 4: loss of 1.2007 - accuracy of 0.6125\n",
            "In folder 5: loss of 0.7166 - accuracy of 0.7000\n",
            "In folder 6: loss of 1.1404 - accuracy of 0.6875\n",
            "In folder 7: loss of 0.8598 - accuracy of 0.7250\n",
            "In folder 8: loss of 1.1669 - accuracy of 0.6329\n",
            "In folder 9: loss of 1.6109 - accuracy of 0.5823\n",
            "In folder 10: loss of 1.5888 - accuracy of 0.6203\n",
            "Average scores for all folds:\n",
            "-- Accuracy: 0.6385443031787872 (+- 0.05596943584669099)\n",
            "-- Loss: 1.2816384315490723 +/- 0.7214896082878113\n"
          ],
          "name": "stdout"
        }
      ]
    },
    {
      "cell_type": "code",
      "metadata": {
        "id": "zeKefnt20lx3"
      },
      "source": [
        ""
      ],
      "execution_count": 96,
      "outputs": []
    }
  ]
}