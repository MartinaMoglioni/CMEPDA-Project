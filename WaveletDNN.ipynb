{
  "nbformat": 4,
  "nbformat_minor": 0,
  "metadata": {
    "colab": {
      "name": "WaveletDNN.ipynb",
      "provenance": [],
      "collapsed_sections": [],
      "include_colab_link": true
    },
    "kernelspec": {
      "name": "python3",
      "display_name": "Python 3"
    },
    "accelerator": "GPU"
  },
  "cells": [
    {
      "cell_type": "markdown",
      "metadata": {
        "id": "view-in-github",
        "colab_type": "text"
      },
      "source": [
        "<a href=\"https://colab.research.google.com/github/federicocampo/CMEPDA-Project/blob/main/WaveletDNN.ipynb\" target=\"_parent\"><img src=\"https://colab.research.google.com/assets/colab-badge.svg\" alt=\"Open In Colab\"/></a>"
      ]
    },
    {
      "cell_type": "markdown",
      "metadata": {
        "id": "h7UQdhtmCS3B"
      },
      "source": [
        "Cloning into our repository to import all the needed functions."
      ]
    },
    {
      "cell_type": "code",
      "metadata": {
        "colab": {
          "base_uri": "https://localhost:8080/"
        },
        "id": "sNBucPrt99Aa",
        "outputId": "e3aa86ba-2b73-45e0-858e-14303430fb8c"
      },
      "source": [
        "!git clone https://github.com/federicocampo/CMEPDA-Project.git"
      ],
      "execution_count": 1,
      "outputs": [
        {
          "output_type": "stream",
          "text": [
            "Cloning into 'CMEPDA-Project'...\n",
            "remote: Enumerating objects: 241, done.\u001b[K\n",
            "remote: Counting objects: 100% (241/241), done.\u001b[K\n",
            "remote: Compressing objects: 100% (215/215), done.\u001b[K\n",
            "remote: Total 241 (delta 96), reused 55 (delta 23), pack-reused 0\u001b[K\n",
            "Receiving objects: 100% (241/241), 3.64 MiB | 11.41 MiB/s, done.\n",
            "Resolving deltas: 100% (96/96), done.\n"
          ],
          "name": "stdout"
        }
      ]
    },
    {
      "cell_type": "code",
      "metadata": {
        "colab": {
          "base_uri": "https://localhost:8080/"
        },
        "id": "KNVOhk1rMi4D",
        "outputId": "3d4231c9-69cf-488c-9e8c-7e488ab2472d"
      },
      "source": [
        "%cd /content/CMEPDA-Project/"
      ],
      "execution_count": 2,
      "outputs": [
        {
          "output_type": "stream",
          "text": [
            "/content/CMEPDA-Project\n"
          ],
          "name": "stdout"
        }
      ]
    },
    {
      "cell_type": "code",
      "metadata": {
        "colab": {
          "base_uri": "https://localhost:8080/"
        },
        "id": "LIPzsClBDhdW",
        "outputId": "593c9042-40da-482a-c140-b01429d8b269"
      },
      "source": [
        "from google.colab import drive\r\n",
        "drive.mount('/content/gdrive')"
      ],
      "execution_count": 3,
      "outputs": [
        {
          "output_type": "stream",
          "text": [
            "Mounted at /content/gdrive\n"
          ],
          "name": "stdout"
        }
      ]
    },
    {
      "cell_type": "markdown",
      "metadata": {
        "id": "bU0VIBp3xYub"
      },
      "source": [
        "#Importing libearies and setting a logger"
      ]
    },
    {
      "cell_type": "code",
      "metadata": {
        "id": "ZOV3UF99AhGP"
      },
      "source": [
        "import os\r\n",
        "from PIL import Image\r\n",
        "import pywt\r\n",
        "from skimage.restoration import denoise_wavelet\r\n",
        "from skimage import img_as_float\r\n",
        "import matplotlib.pyplot as plt\r\n",
        "import numpy as np\r\n",
        "import glob\r\n",
        "import multiprocessing as mp\r\n",
        "\r\n",
        "from keras.layers import BatchNormalization, Dense, Flatten, Activation, Dropout, Input\r\n",
        "from keras.models import Sequential, load_model\r\n",
        "from keras.callbacks import ModelCheckpoint\r\n",
        "from keras.optimizers import SGD, Adam\r\n",
        "\r\n",
        "from sklearn.model_selection import KFold\r\n",
        "\r\n",
        "from waveletconverter import dwtcoefftoarray\r\n",
        "\r\n",
        "import logging\r\n",
        "\r\n",
        "#Setting a logger and a logging level\r\n",
        "logger = logging.getLogger('Mylogger')\r\n",
        "logger.setLevel(logging.DEBUG)\r\n",
        "#Setting an handler to send logging output\r\n",
        "ch = logging.StreamHandler()\r\n",
        "ch.setLevel(logging.DEBUG)\r\n",
        "#Set the format of every log message printing the name of logger, logging level and the message.\r\n",
        "formatter = logging.Formatter('%(name)s (%(levelname)s): %(message)s')\r\n",
        "ch.setFormatter(formatter)\r\n",
        "#Add the specified handler to this logger.\r\n",
        "logger.addHandler(ch)"
      ],
      "execution_count": 5,
      "outputs": []
    },
    {
      "cell_type": "markdown",
      "metadata": {
        "id": "vmy7V9ZOxfPi"
      },
      "source": [
        "#Reading the images"
      ]
    },
    {
      "cell_type": "code",
      "metadata": {
        "colab": {
          "base_uri": "https://localhost:8080/"
        },
        "id": "BRLV3NwMEW-v",
        "outputId": "a5ac7dc6-25ce-4787-ba81-97360cdb5191"
      },
      "source": [
        "PATH = '/content/gdrive/My Drive/IMAGES/Mammography_micro'\r\n",
        "\r\n",
        "def read_img(image_path):\r\n",
        "  ''' Takes as input the path to the image folder and \r\n",
        "      returns the numpy array of images and label found in that folder\r\n",
        "  '''\r\n",
        "\r\n",
        "  # Creating a list of all image names found in image_path\r\n",
        "  imagefilename = glob.glob(os.path.join(image_path, '*.pgm'))\r\n",
        "\r\n",
        "  # Defining 4 sub-processes and apply imread to all the images found previously\r\n",
        "  # (imread reads images in pgm format)\r\n",
        "  pool = mp.Pool(processes=4)\r\n",
        "  results = pool.map_async(Image.open, imagefilename)\r\n",
        "\r\n",
        "  # Get the list of images and convert to numpy array\r\n",
        "  images = results.get()\r\n",
        "\r\n",
        "  logger.info(f'Num images found in {image_path}: {len(images)}')\r\n",
        "\r\n",
        "  # Create a list of corrisponding labels and conver it to numpy array\r\n",
        "  label = os.path.basename(image_path)\r\n",
        "  y = [int(label)] * len(images)\r\n",
        "  y_np = np.array(y)\r\n",
        "\r\n",
        "  return images, y_np\r\n",
        "\r\n",
        "\r\n",
        "# Define the path to the sub-folder of Train images folder containing \"normal\" breast mammograms\r\n",
        "image_path = os.path.join(PATH, 'Train/0')\r\n",
        "# Create the test images and labels array with read_img function\r\n",
        "images0_train, y0_train = read_img(image_path)\r\n",
        "\r\n",
        "# Define the path to the sub-folder of Train images folder containing \"normal\" breast mammograms\r\n",
        "image_path = os.path.join(PATH, 'Train/1')\r\n",
        "# Create the test images and labels array with read_img function\r\n",
        "images1_train, y1_train = read_img(image_path)\r\n",
        "\r\n",
        "# Create an array with both normal and microcalcifications containing images and labels\r\n",
        "images_train = images0_train + images1_train\r\n",
        "y_train = np.concatenate((y0_train, y1_train))\r\n",
        "\r\n",
        "# Define the path to the sub-folder of Train images folder containing \"normal\" breast mammograms\r\n",
        "image_path = os.path.join(PATH, 'Test/0')\r\n",
        "# Create the test images and labels array with read_img function\r\n",
        "images0_test, y0_test = read_img(image_path)\r\n",
        "\r\n",
        "# Define the path to the sub-folder of Train images folder containing \"normal\" breast mammograms\r\n",
        "image_path = os.path.join(PATH, 'Test/1')\r\n",
        "# Create the test images and labels array with read_img function\r\n",
        "images1_test, y1_test = read_img(image_path)\r\n",
        "\r\n",
        "# Create an array with both normal and microcalcifications containing images and labels\r\n",
        "images_test = images0_test + images1_test\r\n",
        "y_test = np.concatenate((y0_test, y1_test))\r\n",
        "\r\n",
        "images_tot = images_test + images_train\r\n",
        "labels = np.concatenate((y_test, y_train))"
      ],
      "execution_count": 6,
      "outputs": [
        {
          "output_type": "stream",
          "text": [
            "Mylogger (INFO): Num images found in /content/gdrive/My Drive/IMAGES/Mammography_micro/Train/0: 209\n",
            "Mylogger (INFO): Num images found in /content/gdrive/My Drive/IMAGES/Mammography_micro/Train/0: 209\n",
            "Mylogger (INFO): Num images found in /content/gdrive/My Drive/IMAGES/Mammography_micro/Train/1: 187\n",
            "Mylogger (INFO): Num images found in /content/gdrive/My Drive/IMAGES/Mammography_micro/Train/1: 187\n",
            "Mylogger (INFO): Num images found in /content/gdrive/My Drive/IMAGES/Mammography_micro/Test/0: 205\n",
            "Mylogger (INFO): Num images found in /content/gdrive/My Drive/IMAGES/Mammography_micro/Test/0: 205\n",
            "Mylogger (INFO): Num images found in /content/gdrive/My Drive/IMAGES/Mammography_micro/Test/1: 196\n",
            "Mylogger (INFO): Num images found in /content/gdrive/My Drive/IMAGES/Mammography_micro/Test/1: 196\n"
          ],
          "name": "stderr"
        }
      ]
    },
    {
      "cell_type": "markdown",
      "metadata": {
        "id": "cx5kLtKpxjsy"
      },
      "source": [
        "#Defining the wavelet type"
      ]
    },
    {
      "cell_type": "code",
      "metadata": {
        "colab": {
          "base_uri": "https://localhost:8080/"
        },
        "id": "mkW1aJuAKIdu",
        "outputId": "eaf523ec-6d58-442d-ffa4-d06fcd4ea647"
      },
      "source": [
        "wavelet = 'db5'\r\n",
        "level = 4\r\n",
        "denoise = 'no'\r\n",
        "partial = True\r\n",
        "\r\n",
        "coefficients = []\r\n",
        "\r\n",
        "for i, image in enumerate(images_tot):\r\n",
        "  array = dwtcoefftoarray(images_tot[i], wavelet, level, denoise, partial)\r\n",
        "  coefficients.append(array)\r\n",
        "\r\n",
        "coefficients = np.array(coefficients)\r\n",
        "\r\n",
        "print(coefficients.shape)"
      ],
      "execution_count": 8,
      "outputs": [
        {
          "output_type": "stream",
          "text": [
            "/usr/local/lib/python3.6/dist-packages/pywt/_multilevel.py:45: UserWarning: Level value of 4 is too high: all coefficients will experience boundary effects.\n",
            "  \"boundary effects.\").format(level))\n"
          ],
          "name": "stderr"
        },
        {
          "output_type": "stream",
          "text": [
            "(797, 2430)\n"
          ],
          "name": "stdout"
        }
      ]
    },
    {
      "cell_type": "markdown",
      "metadata": {
        "id": "EHlzpiVgxn26"
      },
      "source": [
        "#Defining and training a model "
      ]
    },
    {
      "cell_type": "markdown",
      "metadata": {
        "id": "l_1ue6KPx0Xw"
      },
      "source": [
        "##Defining the model"
      ]
    },
    {
      "cell_type": "code",
      "metadata": {
        "id": "AeHKcX-6ThO4"
      },
      "source": [
        "def make_model(partial = False):\r\n",
        "  if partial: shape = 6042\r\n",
        "  else: shape = 2430\r\n",
        "  model = Sequential([\r\n",
        "                      Input(shape = shape),\r\n",
        "\r\n",
        "                      BatchNormalization(),\r\n",
        "                      Dense(10, activation='relu'),\r\n",
        "                      BatchNormalization(),\r\n",
        "                      Dense(10, activation='relu'),\r\n",
        "                      BatchNormalization(),\r\n",
        "\r\n",
        "                      Dense(10, activation = 'relu'),\r\n",
        "                      BatchNormalization(),\r\n",
        "                      Dense(1, activation='sigmoid')\r\n",
        "  ])\r\n",
        "  return model"
      ],
      "execution_count": 125,
      "outputs": []
    },
    {
      "cell_type": "code",
      "metadata": {
        "id": "hl3JXHtpU8Mf"
      },
      "source": [
        "#Set a checkpoint to save weights giving the best performance on val_accuracy \r\n",
        "checkpoint = ModelCheckpoint(\r\n",
        "    \"model-{epoch:02d}-{val_accuracy:.2f}.hdf5\", \r\n",
        "    monitor='val_accuracy', \r\n",
        "    verbose=1,\r\n",
        "    save_best_only=True,\r\n",
        "    save_weights_only=False,\r\n",
        "    mode='auto', save_freq='epoch')"
      ],
      "execution_count": 126,
      "outputs": []
    },
    {
      "cell_type": "code",
      "metadata": {
        "id": "huSEQkpOWzvs"
      },
      "source": [
        "''' Define the model and compile it\r\n",
        "'''\r\n",
        "model = make_model()\r\n",
        "model.compile(optimizer = Adam(lr = 0.001), metrics = 'accuracy', loss='binary_crossentropy')"
      ],
      "execution_count": 127,
      "outputs": []
    },
    {
      "cell_type": "markdown",
      "metadata": {
        "id": "kCMfJyfax20l"
      },
      "source": [
        "##Training it"
      ]
    },
    {
      "cell_type": "code",
      "metadata": {
        "id": "l6UwZw-6XECa"
      },
      "source": [
        "''' Training the model using x_train and y_train images and labels and doing a validation split of 30%\r\n",
        "'''\r\n",
        "\r\n",
        "val_split = 0.3\r\n",
        "\r\n",
        "history = model.fit(coefficients, labels, \r\n",
        "                    validation_split=val_split, \r\n",
        "                    epochs=100, \r\n",
        "                    batch_size=30, \r\n",
        "                    shuffle=True, \r\n",
        "                    callbacks = [checkpoint],\r\n",
        "                    verbose=1)"
      ],
      "execution_count": null,
      "outputs": []
    },
    {
      "cell_type": "code",
      "metadata": {
        "colab": {
          "base_uri": "https://localhost:8080/",
          "height": 563
        },
        "id": "g1gXhyMOaLiu",
        "outputId": "07fb5aba-5876-4441-ec5e-0970e506b19e"
      },
      "source": [
        "''' Visualize loss, val_loss, accuracy and val_accuracy obtanined during the train\r\n",
        "''' \r\n",
        "plt.figure(1)\r\n",
        "plt.plot(history.history['loss'])\r\n",
        "plt.plot(history.history['val_loss'])\r\n",
        "plt.title('Loss and val_loss')\r\n",
        "\r\n",
        "plt.figure(2)\r\n",
        "plt.plot(history.history['accuracy'])\r\n",
        "plt.plot(history.history['val_accuracy'])\r\n",
        "plt.title('Accuracy and val_accuracy')"
      ],
      "execution_count": 18,
      "outputs": [
        {
          "output_type": "execute_result",
          "data": {
            "text/plain": [
              "Text(0.5, 1.0, 'Accuracy and val_accuracy')"
            ]
          },
          "metadata": {
            "tags": []
          },
          "execution_count": 18
        },
        {
          "output_type": "display_data",
          "data": {
            "image/png": "[encoded data removed]",
            "text/plain": [
              "<Figure size 432x288 with 1 Axes>"
            ]
          },
          "metadata": {
            "tags": [],
            "needs_background": "light"
          }
        },
        {
          "output_type": "display_data",
          "data": {
            "image/png": "[encoded data removed]",
            "text/plain": [
              "<Figure size 432x288 with 1 Axes>"
            ]
          },
          "metadata": {
            "tags": [],
            "needs_background": "light"
          }
        }
      ]
    },
    {
      "cell_type": "markdown",
      "metadata": {
        "id": "r7HhrA-gx9v-"
      },
      "source": [
        "#CV Test"
      ]
    },
    {
      "cell_type": "code",
      "metadata": {
        "colab": {
          "base_uri": "https://localhost:8080/"
        },
        "id": "CEyAPDs6dUmN",
        "outputId": "31643ef0-a716-4932-f15f-a03cd67ace6e"
      },
      "source": [
        "# Define per-fold accuracy and loss arrays\r\n",
        "acc_per_fold = []\r\n",
        "loss_per_fold = []\r\n",
        "\r\n",
        "# Define the number of folds to split dataset on\r\n",
        "num_folds = 10\r\n",
        "# Defining the function KFold useful to split the dataset\r\n",
        "kfold = KFold(n_splits = num_folds, shuffle=True)\r\n",
        "\r\n",
        "batch_size = 32\r\n",
        "num_epochs = 50\r\n",
        "\r\n",
        "fold_num = 1\r\n",
        "\r\n",
        "# Define the model and compile\r\n",
        "model = make_model()\r\n",
        "model.compile(optimizer=Adam(lr = 0.001), metrics = 'accuracy', loss='binary_crossentropy')\r\n",
        "# Saving the weights before training as reset before each training\r\n",
        "model.save_weights('reset_model.h5')\r\n",
        "\r\n",
        "for train, test in kfold.split(coefficients, labels):\r\n",
        "  ''' Training the model and test it for every fold created \r\n",
        "      from the total original dataset\r\n",
        "  '''\r\n",
        "  # Reset the model loading weights of untrained model\r\n",
        "  model.load_weights('reset_model.h5')\r\n",
        "  # Fitting the model using every folder but one as training\r\n",
        "  history = model.fit(\r\n",
        "          coefficients[train], labels[train],\r\n",
        "          batch_size = batch_size,\r\n",
        "          verbose=0,\r\n",
        "          epochs = num_epochs)  \r\n",
        "  \r\n",
        "  # Evaluate the efficiency of the model\r\n",
        "  scores = model.evaluate(coefficients[test], labels[test], verbose=0)\r\n",
        "  #Printing the results of the training\r\n",
        "  print('In folder {:d}: {} of {:.4f} - {} of {:.4f}'.format(fold_num,\r\n",
        "                                                          model.metrics_names[0],scores[0],\r\n",
        "                                                          model.metrics_names[1], scores[1] ))\r\n",
        "  \r\n",
        "  '''\r\n",
        "  # Visualize loss and accuracy obtanined during the train for each fold  \r\n",
        "  plt.figure(fold_num)\r\n",
        "  plt.suptitle(f'In fold num. {fold_num}')\r\n",
        "  plt.subplot(1, 2, 1)\r\n",
        "  plt.plot(history.history['loss'])\r\n",
        "  plt.subplot(1, 2, 2)\r\n",
        "  plt.plot(history.history['accuracy'])\r\n",
        "  '''\r\n",
        "  \r\n",
        "  #Putting scores on to the corrisponding list to calculate the mean value ot them at the end\r\n",
        "  acc_per_fold.append(scores[1])\r\n",
        "  loss_per_fold.append(scores[0])\r\n",
        "  fold_num += 1\r\n",
        "\r\n",
        "#Computing and printing average scores\r\n",
        "print('Average scores for all folds:')\r\n",
        "print(f'-- Accuracy: {np.mean(acc_per_fold)} (+- {np.std(acc_per_fold)})')\r\n",
        "#Calculare loss error as maximum value error\r\n",
        "err_loss = (max(loss_per_fold)-min(loss_per_fold))/2\r\n",
        "print(f'-- Loss: {np.mean(loss_per_fold)} +/- {err_loss}')"
      ],
      "execution_count": 128,
      "outputs": [
        {
          "output_type": "stream",
          "text": [
            "In folder 1: loss of 0.9911 - accuracy of 0.7750\n",
            "In folder 2: loss of 1.3436 - accuracy of 0.6375\n",
            "In folder 3: loss of 1.1667 - accuracy of 0.7250\n",
            "In folder 4: loss of 1.2390 - accuracy of 0.6625\n",
            "In folder 5: loss of 0.9931 - accuracy of 0.7750\n",
            "In folder 6: loss of 1.0834 - accuracy of 0.6750\n",
            "In folder 7: loss of 1.3113 - accuracy of 0.6375\n",
            "In folder 8: loss of 1.2923 - accuracy of 0.6456\n",
            "In folder 9: loss of 0.8539 - accuracy of 0.7848\n",
            "In folder 10: loss of 0.8090 - accuracy of 0.7722\n",
            "Average scores for all folds:\n",
            "-- Accuracy: 0.7090031623840332 (+- 0.0602241592719829)\n",
            "-- Loss: 1.1083545863628388 +/- 0.26732131838798523\n"
          ],
          "name": "stdout"
        }
      ]
    }
  ]
}