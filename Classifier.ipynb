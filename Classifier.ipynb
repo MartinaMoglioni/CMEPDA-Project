{
  "nbformat": 4,
  "nbformat_minor": 0,
  "metadata": {
    "colab": {
      "name": "Classifier.ipynb",
      "provenance": [],
      "include_colab_link": true
    },
    "kernelspec": {
      "name": "python3",
      "display_name": "Python 3"
    }
  },
  "cells": [
    {
      "cell_type": "markdown",
      "metadata": {
        "id": "view-in-github",
        "colab_type": "text"
      },
      "source": [
        "<a href=\"https://colab.research.google.com/github/federicocampo/CNN_prova/blob/main/Classifier.ipynb\" target=\"_parent\"><img src=\"https://colab.research.google.com/assets/colab-badge.svg\" alt=\"Open In Colab\"/></a>"
      ]
    },
    {
      "cell_type": "code",
      "metadata": {
        "colab": {
          "base_uri": "https://localhost:8080/"
        },
        "id": "GrpN8XfwiOuY",
        "outputId": "7dc0e157-8f7d-4007-dd90-201a2b087caf"
      },
      "source": [
        "from google.colab import drive\r\n",
        "drive.mount('/content/gdrive')"
      ],
      "execution_count": 8,
      "outputs": [
        {
          "output_type": "stream",
          "text": [
            "Drive already mounted at /content/gdrive; to attempt to forcibly remount, call drive.mount(\"/content/gdrive\", force_remount=True).\n"
          ],
          "name": "stdout"
        }
      ]
    },
    {
      "cell_type": "code",
      "metadata": {
        "id": "dX2l9UzukeAj"
      },
      "source": [
        "from matplotlib import pyplot as plt\r\n",
        "from skimage.io import imread, imshow\r\n",
        "from skimage import img_as_float\r\n",
        "from skimage.restoration import denoise_wavelet\r\n",
        "from PIL import Image\r\n",
        "import pywt\r\n",
        "import os\r\n",
        "import glob\r\n",
        "import numpy as np\r\n",
        "import logging\r\n",
        "import time"
      ],
      "execution_count": null,
      "outputs": []
    },
    {
      "cell_type": "code",
      "metadata": {
        "id": "rCDSePVxkUmu"
      },
      "source": [
        "PATH = 'gdrive/MyDrive/IMAGES/Mammography_micro'"
      ],
      "execution_count": 9,
      "outputs": []
    },
    {
      "cell_type": "markdown",
      "metadata": {
        "id": "rvWEGyF2r8Dx"
      },
      "source": [
        "I've run the fit on original dataset just for trying"
      ]
    },
    {
      "cell_type": "code",
      "metadata": {
        "colab": {
          "base_uri": "https://localhost:8080/"
        },
        "id": "a0dZR4YppKkv",
        "outputId": "d6bc497a-b417-43a4-da82-a3970b6ecae6"
      },
      "source": [
        "import multiprocessing as mp\r\n",
        "\r\n",
        "def parallel_read_img(image_path):\r\n",
        "  fnames = glob.glob(os.path.join(image_path, '*.pgm'))\r\n",
        "\r\n",
        "  pool = mp.Pool(processes=4)\r\n",
        "  results = pool.map_async(imread, fnames)\r\n",
        "\r\n",
        "  x = results.get()\r\n",
        "  x_np = np.array(x, dtype='float32')[..., np.newaxis]/255\r\n",
        "\r\n",
        "  print('Num images found = ', x_np.shape)\r\n",
        "  return x_np\r\n",
        "\r\n",
        "\r\n",
        "start_time = time.time()\r\n",
        "\r\n",
        "labels = []\r\n",
        "\r\n",
        "image_path = os.path.join(PATH, 'Train/0')\r\n",
        "x0_train = parallel_read_img(image_path)\r\n",
        "labels += len(x0_train)*[0]\r\n",
        "\r\n",
        "image_path = os.path.join(PATH, 'Train/1')\r\n",
        "x1_train = parallel_read_img(image_path)\r\n",
        "labels += len(x1_train)*[1]\r\n",
        "\r\n",
        "x_train = np.concatenate((x0_train, x1_train), axis = 0)\r\n",
        "y_train = np.array(labels)\r\n",
        "\r\n",
        "print('x_train shape = ', x_train.shape)\r\n",
        "\r\n",
        "\r\n",
        "labels = []\r\n",
        "\r\n",
        "image_path = os.path.join(PATH, 'Test/0')\r\n",
        "x0_test = parallel_read_img(image_path)\r\n",
        "labels += len(x0_test)*[0]\r\n",
        "\r\n",
        "image_path = os.path.join(PATH, 'Test/1')\r\n",
        "x1_test = parallel_read_img(image_path)\r\n",
        "labels += len(x1_test)*[1]\r\n",
        "\r\n",
        "x_test = np.concatenate((x0_test, x1_test), axis = 0)\r\n",
        "y_test = np.array(labels)\r\n",
        "\r\n",
        "print('x_test shape = ', x_test.shape)\r\n",
        "\r\n",
        "elapsed_time = time.time() - start_time\r\n",
        "logging.info('Elapsed time = %.2f s', elapsed_time)"
      ],
      "execution_count": 10,
      "outputs": [
        {
          "output_type": "stream",
          "text": [
            "Num images found =  (209, 60, 60, 1)\n",
            "Num images found =  (187, 60, 60, 1)\n",
            "x_train shape =  (396, 60, 60, 1)\n",
            "Num images found =  (205, 60, 60, 1)\n",
            "Num images found =  (196, 60, 60, 1)\n",
            "x_test shape =  (401, 60, 60, 1)\n"
          ],
          "name": "stdout"
        }
      ]
    },
    {
      "cell_type": "code",
      "metadata": {
        "id": "Ak9GK-n-VT6O"
      },
      "source": [
        "from keras.layers import Dense, Flatten, BatchNormalization\r\n",
        "from keras.models import Sequential"
      ],
      "execution_count": null,
      "outputs": []
    },
    {
      "cell_type": "markdown",
      "metadata": {
        "id": "2VLFSje7gBMS"
      },
      "source": [
        "# Defining the model"
      ]
    },
    {
      "cell_type": "code",
      "metadata": {
        "id": "tpTziKPzeh8_"
      },
      "source": [
        "model = Sequential([\r\n",
        "    Flatten(), \r\n",
        "    Dense(102,  activation = 'relu'), \r\n",
        "    BatchNormalization(),\r\n",
        "    Dense(32, activation = 'relu'), \r\n",
        "    BatchNormalization(),\r\n",
        "\r\n",
        "    Dense(1, activation = 'sigmoid')\r\n",
        "])"
      ],
      "execution_count": null,
      "outputs": []
    },
    {
      "cell_type": "markdown",
      "metadata": {
        "id": "Bkz9ADsYgLx4"
      },
      "source": [
        "Compile and train"
      ]
    },
    {
      "cell_type": "code",
      "metadata": {
        "colab": {
          "base_uri": "https://localhost:8080/"
        },
        "id": "Ih8_BZlEgsd8",
        "outputId": "4470614b-c987-4358-bc96-262a9379ec5f"
      },
      "source": [
        "from keras.optimizers import Adam\r\n",
        "\r\n",
        "model.compile(\r\n",
        "    optimizer=Adam(learning_rate = 0.0005),\r\n",
        "    loss='binary_crossentropy',\r\n",
        "    metrics=['binary_accuracy'],\r\n",
        ")\r\n",
        "\r\n",
        "history = model.fit(\r\n",
        "    x_train, y_train,\r\n",
        "    validation_split = 0.25, \r\n",
        "    epochs=50,\r\n",
        ")"
      ],
      "execution_count": null,
      "outputs": [
        {
          "output_type": "stream",
          "text": [
            "Epoch 1/50\n",
            "10/10 [==============================] - 1s 24ms/step - loss: 0.2367 - binary_accuracy: 0.9054 - val_loss: 0.0034 - val_binary_accuracy: 1.0000\n",
            "Epoch 2/50\n",
            "10/10 [==============================] - 0s 7ms/step - loss: 0.1739 - binary_accuracy: 0.9533 - val_loss: 0.0263 - val_binary_accuracy: 0.9798\n",
            "Epoch 3/50\n",
            "10/10 [==============================] - 0s 9ms/step - loss: 0.1618 - binary_accuracy: 0.9417 - val_loss: 0.0778 - val_binary_accuracy: 0.9596\n",
            "Epoch 4/50\n",
            "10/10 [==============================] - 0s 28ms/step - loss: 0.1356 - binary_accuracy: 0.9575 - val_loss: 0.1241 - val_binary_accuracy: 0.9394\n",
            "Epoch 5/50\n",
            "10/10 [==============================] - 0s 7ms/step - loss: 0.0958 - binary_accuracy: 0.9839 - val_loss: 0.1297 - val_binary_accuracy: 0.9293\n",
            "Epoch 6/50\n",
            "10/10 [==============================] - 0s 8ms/step - loss: 0.2097 - binary_accuracy: 0.9052 - val_loss: 0.5097 - val_binary_accuracy: 0.7879\n",
            "Epoch 7/50\n",
            "10/10 [==============================] - 0s 8ms/step - loss: 0.1351 - binary_accuracy: 0.9626 - val_loss: 0.5545 - val_binary_accuracy: 0.7879\n",
            "Epoch 8/50\n",
            "10/10 [==============================] - 0s 8ms/step - loss: 0.1830 - binary_accuracy: 0.9367 - val_loss: 0.4781 - val_binary_accuracy: 0.7980\n",
            "Epoch 9/50\n",
            "10/10 [==============================] - 0s 8ms/step - loss: 0.1592 - binary_accuracy: 0.9464 - val_loss: 0.7358 - val_binary_accuracy: 0.6970\n",
            "Epoch 10/50\n",
            "10/10 [==============================] - 0s 8ms/step - loss: 0.1706 - binary_accuracy: 0.9357 - val_loss: 0.8007 - val_binary_accuracy: 0.6667\n",
            "Epoch 11/50\n",
            "10/10 [==============================] - 0s 8ms/step - loss: 0.1728 - binary_accuracy: 0.9280 - val_loss: 0.8630 - val_binary_accuracy: 0.6162\n",
            "Epoch 12/50\n",
            "10/10 [==============================] - 0s 8ms/step - loss: 0.1165 - binary_accuracy: 0.9675 - val_loss: 0.5728 - val_binary_accuracy: 0.7374\n",
            "Epoch 13/50\n",
            "10/10 [==============================] - 0s 8ms/step - loss: 0.0869 - binary_accuracy: 0.9804 - val_loss: 0.9963 - val_binary_accuracy: 0.6263\n",
            "Epoch 14/50\n",
            "10/10 [==============================] - 0s 8ms/step - loss: 0.0817 - binary_accuracy: 0.9866 - val_loss: 0.6598 - val_binary_accuracy: 0.7273\n",
            "Epoch 15/50\n",
            "10/10 [==============================] - 0s 8ms/step - loss: 0.0851 - binary_accuracy: 0.9825 - val_loss: 1.1681 - val_binary_accuracy: 0.5556\n",
            "Epoch 16/50\n",
            "10/10 [==============================] - 0s 8ms/step - loss: 0.0875 - binary_accuracy: 0.9762 - val_loss: 2.4544 - val_binary_accuracy: 0.0707\n",
            "Epoch 17/50\n",
            "10/10 [==============================] - 0s 7ms/step - loss: 0.1714 - binary_accuracy: 0.9271 - val_loss: 0.6096 - val_binary_accuracy: 0.7374\n",
            "Epoch 18/50\n",
            "10/10 [==============================] - 0s 8ms/step - loss: 0.0856 - binary_accuracy: 0.9762 - val_loss: 0.5898 - val_binary_accuracy: 0.7677\n",
            "Epoch 19/50\n",
            "10/10 [==============================] - 0s 8ms/step - loss: 0.0978 - binary_accuracy: 0.9738 - val_loss: 1.0479 - val_binary_accuracy: 0.5960\n",
            "Epoch 20/50\n",
            "10/10 [==============================] - 0s 8ms/step - loss: 0.0952 - binary_accuracy: 0.9724 - val_loss: 1.4547 - val_binary_accuracy: 0.3535\n",
            "Epoch 21/50\n",
            "10/10 [==============================] - 0s 7ms/step - loss: 0.0590 - binary_accuracy: 1.0000 - val_loss: 1.4810 - val_binary_accuracy: 0.3636\n",
            "Epoch 22/50\n",
            "10/10 [==============================] - 0s 8ms/step - loss: 0.0628 - binary_accuracy: 0.9947 - val_loss: 0.8994 - val_binary_accuracy: 0.6566\n",
            "Epoch 23/50\n",
            "10/10 [==============================] - 0s 8ms/step - loss: 0.0636 - binary_accuracy: 0.9940 - val_loss: 0.9621 - val_binary_accuracy: 0.5859\n",
            "Epoch 24/50\n",
            "10/10 [==============================] - 0s 8ms/step - loss: 0.0540 - binary_accuracy: 0.9938 - val_loss: 2.0587 - val_binary_accuracy: 0.0909\n",
            "Epoch 25/50\n",
            "10/10 [==============================] - 0s 8ms/step - loss: 0.0728 - binary_accuracy: 0.9896 - val_loss: 0.1619 - val_binary_accuracy: 0.9293\n",
            "Epoch 26/50\n",
            "10/10 [==============================] - 0s 9ms/step - loss: 0.0815 - binary_accuracy: 0.9791 - val_loss: 0.0380 - val_binary_accuracy: 0.9899\n",
            "Epoch 27/50\n",
            "10/10 [==============================] - 0s 8ms/step - loss: 0.0786 - binary_accuracy: 0.9924 - val_loss: 0.0271 - val_binary_accuracy: 0.9899\n",
            "Epoch 28/50\n",
            "10/10 [==============================] - 0s 8ms/step - loss: 0.0829 - binary_accuracy: 0.9793 - val_loss: 0.0242 - val_binary_accuracy: 0.9899\n",
            "Epoch 29/50\n",
            "10/10 [==============================] - 0s 8ms/step - loss: 0.0574 - binary_accuracy: 0.9977 - val_loss: 0.0365 - val_binary_accuracy: 0.9899\n",
            "Epoch 30/50\n",
            "10/10 [==============================] - 0s 7ms/step - loss: 0.0660 - binary_accuracy: 0.9916 - val_loss: 0.0575 - val_binary_accuracy: 0.9596\n",
            "Epoch 31/50\n",
            "10/10 [==============================] - 0s 7ms/step - loss: 0.0775 - binary_accuracy: 0.9842 - val_loss: 0.0250 - val_binary_accuracy: 1.0000\n",
            "Epoch 32/50\n",
            "10/10 [==============================] - 0s 8ms/step - loss: 0.0478 - binary_accuracy: 0.9956 - val_loss: 0.0102 - val_binary_accuracy: 1.0000\n",
            "Epoch 33/50\n",
            "10/10 [==============================] - 0s 8ms/step - loss: 0.0629 - binary_accuracy: 0.9957 - val_loss: 0.0072 - val_binary_accuracy: 1.0000\n",
            "Epoch 34/50\n",
            "10/10 [==============================] - 0s 7ms/step - loss: 0.0806 - binary_accuracy: 0.9857 - val_loss: 0.0053 - val_binary_accuracy: 1.0000\n",
            "Epoch 35/50\n",
            "10/10 [==============================] - 0s 7ms/step - loss: 0.0583 - binary_accuracy: 0.9922 - val_loss: 0.0112 - val_binary_accuracy: 1.0000\n",
            "Epoch 36/50\n",
            "10/10 [==============================] - 0s 7ms/step - loss: 0.0470 - binary_accuracy: 0.9942 - val_loss: 0.0298 - val_binary_accuracy: 0.9899\n",
            "Epoch 37/50\n",
            "10/10 [==============================] - 0s 8ms/step - loss: 0.0500 - binary_accuracy: 0.9892 - val_loss: 0.0020 - val_binary_accuracy: 1.0000\n",
            "Epoch 38/50\n",
            "10/10 [==============================] - 0s 8ms/step - loss: 0.0491 - binary_accuracy: 0.9941 - val_loss: 8.1392e-04 - val_binary_accuracy: 1.0000\n",
            "Epoch 39/50\n",
            "10/10 [==============================] - 0s 8ms/step - loss: 0.0483 - binary_accuracy: 0.9925 - val_loss: 0.0073 - val_binary_accuracy: 1.0000\n",
            "Epoch 40/50\n",
            "10/10 [==============================] - 0s 7ms/step - loss: 0.0471 - binary_accuracy: 0.9994 - val_loss: 0.0526 - val_binary_accuracy: 0.9697\n",
            "Epoch 41/50\n",
            "10/10 [==============================] - 0s 7ms/step - loss: 0.0498 - binary_accuracy: 0.9923 - val_loss: 0.1911 - val_binary_accuracy: 0.8990\n",
            "Epoch 42/50\n",
            "10/10 [==============================] - 0s 8ms/step - loss: 0.0514 - binary_accuracy: 0.9937 - val_loss: 0.0144 - val_binary_accuracy: 1.0000\n",
            "Epoch 43/50\n",
            "10/10 [==============================] - 0s 8ms/step - loss: 0.0863 - binary_accuracy: 0.9830 - val_loss: 0.3388 - val_binary_accuracy: 0.8283\n",
            "Epoch 44/50\n",
            "10/10 [==============================] - 0s 9ms/step - loss: 0.0620 - binary_accuracy: 0.9849 - val_loss: 3.2443e-07 - val_binary_accuracy: 1.0000\n",
            "Epoch 45/50\n",
            "10/10 [==============================] - 0s 8ms/step - loss: 0.0819 - binary_accuracy: 0.9726 - val_loss: 4.7948e-13 - val_binary_accuracy: 1.0000\n",
            "Epoch 46/50\n",
            "10/10 [==============================] - 0s 8ms/step - loss: 0.0585 - binary_accuracy: 0.9910 - val_loss: 2.3826e-10 - val_binary_accuracy: 1.0000\n",
            "Epoch 47/50\n",
            "10/10 [==============================] - 0s 8ms/step - loss: 0.0735 - binary_accuracy: 0.9837 - val_loss: 2.5546e-07 - val_binary_accuracy: 1.0000\n",
            "Epoch 48/50\n",
            "10/10 [==============================] - 0s 8ms/step - loss: 0.0591 - binary_accuracy: 0.9843 - val_loss: 0.0012 - val_binary_accuracy: 1.0000\n",
            "Epoch 49/50\n",
            "10/10 [==============================] - 0s 8ms/step - loss: 0.0563 - binary_accuracy: 0.9861 - val_loss: 1.3206e-04 - val_binary_accuracy: 1.0000\n",
            "Epoch 50/50\n",
            "10/10 [==============================] - 0s 8ms/step - loss: 0.0494 - binary_accuracy: 0.9873 - val_loss: 1.6478e-04 - val_binary_accuracy: 1.0000\n"
          ],
          "name": "stdout"
        }
      ]
    },
    {
      "cell_type": "code",
      "metadata": {
        "colab": {
          "base_uri": "https://localhost:8080/",
          "height": 513
        },
        "id": "3KIvJc_nkFqR",
        "outputId": "6cf8c40a-fd72-49ff-fe01-c79b38e80036"
      },
      "source": [
        "plt.plot(history.history['loss'])\r\n",
        "plt.plot(history.history['val_loss'])\r\n",
        "plt.show()\r\n",
        "\r\n",
        "plt.plot(history.history['binary_accuracy'])\r\n",
        "plt.plot(history.history['val_binary_accuracy'])\r\n",
        "plt.show()"
      ],
      "execution_count": null,
      "outputs": [
        {
          "output_type": "display_data",
          "data": {
            "image/png": "[encoded data removed]",
            "text/plain": [
              "<Figure size 432x288 with 1 Axes>"
            ]
          },
          "metadata": {
            "tags": [],
            "needs_background": "light"
          }
        },
        {
          "output_type": "display_data",
          "data": {
            "image/png": "[encoded data removed]",
            "text/plain": [
              "<Figure size 432x288 with 1 Axes>"
            ]
          },
          "metadata": {
            "tags": [],
            "needs_background": "light"
          }
        }
      ]
    },
    {
      "cell_type": "code",
      "metadata": {
        "id": "xKhLAXjirv3C"
      },
      "source": [
        ""
      ],
      "execution_count": null,
      "outputs": []
    }
  ]
}