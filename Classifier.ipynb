{
  "nbformat": 4,
  "nbformat_minor": 0,
  "metadata": {
    "colab": {
      "name": "Classifier.ipynb",
      "provenance": [],
      "include_colab_link": true
    },
    "kernelspec": {
      "name": "python3",
      "display_name": "Python 3"
    }
  },
  "cells": [
    {
      "cell_type": "markdown",
      "metadata": {
        "id": "view-in-github",
        "colab_type": "text"
      },
      "source": [
        "<a href=\"https://colab.research.google.com/github/federicocampo/CNN_prova/blob/main/Classifier.ipynb\" target=\"_parent\"><img src=\"https://colab.research.google.com/assets/colab-badge.svg\" alt=\"Open In Colab\"/></a>"
      ]
    },
    {
      "cell_type": "code",
      "metadata": {
        "colab": {
          "base_uri": "https://localhost:8080/"
        },
        "id": "GrpN8XfwiOuY",
        "outputId": "66f99c94-dd65-4ca6-cbfa-da5a07434e3f"
      },
      "source": [
        "from google.colab import drive\r\n",
        "drive.mount('/content/gdrive')"
      ],
      "execution_count": 2,
      "outputs": [
        {
          "output_type": "stream",
          "text": [
            "Mounted at /content/gdrive\n"
          ],
          "name": "stdout"
        }
      ]
    },
    {
      "cell_type": "code",
      "metadata": {
        "id": "dX2l9UzukeAj"
      },
      "source": [
        "from matplotlib import pyplot as plt\r\n",
        "from skimage.io import imread, imshow\r\n",
        "from skimage import img_as_float\r\n",
        "from skimage.restoration import denoise_wavelet\r\n",
        "from PIL import Image\r\n",
        "import pywt\r\n",
        "import os\r\n",
        "import glob\r\n",
        "import numpy as np\r\n",
        "import logging\r\n",
        "import time"
      ],
      "execution_count": 3,
      "outputs": []
    },
    {
      "cell_type": "code",
      "metadata": {
        "id": "rCDSePVxkUmu"
      },
      "source": [
        "PATH = 'gdrive/MyDrive/IMAGES/Mammography_micro'"
      ],
      "execution_count": 6,
      "outputs": []
    },
    {
      "cell_type": "code",
      "metadata": {
        "id": "WyZg3ss77rS5"
      },
      "source": [
        "def twolvldenoiseddwt(myim, wavelet):\r\n",
        "    \"\"\" This function decompose the original image with a Discrete Wavelet Transformation\r\n",
        "        using the desired wavelet family up to the third level. It keeps all the details\r\n",
        "        coefficient and mask the resulted approximated image in order to enhance the\r\n",
        "        visibility of all the details.\r\n",
        "    \"\"\"\r\n",
        "    myim = img_as_float(myim)\r\n",
        "    myim_denoised = denoise_wavelet(myim, method='BayesShrink', mode='soft', rescale_sigma='True')\r\n",
        "\r\n",
        "    level = 2\r\n",
        "    # mode = 'periodization' \r\n",
        "\r\n",
        "    # Here I get my approximated image and the relative coefficients\r\n",
        "    cA, (cH2, cV2, cD2), (cH1, cV1, cD1) = pywt.wavedec2(myim_denoised, wavelet, level=level)\r\n",
        "\r\n",
        "    \"\"\" Now, I get the standard deviation for each matrix (image and coefficients).\r\n",
        "        The std will act as a treshold so that if abs(value) < 0. --> value = 0.\r\n",
        "                                             elif abs(value) > 0. --> value = value\r\n",
        "    \"\"\" \r\n",
        "    mult_val = 1.\r\n",
        "\r\n",
        "    ncA = np.zeros_like(cA)\r\n",
        "\r\n",
        "    std10 = np.std(cH1)*mult_val\r\n",
        "    std11 = np.std(cV1)*mult_val\r\n",
        "    std12 = np.std(cD1)*mult_val\r\n",
        "\r\n",
        "    ncH1 = pywt.threshold(cH1, std10, mode = 'hard', substitute = 0.)\r\n",
        "    ncV1 = pywt.threshold(cV1, std11, mode = 'hard', substitute = 0.)\r\n",
        "    ncD1 = pywt.threshold(cD1, std12, mode = 'hard', substitute = 0.)\r\n",
        "\r\n",
        "    std20 = np.std(cH2)*mult_val\r\n",
        "    std21 = np.std(cV2)*mult_val\r\n",
        "    std22 = np.std(cD2)*mult_val\r\n",
        "\r\n",
        "    ncH2 = pywt.threshold(cH2, std20, mode = 'hard', substitute = 0.)\r\n",
        "    ncV2 = pywt.threshold(cV2, std21, mode = 'hard', substitute = 0.)\r\n",
        "    ncD2 = pywt.threshold(cD2, std22, mode = 'hard', substitute = 0.)\r\n",
        "\r\n",
        "    \"\"\" To let things be more readable I define new_coeff,\r\n",
        "        this is just so that waverec2 (the function needed to reconstruct\r\n",
        "        the image from a set of given coefficient) can do what it does.\r\n",
        "    \"\"\"\r\n",
        "\r\n",
        "    new_coeff = ncA, (ncH2, ncV2, ncD2), (ncH1, ncV1, ncD1) \r\n",
        "\r\n",
        "    mynewim = pywt.waverec2(new_coeff, wavelet)\r\n",
        "    mynewim = pywt.threshold(mynewim, 0., mode = 'greater', substitute = 0.)\r\n",
        "\r\n",
        "    return mynewim"
      ],
      "execution_count": 96,
      "outputs": []
    },
    {
      "cell_type": "code",
      "metadata": {
        "id": "7AXUMqyylcqL"
      },
      "source": [
        "def threelvldenoiseddwt(myim, wavelet):\r\n",
        "    \"\"\" This function decompose the original image with a Discrete Wavelet Transformation\r\n",
        "        using the desired wavelet family up to the third level. It keeps all the details\r\n",
        "        coefficient and mask the resulted approximated image in order to enhance the\r\n",
        "        visibility of all the details.\r\n",
        "    \"\"\"\r\n",
        "    myim = img_as_float(myim)\r\n",
        "    myim_denoised = denoise_wavelet(myim, method='BayesShrink', mode='soft', rescale_sigma='True')\r\n",
        "\r\n",
        "    level = 3\r\n",
        "    # mode = 'periodization' \r\n",
        "\r\n",
        "    # Here I get my approximated image and the relative coefficients\r\n",
        "    cA, (cH3, cV3, cD3), (cH2, cV2, cD2), (cH1, cV1, cD1) = pywt.wavedec2(myim_denoised, wavelet, level=level)\r\n",
        "\r\n",
        "    \"\"\" Now, I get the standard deviation for each matrix (image and coefficients).\r\n",
        "        The std will act as a treshold so that if abs(value) < 0. --> value = 0.\r\n",
        "                                             elif abs(value) > 0. --> value = value\r\n",
        "    \"\"\" \r\n",
        "    mult_val = 1.\r\n",
        "\r\n",
        "    ncA = np.zeros_like(cA)\r\n",
        "\r\n",
        "    std10 = np.std(cH1)*mult_val\r\n",
        "    std11 = np.std(cV1)*mult_val\r\n",
        "    std12 = np.std(cD1)*mult_val\r\n",
        "\r\n",
        "    ncH1 = pywt.threshold(cH1, std10, mode = 'hard', substitute = 0.)\r\n",
        "    ncV1 = pywt.threshold(cV1, std11, mode = 'hard', substitute = 0.)\r\n",
        "    ncD1 = pywt.threshold(cD1, std12, mode = 'hard', substitute = 0.)\r\n",
        "\r\n",
        "    std20 = np.std(cH2)*mult_val\r\n",
        "    std21 = np.std(cV2)*mult_val\r\n",
        "    std22 = np.std(cD2)*mult_val\r\n",
        "\r\n",
        "    ncH2 = pywt.threshold(cH2, std20, mode = 'hard', substitute = 0.)\r\n",
        "    ncV2 = pywt.threshold(cV2, std21, mode = 'hard', substitute = 0.)\r\n",
        "    ncD2 = pywt.threshold(cD2, std22, mode = 'hard', substitute = 0.)\r\n",
        "    \r\n",
        "    std30 = np.std(cH3)*mult_val\r\n",
        "    std31 = np.std(cV3)*mult_val\r\n",
        "    std32 = np.std(cD3)*mult_val\r\n",
        "\r\n",
        "    ncH3 = pywt.threshold(cH3, std30, mode = 'hard', substitute = 0.)\r\n",
        "    ncV3 = pywt.threshold(cV3, std31, mode = 'hard', substitute = 0.)\r\n",
        "    ncD3 = pywt.threshold(cD3, std32, mode = 'hard', substitute = 0.)\r\n",
        "\r\n",
        "    \"\"\" To let things be more readable I define new_coeff,\r\n",
        "        this is just so that waverec2 (the function needed to reconstruct\r\n",
        "        the image from a set of given coefficient) can do what it does.\r\n",
        "    \"\"\"\r\n",
        "\r\n",
        "    new_coeff = ncA, (ncH3, ncV3, ncD3), (ncH2, ncV2, ncD2), (ncH1, ncV1, ncD1) \r\n",
        "\r\n",
        "    mynewim = pywt.waverec2(new_coeff, wavelet)\r\n",
        "    mynewim = pywt.threshold(mynewim, 0., mode = 'greater', substitute = 0.)\r\n",
        "\r\n",
        "    return mynewim"
      ],
      "execution_count": 4,
      "outputs": []
    },
    {
      "cell_type": "markdown",
      "metadata": {
        "id": "rvWEGyF2r8Dx"
      },
      "source": [
        "I've run the fit on original dataset just for trying"
      ]
    },
    {
      "cell_type": "code",
      "metadata": {
        "colab": {
          "base_uri": "https://localhost:8080/"
        },
        "id": "McKFOONMxZJL",
        "outputId": "30a8f4ac-3ff1-4568-ac69-360f5c713a4a"
      },
      "source": [
        "import multiprocessing as mp\r\n",
        "\r\n",
        "def parallel_open_img(image_path):\r\n",
        "  fnames = glob.glob(os.path.join(image_path, '*.pgm'))\r\n",
        "\r\n",
        "  pool = mp.Pool(processes=4)\r\n",
        "  images_mp = pool.map_async(Image.open, fnames)\r\n",
        "\r\n",
        "  images = images_mp.get()\r\n",
        "\r\n",
        "  print(f'Number of images found = {len(images)}')\r\n",
        "  return images\r\n",
        "\r\n",
        "start_time = time.time()\r\n",
        "\r\n",
        "labels = []\r\n",
        "\r\n",
        "image_path = os.path.join(PATH, 'Train/0')\r\n",
        "print('Reading Train Images with label 0:')\r\n",
        "images_0_train = parallel_open_img(image_path)\r\n",
        "\r\n",
        "processed_images_0_train = []\r\n",
        "for i, image in enumerate(images_0_train):\r\n",
        "  processedimage = threelvldenoiseddwt(image, 'sym2')\r\n",
        "  processed_images_0_train.append(processedimage)\r\n",
        "\r\n",
        "processed_images_0_train = np.array(processed_images_0_train, dtype='float32')[..., np.newaxis]/255\r\n",
        "labels += len(processed_images_0_train)*[0]\r\n",
        "print(f'Number of images processed = {len(processed_images_0_train)}')\r\n",
        "\r\n",
        "image_path = os.path.join(PATH, 'Train/1')\r\n",
        "print('\\nReading Train Images with label 1:')\r\n",
        "images_1_train = parallel_open_img(image_path)\r\n",
        "\r\n",
        "processed_images_1_train = []\r\n",
        "for i, image in enumerate(images_1_train):\r\n",
        "  processedimage = threelvldenoiseddwt(image, 'sym2')\r\n",
        "  processed_images_1_train.append(processedimage)\r\n",
        "\r\n",
        "processed_images_1_train = np.array(processed_images_1_train, dtype='float32')[..., np.newaxis]/255\r\n",
        "labels += len(processed_images_1_train)*[1]\r\n",
        "print(f'Number of images processed = {len(processed_images_1_train)}')\r\n",
        "\r\n",
        "x_train_processed = np.concatenate((processed_images_0_train, processed_images_1_train), axis = 0)\r\n",
        "y_train_processed = np.array(labels)\r\n",
        "\r\n",
        "print(f'\\nx_train_processed shape = {x_train_processed.shape} <-- (number of images, width, height)\\n')\r\n",
        "\r\n",
        "\r\n",
        "\r\n",
        "labels = []\r\n",
        "\r\n",
        "image_path = os.path.join(PATH, 'Test/0')\r\n",
        "print('Reading Test Images with label 0:')\r\n",
        "images_0_test = parallel_open_img(image_path)\r\n",
        "\r\n",
        "processed_images_0_test = []\r\n",
        "for i, image in enumerate(images_0_test):\r\n",
        "  processedimage = threelvldenoiseddwt(image, 'sym2')\r\n",
        "  processed_images_0_test.append(processedimage)\r\n",
        "\r\n",
        "processed_images_0_test = np.array(processed_images_0_test, dtype='float32')[..., np.newaxis]/255\r\n",
        "labels += len(processed_images_0_test)*[0]\r\n",
        "print(f'Number of images processed = {len(processed_images_0_test)}')\r\n",
        "\r\n",
        "image_path = os.path.join(PATH, 'Test/1')\r\n",
        "print('\\nReading Test Images with label 1:')\r\n",
        "images_1_test = parallel_open_img(image_path)\r\n",
        "\r\n",
        "processed_images_1_test = []\r\n",
        "for i, image in enumerate(images_1_test):\r\n",
        "  processedimage = threelvldenoiseddwt(image, 'sym2')\r\n",
        "  processed_images_1_test.append(processedimage)\r\n",
        "\r\n",
        "processed_images_1_test = np.array(processed_images_1_test, dtype='float32')[..., np.newaxis]/255\r\n",
        "labels += len(processed_images_1_test)*[1]\r\n",
        "print(f'Number of images processed = {len(processed_images_1_test)}')\r\n",
        "\r\n",
        "x_test_processed = np.concatenate((processed_images_0_test, processed_images_1_test), axis = 0)\r\n",
        "y_test_processed = np.array(labels)\r\n",
        "\r\n",
        "print(f'\\nx_test_processed shape = {x_test_processed.shape} <-- (number of images, width, height)\\n')"
      ],
      "execution_count": 15,
      "outputs": [
        {
          "output_type": "stream",
          "text": [
            "Reading Train Images with label 0:\n",
            "Number of images found = 209\n",
            "Number of images processed = 209\n",
            "\n",
            "Reading Train Images with label 1:\n",
            "Number of images found = 187\n",
            "Number of images processed = 187\n",
            "\n",
            "x_train_processed shape = (396, 60, 60, 1) <-- (number of images, width, height)\n",
            "\n",
            "Reading Test Images with label 0:\n",
            "Number of images found = 205\n",
            "Number of images processed = 205\n",
            "\n",
            "Reading Test Images with label 1:\n",
            "Number of images found = 196\n",
            "Number of images processed = 196\n",
            "\n",
            "x_test_processed shape = (401, 60, 60, 1) <-- (number of images, width, height)\n",
            "\n"
          ],
          "name": "stdout"
        }
      ]
    },
    {
      "cell_type": "code",
      "metadata": {
        "colab": {
          "base_uri": "https://localhost:8080/"
        },
        "id": "a0dZR4YppKkv",
        "outputId": "ee702389-dceb-4b44-921e-10572101eb87"
      },
      "source": [
        "import multiprocessing as mp\r\n",
        "\r\n",
        "def parallel_read_img(image_path):\r\n",
        "  fnames = glob.glob(os.path.join(image_path, '*.pgm'))\r\n",
        "\r\n",
        "  pool = mp.Pool(processes=4)\r\n",
        "  results = pool.map_async(imread, fnames)\r\n",
        "\r\n",
        "  x = results.get()\r\n",
        "  x_np = np.array(x, dtype='float32')[..., np.newaxis]/255\r\n",
        "\r\n",
        "  print(f'Number of images found = {len(x_np)}')\r\n",
        "  return x_np\r\n",
        "\r\n",
        "\r\n",
        "start_time = time.time()\r\n",
        "\r\n",
        "labels = []\r\n",
        "\r\n",
        "image_path = os.path.join(PATH, 'Train/0')\r\n",
        "print('Reading Train Images with label 0:')\r\n",
        "x0_train = parallel_read_img(image_path)\r\n",
        "labels += len(x0_train)*[0]\r\n",
        "\r\n",
        "image_path = os.path.join(PATH, 'Train/1')\r\n",
        "print('\\nReading Train Images with label 1:')\r\n",
        "x1_train = parallel_read_img(image_path)\r\n",
        "labels += len(x1_train)*[1]\r\n",
        "\r\n",
        "x_train = np.concatenate((x0_train, x1_train), axis = 0)\r\n",
        "y_train = np.array(labels)\r\n",
        "\r\n",
        "print(f'\\nx_train shape = {x_train.shape} <-- (number of images, width, height, depth)\\n')\r\n",
        "\r\n",
        "\r\n",
        "labels = []\r\n",
        "\r\n",
        "image_path = os.path.join(PATH, 'Test/0')\r\n",
        "print('\\nReading Test Images with label 0:')\r\n",
        "x0_test = parallel_read_img(image_path)\r\n",
        "labels += len(x0_test)*[0]\r\n",
        "\r\n",
        "image_path = os.path.join(PATH, 'Test/1')\r\n",
        "print('\\nReading Test Images with label 1:')\r\n",
        "x1_test = parallel_read_img(image_path)\r\n",
        "labels += len(x1_test)*[1]\r\n",
        "\r\n",
        "x_test = np.concatenate((x0_test, x1_test), axis = 0)\r\n",
        "y_test = np.array(labels)\r\n",
        "\r\n",
        "print(f'\\nx_test shape = {x_test.shape} <-- (number of images, width, height, depth)')\r\n",
        "\r\n",
        "elapsed_time = time.time() - start_time\r\n",
        "logging.info(f'Elapsed time = {elapsed_time} seconds')"
      ],
      "execution_count": 10,
      "outputs": [
        {
          "output_type": "stream",
          "text": [
            "Reading Train Images with label 0:\n",
            "Number of images found = 209\n",
            "\n",
            "Reading Train Images with label 1:\n",
            "Number of images found = 187\n",
            "\n",
            "x_train shape = (396, 60, 60, 1) <-- (number of images, width, height, depth)\n",
            "\n",
            "\n",
            "Reading Test Images with label 0:\n",
            "Number of images found = 205\n",
            "\n",
            "Reading Test Images with label 1:\n",
            "Number of images found = 196\n",
            "\n",
            "x_test shape = (401, 60, 60, 1) <-- (number of images, width, height, depth)\n"
          ],
          "name": "stdout"
        }
      ]
    },
    {
      "cell_type": "code",
      "metadata": {
        "id": "Ak9GK-n-VT6O"
      },
      "source": [
        "from keras.layers import Dense, Flatten, BatchNormalization\r\n",
        "from keras.models import Sequential"
      ],
      "execution_count": 11,
      "outputs": []
    },
    {
      "cell_type": "markdown",
      "metadata": {
        "id": "2VLFSje7gBMS"
      },
      "source": [
        "# Defining the model"
      ]
    },
    {
      "cell_type": "code",
      "metadata": {
        "id": "tpTziKPzeh8_"
      },
      "source": [
        "model = Sequential([\r\n",
        "    Flatten(), \r\n",
        "    Dense(102,  activation = 'relu'), \r\n",
        "    BatchNormalization(),\r\n",
        "    Dense(32, activation = 'relu'), \r\n",
        "    BatchNormalization(),\r\n",
        "\r\n",
        "    Dense(1, activation = 'sigmoid')\r\n",
        "])"
      ],
      "execution_count": 12,
      "outputs": []
    },
    {
      "cell_type": "markdown",
      "metadata": {
        "id": "Bkz9ADsYgLx4"
      },
      "source": [
        "Compile and train"
      ]
    },
    {
      "cell_type": "code",
      "metadata": {
        "colab": {
          "base_uri": "https://localhost:8080/"
        },
        "id": "Ih8_BZlEgsd8",
        "outputId": "188f7bad-f6b2-4b6d-8af3-42e6beee9b37"
      },
      "source": [
        "from keras.optimizers import Adam\r\n",
        "\r\n",
        "model.compile(\r\n",
        "    optimizer=Adam(learning_rate = 0.0005),\r\n",
        "    loss='binary_crossentropy',\r\n",
        "    metrics=['binary_accuracy'],\r\n",
        ")\r\n",
        "\r\n",
        "history = model.fit(\r\n",
        "    x_train, y_train,\r\n",
        "    validation_split = 0.25, \r\n",
        "    epochs=50,\r\n",
        ")"
      ],
      "execution_count": 13,
      "outputs": [
        {
          "output_type": "stream",
          "text": [
            "Epoch 1/50\n",
            "10/10 [==============================] - 2s 53ms/step - loss: 0.7016 - binary_accuracy: 0.6339 - val_loss: 0.1202 - val_binary_accuracy: 1.0000\n",
            "Epoch 2/50\n",
            "10/10 [==============================] - 0s 9ms/step - loss: 0.6481 - binary_accuracy: 0.6197 - val_loss: 0.1766 - val_binary_accuracy: 1.0000\n",
            "Epoch 3/50\n",
            "10/10 [==============================] - 0s 10ms/step - loss: 0.6011 - binary_accuracy: 0.6532 - val_loss: 0.1687 - val_binary_accuracy: 1.0000\n",
            "Epoch 4/50\n",
            "10/10 [==============================] - 0s 9ms/step - loss: 0.5147 - binary_accuracy: 0.6888 - val_loss: 0.1512 - val_binary_accuracy: 1.0000\n",
            "Epoch 5/50\n",
            "10/10 [==============================] - 0s 10ms/step - loss: 0.5371 - binary_accuracy: 0.6823 - val_loss: 0.1707 - val_binary_accuracy: 1.0000\n",
            "Epoch 6/50\n",
            "10/10 [==============================] - 0s 10ms/step - loss: 0.4864 - binary_accuracy: 0.7446 - val_loss: 0.2330 - val_binary_accuracy: 1.0000\n",
            "Epoch 7/50\n",
            "10/10 [==============================] - 0s 11ms/step - loss: 0.4205 - binary_accuracy: 0.7933 - val_loss: 0.3528 - val_binary_accuracy: 0.9495\n",
            "Epoch 8/50\n",
            "10/10 [==============================] - 0s 9ms/step - loss: 0.3826 - binary_accuracy: 0.8111 - val_loss: 0.4190 - val_binary_accuracy: 0.8687\n",
            "Epoch 9/50\n",
            "10/10 [==============================] - 0s 9ms/step - loss: 0.4361 - binary_accuracy: 0.8094 - val_loss: 0.3356 - val_binary_accuracy: 0.9495\n",
            "Epoch 10/50\n",
            "10/10 [==============================] - 0s 11ms/step - loss: 0.3876 - binary_accuracy: 0.8213 - val_loss: 0.8689 - val_binary_accuracy: 0.2020\n",
            "Epoch 11/50\n",
            "10/10 [==============================] - 0s 9ms/step - loss: 0.4349 - binary_accuracy: 0.8310 - val_loss: 0.2000 - val_binary_accuracy: 1.0000\n",
            "Epoch 12/50\n",
            "10/10 [==============================] - 0s 10ms/step - loss: 0.4127 - binary_accuracy: 0.8493 - val_loss: 0.3778 - val_binary_accuracy: 0.8990\n",
            "Epoch 13/50\n",
            "10/10 [==============================] - 0s 10ms/step - loss: 0.3668 - binary_accuracy: 0.8748 - val_loss: 0.3472 - val_binary_accuracy: 0.9495\n",
            "Epoch 14/50\n",
            "10/10 [==============================] - 0s 12ms/step - loss: 0.3221 - binary_accuracy: 0.9083 - val_loss: 1.0064 - val_binary_accuracy: 0.0707\n",
            "Epoch 15/50\n",
            "10/10 [==============================] - 0s 10ms/step - loss: 0.3247 - binary_accuracy: 0.9019 - val_loss: 2.2654 - val_binary_accuracy: 0.0000e+00\n",
            "Epoch 16/50\n",
            "10/10 [==============================] - 0s 10ms/step - loss: 0.3458 - binary_accuracy: 0.8657 - val_loss: 4.6740 - val_binary_accuracy: 0.0000e+00\n",
            "Epoch 17/50\n",
            "10/10 [==============================] - 0s 11ms/step - loss: 0.3250 - binary_accuracy: 0.8954 - val_loss: 4.6055 - val_binary_accuracy: 0.0000e+00\n",
            "Epoch 18/50\n",
            "10/10 [==============================] - 0s 9ms/step - loss: 0.3000 - binary_accuracy: 0.9366 - val_loss: 5.1121 - val_binary_accuracy: 0.0000e+00\n",
            "Epoch 19/50\n",
            "10/10 [==============================] - 0s 9ms/step - loss: 0.3002 - binary_accuracy: 0.8994 - val_loss: 2.5643 - val_binary_accuracy: 0.0000e+00\n",
            "Epoch 20/50\n",
            "10/10 [==============================] - 0s 9ms/step - loss: 0.2705 - binary_accuracy: 0.9366 - val_loss: 1.3903 - val_binary_accuracy: 0.0000e+00\n",
            "Epoch 21/50\n",
            "10/10 [==============================] - 0s 9ms/step - loss: 0.2226 - binary_accuracy: 0.9363 - val_loss: 1.5996 - val_binary_accuracy: 0.0000e+00\n",
            "Epoch 22/50\n",
            "10/10 [==============================] - 0s 10ms/step - loss: 0.1983 - binary_accuracy: 0.9652 - val_loss: 2.9108 - val_binary_accuracy: 0.0000e+00\n",
            "Epoch 23/50\n",
            "10/10 [==============================] - 0s 10ms/step - loss: 0.2331 - binary_accuracy: 0.9395 - val_loss: 2.2935 - val_binary_accuracy: 0.0000e+00\n",
            "Epoch 24/50\n",
            "10/10 [==============================] - 0s 9ms/step - loss: 0.1946 - binary_accuracy: 0.9569 - val_loss: 1.7537 - val_binary_accuracy: 0.0000e+00\n",
            "Epoch 25/50\n",
            "10/10 [==============================] - 0s 9ms/step - loss: 0.2149 - binary_accuracy: 0.9403 - val_loss: 3.2399 - val_binary_accuracy: 0.0000e+00\n",
            "Epoch 26/50\n",
            "10/10 [==============================] - 0s 8ms/step - loss: 0.1373 - binary_accuracy: 0.9729 - val_loss: 3.4470 - val_binary_accuracy: 0.0000e+00\n",
            "Epoch 27/50\n",
            "10/10 [==============================] - 0s 8ms/step - loss: 0.1394 - binary_accuracy: 0.9716 - val_loss: 0.5122 - val_binary_accuracy: 0.8687\n",
            "Epoch 28/50\n",
            "10/10 [==============================] - 0s 11ms/step - loss: 0.1639 - binary_accuracy: 0.9605 - val_loss: 0.1698 - val_binary_accuracy: 0.9899\n",
            "Epoch 29/50\n",
            "10/10 [==============================] - 0s 10ms/step - loss: 0.1733 - binary_accuracy: 0.9725 - val_loss: 0.0421 - val_binary_accuracy: 1.0000\n",
            "Epoch 30/50\n",
            "10/10 [==============================] - 0s 9ms/step - loss: 0.1980 - binary_accuracy: 0.9432 - val_loss: 0.2791 - val_binary_accuracy: 0.9798\n",
            "Epoch 31/50\n",
            "10/10 [==============================] - 0s 9ms/step - loss: 0.1773 - binary_accuracy: 0.9533 - val_loss: 0.3337 - val_binary_accuracy: 0.9596\n",
            "Epoch 32/50\n",
            "10/10 [==============================] - 0s 9ms/step - loss: 0.1904 - binary_accuracy: 0.9647 - val_loss: 0.1592 - val_binary_accuracy: 0.9495\n",
            "Epoch 33/50\n",
            "10/10 [==============================] - 0s 9ms/step - loss: 0.1620 - binary_accuracy: 0.9680 - val_loss: 0.0863 - val_binary_accuracy: 0.9798\n",
            "Epoch 34/50\n",
            "10/10 [==============================] - 0s 9ms/step - loss: 0.1150 - binary_accuracy: 0.9896 - val_loss: 0.0505 - val_binary_accuracy: 1.0000\n",
            "Epoch 35/50\n",
            "10/10 [==============================] - 0s 9ms/step - loss: 0.1642 - binary_accuracy: 0.9570 - val_loss: 0.2135 - val_binary_accuracy: 0.9495\n",
            "Epoch 36/50\n",
            "10/10 [==============================] - 0s 10ms/step - loss: 0.1219 - binary_accuracy: 0.9876 - val_loss: 0.1550 - val_binary_accuracy: 1.0000\n",
            "Epoch 37/50\n",
            "10/10 [==============================] - 0s 8ms/step - loss: 0.1160 - binary_accuracy: 0.9771 - val_loss: 0.3853 - val_binary_accuracy: 0.9192\n",
            "Epoch 38/50\n",
            "10/10 [==============================] - 0s 8ms/step - loss: 0.0954 - binary_accuracy: 0.9825 - val_loss: 0.1744 - val_binary_accuracy: 1.0000\n",
            "Epoch 39/50\n",
            "10/10 [==============================] - 0s 9ms/step - loss: 0.1990 - binary_accuracy: 0.9302 - val_loss: 0.5932 - val_binary_accuracy: 0.7172\n",
            "Epoch 40/50\n",
            "10/10 [==============================] - 0s 9ms/step - loss: 0.1822 - binary_accuracy: 0.9664 - val_loss: 3.7067 - val_binary_accuracy: 0.0000e+00\n",
            "Epoch 41/50\n",
            "10/10 [==============================] - 0s 22ms/step - loss: 0.1580 - binary_accuracy: 0.9866 - val_loss: 5.5936 - val_binary_accuracy: 0.0000e+00\n",
            "Epoch 42/50\n",
            "10/10 [==============================] - 0s 9ms/step - loss: 0.1587 - binary_accuracy: 0.9573 - val_loss: 0.9729 - val_binary_accuracy: 0.5253\n",
            "Epoch 43/50\n",
            "10/10 [==============================] - 0s 9ms/step - loss: 0.1097 - binary_accuracy: 0.9930 - val_loss: 0.4382 - val_binary_accuracy: 0.7677\n",
            "Epoch 44/50\n",
            "10/10 [==============================] - 0s 8ms/step - loss: 0.1289 - binary_accuracy: 0.9793 - val_loss: 0.1142 - val_binary_accuracy: 0.9495\n",
            "Epoch 45/50\n",
            "10/10 [==============================] - 0s 9ms/step - loss: 0.1233 - binary_accuracy: 0.9805 - val_loss: 0.0289 - val_binary_accuracy: 1.0000\n",
            "Epoch 46/50\n",
            "10/10 [==============================] - 0s 9ms/step - loss: 0.1423 - binary_accuracy: 0.9561 - val_loss: 0.1077 - val_binary_accuracy: 0.9697\n",
            "Epoch 47/50\n",
            "10/10 [==============================] - 0s 9ms/step - loss: 0.1339 - binary_accuracy: 0.9685 - val_loss: 1.8432 - val_binary_accuracy: 0.0505\n",
            "Epoch 48/50\n",
            "10/10 [==============================] - 0s 9ms/step - loss: 0.1297 - binary_accuracy: 0.9784 - val_loss: 6.3821 - val_binary_accuracy: 0.0000e+00\n",
            "Epoch 49/50\n",
            "10/10 [==============================] - 0s 9ms/step - loss: 0.1463 - binary_accuracy: 0.9714 - val_loss: 8.4596 - val_binary_accuracy: 0.0000e+00\n",
            "Epoch 50/50\n",
            "10/10 [==============================] - 0s 9ms/step - loss: 0.1462 - binary_accuracy: 0.9674 - val_loss: 14.1252 - val_binary_accuracy: 0.0000e+00\n"
          ],
          "name": "stdout"
        }
      ]
    },
    {
      "cell_type": "code",
      "metadata": {
        "colab": {
          "base_uri": "https://localhost:8080/",
          "height": 513
        },
        "id": "3KIvJc_nkFqR",
        "outputId": "5dc09891-aa7f-4f7e-e448-721362af41b9"
      },
      "source": [
        "plt.plot(history.history['loss'])\r\n",
        "plt.plot(history.history['val_loss'])\r\n",
        "plt.show()\r\n",
        "\r\n",
        "plt.plot(history.history['binary_accuracy'])\r\n",
        "plt.plot(history.history['val_binary_accuracy'])\r\n",
        "plt.show()"
      ],
      "execution_count": 14,
      "outputs": [
        {
          "output_type": "display_data",
          "data": {
            "image/png": "[encoded data removed]",
            "text/plain": [
              "<Figure size 432x288 with 1 Axes>"
            ]
          },
          "metadata": {
            "tags": [],
            "needs_background": "light"
          }
        },
        {
          "output_type": "display_data",
          "data": {
            "image/png": "[encoded data removed]",
            "text/plain": [
              "<Figure size 432x288 with 1 Axes>"
            ]
          },
          "metadata": {
            "tags": [],
            "needs_background": "light"
          }
        }
      ]
    }
  ]
}