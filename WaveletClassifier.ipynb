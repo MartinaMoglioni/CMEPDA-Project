{
  "nbformat": 4,
  "nbformat_minor": 0,
  "metadata": {
    "colab": {
      "name": "Classifier.ipynb",
      "provenance": [],
      "include_colab_link": true
    },
    "kernelspec": {
      "name": "python3",
      "display_name": "Python 3"
    }
  },
  "cells": [
    {
      "cell_type": "markdown",
      "metadata": {
        "id": "view-in-github",
        "colab_type": "text"
      },
      "source": [
        "<a href=\"https://colab.research.google.com/github/federicocampo/CNN_prova/blob/main/WaveletClassifier.ipynb\" target=\"_parent\"><img src=\"https://colab.research.google.com/assets/colab-badge.svg\" alt=\"Open In Colab\"/></a>"
      ]
    },
    {
      "cell_type": "code",
      "metadata": {
        "colab": {
          "base_uri": "https://localhost:8080/"
        },
        "id": "GrpN8XfwiOuY",
        "outputId": "66f99c94-dd65-4ca6-cbfa-da5a07434e3f"
      },
      "source": [
        "from google.colab import drive\r\n",
        "drive.mount('/content/gdrive')"
      ],
      "execution_count": 2,
      "outputs": [
        {
          "output_type": "stream",
          "text": [
            "Mounted at /content/gdrive\n"
          ],
          "name": "stdout"
        }
      ]
    },
    {
      "cell_type": "code",
      "metadata": {
        "id": "dX2l9UzukeAj"
      },
      "source": [
        "from matplotlib import pyplot as plt\r\n",
        "from skimage.io import imread, imshow\r\n",
        "from skimage import img_as_float\r\n",
        "from skimage.restoration import denoise_wavelet\r\n",
        "from PIL import Image\r\n",
        "import pywt\r\n",
        "import os\r\n",
        "import glob\r\n",
        "import numpy as np\r\n",
        "import logging\r\n",
        "import time"
      ],
      "execution_count": 3,
      "outputs": []
    },
    {
      "cell_type": "code",
      "metadata": {
        "id": "rCDSePVxkUmu"
      },
      "source": [
        "PATH = 'gdrive/MyDrive/IMAGES/Mammography_micro'"
      ],
      "execution_count": 6,
      "outputs": []
    },
    {
      "cell_type": "code",
      "metadata": {
        "id": "WyZg3ss77rS5"
      },
      "source": [
        "def twolvldenoiseddwt(myim, wavelet):\r\n",
        "    \"\"\" This function decompose the original image with a Discrete Wavelet Transformation\r\n",
        "        using the desired wavelet family up to the third level. It keeps all the details\r\n",
        "        coefficient and mask the resulted approximated image in order to enhance the\r\n",
        "        visibility of all the details.\r\n",
        "    \"\"\"\r\n",
        "    myim = img_as_float(myim)\r\n",
        "    myim_denoised = denoise_wavelet(myim, method='BayesShrink', mode='soft', rescale_sigma='True')\r\n",
        "\r\n",
        "    level = 2\r\n",
        "    # mode = 'periodization' \r\n",
        "\r\n",
        "    # Here I get my approximated image and the relative coefficients\r\n",
        "    cA, (cH2, cV2, cD2), (cH1, cV1, cD1) = pywt.wavedec2(myim_denoised, wavelet, level=level)\r\n",
        "\r\n",
        "    \"\"\" Now, I get the standard deviation for each matrix (image and coefficients).\r\n",
        "        The std will act as a treshold so that if abs(value) < 0. --> value = 0.\r\n",
        "                                             elif abs(value) > 0. --> value = value\r\n",
        "    \"\"\" \r\n",
        "    mult_val = 1.\r\n",
        "\r\n",
        "    ncA = np.zeros_like(cA)\r\n",
        "\r\n",
        "    std10 = np.std(cH1)*mult_val\r\n",
        "    std11 = np.std(cV1)*mult_val\r\n",
        "    std12 = np.std(cD1)*mult_val\r\n",
        "\r\n",
        "    ncH1 = pywt.threshold(cH1, std10, mode = 'hard', substitute = 0.)\r\n",
        "    ncV1 = pywt.threshold(cV1, std11, mode = 'hard', substitute = 0.)\r\n",
        "    ncD1 = pywt.threshold(cD1, std12, mode = 'hard', substitute = 0.)\r\n",
        "\r\n",
        "    std20 = np.std(cH2)*mult_val\r\n",
        "    std21 = np.std(cV2)*mult_val\r\n",
        "    std22 = np.std(cD2)*mult_val\r\n",
        "\r\n",
        "    ncH2 = pywt.threshold(cH2, std20, mode = 'hard', substitute = 0.)\r\n",
        "    ncV2 = pywt.threshold(cV2, std21, mode = 'hard', substitute = 0.)\r\n",
        "    ncD2 = pywt.threshold(cD2, std22, mode = 'hard', substitute = 0.)\r\n",
        "\r\n",
        "    \"\"\" To let things be more readable I define new_coeff,\r\n",
        "        this is just so that waverec2 (the function needed to reconstruct\r\n",
        "        the image from a set of given coefficient) can do what it does.\r\n",
        "    \"\"\"\r\n",
        "\r\n",
        "    new_coeff = ncA, (ncH2, ncV2, ncD2), (ncH1, ncV1, ncD1) \r\n",
        "\r\n",
        "    mynewim = pywt.waverec2(new_coeff, wavelet)\r\n",
        "    mynewim = pywt.threshold(mynewim, 0., mode = 'greater', substitute = 0.)\r\n",
        "\r\n",
        "    return mynewim"
      ],
      "execution_count": 96,
      "outputs": []
    },
    {
      "cell_type": "code",
      "metadata": {
        "id": "7AXUMqyylcqL"
      },
      "source": [
        "def threelvldenoiseddwt(myim, wavelet):\r\n",
        "    \"\"\" This function decompose the original image with a Discrete Wavelet Transformation\r\n",
        "        using the desired wavelet family up to the third level. It keeps all the details\r\n",
        "        coefficient and mask the resulted approximated image in order to enhance the\r\n",
        "        visibility of all the details.\r\n",
        "    \"\"\"\r\n",
        "    myim = img_as_float(myim)\r\n",
        "    myim_denoised = denoise_wavelet(myim, method='BayesShrink', mode='soft', rescale_sigma='True')\r\n",
        "\r\n",
        "    level = 3\r\n",
        "    # mode = 'periodization' \r\n",
        "\r\n",
        "    # Here I get my approximated image and the relative coefficients\r\n",
        "    cA, (cH3, cV3, cD3), (cH2, cV2, cD2), (cH1, cV1, cD1) = pywt.wavedec2(myim_denoised, wavelet, level=level)\r\n",
        "\r\n",
        "    \"\"\" Now, I get the standard deviation for each matrix (image and coefficients).\r\n",
        "        The std will act as a treshold so that if abs(value) < 0. --> value = 0.\r\n",
        "                                             elif abs(value) > 0. --> value = value\r\n",
        "    \"\"\" \r\n",
        "    mult_val = 1.\r\n",
        "\r\n",
        "    ncA = np.zeros_like(cA)\r\n",
        "\r\n",
        "    std10 = np.std(cH1)*mult_val\r\n",
        "    std11 = np.std(cV1)*mult_val\r\n",
        "    std12 = np.std(cD1)*mult_val\r\n",
        "\r\n",
        "    ncH1 = pywt.threshold(cH1, std10, mode = 'hard', substitute = 0.)\r\n",
        "    ncV1 = pywt.threshold(cV1, std11, mode = 'hard', substitute = 0.)\r\n",
        "    ncD1 = pywt.threshold(cD1, std12, mode = 'hard', substitute = 0.)\r\n",
        "\r\n",
        "    std20 = np.std(cH2)*mult_val\r\n",
        "    std21 = np.std(cV2)*mult_val\r\n",
        "    std22 = np.std(cD2)*mult_val\r\n",
        "\r\n",
        "    ncH2 = pywt.threshold(cH2, std20, mode = 'hard', substitute = 0.)\r\n",
        "    ncV2 = pywt.threshold(cV2, std21, mode = 'hard', substitute = 0.)\r\n",
        "    ncD2 = pywt.threshold(cD2, std22, mode = 'hard', substitute = 0.)\r\n",
        "    \r\n",
        "    std30 = np.std(cH3)*mult_val\r\n",
        "    std31 = np.std(cV3)*mult_val\r\n",
        "    std32 = np.std(cD3)*mult_val\r\n",
        "\r\n",
        "    ncH3 = pywt.threshold(cH3, std30, mode = 'hard', substitute = 0.)\r\n",
        "    ncV3 = pywt.threshold(cV3, std31, mode = 'hard', substitute = 0.)\r\n",
        "    ncD3 = pywt.threshold(cD3, std32, mode = 'hard', substitute = 0.)\r\n",
        "\r\n",
        "    \"\"\" To let things be more readable I define new_coeff,\r\n",
        "        this is just so that waverec2 (the function needed to reconstruct\r\n",
        "        the image from a set of given coefficient) can do what it does.\r\n",
        "    \"\"\"\r\n",
        "\r\n",
        "    new_coeff = ncA, (ncH3, ncV3, ncD3), (ncH2, ncV2, ncD2), (ncH1, ncV1, ncD1) \r\n",
        "\r\n",
        "    mynewim = pywt.waverec2(new_coeff, wavelet)\r\n",
        "    mynewim = pywt.threshold(mynewim, 0., mode = 'greater', substitute = 0.)\r\n",
        "\r\n",
        "    return mynewim"
      ],
      "execution_count": 4,
      "outputs": []
    },
    {
      "cell_type": "markdown",
      "metadata": {
        "id": "rvWEGyF2r8Dx"
      },
      "source": [
        "I've run the fit on original dataset just for trying"
      ]
    },
    {
      "cell_type": "code",
      "metadata": {
        "colab": {
          "base_uri": "https://localhost:8080/"
        },
        "id": "McKFOONMxZJL",
        "outputId": "30a8f4ac-3ff1-4568-ac69-360f5c713a4a"
      },
      "source": [
        "import multiprocessing as mp\r\n",
        "\r\n",
        "def parallel_open_img(image_path):\r\n",
        "  fnames = glob.glob(os.path.join(image_path, '*.pgm'))\r\n",
        "\r\n",
        "  pool = mp.Pool(processes=4)\r\n",
        "  images_mp = pool.map_async(Image.open, fnames)\r\n",
        "\r\n",
        "  images = images_mp.get()\r\n",
        "\r\n",
        "  print(f'Number of images found = {len(images)}')\r\n",
        "  return images\r\n",
        "\r\n",
        "start_time = time.time()\r\n",
        "\r\n",
        "labels = []\r\n",
        "\r\n",
        "image_path = os.path.join(PATH, 'Train/0')\r\n",
        "print('Reading Train Images with label 0:')\r\n",
        "images_0_train = parallel_open_img(image_path)\r\n",
        "\r\n",
        "processed_images_0_train = []\r\n",
        "for i, image in enumerate(images_0_train):\r\n",
        "  processedimage = threelvldenoiseddwt(image, 'sym2')\r\n",
        "  processed_images_0_train.append(processedimage)\r\n",
        "\r\n",
        "processed_images_0_train = np.array(processed_images_0_train, dtype='float32')[..., np.newaxis]/255\r\n",
        "labels += len(processed_images_0_train)*[0]\r\n",
        "print(f'Number of images processed = {len(processed_images_0_train)}')\r\n",
        "\r\n",
        "image_path = os.path.join(PATH, 'Train/1')\r\n",
        "print('\\nReading Train Images with label 1:')\r\n",
        "images_1_train = parallel_open_img(image_path)\r\n",
        "\r\n",
        "processed_images_1_train = []\r\n",
        "for i, image in enumerate(images_1_train):\r\n",
        "  processedimage = threelvldenoiseddwt(image, 'sym2')\r\n",
        "  processed_images_1_train.append(processedimage)\r\n",
        "\r\n",
        "processed_images_1_train = np.array(processed_images_1_train, dtype='float32')[..., np.newaxis]/255\r\n",
        "labels += len(processed_images_1_train)*[1]\r\n",
        "print(f'Number of images processed = {len(processed_images_1_train)}')\r\n",
        "\r\n",
        "x_train_processed = np.concatenate((processed_images_0_train, processed_images_1_train), axis = 0)\r\n",
        "y_train_processed = np.array(labels)\r\n",
        "\r\n",
        "print(f'\\nx_train_processed shape = {x_train_processed.shape} <-- (number of images, width, height)\\n')\r\n",
        "\r\n",
        "\r\n",
        "\r\n",
        "labels = []\r\n",
        "\r\n",
        "image_path = os.path.join(PATH, 'Test/0')\r\n",
        "print('Reading Test Images with label 0:')\r\n",
        "images_0_test = parallel_open_img(image_path)\r\n",
        "\r\n",
        "processed_images_0_test = []\r\n",
        "for i, image in enumerate(images_0_test):\r\n",
        "  processedimage = threelvldenoiseddwt(image, 'sym2')\r\n",
        "  processed_images_0_test.append(processedimage)\r\n",
        "\r\n",
        "processed_images_0_test = np.array(processed_images_0_test, dtype='float32')[..., np.newaxis]/255\r\n",
        "labels += len(processed_images_0_test)*[0]\r\n",
        "print(f'Number of images processed = {len(processed_images_0_test)}')\r\n",
        "\r\n",
        "image_path = os.path.join(PATH, 'Test/1')\r\n",
        "print('\\nReading Test Images with label 1:')\r\n",
        "images_1_test = parallel_open_img(image_path)\r\n",
        "\r\n",
        "processed_images_1_test = []\r\n",
        "for i, image in enumerate(images_1_test):\r\n",
        "  processedimage = threelvldenoiseddwt(image, 'sym2')\r\n",
        "  processed_images_1_test.append(processedimage)\r\n",
        "\r\n",
        "processed_images_1_test = np.array(processed_images_1_test, dtype='float32')[..., np.newaxis]/255\r\n",
        "labels += len(processed_images_1_test)*[1]\r\n",
        "print(f'Number of images processed = {len(processed_images_1_test)}')\r\n",
        "\r\n",
        "x_test_processed = np.concatenate((processed_images_0_test, processed_images_1_test), axis = 0)\r\n",
        "y_test_processed = np.array(labels)\r\n",
        "\r\n",
        "print(f'\\nx_test_processed shape = {x_test_processed.shape} <-- (number of images, width, height)\\n')"
      ],
      "execution_count": 15,
      "outputs": [
        {
          "output_type": "stream",
          "text": [
            "Reading Train Images with label 0:\n",
            "Number of images found = 209\n",
            "Number of images processed = 209\n",
            "\n",
            "Reading Train Images with label 1:\n",
            "Number of images found = 187\n",
            "Number of images processed = 187\n",
            "\n",
            "x_train_processed shape = (396, 60, 60, 1) <-- (number of images, width, height)\n",
            "\n",
            "Reading Test Images with label 0:\n",
            "Number of images found = 205\n",
            "Number of images processed = 205\n",
            "\n",
            "Reading Test Images with label 1:\n",
            "Number of images found = 196\n",
            "Number of images processed = 196\n",
            "\n",
            "x_test_processed shape = (401, 60, 60, 1) <-- (number of images, width, height)\n",
            "\n"
          ],
          "name": "stdout"
        }
      ]
    },
    {
      "cell_type": "code",
      "metadata": {
        "colab": {
          "base_uri": "https://localhost:8080/"
        },
        "id": "a0dZR4YppKkv",
        "outputId": "ee702389-dceb-4b44-921e-10572101eb87"
      },
      "source": [
        "import multiprocessing as mp\r\n",
        "\r\n",
        "def parallel_read_img(image_path):\r\n",
        "  fnames = glob.glob(os.path.join(image_path, '*.pgm'))\r\n",
        "\r\n",
        "  pool = mp.Pool(processes=4)\r\n",
        "  results = pool.map_async(imread, fnames)\r\n",
        "\r\n",
        "  x = results.get()\r\n",
        "  x_np = np.array(x, dtype='float32')[..., np.newaxis]/255\r\n",
        "\r\n",
        "  print(f'Number of images found = {len(x_np)}')\r\n",
        "  return x_np\r\n",
        "\r\n",
        "\r\n",
        "start_time = time.time()\r\n",
        "\r\n",
        "labels = []\r\n",
        "\r\n",
        "image_path = os.path.join(PATH, 'Train/0')\r\n",
        "print('Reading Train Images with label 0:')\r\n",
        "x0_train = parallel_read_img(image_path)\r\n",
        "labels += len(x0_train)*[0]\r\n",
        "\r\n",
        "image_path = os.path.join(PATH, 'Train/1')\r\n",
        "print('\\nReading Train Images with label 1:')\r\n",
        "x1_train = parallel_read_img(image_path)\r\n",
        "labels += len(x1_train)*[1]\r\n",
        "\r\n",
        "x_train = np.concatenate((x0_train, x1_train), axis = 0)\r\n",
        "y_train = np.array(labels)\r\n",
        "\r\n",
        "print(f'\\nx_train shape = {x_train.shape} <-- (number of images, width, height, depth)\\n')\r\n",
        "\r\n",
        "\r\n",
        "labels = []\r\n",
        "\r\n",
        "image_path = os.path.join(PATH, 'Test/0')\r\n",
        "print('\\nReading Test Images with label 0:')\r\n",
        "x0_test = parallel_read_img(image_path)\r\n",
        "labels += len(x0_test)*[0]\r\n",
        "\r\n",
        "image_path = os.path.join(PATH, 'Test/1')\r\n",
        "print('\\nReading Test Images with label 1:')\r\n",
        "x1_test = parallel_read_img(image_path)\r\n",
        "labels += len(x1_test)*[1]\r\n",
        "\r\n",
        "x_test = np.concatenate((x0_test, x1_test), axis = 0)\r\n",
        "y_test = np.array(labels)\r\n",
        "\r\n",
        "print(f'\\nx_test shape = {x_test.shape} <-- (number of images, width, height, depth)')\r\n",
        "\r\n",
        "elapsed_time = time.time() - start_time\r\n",
        "logging.info(f'Elapsed time = {elapsed_time} seconds')"
      ],
      "execution_count": 10,
      "outputs": [
        {
          "output_type": "stream",
          "text": [
            "Reading Train Images with label 0:\n",
            "Number of images found = 209\n",
            "\n",
            "Reading Train Images with label 1:\n",
            "Number of images found = 187\n",
            "\n",
            "x_train shape = (396, 60, 60, 1) <-- (number of images, width, height, depth)\n",
            "\n",
            "\n",
            "Reading Test Images with label 0:\n",
            "Number of images found = 205\n",
            "\n",
            "Reading Test Images with label 1:\n",
            "Number of images found = 196\n",
            "\n",
            "x_test shape = (401, 60, 60, 1) <-- (number of images, width, height, depth)\n"
          ],
          "name": "stdout"
        }
      ]
    },
    {
      "cell_type": "code",
      "metadata": {
        "id": "Ak9GK-n-VT6O"
      },
      "source": [
        "from keras.layers import Dense, Flatten, BatchNormalization\r\n",
        "from keras.models import Sequential"
      ],
      "execution_count": 11,
      "outputs": []
    },
    {
      "cell_type": "markdown",
      "metadata": {
        "id": "2VLFSje7gBMS"
      },
      "source": [
        "# Defining the model"
      ]
    },
    {
      "cell_type": "code",
      "metadata": {
        "id": "tpTziKPzeh8_"
      },
      "source": [
        "model = Sequential([\r\n",
        "    Flatten(),\r\n",
        "    Dense(102,  activation = 'relu'), \r\n",
        "    BatchNormalization(), \r\n",
        "    Dense(128,  activation = 'relu'), \r\n",
        "    BatchNormalization(),\r\n",
        "    Dense(128, activation = 'relu'), \r\n",
        "    BatchNormalization(),\r\n",
        "\r\n",
        "    Dense(1, activation = 'sigmoid')\r\n",
        "])"
      ],
      "execution_count": 51,
      "outputs": []
    },
    {
      "cell_type": "markdown",
      "metadata": {
        "id": "Bkz9ADsYgLx4"
      },
      "source": [
        "Compile and train"
      ]
    },
    {
      "cell_type": "code",
      "metadata": {
        "colab": {
          "base_uri": "https://localhost:8080/"
        },
        "id": "Ih8_BZlEgsd8",
        "outputId": "54f4072b-5881-403d-a8ae-fd8da17546f8"
      },
      "source": [
        "from keras.optimizers import Adam\r\n",
        "\r\n",
        "model.compile(\r\n",
        "    optimizer=Adam(learning_rate = 0.0005),\r\n",
        "    loss='binary_crossentropy',\r\n",
        "    metrics=['binary_accuracy'],\r\n",
        ")\r\n",
        "\r\n",
        "history = model.fit(\r\n",
        "    x_train_processed, y_train_processed,\r\n",
        "    validation_split = 0.25, \r\n",
        "    epochs=60,\r\n",
        ")"
      ],
      "execution_count": 52,
      "outputs": [
        {
          "output_type": "stream",
          "text": [
            "Epoch 1/60\n",
            "10/10 [==============================] - 1s 30ms/step - loss: 0.6123 - binary_accuracy: 0.6193 - val_loss: 0.7285 - val_binary_accuracy: 0.0000e+00\n",
            "Epoch 2/60\n",
            "10/10 [==============================] - 0s 9ms/step - loss: 0.2191 - binary_accuracy: 0.9207 - val_loss: 0.7601 - val_binary_accuracy: 0.0000e+00\n",
            "Epoch 3/60\n",
            "10/10 [==============================] - 0s 9ms/step - loss: 0.1498 - binary_accuracy: 0.9634 - val_loss: 0.7949 - val_binary_accuracy: 0.0000e+00\n",
            "Epoch 4/60\n",
            "10/10 [==============================] - 0s 10ms/step - loss: 0.0576 - binary_accuracy: 0.9887 - val_loss: 0.8203 - val_binary_accuracy: 0.0000e+00\n",
            "Epoch 5/60\n",
            "10/10 [==============================] - 0s 9ms/step - loss: 0.0409 - binary_accuracy: 1.0000 - val_loss: 0.8507 - val_binary_accuracy: 0.0000e+00\n",
            "Epoch 6/60\n",
            "10/10 [==============================] - 0s 9ms/step - loss: 0.0802 - binary_accuracy: 0.9751 - val_loss: 0.8834 - val_binary_accuracy: 0.0000e+00\n",
            "Epoch 7/60\n",
            "10/10 [==============================] - 0s 10ms/step - loss: 0.0226 - binary_accuracy: 1.0000 - val_loss: 0.9081 - val_binary_accuracy: 0.0000e+00\n",
            "Epoch 8/60\n",
            "10/10 [==============================] - 0s 10ms/step - loss: 0.0437 - binary_accuracy: 0.9931 - val_loss: 0.9377 - val_binary_accuracy: 0.0000e+00\n",
            "Epoch 9/60\n",
            "10/10 [==============================] - 0s 10ms/step - loss: 0.0195 - binary_accuracy: 0.9956 - val_loss: 0.9655 - val_binary_accuracy: 0.0000e+00\n",
            "Epoch 10/60\n",
            "10/10 [==============================] - 0s 10ms/step - loss: 0.0123 - binary_accuracy: 0.9994 - val_loss: 0.9959 - val_binary_accuracy: 0.0000e+00\n",
            "Epoch 11/60\n",
            "10/10 [==============================] - 0s 9ms/step - loss: 0.0103 - binary_accuracy: 0.9988 - val_loss: 1.0249 - val_binary_accuracy: 0.0000e+00\n",
            "Epoch 12/60\n",
            "10/10 [==============================] - 0s 11ms/step - loss: 0.0094 - binary_accuracy: 1.0000 - val_loss: 0.9963 - val_binary_accuracy: 0.0000e+00\n",
            "Epoch 13/60\n",
            "10/10 [==============================] - 0s 11ms/step - loss: 0.0506 - binary_accuracy: 0.9936 - val_loss: 1.0116 - val_binary_accuracy: 0.0000e+00\n",
            "Epoch 14/60\n",
            "10/10 [==============================] - 0s 10ms/step - loss: 0.0349 - binary_accuracy: 0.9940 - val_loss: 1.0503 - val_binary_accuracy: 0.0000e+00\n",
            "Epoch 15/60\n",
            "10/10 [==============================] - 0s 10ms/step - loss: 0.0156 - binary_accuracy: 0.9942 - val_loss: 1.0763 - val_binary_accuracy: 0.0000e+00\n",
            "Epoch 16/60\n",
            "10/10 [==============================] - 0s 10ms/step - loss: 0.0149 - binary_accuracy: 1.0000 - val_loss: 1.0989 - val_binary_accuracy: 0.0000e+00\n",
            "Epoch 17/60\n",
            "10/10 [==============================] - 0s 10ms/step - loss: 0.0117 - binary_accuracy: 1.0000 - val_loss: 1.1358 - val_binary_accuracy: 0.0000e+00\n",
            "Epoch 18/60\n",
            "10/10 [==============================] - 0s 11ms/step - loss: 0.0078 - binary_accuracy: 1.0000 - val_loss: 1.1678 - val_binary_accuracy: 0.0000e+00\n",
            "Epoch 19/60\n",
            "10/10 [==============================] - 0s 10ms/step - loss: 0.0045 - binary_accuracy: 1.0000 - val_loss: 1.1946 - val_binary_accuracy: 0.0000e+00\n",
            "Epoch 20/60\n",
            "10/10 [==============================] - 0s 12ms/step - loss: 0.0055 - binary_accuracy: 1.0000 - val_loss: 1.2137 - val_binary_accuracy: 0.0000e+00\n",
            "Epoch 21/60\n",
            "10/10 [==============================] - 0s 9ms/step - loss: 0.0098 - binary_accuracy: 0.9982 - val_loss: 1.2375 - val_binary_accuracy: 0.0000e+00\n",
            "Epoch 22/60\n",
            "10/10 [==============================] - 0s 10ms/step - loss: 0.0136 - binary_accuracy: 0.9987 - val_loss: 1.2612 - val_binary_accuracy: 0.0000e+00\n",
            "Epoch 23/60\n",
            "10/10 [==============================] - 0s 10ms/step - loss: 0.0178 - binary_accuracy: 0.9942 - val_loss: 1.3213 - val_binary_accuracy: 0.0000e+00\n",
            "Epoch 24/60\n",
            "10/10 [==============================] - 0s 9ms/step - loss: 0.0077 - binary_accuracy: 1.0000 - val_loss: 1.3695 - val_binary_accuracy: 0.0000e+00\n",
            "Epoch 25/60\n",
            "10/10 [==============================] - 0s 10ms/step - loss: 0.0114 - binary_accuracy: 1.0000 - val_loss: 1.4101 - val_binary_accuracy: 0.0000e+00\n",
            "Epoch 26/60\n",
            "10/10 [==============================] - 0s 12ms/step - loss: 0.0107 - binary_accuracy: 0.9978 - val_loss: 1.4537 - val_binary_accuracy: 0.0000e+00\n",
            "Epoch 27/60\n",
            "10/10 [==============================] - 0s 10ms/step - loss: 0.0138 - binary_accuracy: 0.9966 - val_loss: 1.4920 - val_binary_accuracy: 0.0000e+00\n",
            "Epoch 28/60\n",
            "10/10 [==============================] - 0s 9ms/step - loss: 0.0065 - binary_accuracy: 1.0000 - val_loss: 1.5313 - val_binary_accuracy: 0.0000e+00\n",
            "Epoch 29/60\n",
            "10/10 [==============================] - 0s 12ms/step - loss: 0.0064 - binary_accuracy: 1.0000 - val_loss: 1.5872 - val_binary_accuracy: 0.0000e+00\n",
            "Epoch 30/60\n",
            "10/10 [==============================] - 0s 12ms/step - loss: 0.0063 - binary_accuracy: 1.0000 - val_loss: 1.6451 - val_binary_accuracy: 0.0000e+00\n",
            "Epoch 31/60\n",
            "10/10 [==============================] - 0s 10ms/step - loss: 0.0083 - binary_accuracy: 1.0000 - val_loss: 1.6943 - val_binary_accuracy: 0.0000e+00\n",
            "Epoch 32/60\n",
            "10/10 [==============================] - 0s 10ms/step - loss: 0.0124 - binary_accuracy: 1.0000 - val_loss: 1.7334 - val_binary_accuracy: 0.0000e+00\n",
            "Epoch 33/60\n",
            "10/10 [==============================] - 0s 11ms/step - loss: 0.0021 - binary_accuracy: 1.0000 - val_loss: 1.8593 - val_binary_accuracy: 0.0000e+00\n",
            "Epoch 34/60\n",
            "10/10 [==============================] - 0s 9ms/step - loss: 0.0011 - binary_accuracy: 1.0000 - val_loss: 2.0006 - val_binary_accuracy: 0.0000e+00\n",
            "Epoch 35/60\n",
            "10/10 [==============================] - 0s 9ms/step - loss: 0.0021 - binary_accuracy: 1.0000 - val_loss: 2.0712 - val_binary_accuracy: 0.0000e+00\n",
            "Epoch 36/60\n",
            "10/10 [==============================] - 0s 9ms/step - loss: 0.0073 - binary_accuracy: 0.9976 - val_loss: 2.0555 - val_binary_accuracy: 0.0000e+00\n",
            "Epoch 37/60\n",
            "10/10 [==============================] - 0s 11ms/step - loss: 0.0115 - binary_accuracy: 0.9956 - val_loss: 2.0024 - val_binary_accuracy: 0.0000e+00\n",
            "Epoch 38/60\n",
            "10/10 [==============================] - 0s 25ms/step - loss: 0.0188 - binary_accuracy: 1.0000 - val_loss: 2.0468 - val_binary_accuracy: 0.0000e+00\n",
            "Epoch 39/60\n",
            "10/10 [==============================] - 0s 10ms/step - loss: 0.0027 - binary_accuracy: 1.0000 - val_loss: 2.0845 - val_binary_accuracy: 0.0000e+00\n",
            "Epoch 40/60\n",
            "10/10 [==============================] - 0s 11ms/step - loss: 0.0017 - binary_accuracy: 1.0000 - val_loss: 2.1297 - val_binary_accuracy: 0.0000e+00\n",
            "Epoch 41/60\n",
            "10/10 [==============================] - 0s 9ms/step - loss: 0.0012 - binary_accuracy: 1.0000 - val_loss: 2.1834 - val_binary_accuracy: 0.0000e+00\n",
            "Epoch 42/60\n",
            "10/10 [==============================] - 0s 10ms/step - loss: 0.0036 - binary_accuracy: 1.0000 - val_loss: 2.1840 - val_binary_accuracy: 0.0101\n",
            "Epoch 43/60\n",
            "10/10 [==============================] - 0s 10ms/step - loss: 0.0053 - binary_accuracy: 0.9976 - val_loss: 2.1694 - val_binary_accuracy: 0.0101\n",
            "Epoch 44/60\n",
            "10/10 [==============================] - 0s 11ms/step - loss: 0.0038 - binary_accuracy: 1.0000 - val_loss: 2.0299 - val_binary_accuracy: 0.0101\n",
            "Epoch 45/60\n",
            "10/10 [==============================] - 0s 9ms/step - loss: 0.0303 - binary_accuracy: 0.9800 - val_loss: 1.8560 - val_binary_accuracy: 0.0101\n",
            "Epoch 46/60\n",
            "10/10 [==============================] - 0s 10ms/step - loss: 0.0194 - binary_accuracy: 0.9956 - val_loss: 1.9575 - val_binary_accuracy: 0.0202\n",
            "Epoch 47/60\n",
            "10/10 [==============================] - 0s 11ms/step - loss: 0.0047 - binary_accuracy: 1.0000 - val_loss: 2.1125 - val_binary_accuracy: 0.0303\n",
            "Epoch 48/60\n",
            "10/10 [==============================] - 0s 12ms/step - loss: 0.0020 - binary_accuracy: 1.0000 - val_loss: 2.1758 - val_binary_accuracy: 0.0404\n",
            "Epoch 49/60\n",
            "10/10 [==============================] - 0s 9ms/step - loss: 0.0031 - binary_accuracy: 1.0000 - val_loss: 2.2154 - val_binary_accuracy: 0.0505\n",
            "Epoch 50/60\n",
            "10/10 [==============================] - 0s 11ms/step - loss: 0.0010 - binary_accuracy: 1.0000 - val_loss: 2.2292 - val_binary_accuracy: 0.0505\n",
            "Epoch 51/60\n",
            "10/10 [==============================] - 0s 9ms/step - loss: 0.0013 - binary_accuracy: 1.0000 - val_loss: 2.3138 - val_binary_accuracy: 0.0606\n",
            "Epoch 52/60\n",
            "10/10 [==============================] - 0s 10ms/step - loss: 0.0052 - binary_accuracy: 1.0000 - val_loss: 2.0423 - val_binary_accuracy: 0.1111\n",
            "Epoch 53/60\n",
            "10/10 [==============================] - 0s 9ms/step - loss: 0.0017 - binary_accuracy: 1.0000 - val_loss: 1.9007 - val_binary_accuracy: 0.1313\n",
            "Epoch 54/60\n",
            "10/10 [==============================] - 0s 9ms/step - loss: 0.0019 - binary_accuracy: 1.0000 - val_loss: 1.8787 - val_binary_accuracy: 0.1616\n",
            "Epoch 55/60\n",
            "10/10 [==============================] - 0s 11ms/step - loss: 0.0015 - binary_accuracy: 1.0000 - val_loss: 1.8865 - val_binary_accuracy: 0.2020\n",
            "Epoch 56/60\n",
            "10/10 [==============================] - 0s 9ms/step - loss: 0.0052 - binary_accuracy: 1.0000 - val_loss: 1.9764 - val_binary_accuracy: 0.2020\n",
            "Epoch 57/60\n",
            "10/10 [==============================] - 0s 9ms/step - loss: 6.0422e-04 - binary_accuracy: 1.0000 - val_loss: 2.0261 - val_binary_accuracy: 0.2222\n",
            "Epoch 58/60\n",
            "10/10 [==============================] - 0s 9ms/step - loss: 0.0016 - binary_accuracy: 1.0000 - val_loss: 1.9804 - val_binary_accuracy: 0.2222\n",
            "Epoch 59/60\n",
            "10/10 [==============================] - 0s 10ms/step - loss: 0.0021 - binary_accuracy: 1.0000 - val_loss: 1.9788 - val_binary_accuracy: 0.2525\n",
            "Epoch 60/60\n",
            "10/10 [==============================] - 0s 10ms/step - loss: 7.6718e-04 - binary_accuracy: 1.0000 - val_loss: 2.0206 - val_binary_accuracy: 0.2828\n"
          ],
          "name": "stdout"
        }
      ]
    },
    {
      "cell_type": "code",
      "metadata": {
        "colab": {
          "base_uri": "https://localhost:8080/",
          "height": 573
        },
        "id": "3KIvJc_nkFqR",
        "outputId": "854de801-620d-4e14-f220-1b6e6fc6a34a"
      },
      "source": [
        "plt.title(\"Loss\")\r\n",
        "plt.plot(history.history['loss'], label='Loss')\r\n",
        "plt.plot(history.history['val_loss'], label='Val Loss')\r\n",
        "plt.xlabel('Epochs')\r\n",
        "plt.legend()\r\n",
        "plt.show()\r\n",
        "\r\n",
        "plt.title(\"Accuracy\")\r\n",
        "plt.plot(history.history['binary_accuracy'], label='Accuracy')\r\n",
        "plt.plot(history.history['val_binary_accuracy'], label='Val Accuracy')\r\n",
        "plt.xlabel('Epochs')\r\n",
        "plt.legend()\r\n",
        "plt.show()"
      ],
      "execution_count": 53,
      "outputs": [
        {
          "output_type": "display_data",
          "data": {
            "image/png": "[encoded data removed]",
            "text/plain": [
              "<Figure size 432x288 with 1 Axes>"
            ]
          },
          "metadata": {
            "tags": [],
            "needs_background": "light"
          }
        },
        {
          "output_type": "display_data",
          "data": {
            "image/png": "[encoded data removed]",
            "text/plain": [
              "<Figure size 432x288 with 1 Axes>"
            ]
          },
          "metadata": {
            "tags": [],
            "needs_background": "light"
          }
        }
      ]
    }
  ]
}